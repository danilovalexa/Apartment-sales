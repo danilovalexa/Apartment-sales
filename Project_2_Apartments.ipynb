{
 "cells": [
  {
   "cell_type": "markdown",
   "metadata": {
    "toc": true
   },
   "source": [
    "<h1>Содержание<span class=\"tocSkip\"></span></h1>\n",
    "<div class=\"toc\"><ul class=\"toc-item\"><li><span><a href=\"#Изучение-данных-из-файла\" data-toc-modified-id=\"Изучение-данных-из-файла-1\"><span class=\"toc-item-num\">1&nbsp;&nbsp;</span>Изучение данных из файла</a></span><ul class=\"toc-item\"><li><span><a href=\"#Вывод\" data-toc-modified-id=\"Вывод-1.1\"><span class=\"toc-item-num\">1.1&nbsp;&nbsp;</span>Вывод</a></span></li></ul></li><li><span><a href=\"#Предобработка-данных\" data-toc-modified-id=\"Предобработка-данных-2\"><span class=\"toc-item-num\">2&nbsp;&nbsp;</span>Предобработка данных</a></span><ul class=\"toc-item\"><li><span><a href=\"#Вывод\" data-toc-modified-id=\"Вывод-2.1\"><span class=\"toc-item-num\">2.1&nbsp;&nbsp;</span>Вывод</a></span></li></ul></li><li><span><a href=\"#Расчёты-и-добавление-результатов-в-таблицу\" data-toc-modified-id=\"Расчёты-и-добавление-результатов-в-таблицу-3\"><span class=\"toc-item-num\">3&nbsp;&nbsp;</span>Расчёты и добавление результатов в таблицу</a></span><ul class=\"toc-item\"><li><span><a href=\"#Вывод\" data-toc-modified-id=\"Вывод-3.1\"><span class=\"toc-item-num\">3.1&nbsp;&nbsp;</span>Вывод</a></span></li></ul></li><li><span><a href=\"#Исследовательский-анализ-данных\" data-toc-modified-id=\"Исследовательский-анализ-данных-4\"><span class=\"toc-item-num\">4&nbsp;&nbsp;</span>Исследовательский анализ данных</a></span></li><li><span><a href=\"#Общий-вывод\" data-toc-modified-id=\"Общий-вывод-5\"><span class=\"toc-item-num\">5&nbsp;&nbsp;</span>Общий вывод</a></span></li><li><span><a href=\"#Чек-лист-готовности-проекта\" data-toc-modified-id=\"Чек-лист-готовности-проекта-6\"><span class=\"toc-item-num\">6&nbsp;&nbsp;</span>Чек-лист готовности проекта</a></span></li></ul></div>"
   ]
  },
  {
   "cell_type": "markdown",
   "metadata": {},
   "source": [
    "# Исследование объявлений о продаже квартир\n",
    "\n",
    "В вашем распоряжении данные сервиса Яндекс.Недвижимость — архив объявлений о продаже квартир в Санкт-Петербурге и соседних населённых пунктах за несколько лет. Нужно научиться определять рыночную стоимость объектов недвижимости. Ваша задача — установить параметры. Это позволит построить автоматизированную систему: она отследит аномалии и мошенническую деятельность. \n",
    "\n",
    "По каждой квартире на продажу доступны два вида данных. Первые вписаны пользователем, вторые получены автоматически на основе картографических данных. Например, расстояние до центра, аэропорта, ближайшего парка и водоёма. "
   ]
  },
  {
   "cell_type": "markdown",
   "metadata": {},
   "source": [
    "## Изучение данных из файла"
   ]
  },
  {
   "cell_type": "code",
   "execution_count": 824,
   "metadata": {},
   "outputs": [],
   "source": [
    "import pandas as pd\n",
    "import matplotlib.pyplot as plt \n"
   ]
  },
  {
   "cell_type": "code",
   "execution_count": 825,
   "metadata": {},
   "outputs": [],
   "source": [
    "data = pd.read_csv('/datasets/real_estate_data.csv', sep='\\t')"
   ]
  },
  {
   "cell_type": "code",
   "execution_count": 826,
   "metadata": {},
   "outputs": [
    {
     "data": {
      "text/html": [
       "<div>\n",
       "<style scoped>\n",
       "    .dataframe tbody tr th:only-of-type {\n",
       "        vertical-align: middle;\n",
       "    }\n",
       "\n",
       "    .dataframe tbody tr th {\n",
       "        vertical-align: top;\n",
       "    }\n",
       "\n",
       "    .dataframe thead th {\n",
       "        text-align: right;\n",
       "    }\n",
       "</style>\n",
       "<table border=\"1\" class=\"dataframe\">\n",
       "  <thead>\n",
       "    <tr style=\"text-align: right;\">\n",
       "      <th></th>\n",
       "      <th>total_images</th>\n",
       "      <th>last_price</th>\n",
       "      <th>total_area</th>\n",
       "      <th>first_day_exposition</th>\n",
       "      <th>rooms</th>\n",
       "      <th>ceiling_height</th>\n",
       "      <th>floors_total</th>\n",
       "      <th>living_area</th>\n",
       "      <th>floor</th>\n",
       "      <th>is_apartment</th>\n",
       "      <th>...</th>\n",
       "      <th>kitchen_area</th>\n",
       "      <th>balcony</th>\n",
       "      <th>locality_name</th>\n",
       "      <th>airports_nearest</th>\n",
       "      <th>cityCenters_nearest</th>\n",
       "      <th>parks_around3000</th>\n",
       "      <th>parks_nearest</th>\n",
       "      <th>ponds_around3000</th>\n",
       "      <th>ponds_nearest</th>\n",
       "      <th>days_exposition</th>\n",
       "    </tr>\n",
       "  </thead>\n",
       "  <tbody>\n",
       "    <tr>\n",
       "      <td>0</td>\n",
       "      <td>20</td>\n",
       "      <td>13000000.0</td>\n",
       "      <td>108.00</td>\n",
       "      <td>2019-03-07T00:00:00</td>\n",
       "      <td>3</td>\n",
       "      <td>2.70</td>\n",
       "      <td>16.0</td>\n",
       "      <td>51.00</td>\n",
       "      <td>8</td>\n",
       "      <td>NaN</td>\n",
       "      <td>...</td>\n",
       "      <td>25.00</td>\n",
       "      <td>NaN</td>\n",
       "      <td>Санкт-Петербург</td>\n",
       "      <td>18863.0</td>\n",
       "      <td>16028.0</td>\n",
       "      <td>1.0</td>\n",
       "      <td>482.0</td>\n",
       "      <td>2.0</td>\n",
       "      <td>755.0</td>\n",
       "      <td>NaN</td>\n",
       "    </tr>\n",
       "    <tr>\n",
       "      <td>1</td>\n",
       "      <td>7</td>\n",
       "      <td>3350000.0</td>\n",
       "      <td>40.40</td>\n",
       "      <td>2018-12-04T00:00:00</td>\n",
       "      <td>1</td>\n",
       "      <td>NaN</td>\n",
       "      <td>11.0</td>\n",
       "      <td>18.60</td>\n",
       "      <td>1</td>\n",
       "      <td>NaN</td>\n",
       "      <td>...</td>\n",
       "      <td>11.00</td>\n",
       "      <td>2.0</td>\n",
       "      <td>посёлок Шушары</td>\n",
       "      <td>12817.0</td>\n",
       "      <td>18603.0</td>\n",
       "      <td>0.0</td>\n",
       "      <td>NaN</td>\n",
       "      <td>0.0</td>\n",
       "      <td>NaN</td>\n",
       "      <td>81.0</td>\n",
       "    </tr>\n",
       "    <tr>\n",
       "      <td>2</td>\n",
       "      <td>10</td>\n",
       "      <td>5196000.0</td>\n",
       "      <td>56.00</td>\n",
       "      <td>2015-08-20T00:00:00</td>\n",
       "      <td>2</td>\n",
       "      <td>NaN</td>\n",
       "      <td>5.0</td>\n",
       "      <td>34.30</td>\n",
       "      <td>4</td>\n",
       "      <td>NaN</td>\n",
       "      <td>...</td>\n",
       "      <td>8.30</td>\n",
       "      <td>0.0</td>\n",
       "      <td>Санкт-Петербург</td>\n",
       "      <td>21741.0</td>\n",
       "      <td>13933.0</td>\n",
       "      <td>1.0</td>\n",
       "      <td>90.0</td>\n",
       "      <td>2.0</td>\n",
       "      <td>574.0</td>\n",
       "      <td>558.0</td>\n",
       "    </tr>\n",
       "    <tr>\n",
       "      <td>3</td>\n",
       "      <td>0</td>\n",
       "      <td>64900000.0</td>\n",
       "      <td>159.00</td>\n",
       "      <td>2015-07-24T00:00:00</td>\n",
       "      <td>3</td>\n",
       "      <td>NaN</td>\n",
       "      <td>14.0</td>\n",
       "      <td>NaN</td>\n",
       "      <td>9</td>\n",
       "      <td>NaN</td>\n",
       "      <td>...</td>\n",
       "      <td>NaN</td>\n",
       "      <td>0.0</td>\n",
       "      <td>Санкт-Петербург</td>\n",
       "      <td>28098.0</td>\n",
       "      <td>6800.0</td>\n",
       "      <td>2.0</td>\n",
       "      <td>84.0</td>\n",
       "      <td>3.0</td>\n",
       "      <td>234.0</td>\n",
       "      <td>424.0</td>\n",
       "    </tr>\n",
       "    <tr>\n",
       "      <td>4</td>\n",
       "      <td>2</td>\n",
       "      <td>10000000.0</td>\n",
       "      <td>100.00</td>\n",
       "      <td>2018-06-19T00:00:00</td>\n",
       "      <td>2</td>\n",
       "      <td>3.03</td>\n",
       "      <td>14.0</td>\n",
       "      <td>32.00</td>\n",
       "      <td>13</td>\n",
       "      <td>NaN</td>\n",
       "      <td>...</td>\n",
       "      <td>41.00</td>\n",
       "      <td>NaN</td>\n",
       "      <td>Санкт-Петербург</td>\n",
       "      <td>31856.0</td>\n",
       "      <td>8098.0</td>\n",
       "      <td>2.0</td>\n",
       "      <td>112.0</td>\n",
       "      <td>1.0</td>\n",
       "      <td>48.0</td>\n",
       "      <td>121.0</td>\n",
       "    </tr>\n",
       "    <tr>\n",
       "      <td>5</td>\n",
       "      <td>10</td>\n",
       "      <td>2890000.0</td>\n",
       "      <td>30.40</td>\n",
       "      <td>2018-09-10T00:00:00</td>\n",
       "      <td>1</td>\n",
       "      <td>NaN</td>\n",
       "      <td>12.0</td>\n",
       "      <td>14.40</td>\n",
       "      <td>5</td>\n",
       "      <td>NaN</td>\n",
       "      <td>...</td>\n",
       "      <td>9.10</td>\n",
       "      <td>NaN</td>\n",
       "      <td>городской посёлок Янино-1</td>\n",
       "      <td>NaN</td>\n",
       "      <td>NaN</td>\n",
       "      <td>NaN</td>\n",
       "      <td>NaN</td>\n",
       "      <td>NaN</td>\n",
       "      <td>NaN</td>\n",
       "      <td>55.0</td>\n",
       "    </tr>\n",
       "    <tr>\n",
       "      <td>6</td>\n",
       "      <td>6</td>\n",
       "      <td>3700000.0</td>\n",
       "      <td>37.30</td>\n",
       "      <td>2017-11-02T00:00:00</td>\n",
       "      <td>1</td>\n",
       "      <td>NaN</td>\n",
       "      <td>26.0</td>\n",
       "      <td>10.60</td>\n",
       "      <td>6</td>\n",
       "      <td>NaN</td>\n",
       "      <td>...</td>\n",
       "      <td>14.40</td>\n",
       "      <td>1.0</td>\n",
       "      <td>посёлок Парголово</td>\n",
       "      <td>52996.0</td>\n",
       "      <td>19143.0</td>\n",
       "      <td>0.0</td>\n",
       "      <td>NaN</td>\n",
       "      <td>0.0</td>\n",
       "      <td>NaN</td>\n",
       "      <td>155.0</td>\n",
       "    </tr>\n",
       "    <tr>\n",
       "      <td>7</td>\n",
       "      <td>5</td>\n",
       "      <td>7915000.0</td>\n",
       "      <td>71.60</td>\n",
       "      <td>2019-04-18T00:00:00</td>\n",
       "      <td>2</td>\n",
       "      <td>NaN</td>\n",
       "      <td>24.0</td>\n",
       "      <td>NaN</td>\n",
       "      <td>22</td>\n",
       "      <td>NaN</td>\n",
       "      <td>...</td>\n",
       "      <td>18.90</td>\n",
       "      <td>2.0</td>\n",
       "      <td>Санкт-Петербург</td>\n",
       "      <td>23982.0</td>\n",
       "      <td>11634.0</td>\n",
       "      <td>0.0</td>\n",
       "      <td>NaN</td>\n",
       "      <td>0.0</td>\n",
       "      <td>NaN</td>\n",
       "      <td>NaN</td>\n",
       "    </tr>\n",
       "    <tr>\n",
       "      <td>8</td>\n",
       "      <td>20</td>\n",
       "      <td>2900000.0</td>\n",
       "      <td>33.16</td>\n",
       "      <td>2018-05-23T00:00:00</td>\n",
       "      <td>1</td>\n",
       "      <td>NaN</td>\n",
       "      <td>27.0</td>\n",
       "      <td>15.43</td>\n",
       "      <td>26</td>\n",
       "      <td>NaN</td>\n",
       "      <td>...</td>\n",
       "      <td>8.81</td>\n",
       "      <td>NaN</td>\n",
       "      <td>посёлок Мурино</td>\n",
       "      <td>NaN</td>\n",
       "      <td>NaN</td>\n",
       "      <td>NaN</td>\n",
       "      <td>NaN</td>\n",
       "      <td>NaN</td>\n",
       "      <td>NaN</td>\n",
       "      <td>189.0</td>\n",
       "    </tr>\n",
       "    <tr>\n",
       "      <td>9</td>\n",
       "      <td>18</td>\n",
       "      <td>5400000.0</td>\n",
       "      <td>61.00</td>\n",
       "      <td>2017-02-26T00:00:00</td>\n",
       "      <td>3</td>\n",
       "      <td>2.50</td>\n",
       "      <td>9.0</td>\n",
       "      <td>43.60</td>\n",
       "      <td>7</td>\n",
       "      <td>NaN</td>\n",
       "      <td>...</td>\n",
       "      <td>6.50</td>\n",
       "      <td>2.0</td>\n",
       "      <td>Санкт-Петербург</td>\n",
       "      <td>50898.0</td>\n",
       "      <td>15008.0</td>\n",
       "      <td>0.0</td>\n",
       "      <td>NaN</td>\n",
       "      <td>0.0</td>\n",
       "      <td>NaN</td>\n",
       "      <td>289.0</td>\n",
       "    </tr>\n",
       "  </tbody>\n",
       "</table>\n",
       "<p>10 rows × 22 columns</p>\n",
       "</div>"
      ],
      "text/plain": [
       "   total_images  last_price  total_area first_day_exposition  rooms  \\\n",
       "0            20  13000000.0      108.00  2019-03-07T00:00:00      3   \n",
       "1             7   3350000.0       40.40  2018-12-04T00:00:00      1   \n",
       "2            10   5196000.0       56.00  2015-08-20T00:00:00      2   \n",
       "3             0  64900000.0      159.00  2015-07-24T00:00:00      3   \n",
       "4             2  10000000.0      100.00  2018-06-19T00:00:00      2   \n",
       "5            10   2890000.0       30.40  2018-09-10T00:00:00      1   \n",
       "6             6   3700000.0       37.30  2017-11-02T00:00:00      1   \n",
       "7             5   7915000.0       71.60  2019-04-18T00:00:00      2   \n",
       "8            20   2900000.0       33.16  2018-05-23T00:00:00      1   \n",
       "9            18   5400000.0       61.00  2017-02-26T00:00:00      3   \n",
       "\n",
       "   ceiling_height  floors_total  living_area  floor is_apartment  ...  \\\n",
       "0            2.70          16.0        51.00      8          NaN  ...   \n",
       "1             NaN          11.0        18.60      1          NaN  ...   \n",
       "2             NaN           5.0        34.30      4          NaN  ...   \n",
       "3             NaN          14.0          NaN      9          NaN  ...   \n",
       "4            3.03          14.0        32.00     13          NaN  ...   \n",
       "5             NaN          12.0        14.40      5          NaN  ...   \n",
       "6             NaN          26.0        10.60      6          NaN  ...   \n",
       "7             NaN          24.0          NaN     22          NaN  ...   \n",
       "8             NaN          27.0        15.43     26          NaN  ...   \n",
       "9            2.50           9.0        43.60      7          NaN  ...   \n",
       "\n",
       "   kitchen_area  balcony              locality_name  airports_nearest  \\\n",
       "0         25.00      NaN            Санкт-Петербург           18863.0   \n",
       "1         11.00      2.0             посёлок Шушары           12817.0   \n",
       "2          8.30      0.0            Санкт-Петербург           21741.0   \n",
       "3           NaN      0.0            Санкт-Петербург           28098.0   \n",
       "4         41.00      NaN            Санкт-Петербург           31856.0   \n",
       "5          9.10      NaN  городской посёлок Янино-1               NaN   \n",
       "6         14.40      1.0          посёлок Парголово           52996.0   \n",
       "7         18.90      2.0            Санкт-Петербург           23982.0   \n",
       "8          8.81      NaN             посёлок Мурино               NaN   \n",
       "9          6.50      2.0            Санкт-Петербург           50898.0   \n",
       "\n",
       "  cityCenters_nearest  parks_around3000  parks_nearest  ponds_around3000  \\\n",
       "0             16028.0               1.0          482.0               2.0   \n",
       "1             18603.0               0.0            NaN               0.0   \n",
       "2             13933.0               1.0           90.0               2.0   \n",
       "3              6800.0               2.0           84.0               3.0   \n",
       "4              8098.0               2.0          112.0               1.0   \n",
       "5                 NaN               NaN            NaN               NaN   \n",
       "6             19143.0               0.0            NaN               0.0   \n",
       "7             11634.0               0.0            NaN               0.0   \n",
       "8                 NaN               NaN            NaN               NaN   \n",
       "9             15008.0               0.0            NaN               0.0   \n",
       "\n",
       "   ponds_nearest  days_exposition  \n",
       "0          755.0              NaN  \n",
       "1            NaN             81.0  \n",
       "2          574.0            558.0  \n",
       "3          234.0            424.0  \n",
       "4           48.0            121.0  \n",
       "5            NaN             55.0  \n",
       "6            NaN            155.0  \n",
       "7            NaN              NaN  \n",
       "8            NaN            189.0  \n",
       "9            NaN            289.0  \n",
       "\n",
       "[10 rows x 22 columns]"
      ]
     },
     "execution_count": 826,
     "metadata": {},
     "output_type": "execute_result"
    }
   ],
   "source": [
    "data.head(10)"
   ]
  },
  {
   "cell_type": "code",
   "execution_count": 827,
   "metadata": {},
   "outputs": [
    {
     "data": {
      "text/html": [
       "<div>\n",
       "<style scoped>\n",
       "    .dataframe tbody tr th:only-of-type {\n",
       "        vertical-align: middle;\n",
       "    }\n",
       "\n",
       "    .dataframe tbody tr th {\n",
       "        vertical-align: top;\n",
       "    }\n",
       "\n",
       "    .dataframe thead th {\n",
       "        text-align: right;\n",
       "    }\n",
       "</style>\n",
       "<table border=\"1\" class=\"dataframe\">\n",
       "  <thead>\n",
       "    <tr style=\"text-align: right;\">\n",
       "      <th></th>\n",
       "      <th>total_images</th>\n",
       "      <th>last_price</th>\n",
       "      <th>total_area</th>\n",
       "      <th>first_day_exposition</th>\n",
       "      <th>rooms</th>\n",
       "      <th>ceiling_height</th>\n",
       "      <th>floors_total</th>\n",
       "      <th>living_area</th>\n",
       "      <th>floor</th>\n",
       "      <th>is_apartment</th>\n",
       "      <th>...</th>\n",
       "      <th>kitchen_area</th>\n",
       "      <th>balcony</th>\n",
       "      <th>locality_name</th>\n",
       "      <th>airports_nearest</th>\n",
       "      <th>cityCenters_nearest</th>\n",
       "      <th>parks_around3000</th>\n",
       "      <th>parks_nearest</th>\n",
       "      <th>ponds_around3000</th>\n",
       "      <th>ponds_nearest</th>\n",
       "      <th>days_exposition</th>\n",
       "    </tr>\n",
       "  </thead>\n",
       "  <tbody>\n",
       "    <tr>\n",
       "      <td>23689</td>\n",
       "      <td>13</td>\n",
       "      <td>3550000.0</td>\n",
       "      <td>35.30</td>\n",
       "      <td>2018-02-28T00:00:00</td>\n",
       "      <td>1</td>\n",
       "      <td>2.86</td>\n",
       "      <td>15.0</td>\n",
       "      <td>16.3</td>\n",
       "      <td>4</td>\n",
       "      <td>NaN</td>\n",
       "      <td>...</td>\n",
       "      <td>9.10</td>\n",
       "      <td>2.0</td>\n",
       "      <td>Санкт-Петербург</td>\n",
       "      <td>17284.0</td>\n",
       "      <td>16081.0</td>\n",
       "      <td>1.0</td>\n",
       "      <td>353.0</td>\n",
       "      <td>2.0</td>\n",
       "      <td>652.0</td>\n",
       "      <td>29.0</td>\n",
       "    </tr>\n",
       "    <tr>\n",
       "      <td>23690</td>\n",
       "      <td>3</td>\n",
       "      <td>5500000.0</td>\n",
       "      <td>52.00</td>\n",
       "      <td>2018-07-19T00:00:00</td>\n",
       "      <td>2</td>\n",
       "      <td>NaN</td>\n",
       "      <td>5.0</td>\n",
       "      <td>31.0</td>\n",
       "      <td>2</td>\n",
       "      <td>NaN</td>\n",
       "      <td>...</td>\n",
       "      <td>6.00</td>\n",
       "      <td>NaN</td>\n",
       "      <td>Санкт-Петербург</td>\n",
       "      <td>20151.0</td>\n",
       "      <td>6263.0</td>\n",
       "      <td>1.0</td>\n",
       "      <td>300.0</td>\n",
       "      <td>0.0</td>\n",
       "      <td>NaN</td>\n",
       "      <td>15.0</td>\n",
       "    </tr>\n",
       "    <tr>\n",
       "      <td>23691</td>\n",
       "      <td>11</td>\n",
       "      <td>9470000.0</td>\n",
       "      <td>72.90</td>\n",
       "      <td>2016-10-13T00:00:00</td>\n",
       "      <td>2</td>\n",
       "      <td>2.75</td>\n",
       "      <td>25.0</td>\n",
       "      <td>40.3</td>\n",
       "      <td>7</td>\n",
       "      <td>NaN</td>\n",
       "      <td>...</td>\n",
       "      <td>10.60</td>\n",
       "      <td>1.0</td>\n",
       "      <td>Санкт-Петербург</td>\n",
       "      <td>19424.0</td>\n",
       "      <td>4489.0</td>\n",
       "      <td>0.0</td>\n",
       "      <td>NaN</td>\n",
       "      <td>1.0</td>\n",
       "      <td>806.0</td>\n",
       "      <td>519.0</td>\n",
       "    </tr>\n",
       "    <tr>\n",
       "      <td>23692</td>\n",
       "      <td>2</td>\n",
       "      <td>1350000.0</td>\n",
       "      <td>30.00</td>\n",
       "      <td>2017-07-07T00:00:00</td>\n",
       "      <td>1</td>\n",
       "      <td>NaN</td>\n",
       "      <td>5.0</td>\n",
       "      <td>17.5</td>\n",
       "      <td>4</td>\n",
       "      <td>NaN</td>\n",
       "      <td>...</td>\n",
       "      <td>6.00</td>\n",
       "      <td>NaN</td>\n",
       "      <td>Тихвин</td>\n",
       "      <td>NaN</td>\n",
       "      <td>NaN</td>\n",
       "      <td>NaN</td>\n",
       "      <td>NaN</td>\n",
       "      <td>NaN</td>\n",
       "      <td>NaN</td>\n",
       "      <td>413.0</td>\n",
       "    </tr>\n",
       "    <tr>\n",
       "      <td>23693</td>\n",
       "      <td>9</td>\n",
       "      <td>4600000.0</td>\n",
       "      <td>62.40</td>\n",
       "      <td>2016-08-05T00:00:00</td>\n",
       "      <td>3</td>\n",
       "      <td>2.60</td>\n",
       "      <td>9.0</td>\n",
       "      <td>40.0</td>\n",
       "      <td>8</td>\n",
       "      <td>NaN</td>\n",
       "      <td>...</td>\n",
       "      <td>8.00</td>\n",
       "      <td>0.0</td>\n",
       "      <td>Петергоф</td>\n",
       "      <td>45602.0</td>\n",
       "      <td>34104.0</td>\n",
       "      <td>1.0</td>\n",
       "      <td>352.0</td>\n",
       "      <td>1.0</td>\n",
       "      <td>675.0</td>\n",
       "      <td>239.0</td>\n",
       "    </tr>\n",
       "    <tr>\n",
       "      <td>23694</td>\n",
       "      <td>9</td>\n",
       "      <td>9700000.0</td>\n",
       "      <td>133.81</td>\n",
       "      <td>2017-03-21T00:00:00</td>\n",
       "      <td>3</td>\n",
       "      <td>3.70</td>\n",
       "      <td>5.0</td>\n",
       "      <td>73.3</td>\n",
       "      <td>3</td>\n",
       "      <td>NaN</td>\n",
       "      <td>...</td>\n",
       "      <td>13.83</td>\n",
       "      <td>NaN</td>\n",
       "      <td>Санкт-Петербург</td>\n",
       "      <td>24665.0</td>\n",
       "      <td>4232.0</td>\n",
       "      <td>1.0</td>\n",
       "      <td>796.0</td>\n",
       "      <td>3.0</td>\n",
       "      <td>381.0</td>\n",
       "      <td>NaN</td>\n",
       "    </tr>\n",
       "    <tr>\n",
       "      <td>23695</td>\n",
       "      <td>14</td>\n",
       "      <td>3100000.0</td>\n",
       "      <td>59.00</td>\n",
       "      <td>2018-01-15T00:00:00</td>\n",
       "      <td>3</td>\n",
       "      <td>NaN</td>\n",
       "      <td>5.0</td>\n",
       "      <td>38.0</td>\n",
       "      <td>4</td>\n",
       "      <td>NaN</td>\n",
       "      <td>...</td>\n",
       "      <td>8.50</td>\n",
       "      <td>NaN</td>\n",
       "      <td>Тосно</td>\n",
       "      <td>NaN</td>\n",
       "      <td>NaN</td>\n",
       "      <td>NaN</td>\n",
       "      <td>NaN</td>\n",
       "      <td>NaN</td>\n",
       "      <td>NaN</td>\n",
       "      <td>45.0</td>\n",
       "    </tr>\n",
       "    <tr>\n",
       "      <td>23696</td>\n",
       "      <td>18</td>\n",
       "      <td>2500000.0</td>\n",
       "      <td>56.70</td>\n",
       "      <td>2018-02-11T00:00:00</td>\n",
       "      <td>2</td>\n",
       "      <td>NaN</td>\n",
       "      <td>3.0</td>\n",
       "      <td>29.7</td>\n",
       "      <td>1</td>\n",
       "      <td>NaN</td>\n",
       "      <td>...</td>\n",
       "      <td>NaN</td>\n",
       "      <td>NaN</td>\n",
       "      <td>село Рождествено</td>\n",
       "      <td>NaN</td>\n",
       "      <td>NaN</td>\n",
       "      <td>NaN</td>\n",
       "      <td>NaN</td>\n",
       "      <td>NaN</td>\n",
       "      <td>NaN</td>\n",
       "      <td>NaN</td>\n",
       "    </tr>\n",
       "    <tr>\n",
       "      <td>23697</td>\n",
       "      <td>13</td>\n",
       "      <td>11475000.0</td>\n",
       "      <td>76.75</td>\n",
       "      <td>2017-03-28T00:00:00</td>\n",
       "      <td>2</td>\n",
       "      <td>3.00</td>\n",
       "      <td>17.0</td>\n",
       "      <td>NaN</td>\n",
       "      <td>12</td>\n",
       "      <td>NaN</td>\n",
       "      <td>...</td>\n",
       "      <td>23.30</td>\n",
       "      <td>2.0</td>\n",
       "      <td>Санкт-Петербург</td>\n",
       "      <td>39140.0</td>\n",
       "      <td>10364.0</td>\n",
       "      <td>2.0</td>\n",
       "      <td>173.0</td>\n",
       "      <td>3.0</td>\n",
       "      <td>196.0</td>\n",
       "      <td>602.0</td>\n",
       "    </tr>\n",
       "    <tr>\n",
       "      <td>23698</td>\n",
       "      <td>4</td>\n",
       "      <td>1350000.0</td>\n",
       "      <td>32.30</td>\n",
       "      <td>2017-07-21T00:00:00</td>\n",
       "      <td>1</td>\n",
       "      <td>2.50</td>\n",
       "      <td>5.0</td>\n",
       "      <td>12.3</td>\n",
       "      <td>1</td>\n",
       "      <td>NaN</td>\n",
       "      <td>...</td>\n",
       "      <td>9.00</td>\n",
       "      <td>NaN</td>\n",
       "      <td>поселок Новый Учхоз</td>\n",
       "      <td>NaN</td>\n",
       "      <td>NaN</td>\n",
       "      <td>NaN</td>\n",
       "      <td>NaN</td>\n",
       "      <td>NaN</td>\n",
       "      <td>NaN</td>\n",
       "      <td>NaN</td>\n",
       "    </tr>\n",
       "  </tbody>\n",
       "</table>\n",
       "<p>10 rows × 22 columns</p>\n",
       "</div>"
      ],
      "text/plain": [
       "       total_images  last_price  total_area first_day_exposition  rooms  \\\n",
       "23689            13   3550000.0       35.30  2018-02-28T00:00:00      1   \n",
       "23690             3   5500000.0       52.00  2018-07-19T00:00:00      2   \n",
       "23691            11   9470000.0       72.90  2016-10-13T00:00:00      2   \n",
       "23692             2   1350000.0       30.00  2017-07-07T00:00:00      1   \n",
       "23693             9   4600000.0       62.40  2016-08-05T00:00:00      3   \n",
       "23694             9   9700000.0      133.81  2017-03-21T00:00:00      3   \n",
       "23695            14   3100000.0       59.00  2018-01-15T00:00:00      3   \n",
       "23696            18   2500000.0       56.70  2018-02-11T00:00:00      2   \n",
       "23697            13  11475000.0       76.75  2017-03-28T00:00:00      2   \n",
       "23698             4   1350000.0       32.30  2017-07-21T00:00:00      1   \n",
       "\n",
       "       ceiling_height  floors_total  living_area  floor is_apartment  ...  \\\n",
       "23689            2.86          15.0         16.3      4          NaN  ...   \n",
       "23690             NaN           5.0         31.0      2          NaN  ...   \n",
       "23691            2.75          25.0         40.3      7          NaN  ...   \n",
       "23692             NaN           5.0         17.5      4          NaN  ...   \n",
       "23693            2.60           9.0         40.0      8          NaN  ...   \n",
       "23694            3.70           5.0         73.3      3          NaN  ...   \n",
       "23695             NaN           5.0         38.0      4          NaN  ...   \n",
       "23696             NaN           3.0         29.7      1          NaN  ...   \n",
       "23697            3.00          17.0          NaN     12          NaN  ...   \n",
       "23698            2.50           5.0         12.3      1          NaN  ...   \n",
       "\n",
       "       kitchen_area  balcony        locality_name  airports_nearest  \\\n",
       "23689          9.10      2.0      Санкт-Петербург           17284.0   \n",
       "23690          6.00      NaN      Санкт-Петербург           20151.0   \n",
       "23691         10.60      1.0      Санкт-Петербург           19424.0   \n",
       "23692          6.00      NaN               Тихвин               NaN   \n",
       "23693          8.00      0.0             Петергоф           45602.0   \n",
       "23694         13.83      NaN      Санкт-Петербург           24665.0   \n",
       "23695          8.50      NaN                Тосно               NaN   \n",
       "23696           NaN      NaN     село Рождествено               NaN   \n",
       "23697         23.30      2.0      Санкт-Петербург           39140.0   \n",
       "23698          9.00      NaN  поселок Новый Учхоз               NaN   \n",
       "\n",
       "      cityCenters_nearest  parks_around3000  parks_nearest  ponds_around3000  \\\n",
       "23689             16081.0               1.0          353.0               2.0   \n",
       "23690              6263.0               1.0          300.0               0.0   \n",
       "23691              4489.0               0.0            NaN               1.0   \n",
       "23692                 NaN               NaN            NaN               NaN   \n",
       "23693             34104.0               1.0          352.0               1.0   \n",
       "23694              4232.0               1.0          796.0               3.0   \n",
       "23695                 NaN               NaN            NaN               NaN   \n",
       "23696                 NaN               NaN            NaN               NaN   \n",
       "23697             10364.0               2.0          173.0               3.0   \n",
       "23698                 NaN               NaN            NaN               NaN   \n",
       "\n",
       "       ponds_nearest  days_exposition  \n",
       "23689          652.0             29.0  \n",
       "23690            NaN             15.0  \n",
       "23691          806.0            519.0  \n",
       "23692            NaN            413.0  \n",
       "23693          675.0            239.0  \n",
       "23694          381.0              NaN  \n",
       "23695            NaN             45.0  \n",
       "23696            NaN              NaN  \n",
       "23697          196.0            602.0  \n",
       "23698            NaN              NaN  \n",
       "\n",
       "[10 rows x 22 columns]"
      ]
     },
     "execution_count": 827,
     "metadata": {},
     "output_type": "execute_result"
    }
   ],
   "source": [
    "data.tail(10)"
   ]
  },
  {
   "cell_type": "code",
   "execution_count": 828,
   "metadata": {},
   "outputs": [
    {
     "data": {
      "text/html": [
       "<div>\n",
       "<style scoped>\n",
       "    .dataframe tbody tr th:only-of-type {\n",
       "        vertical-align: middle;\n",
       "    }\n",
       "\n",
       "    .dataframe tbody tr th {\n",
       "        vertical-align: top;\n",
       "    }\n",
       "\n",
       "    .dataframe thead th {\n",
       "        text-align: right;\n",
       "    }\n",
       "</style>\n",
       "<table border=\"1\" class=\"dataframe\">\n",
       "  <thead>\n",
       "    <tr style=\"text-align: right;\">\n",
       "      <th></th>\n",
       "      <th>total_images</th>\n",
       "      <th>last_price</th>\n",
       "      <th>total_area</th>\n",
       "      <th>first_day_exposition</th>\n",
       "      <th>rooms</th>\n",
       "      <th>ceiling_height</th>\n",
       "      <th>floors_total</th>\n",
       "      <th>living_area</th>\n",
       "      <th>floor</th>\n",
       "      <th>is_apartment</th>\n",
       "      <th>...</th>\n",
       "      <th>kitchen_area</th>\n",
       "      <th>balcony</th>\n",
       "      <th>locality_name</th>\n",
       "      <th>airports_nearest</th>\n",
       "      <th>cityCenters_nearest</th>\n",
       "      <th>parks_around3000</th>\n",
       "      <th>parks_nearest</th>\n",
       "      <th>ponds_around3000</th>\n",
       "      <th>ponds_nearest</th>\n",
       "      <th>days_exposition</th>\n",
       "    </tr>\n",
       "  </thead>\n",
       "  <tbody>\n",
       "    <tr>\n",
       "      <td>22564</td>\n",
       "      <td>6</td>\n",
       "      <td>4100000.0</td>\n",
       "      <td>55.0</td>\n",
       "      <td>2016-03-15T00:00:00</td>\n",
       "      <td>2</td>\n",
       "      <td>NaN</td>\n",
       "      <td>12.0</td>\n",
       "      <td>32.0</td>\n",
       "      <td>1</td>\n",
       "      <td>NaN</td>\n",
       "      <td>...</td>\n",
       "      <td>NaN</td>\n",
       "      <td>0.0</td>\n",
       "      <td>Санкт-Петербург</td>\n",
       "      <td>15760.0</td>\n",
       "      <td>15976.0</td>\n",
       "      <td>1.0</td>\n",
       "      <td>719.0</td>\n",
       "      <td>0.0</td>\n",
       "      <td>NaN</td>\n",
       "      <td>183.0</td>\n",
       "    </tr>\n",
       "    <tr>\n",
       "      <td>16617</td>\n",
       "      <td>12</td>\n",
       "      <td>6800000.0</td>\n",
       "      <td>69.0</td>\n",
       "      <td>2018-11-08T00:00:00</td>\n",
       "      <td>2</td>\n",
       "      <td>2.9</td>\n",
       "      <td>5.0</td>\n",
       "      <td>42.0</td>\n",
       "      <td>2</td>\n",
       "      <td>NaN</td>\n",
       "      <td>...</td>\n",
       "      <td>13.0</td>\n",
       "      <td>NaN</td>\n",
       "      <td>Санкт-Петербург</td>\n",
       "      <td>31276.0</td>\n",
       "      <td>5131.0</td>\n",
       "      <td>2.0</td>\n",
       "      <td>172.0</td>\n",
       "      <td>2.0</td>\n",
       "      <td>482.0</td>\n",
       "      <td>107.0</td>\n",
       "    </tr>\n",
       "    <tr>\n",
       "      <td>11628</td>\n",
       "      <td>0</td>\n",
       "      <td>6400000.0</td>\n",
       "      <td>60.4</td>\n",
       "      <td>2016-02-19T00:00:00</td>\n",
       "      <td>2</td>\n",
       "      <td>NaN</td>\n",
       "      <td>5.0</td>\n",
       "      <td>38.6</td>\n",
       "      <td>5</td>\n",
       "      <td>NaN</td>\n",
       "      <td>...</td>\n",
       "      <td>8.0</td>\n",
       "      <td>0.0</td>\n",
       "      <td>Санкт-Петербург</td>\n",
       "      <td>38415.0</td>\n",
       "      <td>7675.0</td>\n",
       "      <td>1.0</td>\n",
       "      <td>568.0</td>\n",
       "      <td>1.0</td>\n",
       "      <td>154.0</td>\n",
       "      <td>188.0</td>\n",
       "    </tr>\n",
       "    <tr>\n",
       "      <td>1984</td>\n",
       "      <td>1</td>\n",
       "      <td>6250000.0</td>\n",
       "      <td>61.0</td>\n",
       "      <td>2016-06-17T00:00:00</td>\n",
       "      <td>3</td>\n",
       "      <td>NaN</td>\n",
       "      <td>9.0</td>\n",
       "      <td>44.0</td>\n",
       "      <td>5</td>\n",
       "      <td>NaN</td>\n",
       "      <td>...</td>\n",
       "      <td>6.3</td>\n",
       "      <td>0.0</td>\n",
       "      <td>Санкт-Петербург</td>\n",
       "      <td>48175.0</td>\n",
       "      <td>16156.0</td>\n",
       "      <td>0.0</td>\n",
       "      <td>NaN</td>\n",
       "      <td>0.0</td>\n",
       "      <td>NaN</td>\n",
       "      <td>60.0</td>\n",
       "    </tr>\n",
       "    <tr>\n",
       "      <td>18017</td>\n",
       "      <td>0</td>\n",
       "      <td>1700000.0</td>\n",
       "      <td>43.7</td>\n",
       "      <td>2017-09-04T00:00:00</td>\n",
       "      <td>2</td>\n",
       "      <td>2.6</td>\n",
       "      <td>5.0</td>\n",
       "      <td>31.1</td>\n",
       "      <td>1</td>\n",
       "      <td>NaN</td>\n",
       "      <td>...</td>\n",
       "      <td>5.3</td>\n",
       "      <td>0.0</td>\n",
       "      <td>поселок Мичуринское</td>\n",
       "      <td>NaN</td>\n",
       "      <td>NaN</td>\n",
       "      <td>NaN</td>\n",
       "      <td>NaN</td>\n",
       "      <td>NaN</td>\n",
       "      <td>NaN</td>\n",
       "      <td>45.0</td>\n",
       "    </tr>\n",
       "  </tbody>\n",
       "</table>\n",
       "<p>5 rows × 22 columns</p>\n",
       "</div>"
      ],
      "text/plain": [
       "       total_images  last_price  total_area first_day_exposition  rooms  \\\n",
       "22564             6   4100000.0        55.0  2016-03-15T00:00:00      2   \n",
       "16617            12   6800000.0        69.0  2018-11-08T00:00:00      2   \n",
       "11628             0   6400000.0        60.4  2016-02-19T00:00:00      2   \n",
       "1984              1   6250000.0        61.0  2016-06-17T00:00:00      3   \n",
       "18017             0   1700000.0        43.7  2017-09-04T00:00:00      2   \n",
       "\n",
       "       ceiling_height  floors_total  living_area  floor is_apartment  ...  \\\n",
       "22564             NaN          12.0         32.0      1          NaN  ...   \n",
       "16617             2.9           5.0         42.0      2          NaN  ...   \n",
       "11628             NaN           5.0         38.6      5          NaN  ...   \n",
       "1984              NaN           9.0         44.0      5          NaN  ...   \n",
       "18017             2.6           5.0         31.1      1          NaN  ...   \n",
       "\n",
       "       kitchen_area  balcony        locality_name  airports_nearest  \\\n",
       "22564           NaN      0.0      Санкт-Петербург           15760.0   \n",
       "16617          13.0      NaN      Санкт-Петербург           31276.0   \n",
       "11628           8.0      0.0      Санкт-Петербург           38415.0   \n",
       "1984            6.3      0.0      Санкт-Петербург           48175.0   \n",
       "18017           5.3      0.0  поселок Мичуринское               NaN   \n",
       "\n",
       "      cityCenters_nearest  parks_around3000  parks_nearest  ponds_around3000  \\\n",
       "22564             15976.0               1.0          719.0               0.0   \n",
       "16617              5131.0               2.0          172.0               2.0   \n",
       "11628              7675.0               1.0          568.0               1.0   \n",
       "1984              16156.0               0.0            NaN               0.0   \n",
       "18017                 NaN               NaN            NaN               NaN   \n",
       "\n",
       "       ponds_nearest  days_exposition  \n",
       "22564            NaN            183.0  \n",
       "16617          482.0            107.0  \n",
       "11628          154.0            188.0  \n",
       "1984             NaN             60.0  \n",
       "18017            NaN             45.0  \n",
       "\n",
       "[5 rows x 22 columns]"
      ]
     },
     "execution_count": 828,
     "metadata": {},
     "output_type": "execute_result"
    }
   ],
   "source": [
    "random_state_number = 10\n",
    "sample_size_number = 5\n",
    "data.sample(n=sample_size_number, random_state=random_state_number)"
   ]
  },
  {
   "cell_type": "code",
   "execution_count": 829,
   "metadata": {
    "scrolled": false
   },
   "outputs": [
    {
     "name": "stdout",
     "output_type": "stream",
     "text": [
      "<class 'pandas.core.frame.DataFrame'>\n",
      "RangeIndex: 23699 entries, 0 to 23698\n",
      "Data columns (total 22 columns):\n",
      "total_images            23699 non-null int64\n",
      "last_price              23699 non-null float64\n",
      "total_area              23699 non-null float64\n",
      "first_day_exposition    23699 non-null object\n",
      "rooms                   23699 non-null int64\n",
      "ceiling_height          14504 non-null float64\n",
      "floors_total            23613 non-null float64\n",
      "living_area             21796 non-null float64\n",
      "floor                   23699 non-null int64\n",
      "is_apartment            2775 non-null object\n",
      "studio                  23699 non-null bool\n",
      "open_plan               23699 non-null bool\n",
      "kitchen_area            21421 non-null float64\n",
      "balcony                 12180 non-null float64\n",
      "locality_name           23650 non-null object\n",
      "airports_nearest        18157 non-null float64\n",
      "cityCenters_nearest     18180 non-null float64\n",
      "parks_around3000        18181 non-null float64\n",
      "parks_nearest           8079 non-null float64\n",
      "ponds_around3000        18181 non-null float64\n",
      "ponds_nearest           9110 non-null float64\n",
      "days_exposition         20518 non-null float64\n",
      "dtypes: bool(2), float64(14), int64(3), object(3)\n",
      "memory usage: 3.7+ MB\n"
     ]
    }
   ],
   "source": [
    "data.info()\n",
    "# запрос общей информации о дата-фрейме с помощью метода .info()"
   ]
  },
  {
   "cell_type": "code",
   "execution_count": 830,
   "metadata": {},
   "outputs": [
    {
     "data": {
      "text/html": [
       "<div>\n",
       "<style scoped>\n",
       "    .dataframe tbody tr th:only-of-type {\n",
       "        vertical-align: middle;\n",
       "    }\n",
       "\n",
       "    .dataframe tbody tr th {\n",
       "        vertical-align: top;\n",
       "    }\n",
       "\n",
       "    .dataframe thead th {\n",
       "        text-align: right;\n",
       "    }\n",
       "</style>\n",
       "<table border=\"1\" class=\"dataframe\">\n",
       "  <thead>\n",
       "    <tr style=\"text-align: right;\">\n",
       "      <th></th>\n",
       "      <th>count</th>\n",
       "      <th>mean</th>\n",
       "      <th>std</th>\n",
       "      <th>min</th>\n",
       "      <th>25%</th>\n",
       "      <th>50%</th>\n",
       "      <th>75%</th>\n",
       "      <th>max</th>\n",
       "    </tr>\n",
       "  </thead>\n",
       "  <tbody>\n",
       "    <tr>\n",
       "      <td>total_images</td>\n",
       "      <td>23699.0</td>\n",
       "      <td>9.858475e+00</td>\n",
       "      <td>5.682529e+00</td>\n",
       "      <td>0.0</td>\n",
       "      <td>6.00</td>\n",
       "      <td>9.00</td>\n",
       "      <td>14.0</td>\n",
       "      <td>50.0</td>\n",
       "    </tr>\n",
       "    <tr>\n",
       "      <td>last_price</td>\n",
       "      <td>23699.0</td>\n",
       "      <td>6.541549e+06</td>\n",
       "      <td>1.088701e+07</td>\n",
       "      <td>12190.0</td>\n",
       "      <td>3400000.00</td>\n",
       "      <td>4650000.00</td>\n",
       "      <td>6800000.0</td>\n",
       "      <td>763000000.0</td>\n",
       "    </tr>\n",
       "    <tr>\n",
       "      <td>total_area</td>\n",
       "      <td>23699.0</td>\n",
       "      <td>6.034865e+01</td>\n",
       "      <td>3.565408e+01</td>\n",
       "      <td>12.0</td>\n",
       "      <td>40.00</td>\n",
       "      <td>52.00</td>\n",
       "      <td>69.9</td>\n",
       "      <td>900.0</td>\n",
       "    </tr>\n",
       "    <tr>\n",
       "      <td>rooms</td>\n",
       "      <td>23699.0</td>\n",
       "      <td>2.070636e+00</td>\n",
       "      <td>1.078405e+00</td>\n",
       "      <td>0.0</td>\n",
       "      <td>1.00</td>\n",
       "      <td>2.00</td>\n",
       "      <td>3.0</td>\n",
       "      <td>19.0</td>\n",
       "    </tr>\n",
       "    <tr>\n",
       "      <td>ceiling_height</td>\n",
       "      <td>14504.0</td>\n",
       "      <td>2.771499e+00</td>\n",
       "      <td>1.261056e+00</td>\n",
       "      <td>1.0</td>\n",
       "      <td>2.52</td>\n",
       "      <td>2.65</td>\n",
       "      <td>2.8</td>\n",
       "      <td>100.0</td>\n",
       "    </tr>\n",
       "    <tr>\n",
       "      <td>floors_total</td>\n",
       "      <td>23613.0</td>\n",
       "      <td>1.067382e+01</td>\n",
       "      <td>6.597173e+00</td>\n",
       "      <td>1.0</td>\n",
       "      <td>5.00</td>\n",
       "      <td>9.00</td>\n",
       "      <td>16.0</td>\n",
       "      <td>60.0</td>\n",
       "    </tr>\n",
       "    <tr>\n",
       "      <td>living_area</td>\n",
       "      <td>21796.0</td>\n",
       "      <td>3.445785e+01</td>\n",
       "      <td>2.203045e+01</td>\n",
       "      <td>2.0</td>\n",
       "      <td>18.60</td>\n",
       "      <td>30.00</td>\n",
       "      <td>42.3</td>\n",
       "      <td>409.7</td>\n",
       "    </tr>\n",
       "    <tr>\n",
       "      <td>floor</td>\n",
       "      <td>23699.0</td>\n",
       "      <td>5.892358e+00</td>\n",
       "      <td>4.885249e+00</td>\n",
       "      <td>1.0</td>\n",
       "      <td>2.00</td>\n",
       "      <td>4.00</td>\n",
       "      <td>8.0</td>\n",
       "      <td>33.0</td>\n",
       "    </tr>\n",
       "    <tr>\n",
       "      <td>kitchen_area</td>\n",
       "      <td>21421.0</td>\n",
       "      <td>1.056981e+01</td>\n",
       "      <td>5.905438e+00</td>\n",
       "      <td>1.3</td>\n",
       "      <td>7.00</td>\n",
       "      <td>9.10</td>\n",
       "      <td>12.0</td>\n",
       "      <td>112.0</td>\n",
       "    </tr>\n",
       "    <tr>\n",
       "      <td>balcony</td>\n",
       "      <td>12180.0</td>\n",
       "      <td>1.150082e+00</td>\n",
       "      <td>1.071300e+00</td>\n",
       "      <td>0.0</td>\n",
       "      <td>0.00</td>\n",
       "      <td>1.00</td>\n",
       "      <td>2.0</td>\n",
       "      <td>5.0</td>\n",
       "    </tr>\n",
       "    <tr>\n",
       "      <td>airports_nearest</td>\n",
       "      <td>18157.0</td>\n",
       "      <td>2.879367e+04</td>\n",
       "      <td>1.263088e+04</td>\n",
       "      <td>0.0</td>\n",
       "      <td>18585.00</td>\n",
       "      <td>26726.00</td>\n",
       "      <td>37273.0</td>\n",
       "      <td>84869.0</td>\n",
       "    </tr>\n",
       "    <tr>\n",
       "      <td>cityCenters_nearest</td>\n",
       "      <td>18180.0</td>\n",
       "      <td>1.419128e+04</td>\n",
       "      <td>8.608386e+03</td>\n",
       "      <td>181.0</td>\n",
       "      <td>9238.00</td>\n",
       "      <td>13098.50</td>\n",
       "      <td>16293.0</td>\n",
       "      <td>65968.0</td>\n",
       "    </tr>\n",
       "    <tr>\n",
       "      <td>parks_around3000</td>\n",
       "      <td>18181.0</td>\n",
       "      <td>6.114075e-01</td>\n",
       "      <td>8.020736e-01</td>\n",
       "      <td>0.0</td>\n",
       "      <td>0.00</td>\n",
       "      <td>0.00</td>\n",
       "      <td>1.0</td>\n",
       "      <td>3.0</td>\n",
       "    </tr>\n",
       "    <tr>\n",
       "      <td>parks_nearest</td>\n",
       "      <td>8079.0</td>\n",
       "      <td>4.908046e+02</td>\n",
       "      <td>3.423180e+02</td>\n",
       "      <td>1.0</td>\n",
       "      <td>288.00</td>\n",
       "      <td>455.00</td>\n",
       "      <td>612.0</td>\n",
       "      <td>3190.0</td>\n",
       "    </tr>\n",
       "    <tr>\n",
       "      <td>ponds_around3000</td>\n",
       "      <td>18181.0</td>\n",
       "      <td>7.702547e-01</td>\n",
       "      <td>9.383456e-01</td>\n",
       "      <td>0.0</td>\n",
       "      <td>0.00</td>\n",
       "      <td>1.00</td>\n",
       "      <td>1.0</td>\n",
       "      <td>3.0</td>\n",
       "    </tr>\n",
       "    <tr>\n",
       "      <td>ponds_nearest</td>\n",
       "      <td>9110.0</td>\n",
       "      <td>5.179809e+02</td>\n",
       "      <td>2.777206e+02</td>\n",
       "      <td>13.0</td>\n",
       "      <td>294.00</td>\n",
       "      <td>502.00</td>\n",
       "      <td>729.0</td>\n",
       "      <td>1344.0</td>\n",
       "    </tr>\n",
       "    <tr>\n",
       "      <td>days_exposition</td>\n",
       "      <td>20518.0</td>\n",
       "      <td>1.808886e+02</td>\n",
       "      <td>2.197280e+02</td>\n",
       "      <td>1.0</td>\n",
       "      <td>45.00</td>\n",
       "      <td>95.00</td>\n",
       "      <td>232.0</td>\n",
       "      <td>1580.0</td>\n",
       "    </tr>\n",
       "  </tbody>\n",
       "</table>\n",
       "</div>"
      ],
      "text/plain": [
       "                       count          mean           std      min         25%  \\\n",
       "total_images         23699.0  9.858475e+00  5.682529e+00      0.0        6.00   \n",
       "last_price           23699.0  6.541549e+06  1.088701e+07  12190.0  3400000.00   \n",
       "total_area           23699.0  6.034865e+01  3.565408e+01     12.0       40.00   \n",
       "rooms                23699.0  2.070636e+00  1.078405e+00      0.0        1.00   \n",
       "ceiling_height       14504.0  2.771499e+00  1.261056e+00      1.0        2.52   \n",
       "floors_total         23613.0  1.067382e+01  6.597173e+00      1.0        5.00   \n",
       "living_area          21796.0  3.445785e+01  2.203045e+01      2.0       18.60   \n",
       "floor                23699.0  5.892358e+00  4.885249e+00      1.0        2.00   \n",
       "kitchen_area         21421.0  1.056981e+01  5.905438e+00      1.3        7.00   \n",
       "balcony              12180.0  1.150082e+00  1.071300e+00      0.0        0.00   \n",
       "airports_nearest     18157.0  2.879367e+04  1.263088e+04      0.0    18585.00   \n",
       "cityCenters_nearest  18180.0  1.419128e+04  8.608386e+03    181.0     9238.00   \n",
       "parks_around3000     18181.0  6.114075e-01  8.020736e-01      0.0        0.00   \n",
       "parks_nearest         8079.0  4.908046e+02  3.423180e+02      1.0      288.00   \n",
       "ponds_around3000     18181.0  7.702547e-01  9.383456e-01      0.0        0.00   \n",
       "ponds_nearest         9110.0  5.179809e+02  2.777206e+02     13.0      294.00   \n",
       "days_exposition      20518.0  1.808886e+02  2.197280e+02      1.0       45.00   \n",
       "\n",
       "                            50%        75%          max  \n",
       "total_images               9.00       14.0         50.0  \n",
       "last_price           4650000.00  6800000.0  763000000.0  \n",
       "total_area                52.00       69.9        900.0  \n",
       "rooms                      2.00        3.0         19.0  \n",
       "ceiling_height             2.65        2.8        100.0  \n",
       "floors_total               9.00       16.0         60.0  \n",
       "living_area               30.00       42.3        409.7  \n",
       "floor                      4.00        8.0         33.0  \n",
       "kitchen_area               9.10       12.0        112.0  \n",
       "balcony                    1.00        2.0          5.0  \n",
       "airports_nearest       26726.00    37273.0      84869.0  \n",
       "cityCenters_nearest    13098.50    16293.0      65968.0  \n",
       "parks_around3000           0.00        1.0          3.0  \n",
       "parks_nearest            455.00      612.0       3190.0  \n",
       "ponds_around3000           1.00        1.0          3.0  \n",
       "ponds_nearest            502.00      729.0       1344.0  \n",
       "days_exposition           95.00      232.0       1580.0  "
      ]
     },
     "execution_count": 830,
     "metadata": {},
     "output_type": "execute_result"
    }
   ],
   "source": [
    "data.describe().T"
   ]
  },
  {
   "cell_type": "code",
   "execution_count": 831,
   "metadata": {},
   "outputs": [
    {
     "data": {
      "text/plain": [
       "0"
      ]
     },
     "execution_count": 831,
     "metadata": {},
     "output_type": "execute_result"
    }
   ],
   "source": [
    "data.duplicated().sum()\n",
    "#проверим количество дубликатов в дата-сете "
   ]
  },
  {
   "cell_type": "markdown",
   "metadata": {},
   "source": [
    "### Вывод"
   ]
  },
  {
   "cell_type": "markdown",
   "metadata": {},
   "source": [
    "В таблице 22 столбца. Мы наблюдаем 4 вида данных - `float`, `int64` и `object` и `bool`.\n",
    "В наименовании столбцов видим склеенные значения а также чередование букв верхнего и нижнего регистров.\n",
    "\n",
    "Количество значений в столбцах различается. \n",
    "Имеются пропущенные значения в следующих столбцах:\n",
    "- ceiling_height\n",
    "- floors_total\n",
    "- living_area\n",
    "- is_apartment\n",
    "- kitchen_area\n",
    "- balcony\n",
    "- locality_name\n",
    "- airports_nearest\n",
    "- cityCenters_nearest\n",
    "- parks_around3000\n",
    "- parks_nearest\n",
    "- ponds_around3000\n",
    "- ponds_nearest\n",
    "- days_exposition\n",
    "\n"
   ]
  },
  {
   "cell_type": "markdown",
   "metadata": {},
   "source": [
    "## Предобработка данных"
   ]
  },
  {
   "cell_type": "markdown",
   "metadata": {},
   "source": [
    "1. В названиях колонок видны следующие нарушения стиля: строчные буквы сочетаются с прописными, отсутствует разделение с помощью нижнего подчеркивания."
   ]
  },
  {
   "cell_type": "code",
   "execution_count": 832,
   "metadata": {},
   "outputs": [],
   "source": [
    "#print(data.columns)\n",
    "# вывод на экран заголовков дата-фрейма с помощью атрибута columns\n",
    "\n",
    "header = ['total_images', 'last_price', 'total_area', 'first_day_exposition',\n",
    "       'rooms', 'ceiling_height', 'floors_total', 'living_area', 'floor',\n",
    "       'is_apartment', 'studio', 'open_plan', 'kitchen_area', 'balcony',\n",
    "       'locality_name', 'airports_nearest', 'cityCenters_nearest',\n",
    "       'parks_around3000', 'parks_nearest', 'ponds_around3000',\n",
    "       'ponds_nearest', 'days_exposition']\n",
    "\n",
    "data = pd.DataFrame(data = data, columns = header)\n",
    "data = data.rename(columns = {'cityCenters_nearest': 'city_centers_nearest', \n",
    "                              'parks_around3000': 'parks_around_3000',\n",
    "                              'ponds_around3000': 'ponds_around_3000'})\n",
    "\n",
    "# сохранение списка названия столбцов в переменной header\n",
    "# сохранение структуры данных в переменной data\n",
    "# метод rename() для переименования столбцов\n",
    "\n",
    "#print(data.columns)\n",
    "# вывод на экран заголовков дата-фрейма с помощью атрибута columns после замены для проверки"
   ]
  },
  {
   "cell_type": "markdown",
   "metadata": {},
   "source": [
    "2. Рассмотрим количество пропущенных значений относительно всего дата-сета. \n",
    "Пропуски выглядят не сильно критичными. Заполняя форму с объявлением, люди могут владеть недостаточной информацией (например не знают расстояние до ближайшего парка или водоема, либо им кажется данная информация не критичной для выбора квартиры, чтобы добавлять ее в объявление)."
   ]
  },
  {
   "cell_type": "code",
   "execution_count": 833,
   "metadata": {},
   "outputs": [
    {
     "name": "stdout",
     "output_type": "stream",
     "text": [
      "total_images             0.000000\n",
      "open_plan                0.000000\n",
      "floor                    0.000000\n",
      "rooms                    0.000000\n",
      "studio                   0.000000\n",
      "total_area               0.000000\n",
      "last_price               0.000000\n",
      "first_day_exposition     0.000000\n",
      "locality_name            0.206760\n",
      "floors_total             0.362885\n",
      "living_area              8.029875\n",
      "kitchen_area             9.612220\n",
      "days_exposition         13.422507\n",
      "ponds_around_3000       23.283683\n",
      "parks_around_3000       23.283683\n",
      "city_centers_nearest    23.287902\n",
      "airports_nearest        23.384953\n",
      "ceiling_height          38.799105\n",
      "balcony                 48.605426\n",
      "ponds_nearest           61.559559\n",
      "parks_nearest           65.909954\n",
      "is_apartment            88.290645\n",
      "dtype: float64\n"
     ]
    }
   ],
   "source": [
    "print(data.isna().sum().sort_values()/len(data)*100)"
   ]
  },
  {
   "cell_type": "markdown",
   "metadata": {},
   "source": [
    "3. Рассмотрим столбец 'locality_name'. В данном столбще отсутствует 49 значений, что составляет около 2% всей выборки. Удалим данные значения, так как вероятно, что объявления без данных о местоположении недвижимости пользователи не будут рассматривать."
   ]
  },
  {
   "cell_type": "code",
   "execution_count": 834,
   "metadata": {},
   "outputs": [
    {
     "data": {
      "text/html": [
       "<div>\n",
       "<style scoped>\n",
       "    .dataframe tbody tr th:only-of-type {\n",
       "        vertical-align: middle;\n",
       "    }\n",
       "\n",
       "    .dataframe tbody tr th {\n",
       "        vertical-align: top;\n",
       "    }\n",
       "\n",
       "    .dataframe thead th {\n",
       "        text-align: right;\n",
       "    }\n",
       "</style>\n",
       "<table border=\"1\" class=\"dataframe\">\n",
       "  <thead>\n",
       "    <tr style=\"text-align: right;\">\n",
       "      <th></th>\n",
       "      <th>total_images</th>\n",
       "      <th>last_price</th>\n",
       "      <th>total_area</th>\n",
       "      <th>first_day_exposition</th>\n",
       "      <th>rooms</th>\n",
       "      <th>ceiling_height</th>\n",
       "      <th>floors_total</th>\n",
       "      <th>living_area</th>\n",
       "      <th>floor</th>\n",
       "      <th>is_apartment</th>\n",
       "      <th>...</th>\n",
       "      <th>kitchen_area</th>\n",
       "      <th>balcony</th>\n",
       "      <th>locality_name</th>\n",
       "      <th>airports_nearest</th>\n",
       "      <th>city_centers_nearest</th>\n",
       "      <th>parks_around_3000</th>\n",
       "      <th>parks_nearest</th>\n",
       "      <th>ponds_around_3000</th>\n",
       "      <th>ponds_nearest</th>\n",
       "      <th>days_exposition</th>\n",
       "    </tr>\n",
       "  </thead>\n",
       "  <tbody>\n",
       "  </tbody>\n",
       "</table>\n",
       "<p>0 rows × 22 columns</p>\n",
       "</div>"
      ],
      "text/plain": [
       "Empty DataFrame\n",
       "Columns: [total_images, last_price, total_area, first_day_exposition, rooms, ceiling_height, floors_total, living_area, floor, is_apartment, studio, open_plan, kitchen_area, balcony, locality_name, airports_nearest, city_centers_nearest, parks_around_3000, parks_nearest, ponds_around_3000, ponds_nearest, days_exposition]\n",
       "Index: []\n",
       "\n",
       "[0 rows x 22 columns]"
      ]
     },
     "metadata": {},
     "output_type": "display_data"
    }
   ],
   "source": [
    "data.dropna(subset=['locality_name'], inplace=True)\n",
    "display(data[data['locality_name'].isna()].head(5))"
   ]
  },
  {
   "cell_type": "markdown",
   "metadata": {},
   "source": [
    "4. Рассмотрим столбец 'balcony'. Отсутствующие в данном столбце значения скорее всего говорят о том, что в данных объявлениях, в квартирах, отсутствуют балконы. Заменим пропущенные значения на нули."
   ]
  },
  {
   "cell_type": "code",
   "execution_count": 835,
   "metadata": {},
   "outputs": [
    {
     "data": {
      "text/html": [
       "<div>\n",
       "<style scoped>\n",
       "    .dataframe tbody tr th:only-of-type {\n",
       "        vertical-align: middle;\n",
       "    }\n",
       "\n",
       "    .dataframe tbody tr th {\n",
       "        vertical-align: top;\n",
       "    }\n",
       "\n",
       "    .dataframe thead th {\n",
       "        text-align: right;\n",
       "    }\n",
       "</style>\n",
       "<table border=\"1\" class=\"dataframe\">\n",
       "  <thead>\n",
       "    <tr style=\"text-align: right;\">\n",
       "      <th></th>\n",
       "      <th>total_images</th>\n",
       "      <th>last_price</th>\n",
       "      <th>total_area</th>\n",
       "      <th>first_day_exposition</th>\n",
       "      <th>rooms</th>\n",
       "      <th>ceiling_height</th>\n",
       "      <th>floors_total</th>\n",
       "      <th>living_area</th>\n",
       "      <th>floor</th>\n",
       "      <th>is_apartment</th>\n",
       "      <th>...</th>\n",
       "      <th>kitchen_area</th>\n",
       "      <th>balcony</th>\n",
       "      <th>locality_name</th>\n",
       "      <th>airports_nearest</th>\n",
       "      <th>city_centers_nearest</th>\n",
       "      <th>parks_around_3000</th>\n",
       "      <th>parks_nearest</th>\n",
       "      <th>ponds_around_3000</th>\n",
       "      <th>ponds_nearest</th>\n",
       "      <th>days_exposition</th>\n",
       "    </tr>\n",
       "  </thead>\n",
       "  <tbody>\n",
       "  </tbody>\n",
       "</table>\n",
       "<p>0 rows × 22 columns</p>\n",
       "</div>"
      ],
      "text/plain": [
       "Empty DataFrame\n",
       "Columns: [total_images, last_price, total_area, first_day_exposition, rooms, ceiling_height, floors_total, living_area, floor, is_apartment, studio, open_plan, kitchen_area, balcony, locality_name, airports_nearest, city_centers_nearest, parks_around_3000, parks_nearest, ponds_around_3000, ponds_nearest, days_exposition]\n",
       "Index: []\n",
       "\n",
       "[0 rows x 22 columns]"
      ]
     },
     "metadata": {},
     "output_type": "display_data"
    }
   ],
   "source": [
    "data['balcony'] = data['balcony'].fillna(0)\n",
    "display(data[data['balcony'].isna()].head(5))"
   ]
  },
  {
   "cell_type": "markdown",
   "metadata": {},
   "source": [
    "5. Рассмотрим столбец 'is_apartment'. Отсутствующие в данном столбце значения скорее всего говорят о том, что в данных объявлениях, квартиры не являются апартаментами. Заменим пропущенные значения на False."
   ]
  },
  {
   "cell_type": "code",
   "execution_count": 836,
   "metadata": {},
   "outputs": [
    {
     "data": {
      "text/html": [
       "<div>\n",
       "<style scoped>\n",
       "    .dataframe tbody tr th:only-of-type {\n",
       "        vertical-align: middle;\n",
       "    }\n",
       "\n",
       "    .dataframe tbody tr th {\n",
       "        vertical-align: top;\n",
       "    }\n",
       "\n",
       "    .dataframe thead th {\n",
       "        text-align: right;\n",
       "    }\n",
       "</style>\n",
       "<table border=\"1\" class=\"dataframe\">\n",
       "  <thead>\n",
       "    <tr style=\"text-align: right;\">\n",
       "      <th></th>\n",
       "      <th>total_images</th>\n",
       "      <th>last_price</th>\n",
       "      <th>total_area</th>\n",
       "      <th>first_day_exposition</th>\n",
       "      <th>rooms</th>\n",
       "      <th>ceiling_height</th>\n",
       "      <th>floors_total</th>\n",
       "      <th>living_area</th>\n",
       "      <th>floor</th>\n",
       "      <th>is_apartment</th>\n",
       "      <th>...</th>\n",
       "      <th>kitchen_area</th>\n",
       "      <th>balcony</th>\n",
       "      <th>locality_name</th>\n",
       "      <th>airports_nearest</th>\n",
       "      <th>city_centers_nearest</th>\n",
       "      <th>parks_around_3000</th>\n",
       "      <th>parks_nearest</th>\n",
       "      <th>ponds_around_3000</th>\n",
       "      <th>ponds_nearest</th>\n",
       "      <th>days_exposition</th>\n",
       "    </tr>\n",
       "  </thead>\n",
       "  <tbody>\n",
       "  </tbody>\n",
       "</table>\n",
       "<p>0 rows × 22 columns</p>\n",
       "</div>"
      ],
      "text/plain": [
       "Empty DataFrame\n",
       "Columns: [total_images, last_price, total_area, first_day_exposition, rooms, ceiling_height, floors_total, living_area, floor, is_apartment, studio, open_plan, kitchen_area, balcony, locality_name, airports_nearest, city_centers_nearest, parks_around_3000, parks_nearest, ponds_around_3000, ponds_nearest, days_exposition]\n",
       "Index: []\n",
       "\n",
       "[0 rows x 22 columns]"
      ]
     },
     "metadata": {},
     "output_type": "display_data"
    }
   ],
   "source": [
    "data['is_apartment'] = data['is_apartment'].fillna(False)\n",
    "display(data[data['is_apartment'].isna()].head(5))"
   ]
  },
  {
   "cell_type": "markdown",
   "metadata": {},
   "source": [
    "6. Рассмотрим столбец с датой публикации 'first_day_exposition'. Дата в формате `2019-03-07T00:00:00`. Приведем данные к стандартному виду."
   ]
  },
  {
   "cell_type": "code",
   "execution_count": 837,
   "metadata": {},
   "outputs": [],
   "source": [
    "data['first_day_exposition'] = pd.to_datetime(data['first_day_exposition'], format = '%Y-%m-%dT%H:%M:%S')"
   ]
  },
  {
   "cell_type": "code",
   "execution_count": 838,
   "metadata": {},
   "outputs": [
    {
     "data": {
      "text/html": [
       "<div>\n",
       "<style scoped>\n",
       "    .dataframe tbody tr th:only-of-type {\n",
       "        vertical-align: middle;\n",
       "    }\n",
       "\n",
       "    .dataframe tbody tr th {\n",
       "        vertical-align: top;\n",
       "    }\n",
       "\n",
       "    .dataframe thead th {\n",
       "        text-align: right;\n",
       "    }\n",
       "</style>\n",
       "<table border=\"1\" class=\"dataframe\">\n",
       "  <thead>\n",
       "    <tr style=\"text-align: right;\">\n",
       "      <th></th>\n",
       "      <th>total_images</th>\n",
       "      <th>last_price</th>\n",
       "      <th>total_area</th>\n",
       "      <th>first_day_exposition</th>\n",
       "      <th>rooms</th>\n",
       "      <th>ceiling_height</th>\n",
       "      <th>floors_total</th>\n",
       "      <th>living_area</th>\n",
       "      <th>floor</th>\n",
       "      <th>is_apartment</th>\n",
       "      <th>...</th>\n",
       "      <th>kitchen_area</th>\n",
       "      <th>balcony</th>\n",
       "      <th>locality_name</th>\n",
       "      <th>airports_nearest</th>\n",
       "      <th>city_centers_nearest</th>\n",
       "      <th>parks_around_3000</th>\n",
       "      <th>parks_nearest</th>\n",
       "      <th>ponds_around_3000</th>\n",
       "      <th>ponds_nearest</th>\n",
       "      <th>days_exposition</th>\n",
       "    </tr>\n",
       "  </thead>\n",
       "  <tbody>\n",
       "    <tr>\n",
       "      <td>0</td>\n",
       "      <td>20</td>\n",
       "      <td>13000000.0</td>\n",
       "      <td>108.0</td>\n",
       "      <td>2019-03-07</td>\n",
       "      <td>3</td>\n",
       "      <td>2.70</td>\n",
       "      <td>16.0</td>\n",
       "      <td>51.0</td>\n",
       "      <td>8</td>\n",
       "      <td>False</td>\n",
       "      <td>...</td>\n",
       "      <td>25.0</td>\n",
       "      <td>0.0</td>\n",
       "      <td>Санкт-Петербург</td>\n",
       "      <td>18863.0</td>\n",
       "      <td>16028.0</td>\n",
       "      <td>1.0</td>\n",
       "      <td>482.0</td>\n",
       "      <td>2.0</td>\n",
       "      <td>755.0</td>\n",
       "      <td>NaN</td>\n",
       "    </tr>\n",
       "    <tr>\n",
       "      <td>1</td>\n",
       "      <td>7</td>\n",
       "      <td>3350000.0</td>\n",
       "      <td>40.4</td>\n",
       "      <td>2018-12-04</td>\n",
       "      <td>1</td>\n",
       "      <td>NaN</td>\n",
       "      <td>11.0</td>\n",
       "      <td>18.6</td>\n",
       "      <td>1</td>\n",
       "      <td>False</td>\n",
       "      <td>...</td>\n",
       "      <td>11.0</td>\n",
       "      <td>2.0</td>\n",
       "      <td>посёлок Шушары</td>\n",
       "      <td>12817.0</td>\n",
       "      <td>18603.0</td>\n",
       "      <td>0.0</td>\n",
       "      <td>NaN</td>\n",
       "      <td>0.0</td>\n",
       "      <td>NaN</td>\n",
       "      <td>81.0</td>\n",
       "    </tr>\n",
       "    <tr>\n",
       "      <td>2</td>\n",
       "      <td>10</td>\n",
       "      <td>5196000.0</td>\n",
       "      <td>56.0</td>\n",
       "      <td>2015-08-20</td>\n",
       "      <td>2</td>\n",
       "      <td>NaN</td>\n",
       "      <td>5.0</td>\n",
       "      <td>34.3</td>\n",
       "      <td>4</td>\n",
       "      <td>False</td>\n",
       "      <td>...</td>\n",
       "      <td>8.3</td>\n",
       "      <td>0.0</td>\n",
       "      <td>Санкт-Петербург</td>\n",
       "      <td>21741.0</td>\n",
       "      <td>13933.0</td>\n",
       "      <td>1.0</td>\n",
       "      <td>90.0</td>\n",
       "      <td>2.0</td>\n",
       "      <td>574.0</td>\n",
       "      <td>558.0</td>\n",
       "    </tr>\n",
       "    <tr>\n",
       "      <td>3</td>\n",
       "      <td>0</td>\n",
       "      <td>64900000.0</td>\n",
       "      <td>159.0</td>\n",
       "      <td>2015-07-24</td>\n",
       "      <td>3</td>\n",
       "      <td>NaN</td>\n",
       "      <td>14.0</td>\n",
       "      <td>NaN</td>\n",
       "      <td>9</td>\n",
       "      <td>False</td>\n",
       "      <td>...</td>\n",
       "      <td>NaN</td>\n",
       "      <td>0.0</td>\n",
       "      <td>Санкт-Петербург</td>\n",
       "      <td>28098.0</td>\n",
       "      <td>6800.0</td>\n",
       "      <td>2.0</td>\n",
       "      <td>84.0</td>\n",
       "      <td>3.0</td>\n",
       "      <td>234.0</td>\n",
       "      <td>424.0</td>\n",
       "    </tr>\n",
       "    <tr>\n",
       "      <td>4</td>\n",
       "      <td>2</td>\n",
       "      <td>10000000.0</td>\n",
       "      <td>100.0</td>\n",
       "      <td>2018-06-19</td>\n",
       "      <td>2</td>\n",
       "      <td>3.03</td>\n",
       "      <td>14.0</td>\n",
       "      <td>32.0</td>\n",
       "      <td>13</td>\n",
       "      <td>False</td>\n",
       "      <td>...</td>\n",
       "      <td>41.0</td>\n",
       "      <td>0.0</td>\n",
       "      <td>Санкт-Петербург</td>\n",
       "      <td>31856.0</td>\n",
       "      <td>8098.0</td>\n",
       "      <td>2.0</td>\n",
       "      <td>112.0</td>\n",
       "      <td>1.0</td>\n",
       "      <td>48.0</td>\n",
       "      <td>121.0</td>\n",
       "    </tr>\n",
       "  </tbody>\n",
       "</table>\n",
       "<p>5 rows × 22 columns</p>\n",
       "</div>"
      ],
      "text/plain": [
       "   total_images  last_price  total_area first_day_exposition  rooms  \\\n",
       "0            20  13000000.0       108.0           2019-03-07      3   \n",
       "1             7   3350000.0        40.4           2018-12-04      1   \n",
       "2            10   5196000.0        56.0           2015-08-20      2   \n",
       "3             0  64900000.0       159.0           2015-07-24      3   \n",
       "4             2  10000000.0       100.0           2018-06-19      2   \n",
       "\n",
       "   ceiling_height  floors_total  living_area  floor  is_apartment  ...  \\\n",
       "0            2.70          16.0         51.0      8         False  ...   \n",
       "1             NaN          11.0         18.6      1         False  ...   \n",
       "2             NaN           5.0         34.3      4         False  ...   \n",
       "3             NaN          14.0          NaN      9         False  ...   \n",
       "4            3.03          14.0         32.0     13         False  ...   \n",
       "\n",
       "   kitchen_area  balcony    locality_name  airports_nearest  \\\n",
       "0          25.0      0.0  Санкт-Петербург           18863.0   \n",
       "1          11.0      2.0   посёлок Шушары           12817.0   \n",
       "2           8.3      0.0  Санкт-Петербург           21741.0   \n",
       "3           NaN      0.0  Санкт-Петербург           28098.0   \n",
       "4          41.0      0.0  Санкт-Петербург           31856.0   \n",
       "\n",
       "  city_centers_nearest  parks_around_3000  parks_nearest  ponds_around_3000  \\\n",
       "0              16028.0                1.0          482.0                2.0   \n",
       "1              18603.0                0.0            NaN                0.0   \n",
       "2              13933.0                1.0           90.0                2.0   \n",
       "3               6800.0                2.0           84.0                3.0   \n",
       "4               8098.0                2.0          112.0                1.0   \n",
       "\n",
       "   ponds_nearest  days_exposition  \n",
       "0          755.0              NaN  \n",
       "1            NaN             81.0  \n",
       "2          574.0            558.0  \n",
       "3          234.0            424.0  \n",
       "4           48.0            121.0  \n",
       "\n",
       "[5 rows x 22 columns]"
      ]
     },
     "execution_count": 838,
     "metadata": {},
     "output_type": "execute_result"
    }
   ],
   "source": [
    "data.head(5)"
   ]
  },
  {
   "cell_type": "markdown",
   "metadata": {},
   "source": [
    "7. Рассмотрим столбец 'days_exposition' — сколько дней было размещено объявление (от публикации до снятия). В данном столбце имееются пропуски. Заменим пропущенные данные на медианные."
   ]
  },
  {
   "cell_type": "code",
   "execution_count": 839,
   "metadata": {},
   "outputs": [],
   "source": [
    "#заполним пропуски в столбце 'days_exposition' с помощью метода fillna() на медианные\n",
    "data['days_exposition'] = data['days_exposition'].fillna(data['days_exposition'].median())\n"
   ]
  },
  {
   "cell_type": "markdown",
   "metadata": {},
   "source": [
    "8. Добавим новые столбцы со значения в столбцах city_centers_nearest, airports_nearest, ponds_nearest, parks_nearest в километрах.\n"
   ]
  },
  {
   "cell_type": "code",
   "execution_count": 840,
   "metadata": {},
   "outputs": [],
   "source": [
    "data['city_centers_nearest_km'] = (data['city_centers_nearest']/1000).round()\n",
    "data['airports_nearest_km'] = (data['airports_nearest']/1000).round()\n",
    "data['ponds_nearest_km'] = (data['ponds_nearest']/1000).round()\n",
    "data['parks_nearest_km'] = (data['parks_nearest']/1000).round()\n",
    "\n",
    "#добавили столбцы в км, округлили значения"
   ]
  },
  {
   "cell_type": "code",
   "execution_count": 841,
   "metadata": {},
   "outputs": [
    {
     "data": {
      "text/html": [
       "<div>\n",
       "<style scoped>\n",
       "    .dataframe tbody tr th:only-of-type {\n",
       "        vertical-align: middle;\n",
       "    }\n",
       "\n",
       "    .dataframe tbody tr th {\n",
       "        vertical-align: top;\n",
       "    }\n",
       "\n",
       "    .dataframe thead th {\n",
       "        text-align: right;\n",
       "    }\n",
       "</style>\n",
       "<table border=\"1\" class=\"dataframe\">\n",
       "  <thead>\n",
       "    <tr style=\"text-align: right;\">\n",
       "      <th></th>\n",
       "      <th>total_images</th>\n",
       "      <th>last_price</th>\n",
       "      <th>total_area</th>\n",
       "      <th>first_day_exposition</th>\n",
       "      <th>rooms</th>\n",
       "      <th>ceiling_height</th>\n",
       "      <th>floors_total</th>\n",
       "      <th>living_area</th>\n",
       "      <th>floor</th>\n",
       "      <th>is_apartment</th>\n",
       "      <th>...</th>\n",
       "      <th>city_centers_nearest</th>\n",
       "      <th>parks_around_3000</th>\n",
       "      <th>parks_nearest</th>\n",
       "      <th>ponds_around_3000</th>\n",
       "      <th>ponds_nearest</th>\n",
       "      <th>days_exposition</th>\n",
       "      <th>city_centers_nearest_km</th>\n",
       "      <th>airports_nearest_km</th>\n",
       "      <th>ponds_nearest_km</th>\n",
       "      <th>parks_nearest_km</th>\n",
       "    </tr>\n",
       "  </thead>\n",
       "  <tbody>\n",
       "    <tr>\n",
       "      <td>0</td>\n",
       "      <td>20</td>\n",
       "      <td>13000000.0</td>\n",
       "      <td>108.0</td>\n",
       "      <td>2019-03-07</td>\n",
       "      <td>3</td>\n",
       "      <td>2.70</td>\n",
       "      <td>16.0</td>\n",
       "      <td>51.0</td>\n",
       "      <td>8</td>\n",
       "      <td>False</td>\n",
       "      <td>...</td>\n",
       "      <td>16028.0</td>\n",
       "      <td>1.0</td>\n",
       "      <td>482.0</td>\n",
       "      <td>2.0</td>\n",
       "      <td>755.0</td>\n",
       "      <td>95.0</td>\n",
       "      <td>16.0</td>\n",
       "      <td>19.0</td>\n",
       "      <td>1.0</td>\n",
       "      <td>0.0</td>\n",
       "    </tr>\n",
       "    <tr>\n",
       "      <td>1</td>\n",
       "      <td>7</td>\n",
       "      <td>3350000.0</td>\n",
       "      <td>40.4</td>\n",
       "      <td>2018-12-04</td>\n",
       "      <td>1</td>\n",
       "      <td>NaN</td>\n",
       "      <td>11.0</td>\n",
       "      <td>18.6</td>\n",
       "      <td>1</td>\n",
       "      <td>False</td>\n",
       "      <td>...</td>\n",
       "      <td>18603.0</td>\n",
       "      <td>0.0</td>\n",
       "      <td>NaN</td>\n",
       "      <td>0.0</td>\n",
       "      <td>NaN</td>\n",
       "      <td>81.0</td>\n",
       "      <td>19.0</td>\n",
       "      <td>13.0</td>\n",
       "      <td>NaN</td>\n",
       "      <td>NaN</td>\n",
       "    </tr>\n",
       "    <tr>\n",
       "      <td>2</td>\n",
       "      <td>10</td>\n",
       "      <td>5196000.0</td>\n",
       "      <td>56.0</td>\n",
       "      <td>2015-08-20</td>\n",
       "      <td>2</td>\n",
       "      <td>NaN</td>\n",
       "      <td>5.0</td>\n",
       "      <td>34.3</td>\n",
       "      <td>4</td>\n",
       "      <td>False</td>\n",
       "      <td>...</td>\n",
       "      <td>13933.0</td>\n",
       "      <td>1.0</td>\n",
       "      <td>90.0</td>\n",
       "      <td>2.0</td>\n",
       "      <td>574.0</td>\n",
       "      <td>558.0</td>\n",
       "      <td>14.0</td>\n",
       "      <td>22.0</td>\n",
       "      <td>1.0</td>\n",
       "      <td>0.0</td>\n",
       "    </tr>\n",
       "    <tr>\n",
       "      <td>3</td>\n",
       "      <td>0</td>\n",
       "      <td>64900000.0</td>\n",
       "      <td>159.0</td>\n",
       "      <td>2015-07-24</td>\n",
       "      <td>3</td>\n",
       "      <td>NaN</td>\n",
       "      <td>14.0</td>\n",
       "      <td>NaN</td>\n",
       "      <td>9</td>\n",
       "      <td>False</td>\n",
       "      <td>...</td>\n",
       "      <td>6800.0</td>\n",
       "      <td>2.0</td>\n",
       "      <td>84.0</td>\n",
       "      <td>3.0</td>\n",
       "      <td>234.0</td>\n",
       "      <td>424.0</td>\n",
       "      <td>7.0</td>\n",
       "      <td>28.0</td>\n",
       "      <td>0.0</td>\n",
       "      <td>0.0</td>\n",
       "    </tr>\n",
       "    <tr>\n",
       "      <td>4</td>\n",
       "      <td>2</td>\n",
       "      <td>10000000.0</td>\n",
       "      <td>100.0</td>\n",
       "      <td>2018-06-19</td>\n",
       "      <td>2</td>\n",
       "      <td>3.03</td>\n",
       "      <td>14.0</td>\n",
       "      <td>32.0</td>\n",
       "      <td>13</td>\n",
       "      <td>False</td>\n",
       "      <td>...</td>\n",
       "      <td>8098.0</td>\n",
       "      <td>2.0</td>\n",
       "      <td>112.0</td>\n",
       "      <td>1.0</td>\n",
       "      <td>48.0</td>\n",
       "      <td>121.0</td>\n",
       "      <td>8.0</td>\n",
       "      <td>32.0</td>\n",
       "      <td>0.0</td>\n",
       "      <td>0.0</td>\n",
       "    </tr>\n",
       "  </tbody>\n",
       "</table>\n",
       "<p>5 rows × 26 columns</p>\n",
       "</div>"
      ],
      "text/plain": [
       "   total_images  last_price  total_area first_day_exposition  rooms  \\\n",
       "0            20  13000000.0       108.0           2019-03-07      3   \n",
       "1             7   3350000.0        40.4           2018-12-04      1   \n",
       "2            10   5196000.0        56.0           2015-08-20      2   \n",
       "3             0  64900000.0       159.0           2015-07-24      3   \n",
       "4             2  10000000.0       100.0           2018-06-19      2   \n",
       "\n",
       "   ceiling_height  floors_total  living_area  floor  is_apartment  ...  \\\n",
       "0            2.70          16.0         51.0      8         False  ...   \n",
       "1             NaN          11.0         18.6      1         False  ...   \n",
       "2             NaN           5.0         34.3      4         False  ...   \n",
       "3             NaN          14.0          NaN      9         False  ...   \n",
       "4            3.03          14.0         32.0     13         False  ...   \n",
       "\n",
       "   city_centers_nearest  parks_around_3000  parks_nearest  ponds_around_3000  \\\n",
       "0               16028.0                1.0          482.0                2.0   \n",
       "1               18603.0                0.0            NaN                0.0   \n",
       "2               13933.0                1.0           90.0                2.0   \n",
       "3                6800.0                2.0           84.0                3.0   \n",
       "4                8098.0                2.0          112.0                1.0   \n",
       "\n",
       "  ponds_nearest  days_exposition  city_centers_nearest_km  \\\n",
       "0         755.0             95.0                     16.0   \n",
       "1           NaN             81.0                     19.0   \n",
       "2         574.0            558.0                     14.0   \n",
       "3         234.0            424.0                      7.0   \n",
       "4          48.0            121.0                      8.0   \n",
       "\n",
       "   airports_nearest_km  ponds_nearest_km  parks_nearest_km  \n",
       "0                 19.0               1.0               0.0  \n",
       "1                 13.0               NaN               NaN  \n",
       "2                 22.0               1.0               0.0  \n",
       "3                 28.0               0.0               0.0  \n",
       "4                 32.0               0.0               0.0  \n",
       "\n",
       "[5 rows x 26 columns]"
      ]
     },
     "metadata": {},
     "output_type": "display_data"
    }
   ],
   "source": [
    "display(data.head(5))"
   ]
  },
  {
   "cell_type": "markdown",
   "metadata": {},
   "source": [
    "9. Заменим тип данных в столбце с количеством балконов а также с количеством дней размещения публикации. "
   ]
  },
  {
   "cell_type": "code",
   "execution_count": 842,
   "metadata": {},
   "outputs": [
    {
     "name": "stdout",
     "output_type": "stream",
     "text": [
      "<class 'pandas.core.frame.DataFrame'>\n",
      "Int64Index: 23650 entries, 0 to 23698\n",
      "Data columns (total 26 columns):\n",
      "total_images               23650 non-null int64\n",
      "last_price                 23650 non-null float64\n",
      "total_area                 23650 non-null float64\n",
      "first_day_exposition       23650 non-null datetime64[ns]\n",
      "rooms                      23650 non-null int64\n",
      "ceiling_height             14490 non-null float64\n",
      "floors_total               23565 non-null float64\n",
      "living_area                21752 non-null float64\n",
      "floor                      23650 non-null int64\n",
      "is_apartment               23650 non-null bool\n",
      "studio                     23650 non-null bool\n",
      "open_plan                  23650 non-null bool\n",
      "kitchen_area               21381 non-null float64\n",
      "balcony                    23650 non-null float64\n",
      "locality_name              23650 non-null object\n",
      "airports_nearest           18116 non-null float64\n",
      "city_centers_nearest       18139 non-null float64\n",
      "parks_around_3000          18140 non-null float64\n",
      "parks_nearest              8064 non-null float64\n",
      "ponds_around_3000          18140 non-null float64\n",
      "ponds_nearest              9085 non-null float64\n",
      "days_exposition            23650 non-null float64\n",
      "city_centers_nearest_km    18139 non-null float64\n",
      "airports_nearest_km        18116 non-null float64\n",
      "ponds_nearest_km           9085 non-null float64\n",
      "parks_nearest_km           8064 non-null float64\n",
      "dtypes: bool(3), datetime64[ns](1), float64(18), int64(3), object(1)\n",
      "memory usage: 4.4+ MB\n"
     ]
    }
   ],
   "source": [
    "data.info()"
   ]
  },
  {
   "cell_type": "code",
   "execution_count": 843,
   "metadata": {},
   "outputs": [],
   "source": [
    "data = data.astype({'balcony': 'int8',\n",
    "                    'days_exposition': 'int32',\n",
    "                    'total_images': 'int8',\n",
    "                    'rooms': 'int8',\n",
    "                    'ceiling_height': 'float16'})"
   ]
  },
  {
   "cell_type": "code",
   "execution_count": 844,
   "metadata": {},
   "outputs": [
    {
     "name": "stdout",
     "output_type": "stream",
     "text": [
      "<class 'pandas.core.frame.DataFrame'>\n",
      "Int64Index: 23650 entries, 0 to 23698\n",
      "Data columns (total 26 columns):\n",
      "total_images               23650 non-null int8\n",
      "last_price                 23650 non-null float64\n",
      "total_area                 23650 non-null float64\n",
      "first_day_exposition       23650 non-null datetime64[ns]\n",
      "rooms                      23650 non-null int8\n",
      "ceiling_height             14490 non-null float16\n",
      "floors_total               23565 non-null float64\n",
      "living_area                21752 non-null float64\n",
      "floor                      23650 non-null int64\n",
      "is_apartment               23650 non-null bool\n",
      "studio                     23650 non-null bool\n",
      "open_plan                  23650 non-null bool\n",
      "kitchen_area               21381 non-null float64\n",
      "balcony                    23650 non-null int8\n",
      "locality_name              23650 non-null object\n",
      "airports_nearest           18116 non-null float64\n",
      "city_centers_nearest       18139 non-null float64\n",
      "parks_around_3000          18140 non-null float64\n",
      "parks_nearest              8064 non-null float64\n",
      "ponds_around_3000          18140 non-null float64\n",
      "ponds_nearest              9085 non-null float64\n",
      "days_exposition            23650 non-null int32\n",
      "city_centers_nearest_km    18139 non-null float64\n",
      "airports_nearest_km        18116 non-null float64\n",
      "ponds_nearest_km           9085 non-null float64\n",
      "parks_nearest_km           8064 non-null float64\n",
      "dtypes: bool(3), datetime64[ns](1), float16(1), float64(15), int32(1), int64(1), int8(3), object(1)\n",
      "memory usage: 3.7+ MB\n"
     ]
    }
   ],
   "source": [
    "data.info()"
   ]
  },
  {
   "cell_type": "markdown",
   "metadata": {},
   "source": [
    "### Вывод"
   ]
  },
  {
   "cell_type": "markdown",
   "metadata": {},
   "source": [
    "Мы исправили названия колонок, заменили/удалили значения из выборки, где это было релевантно. Привели данные к нужному типу."
   ]
  },
  {
   "cell_type": "markdown",
   "metadata": {},
   "source": [
    "## Расчёты и добавление результатов в таблицу"
   ]
  },
  {
   "cell_type": "markdown",
   "metadata": {},
   "source": [
    "1. Рассчитаем цену квадратного метра."
   ]
  },
  {
   "cell_type": "code",
   "execution_count": 845,
   "metadata": {},
   "outputs": [],
   "source": [
    "data['sq_metres_price'] = data['last_price']/data['total_area']\n",
    "data['sq_metres_price'] = data['sq_metres_price'].round(3)"
   ]
  },
  {
   "cell_type": "markdown",
   "metadata": {},
   "source": [
    "2. Добавим столбцы с днем недели, месяцем и годом побликации."
   ]
  },
  {
   "cell_type": "code",
   "execution_count": 846,
   "metadata": {},
   "outputs": [],
   "source": [
    "data['type_day_exposition'] = data['first_day_exposition'].dt.weekday\n",
    "data['type_month_exposition'] = data['first_day_exposition'].dt.month\n",
    "data['type_year_exposition'] = data['first_day_exposition'].dt.year\n"
   ]
  },
  {
   "cell_type": "code",
   "execution_count": 847,
   "metadata": {},
   "outputs": [
    {
     "name": "stdout",
     "output_type": "stream",
     "text": [
      "<class 'pandas.core.frame.DataFrame'>\n",
      "Int64Index: 23650 entries, 0 to 23698\n",
      "Data columns (total 30 columns):\n",
      "total_images               23650 non-null int8\n",
      "last_price                 23650 non-null float64\n",
      "total_area                 23650 non-null float64\n",
      "first_day_exposition       23650 non-null datetime64[ns]\n",
      "rooms                      23650 non-null int8\n",
      "ceiling_height             14490 non-null float16\n",
      "floors_total               23565 non-null float64\n",
      "living_area                21752 non-null float64\n",
      "floor                      23650 non-null int64\n",
      "is_apartment               23650 non-null bool\n",
      "studio                     23650 non-null bool\n",
      "open_plan                  23650 non-null bool\n",
      "kitchen_area               21381 non-null float64\n",
      "balcony                    23650 non-null int8\n",
      "locality_name              23650 non-null object\n",
      "airports_nearest           18116 non-null float64\n",
      "city_centers_nearest       18139 non-null float64\n",
      "parks_around_3000          18140 non-null float64\n",
      "parks_nearest              8064 non-null float64\n",
      "ponds_around_3000          18140 non-null float64\n",
      "ponds_nearest              9085 non-null float64\n",
      "days_exposition            23650 non-null int32\n",
      "city_centers_nearest_km    18139 non-null float64\n",
      "airports_nearest_km        18116 non-null float64\n",
      "ponds_nearest_km           9085 non-null float64\n",
      "parks_nearest_km           8064 non-null float64\n",
      "sq_metres_price            23650 non-null float64\n",
      "type_day_exposition        23650 non-null int64\n",
      "type_month_exposition      23650 non-null int64\n",
      "type_year_exposition       23650 non-null int64\n",
      "dtypes: bool(3), datetime64[ns](1), float16(1), float64(16), int32(1), int64(4), int8(3), object(1)\n",
      "memory usage: 4.4+ MB\n"
     ]
    }
   ],
   "source": [
    "data.info()"
   ]
  },
  {
   "cell_type": "markdown",
   "metadata": {},
   "source": [
    "3. Добавим столбец с градацией по этажам: первый, последний, другой."
   ]
  },
  {
   "cell_type": "code",
   "execution_count": 848,
   "metadata": {},
   "outputs": [],
   "source": [
    "def floor_group(row):\n",
    "    floor = row['floor']\n",
    "    total_floor = row['floors_total']\n",
    "    if floor == 1:\n",
    "        return 'первый'\n",
    "    elif floor == total_floor:\n",
    "        return 'последний'\n",
    "    else:\n",
    "        return 'другой'\n",
    "\n",
    "data['floor_group'] = data.apply(floor_group, axis=1)"
   ]
  },
  {
   "cell_type": "markdown",
   "metadata": {},
   "source": [
    "4. Рассчитаем соотношение жилой и общей площади, а также отношение площади кухни к общей."
   ]
  },
  {
   "cell_type": "code",
   "execution_count": 849,
   "metadata": {},
   "outputs": [],
   "source": [
    "data['living_area_ratio'] = data['living_area'] / data['total_area']\n",
    "data['living_area_ratio'] = data['living_area_ratio'].round(3)\n",
    "data['kitchen_area_ratio'] = data['kitchen_area'] / data['total_area']\n",
    "data['kitchen_area_ratio'] = data['kitchen_area_ratio'].round(3)"
   ]
  },
  {
   "cell_type": "code",
   "execution_count": 850,
   "metadata": {},
   "outputs": [
    {
     "data": {
      "text/html": [
       "<div>\n",
       "<style scoped>\n",
       "    .dataframe tbody tr th:only-of-type {\n",
       "        vertical-align: middle;\n",
       "    }\n",
       "\n",
       "    .dataframe tbody tr th {\n",
       "        vertical-align: top;\n",
       "    }\n",
       "\n",
       "    .dataframe thead th {\n",
       "        text-align: right;\n",
       "    }\n",
       "</style>\n",
       "<table border=\"1\" class=\"dataframe\">\n",
       "  <thead>\n",
       "    <tr style=\"text-align: right;\">\n",
       "      <th></th>\n",
       "      <th>total_images</th>\n",
       "      <th>last_price</th>\n",
       "      <th>total_area</th>\n",
       "      <th>first_day_exposition</th>\n",
       "      <th>rooms</th>\n",
       "      <th>ceiling_height</th>\n",
       "      <th>floors_total</th>\n",
       "      <th>living_area</th>\n",
       "      <th>floor</th>\n",
       "      <th>is_apartment</th>\n",
       "      <th>...</th>\n",
       "      <th>airports_nearest_km</th>\n",
       "      <th>ponds_nearest_km</th>\n",
       "      <th>parks_nearest_km</th>\n",
       "      <th>sq_metres_price</th>\n",
       "      <th>type_day_exposition</th>\n",
       "      <th>type_month_exposition</th>\n",
       "      <th>type_year_exposition</th>\n",
       "      <th>floor_group</th>\n",
       "      <th>living_area_ratio</th>\n",
       "      <th>kitchen_area_ratio</th>\n",
       "    </tr>\n",
       "  </thead>\n",
       "  <tbody>\n",
       "    <tr>\n",
       "      <td>0</td>\n",
       "      <td>20</td>\n",
       "      <td>13000000.0</td>\n",
       "      <td>108.0</td>\n",
       "      <td>2019-03-07</td>\n",
       "      <td>3</td>\n",
       "      <td>2.699219</td>\n",
       "      <td>16.0</td>\n",
       "      <td>51.0</td>\n",
       "      <td>8</td>\n",
       "      <td>False</td>\n",
       "      <td>...</td>\n",
       "      <td>19.0</td>\n",
       "      <td>1.0</td>\n",
       "      <td>0.0</td>\n",
       "      <td>120370.370</td>\n",
       "      <td>3</td>\n",
       "      <td>3</td>\n",
       "      <td>2019</td>\n",
       "      <td>другой</td>\n",
       "      <td>0.472</td>\n",
       "      <td>0.231</td>\n",
       "    </tr>\n",
       "    <tr>\n",
       "      <td>1</td>\n",
       "      <td>7</td>\n",
       "      <td>3350000.0</td>\n",
       "      <td>40.4</td>\n",
       "      <td>2018-12-04</td>\n",
       "      <td>1</td>\n",
       "      <td>NaN</td>\n",
       "      <td>11.0</td>\n",
       "      <td>18.6</td>\n",
       "      <td>1</td>\n",
       "      <td>False</td>\n",
       "      <td>...</td>\n",
       "      <td>13.0</td>\n",
       "      <td>NaN</td>\n",
       "      <td>NaN</td>\n",
       "      <td>82920.792</td>\n",
       "      <td>1</td>\n",
       "      <td>12</td>\n",
       "      <td>2018</td>\n",
       "      <td>первый</td>\n",
       "      <td>0.460</td>\n",
       "      <td>0.272</td>\n",
       "    </tr>\n",
       "    <tr>\n",
       "      <td>2</td>\n",
       "      <td>10</td>\n",
       "      <td>5196000.0</td>\n",
       "      <td>56.0</td>\n",
       "      <td>2015-08-20</td>\n",
       "      <td>2</td>\n",
       "      <td>NaN</td>\n",
       "      <td>5.0</td>\n",
       "      <td>34.3</td>\n",
       "      <td>4</td>\n",
       "      <td>False</td>\n",
       "      <td>...</td>\n",
       "      <td>22.0</td>\n",
       "      <td>1.0</td>\n",
       "      <td>0.0</td>\n",
       "      <td>92785.714</td>\n",
       "      <td>3</td>\n",
       "      <td>8</td>\n",
       "      <td>2015</td>\n",
       "      <td>другой</td>\n",
       "      <td>0.612</td>\n",
       "      <td>0.148</td>\n",
       "    </tr>\n",
       "    <tr>\n",
       "      <td>3</td>\n",
       "      <td>0</td>\n",
       "      <td>64900000.0</td>\n",
       "      <td>159.0</td>\n",
       "      <td>2015-07-24</td>\n",
       "      <td>3</td>\n",
       "      <td>NaN</td>\n",
       "      <td>14.0</td>\n",
       "      <td>NaN</td>\n",
       "      <td>9</td>\n",
       "      <td>False</td>\n",
       "      <td>...</td>\n",
       "      <td>28.0</td>\n",
       "      <td>0.0</td>\n",
       "      <td>0.0</td>\n",
       "      <td>408176.101</td>\n",
       "      <td>4</td>\n",
       "      <td>7</td>\n",
       "      <td>2015</td>\n",
       "      <td>другой</td>\n",
       "      <td>NaN</td>\n",
       "      <td>NaN</td>\n",
       "    </tr>\n",
       "    <tr>\n",
       "      <td>4</td>\n",
       "      <td>2</td>\n",
       "      <td>10000000.0</td>\n",
       "      <td>100.0</td>\n",
       "      <td>2018-06-19</td>\n",
       "      <td>2</td>\n",
       "      <td>3.029297</td>\n",
       "      <td>14.0</td>\n",
       "      <td>32.0</td>\n",
       "      <td>13</td>\n",
       "      <td>False</td>\n",
       "      <td>...</td>\n",
       "      <td>32.0</td>\n",
       "      <td>0.0</td>\n",
       "      <td>0.0</td>\n",
       "      <td>100000.000</td>\n",
       "      <td>1</td>\n",
       "      <td>6</td>\n",
       "      <td>2018</td>\n",
       "      <td>другой</td>\n",
       "      <td>0.320</td>\n",
       "      <td>0.410</td>\n",
       "    </tr>\n",
       "  </tbody>\n",
       "</table>\n",
       "<p>5 rows × 33 columns</p>\n",
       "</div>"
      ],
      "text/plain": [
       "   total_images  last_price  total_area first_day_exposition  rooms  \\\n",
       "0            20  13000000.0       108.0           2019-03-07      3   \n",
       "1             7   3350000.0        40.4           2018-12-04      1   \n",
       "2            10   5196000.0        56.0           2015-08-20      2   \n",
       "3             0  64900000.0       159.0           2015-07-24      3   \n",
       "4             2  10000000.0       100.0           2018-06-19      2   \n",
       "\n",
       "   ceiling_height  floors_total  living_area  floor  is_apartment  ...  \\\n",
       "0        2.699219          16.0         51.0      8         False  ...   \n",
       "1             NaN          11.0         18.6      1         False  ...   \n",
       "2             NaN           5.0         34.3      4         False  ...   \n",
       "3             NaN          14.0          NaN      9         False  ...   \n",
       "4        3.029297          14.0         32.0     13         False  ...   \n",
       "\n",
       "   airports_nearest_km  ponds_nearest_km  parks_nearest_km  sq_metres_price  \\\n",
       "0                 19.0               1.0               0.0       120370.370   \n",
       "1                 13.0               NaN               NaN        82920.792   \n",
       "2                 22.0               1.0               0.0        92785.714   \n",
       "3                 28.0               0.0               0.0       408176.101   \n",
       "4                 32.0               0.0               0.0       100000.000   \n",
       "\n",
       "  type_day_exposition  type_month_exposition  type_year_exposition  \\\n",
       "0                   3                      3                  2019   \n",
       "1                   1                     12                  2018   \n",
       "2                   3                      8                  2015   \n",
       "3                   4                      7                  2015   \n",
       "4                   1                      6                  2018   \n",
       "\n",
       "   floor_group  living_area_ratio  kitchen_area_ratio  \n",
       "0       другой              0.472               0.231  \n",
       "1       первый              0.460               0.272  \n",
       "2       другой              0.612               0.148  \n",
       "3       другой                NaN                 NaN  \n",
       "4       другой              0.320               0.410  \n",
       "\n",
       "[5 rows x 33 columns]"
      ]
     },
     "execution_count": 850,
     "metadata": {},
     "output_type": "execute_result"
    }
   ],
   "source": [
    "data.head(5)"
   ]
  },
  {
   "cell_type": "markdown",
   "metadata": {},
   "source": [
    "### Вывод"
   ]
  },
  {
   "cell_type": "markdown",
   "metadata": {},
   "source": [
    "Мы посчитали и добавили в таблицу следующие параметры: \n",
    "- цена квадратного метра\n",
    "- день недели, месяц и год публикации объявления\n",
    "- этаж квартиры; варианты — первый, последний, другой\n",
    "- соотношение жилой и общей площади, а также отношение площади кухни к общей."
   ]
  },
  {
   "cell_type": "markdown",
   "metadata": {},
   "source": [
    "## Исследовательский анализ данных"
   ]
  },
  {
   "cell_type": "markdown",
   "metadata": {},
   "source": [
    "1. Рассмотрим полученные данные. Из таблицы ниже видим, что имеются необычные объекты, где максимальная площадь равна 900 кв.м., количество комнат - 19, цена за квартиру 763 млн., а высота потолков - 100 м.\tИзучим данные параметры а также построим гистограммы. \n"
   ]
  },
  {
   "cell_type": "code",
   "execution_count": 851,
   "metadata": {},
   "outputs": [
    {
     "data": {
      "text/html": [
       "<div>\n",
       "<style scoped>\n",
       "    .dataframe tbody tr th:only-of-type {\n",
       "        vertical-align: middle;\n",
       "    }\n",
       "\n",
       "    .dataframe tbody tr th {\n",
       "        vertical-align: top;\n",
       "    }\n",
       "\n",
       "    .dataframe thead th {\n",
       "        text-align: right;\n",
       "    }\n",
       "</style>\n",
       "<table border=\"1\" class=\"dataframe\">\n",
       "  <thead>\n",
       "    <tr style=\"text-align: right;\">\n",
       "      <th></th>\n",
       "      <th>total_images</th>\n",
       "      <th>last_price</th>\n",
       "      <th>total_area</th>\n",
       "      <th>rooms</th>\n",
       "      <th>ceiling_height</th>\n",
       "      <th>floors_total</th>\n",
       "      <th>living_area</th>\n",
       "      <th>floor</th>\n",
       "      <th>kitchen_area</th>\n",
       "      <th>balcony</th>\n",
       "      <th>...</th>\n",
       "      <th>city_centers_nearest_km</th>\n",
       "      <th>airports_nearest_km</th>\n",
       "      <th>ponds_nearest_km</th>\n",
       "      <th>parks_nearest_km</th>\n",
       "      <th>sq_metres_price</th>\n",
       "      <th>type_day_exposition</th>\n",
       "      <th>type_month_exposition</th>\n",
       "      <th>type_year_exposition</th>\n",
       "      <th>living_area_ratio</th>\n",
       "      <th>kitchen_area_ratio</th>\n",
       "    </tr>\n",
       "  </thead>\n",
       "  <tbody>\n",
       "    <tr>\n",
       "      <td>count</td>\n",
       "      <td>23650.000000</td>\n",
       "      <td>2.365000e+04</td>\n",
       "      <td>23650.000000</td>\n",
       "      <td>23650.000000</td>\n",
       "      <td>14490.000000</td>\n",
       "      <td>23565.000000</td>\n",
       "      <td>21752.000000</td>\n",
       "      <td>23650.000000</td>\n",
       "      <td>21381.000000</td>\n",
       "      <td>23650.000000</td>\n",
       "      <td>...</td>\n",
       "      <td>18139.000000</td>\n",
       "      <td>18116.000000</td>\n",
       "      <td>9085.000000</td>\n",
       "      <td>8064.000000</td>\n",
       "      <td>2.365000e+04</td>\n",
       "      <td>23650.000000</td>\n",
       "      <td>23650.000000</td>\n",
       "      <td>23650.000000</td>\n",
       "      <td>21752.000000</td>\n",
       "      <td>21381.000000</td>\n",
       "    </tr>\n",
       "    <tr>\n",
       "      <td>mean</td>\n",
       "      <td>9.862326</td>\n",
       "      <td>6.541127e+06</td>\n",
       "      <td>60.329069</td>\n",
       "      <td>2.070106</td>\n",
       "      <td>2.771484</td>\n",
       "      <td>10.675875</td>\n",
       "      <td>34.448356</td>\n",
       "      <td>5.893277</td>\n",
       "      <td>10.566403</td>\n",
       "      <td>0.591712</td>\n",
       "      <td>...</td>\n",
       "      <td>14.191576</td>\n",
       "      <td>28.809229</td>\n",
       "      <td>0.503027</td>\n",
       "      <td>0.441840</td>\n",
       "      <td>9.943225e+04</td>\n",
       "      <td>2.568710</td>\n",
       "      <td>6.401564</td>\n",
       "      <td>2017.370021</td>\n",
       "      <td>0.564748</td>\n",
       "      <td>0.187369</td>\n",
       "    </tr>\n",
       "    <tr>\n",
       "      <td>std</td>\n",
       "      <td>5.682278</td>\n",
       "      <td>1.089640e+07</td>\n",
       "      <td>35.661808</td>\n",
       "      <td>1.078620</td>\n",
       "      <td>1.261719</td>\n",
       "      <td>6.594823</td>\n",
       "      <td>22.037664</td>\n",
       "      <td>4.883317</td>\n",
       "      <td>5.901753</td>\n",
       "      <td>0.959662</td>\n",
       "      <td>...</td>\n",
       "      <td>8.614645</td>\n",
       "      <td>12.639962</td>\n",
       "      <td>0.500018</td>\n",
       "      <td>0.545661</td>\n",
       "      <td>5.033794e+04</td>\n",
       "      <td>1.788808</td>\n",
       "      <td>3.491418</td>\n",
       "      <td>1.037806</td>\n",
       "      <td>0.105388</td>\n",
       "      <td>0.072975</td>\n",
       "    </tr>\n",
       "    <tr>\n",
       "      <td>min</td>\n",
       "      <td>0.000000</td>\n",
       "      <td>1.219000e+04</td>\n",
       "      <td>12.000000</td>\n",
       "      <td>0.000000</td>\n",
       "      <td>1.000000</td>\n",
       "      <td>1.000000</td>\n",
       "      <td>2.000000</td>\n",
       "      <td>1.000000</td>\n",
       "      <td>1.300000</td>\n",
       "      <td>0.000000</td>\n",
       "      <td>...</td>\n",
       "      <td>0.000000</td>\n",
       "      <td>0.000000</td>\n",
       "      <td>0.000000</td>\n",
       "      <td>0.000000</td>\n",
       "      <td>1.118350e+02</td>\n",
       "      <td>0.000000</td>\n",
       "      <td>1.000000</td>\n",
       "      <td>2014.000000</td>\n",
       "      <td>0.022000</td>\n",
       "      <td>0.025000</td>\n",
       "    </tr>\n",
       "    <tr>\n",
       "      <td>25%</td>\n",
       "      <td>6.000000</td>\n",
       "      <td>3.400000e+06</td>\n",
       "      <td>40.000000</td>\n",
       "      <td>1.000000</td>\n",
       "      <td>2.519531</td>\n",
       "      <td>5.000000</td>\n",
       "      <td>18.600000</td>\n",
       "      <td>2.000000</td>\n",
       "      <td>7.000000</td>\n",
       "      <td>0.000000</td>\n",
       "      <td>...</td>\n",
       "      <td>9.000000</td>\n",
       "      <td>19.000000</td>\n",
       "      <td>0.000000</td>\n",
       "      <td>0.000000</td>\n",
       "      <td>7.661497e+04</td>\n",
       "      <td>1.000000</td>\n",
       "      <td>3.000000</td>\n",
       "      <td>2017.000000</td>\n",
       "      <td>0.495000</td>\n",
       "      <td>0.133000</td>\n",
       "    </tr>\n",
       "    <tr>\n",
       "      <td>50%</td>\n",
       "      <td>9.000000</td>\n",
       "      <td>4.650000e+06</td>\n",
       "      <td>52.000000</td>\n",
       "      <td>2.000000</td>\n",
       "      <td>2.650391</td>\n",
       "      <td>9.000000</td>\n",
       "      <td>30.000000</td>\n",
       "      <td>4.000000</td>\n",
       "      <td>9.100000</td>\n",
       "      <td>0.000000</td>\n",
       "      <td>...</td>\n",
       "      <td>13.000000</td>\n",
       "      <td>27.000000</td>\n",
       "      <td>1.000000</td>\n",
       "      <td>0.000000</td>\n",
       "      <td>9.500000e+04</td>\n",
       "      <td>3.000000</td>\n",
       "      <td>6.000000</td>\n",
       "      <td>2017.000000</td>\n",
       "      <td>0.568000</td>\n",
       "      <td>0.172000</td>\n",
       "    </tr>\n",
       "    <tr>\n",
       "      <td>75%</td>\n",
       "      <td>14.000000</td>\n",
       "      <td>6.799000e+06</td>\n",
       "      <td>69.700000</td>\n",
       "      <td>3.000000</td>\n",
       "      <td>2.800781</td>\n",
       "      <td>16.000000</td>\n",
       "      <td>42.300000</td>\n",
       "      <td>8.000000</td>\n",
       "      <td>12.000000</td>\n",
       "      <td>1.000000</td>\n",
       "      <td>...</td>\n",
       "      <td>16.000000</td>\n",
       "      <td>37.000000</td>\n",
       "      <td>1.000000</td>\n",
       "      <td>1.000000</td>\n",
       "      <td>1.142742e+05</td>\n",
       "      <td>4.000000</td>\n",
       "      <td>10.000000</td>\n",
       "      <td>2018.000000</td>\n",
       "      <td>0.638000</td>\n",
       "      <td>0.232000</td>\n",
       "    </tr>\n",
       "    <tr>\n",
       "      <td>max</td>\n",
       "      <td>50.000000</td>\n",
       "      <td>7.630000e+08</td>\n",
       "      <td>900.000000</td>\n",
       "      <td>19.000000</td>\n",
       "      <td>100.000000</td>\n",
       "      <td>60.000000</td>\n",
       "      <td>409.700000</td>\n",
       "      <td>33.000000</td>\n",
       "      <td>112.000000</td>\n",
       "      <td>5.000000</td>\n",
       "      <td>...</td>\n",
       "      <td>66.000000</td>\n",
       "      <td>85.000000</td>\n",
       "      <td>1.000000</td>\n",
       "      <td>3.000000</td>\n",
       "      <td>1.907500e+06</td>\n",
       "      <td>6.000000</td>\n",
       "      <td>12.000000</td>\n",
       "      <td>2019.000000</td>\n",
       "      <td>1.000000</td>\n",
       "      <td>0.788000</td>\n",
       "    </tr>\n",
       "  </tbody>\n",
       "</table>\n",
       "<p>8 rows × 27 columns</p>\n",
       "</div>"
      ],
      "text/plain": [
       "       total_images    last_price    total_area         rooms  ceiling_height  \\\n",
       "count  23650.000000  2.365000e+04  23650.000000  23650.000000    14490.000000   \n",
       "mean       9.862326  6.541127e+06     60.329069      2.070106        2.771484   \n",
       "std        5.682278  1.089640e+07     35.661808      1.078620        1.261719   \n",
       "min        0.000000  1.219000e+04     12.000000      0.000000        1.000000   \n",
       "25%        6.000000  3.400000e+06     40.000000      1.000000        2.519531   \n",
       "50%        9.000000  4.650000e+06     52.000000      2.000000        2.650391   \n",
       "75%       14.000000  6.799000e+06     69.700000      3.000000        2.800781   \n",
       "max       50.000000  7.630000e+08    900.000000     19.000000      100.000000   \n",
       "\n",
       "       floors_total   living_area         floor  kitchen_area       balcony  \\\n",
       "count  23565.000000  21752.000000  23650.000000  21381.000000  23650.000000   \n",
       "mean      10.675875     34.448356      5.893277     10.566403      0.591712   \n",
       "std        6.594823     22.037664      4.883317      5.901753      0.959662   \n",
       "min        1.000000      2.000000      1.000000      1.300000      0.000000   \n",
       "25%        5.000000     18.600000      2.000000      7.000000      0.000000   \n",
       "50%        9.000000     30.000000      4.000000      9.100000      0.000000   \n",
       "75%       16.000000     42.300000      8.000000     12.000000      1.000000   \n",
       "max       60.000000    409.700000     33.000000    112.000000      5.000000   \n",
       "\n",
       "       ...  city_centers_nearest_km  airports_nearest_km  ponds_nearest_km  \\\n",
       "count  ...             18139.000000         18116.000000       9085.000000   \n",
       "mean   ...                14.191576            28.809229          0.503027   \n",
       "std    ...                 8.614645            12.639962          0.500018   \n",
       "min    ...                 0.000000             0.000000          0.000000   \n",
       "25%    ...                 9.000000            19.000000          0.000000   \n",
       "50%    ...                13.000000            27.000000          1.000000   \n",
       "75%    ...                16.000000            37.000000          1.000000   \n",
       "max    ...                66.000000            85.000000          1.000000   \n",
       "\n",
       "       parks_nearest_km  sq_metres_price  type_day_exposition  \\\n",
       "count       8064.000000     2.365000e+04         23650.000000   \n",
       "mean           0.441840     9.943225e+04             2.568710   \n",
       "std            0.545661     5.033794e+04             1.788808   \n",
       "min            0.000000     1.118350e+02             0.000000   \n",
       "25%            0.000000     7.661497e+04             1.000000   \n",
       "50%            0.000000     9.500000e+04             3.000000   \n",
       "75%            1.000000     1.142742e+05             4.000000   \n",
       "max            3.000000     1.907500e+06             6.000000   \n",
       "\n",
       "       type_month_exposition  type_year_exposition  living_area_ratio  \\\n",
       "count           23650.000000          23650.000000       21752.000000   \n",
       "mean                6.401564           2017.370021           0.564748   \n",
       "std                 3.491418              1.037806           0.105388   \n",
       "min                 1.000000           2014.000000           0.022000   \n",
       "25%                 3.000000           2017.000000           0.495000   \n",
       "50%                 6.000000           2017.000000           0.568000   \n",
       "75%                10.000000           2018.000000           0.638000   \n",
       "max                12.000000           2019.000000           1.000000   \n",
       "\n",
       "       kitchen_area_ratio  \n",
       "count        21381.000000  \n",
       "mean             0.187369  \n",
       "std              0.072975  \n",
       "min              0.025000  \n",
       "25%              0.133000  \n",
       "50%              0.172000  \n",
       "75%              0.232000  \n",
       "max              0.788000  \n",
       "\n",
       "[8 rows x 27 columns]"
      ]
     },
     "execution_count": 851,
     "metadata": {},
     "output_type": "execute_result"
    }
   ],
   "source": [
    "data.describe()"
   ]
  },
  {
   "cell_type": "code",
   "execution_count": 852,
   "metadata": {},
   "outputs": [
    {
     "data": {
      "text/plain": [
       "Text(0.5, 1.0, 'Last price histogram')"
      ]
     },
     "execution_count": 852,
     "metadata": {},
     "output_type": "execute_result"
    },
    {
     "data": {
      "image/png": "[encoded data removed]",
      "text/plain": [
       "<Figure size 432x288 with 1 Axes>"
      ]
     },
     "metadata": {
      "needs_background": "light"
     },
     "output_type": "display_data"
    }
   ],
   "source": [
    "data['last_price'].hist(bins=100,range=(0,30000000))\n",
    "plt.xlabel('last_price')\n",
    "plt.ylabel('number_of_elements, units')\n",
    "plt.title(\"Last price histogram\", fontsize=10)\n"
   ]
  },
  {
   "cell_type": "markdown",
   "metadata": {},
   "source": [
    "Из графика видим, что больше всего объявлений с квартирами, цена которых находится в диапазоне е от 3 до 4.5 млн. руб."
   ]
  },
  {
   "cell_type": "code",
   "execution_count": 853,
   "metadata": {},
   "outputs": [
    {
     "data": {
      "text/plain": [
       "Text(0.5, 1.0, 'Total area histogram')"
      ]
     },
     "execution_count": 853,
     "metadata": {},
     "output_type": "execute_result"
    },
    {
     "data": {
      "image/png": "[encoded data removed]",
      "text/plain": [
       "<Figure size 432x288 with 1 Axes>"
      ]
     },
     "metadata": {
      "needs_background": "light"
     },
     "output_type": "display_data"
    }
   ],
   "source": [
    "data['total_area'].hist(bins=100, range=(0,400))\n",
    "plt.xlabel('total_area, sq metres')\n",
    "plt.ylabel('number_of_elements, units')\n",
    "plt.title(\"Total area histogram\", fontsize=10)\n"
   ]
  },
  {
   "cell_type": "markdown",
   "metadata": {},
   "source": [
    "Чаще всего продаются квартиры с площадью от 40 до 45 кв.м."
   ]
  },
  {
   "cell_type": "code",
   "execution_count": 854,
   "metadata": {},
   "outputs": [
    {
     "data": {
      "text/plain": [
       "Text(0.5, 1.0, 'Number of rooms histogram')"
      ]
     },
     "execution_count": 854,
     "metadata": {},
     "output_type": "execute_result"
    },
    {
     "data": {
      "image/png": "[encoded data removed]",
      "text/plain": [
       "<Figure size 432x288 with 1 Axes>"
      ]
     },
     "metadata": {
      "needs_background": "light"
     },
     "output_type": "display_data"
    }
   ],
   "source": [
    "data['rooms'].hist(bins=30, range=(0,9))\n",
    "plt.xlabel('rooms, number')\n",
    "plt.ylabel('number_of_elements, units')\n",
    "plt.title(\"Number of rooms histogram\", fontsize=10)\n"
   ]
  },
  {
   "cell_type": "markdown",
   "metadata": {},
   "source": [
    "Больше всего в объявлениях представлены однокомнатные и двухкомнатные квартиры."
   ]
  },
  {
   "cell_type": "code",
   "execution_count": 855,
   "metadata": {},
   "outputs": [
    {
     "data": {
      "text/plain": [
       "Text(0.5, 1.0, 'Ceiling height histogram')"
      ]
     },
     "execution_count": 855,
     "metadata": {},
     "output_type": "execute_result"
    },
    {
     "data": {
      "image/png": "[encoded data removed]",
      "text/plain": [
       "<Figure size 432x288 with 1 Axes>"
      ]
     },
     "metadata": {
      "needs_background": "light"
     },
     "output_type": "display_data"
    }
   ],
   "source": [
    "data['ceiling_height'].hist(bins=100, range=(2.3,4))\n",
    "plt.xlabel('ceiling_height, metres')\n",
    "plt.ylabel('number_of_elements, units')\n",
    "plt.title(\"Ceiling height histogram\", fontsize=10)"
   ]
  },
  {
   "cell_type": "markdown",
   "metadata": {},
   "source": [
    "Наиболее популярны и скорее всего стандартны квартиры с высотой потолка в 2.5 метра."
   ]
  },
  {
   "cell_type": "markdown",
   "metadata": {},
   "source": [
    "2. Изучим столбец с временем продажи квартир. Построим гисторгамму, посчитаем среднее и медиану."
   ]
  },
  {
   "cell_type": "code",
   "execution_count": 856,
   "metadata": {},
   "outputs": [
    {
     "data": {
      "text/plain": [
       "Text(0.5, 1.0, 'Days exposition histogram')"
      ]
     },
     "execution_count": 856,
     "metadata": {},
     "output_type": "execute_result"
    },
    {
     "data": {
      "image/png": "[encoded data removed]",
      "text/plain": [
       "<Figure size 432x288 with 1 Axes>"
      ]
     },
     "metadata": {
      "needs_background": "light"
     },
     "output_type": "display_data"
    }
   ],
   "source": [
    "data['days_exposition'].hist(bins=100, range=(0,300))\n",
    "plt.xlabel('days_exposition, days')\n",
    "plt.ylabel('number_of_elements, units')\n",
    "plt.title(\"Days exposition histogram\", fontsize=10)"
   ]
  },
  {
   "cell_type": "code",
   "execution_count": 857,
   "metadata": {},
   "outputs": [
    {
     "data": {
      "text/plain": [
       "Text(0.5, 1.0, 'Days exposition histogram')"
      ]
     },
     "execution_count": 857,
     "metadata": {},
     "output_type": "execute_result"
    },
    {
     "data": {
      "image/png": "[encoded data removed]",
      "text/plain": [
       "<Figure size 432x288 with 1 Axes>"
      ]
     },
     "metadata": {
      "needs_background": "light"
     },
     "output_type": "display_data"
    }
   ],
   "source": [
    "data['days_exposition'].hist(bins=100, range=(0,100))\n",
    "plt.xlabel('days_exposition, days')\n",
    "plt.ylabel('number_of_elements, units')\n",
    "plt.title(\"Days exposition histogram\", fontsize=10)"
   ]
  },
  {
   "cell_type": "code",
   "execution_count": 858,
   "metadata": {},
   "outputs": [
    {
     "data": {
      "image/png": "[encoded data removed]",
      "text/plain": [
       "<Figure size 432x288 with 1 Axes>"
      ]
     },
     "metadata": {
      "needs_background": "light"
     },
     "output_type": "display_data"
    }
   ],
   "source": [
    "plt.ylim(0,100)\n",
    "data.boxplot(column='days_exposition') \n",
    "plt.show()"
   ]
  },
  {
   "cell_type": "markdown",
   "metadata": {},
   "source": [
    "Больше всего продаж на 95 дни. Т.е по объявлениям которым около 3х месяцев."
   ]
  },
  {
   "cell_type": "code",
   "execution_count": 859,
   "metadata": {},
   "outputs": [
    {
     "data": {
      "text/plain": [
       "count    23650.000000\n",
       "mean       169.222748\n",
       "std        206.550577\n",
       "min          1.000000\n",
       "25%         45.000000\n",
       "50%         95.000000\n",
       "75%        198.000000\n",
       "max       1580.000000\n",
       "Name: days_exposition, dtype: float64"
      ]
     },
     "execution_count": 859,
     "metadata": {},
     "output_type": "execute_result"
    }
   ],
   "source": [
    "data['days_exposition'].describe()"
   ]
  },
  {
   "cell_type": "code",
   "execution_count": 860,
   "metadata": {},
   "outputs": [
    {
     "data": {
      "image/png": "[encoded data removed]",
      "text/plain": [
       "<Figure size 432x288 with 1 Axes>"
      ]
     },
     "metadata": {
      "needs_background": "light"
     },
     "output_type": "display_data"
    }
   ],
   "source": [
    "plt.ylim(0,1600)\n",
    "data.boxplot(column='days_exposition') \n",
    "plt.show()\n",
    "#построим диаграмму размаха для столбца 'days_exposition' со всеми входящими значениями"
   ]
  },
  {
   "cell_type": "code",
   "execution_count": 861,
   "metadata": {},
   "outputs": [
    {
     "data": {
      "image/png": "[encoded data removed]",
      "text/plain": [
       "<Figure size 432x288 with 1 Axes>"
      ]
     },
     "metadata": {
      "needs_background": "light"
     },
     "output_type": "display_data"
    }
   ],
   "source": [
    "plt.ylim(0,500)\n",
    "data.boxplot(column='days_exposition') \n",
    "plt.show()"
   ]
  },
  {
   "cell_type": "code",
   "execution_count": 862,
   "metadata": {},
   "outputs": [
    {
     "data": {
      "image/png": "[encoded data removed]",
      "text/plain": [
       "<Figure size 432x288 with 1 Axes>"
      ]
     },
     "metadata": {
      "needs_background": "light"
     },
     "output_type": "display_data"
    }
   ],
   "source": [
    "plt.ylim(425,430)\n",
    "data.boxplot(column='days_exposition') \n",
    "plt.show()\n",
    "#увеличим масштаб, чтобы увидеть более точные значения"
   ]
  },
  {
   "cell_type": "markdown",
   "metadata": {},
   "source": [
    "Исходя из построенных гистограммы, диаграмм размаха видим - в среднем квартиры продавали на 95 день. Исходя из того, что в размах «усов» попадают нормальные значения, будем считать, что максимальный день продаж составляет 427 день, минимальный - сразу, после размещения объявления. Очень много значений попадает в область за пределами 1.5 межквартильного размаха. Уберем выбивающиеся значения.\n"
   ]
  },
  {
   "cell_type": "code",
   "execution_count": 863,
   "metadata": {},
   "outputs": [
    {
     "data": {
      "text/plain": [
       "Text(0.5, 1.0, 'Days exposition histogram')"
      ]
     },
     "execution_count": 863,
     "metadata": {},
     "output_type": "execute_result"
    },
    {
     "data": {
      "image/png": "[encoded data removed]",
      "text/plain": [
       "<Figure size 432x288 with 1 Axes>"
      ]
     },
     "metadata": {
      "needs_background": "light"
     },
     "output_type": "display_data"
    }
   ],
   "source": [
    "good_days_exposition_data = data.query('days_exposition < 427')\n",
    "good_days_exposition_data['days_exposition'].hist(bins=100, range=(0,450))\n",
    "plt.xlabel('days_exposition, days')\n",
    "plt.ylabel('number_of_elements, units')\n",
    "plt.title(\"Days exposition histogram\", fontsize=10)"
   ]
  },
  {
   "cell_type": "markdown",
   "metadata": {},
   "source": [
    "Итого наблюдаем несколько пиков: 45, 60, 95 - дни с максимальным количеством продаж квартир."
   ]
  },
  {
   "cell_type": "markdown",
   "metadata": {},
   "source": [
    "3. Проанализируем факторы, влияющие на стоимость квартиры."
   ]
  },
  {
   "cell_type": "code",
   "execution_count": 864,
   "metadata": {},
   "outputs": [
    {
     "data": {
      "text/plain": [
       "count    2.130000e+04\n",
       "mean     6.378613e+06\n",
       "std      1.077982e+07\n",
       "min      1.219000e+04\n",
       "25%      3.400000e+06\n",
       "50%      4.600000e+06\n",
       "75%      6.650000e+06\n",
       "max      7.630000e+08\n",
       "Name: last_price, dtype: float64"
      ]
     },
     "execution_count": 864,
     "metadata": {},
     "output_type": "execute_result"
    }
   ],
   "source": [
    "good_days_exposition_data['last_price'].describe()"
   ]
  },
  {
   "cell_type": "code",
   "execution_count": 865,
   "metadata": {},
   "outputs": [
    {
     "data": {
      "image/png": "[encoded data removed]",
      "text/plain": [
       "<Figure size 432x288 with 1 Axes>"
      ]
     },
     "metadata": {
      "needs_background": "light"
     },
     "output_type": "display_data"
    }
   ],
   "source": [
    "plt.ylim(0,20000000)\n",
    "good_days_exposition_data.boxplot(column='last_price') \n",
    "plt.show()\n",
    "#построим диаграмму размаха для отфильтрованных данных"
   ]
  },
  {
   "cell_type": "code",
   "execution_count": 866,
   "metadata": {},
   "outputs": [
    {
     "data": {
      "image/png": "[encoded data removed]",
      "text/plain": [
       "<Figure size 432x288 with 1 Axes>"
      ]
     },
     "metadata": {
      "needs_background": "light"
     },
     "output_type": "display_data"
    }
   ],
   "source": [
    "plt.ylim(10000000,12500000)\n",
    "good_days_exposition_data.boxplot(column='last_price') \n",
    "plt.show()\n",
    "#увеличим масштаб"
   ]
  },
  {
   "cell_type": "markdown",
   "metadata": {},
   "source": [
    "Из диаграммы размаха видим, что медианное значение стоимости квартиры составляет 4.6 млн. руб. \n",
    "Отклоняющие значения (попадающие в область за пределами 1.5 межквартального размаха) начинаются со значения 11.5 млн. руб. "
   ]
  },
  {
   "cell_type": "code",
   "execution_count": 867,
   "metadata": {},
   "outputs": [
    {
     "data": {
      "text/html": [
       "<div>\n",
       "<style scoped>\n",
       "    .dataframe tbody tr th:only-of-type {\n",
       "        vertical-align: middle;\n",
       "    }\n",
       "\n",
       "    .dataframe tbody tr th {\n",
       "        vertical-align: top;\n",
       "    }\n",
       "\n",
       "    .dataframe thead th {\n",
       "        text-align: right;\n",
       "    }\n",
       "</style>\n",
       "<table border=\"1\" class=\"dataframe\">\n",
       "  <thead>\n",
       "    <tr style=\"text-align: right;\">\n",
       "      <th></th>\n",
       "      <th>total_images</th>\n",
       "      <th>last_price</th>\n",
       "      <th>total_area</th>\n",
       "      <th>first_day_exposition</th>\n",
       "      <th>rooms</th>\n",
       "      <th>ceiling_height</th>\n",
       "      <th>floors_total</th>\n",
       "      <th>living_area</th>\n",
       "      <th>floor</th>\n",
       "      <th>is_apartment</th>\n",
       "      <th>...</th>\n",
       "      <th>airports_nearest_km</th>\n",
       "      <th>ponds_nearest_km</th>\n",
       "      <th>parks_nearest_km</th>\n",
       "      <th>sq_metres_price</th>\n",
       "      <th>type_day_exposition</th>\n",
       "      <th>type_month_exposition</th>\n",
       "      <th>type_year_exposition</th>\n",
       "      <th>floor_group</th>\n",
       "      <th>living_area_ratio</th>\n",
       "      <th>kitchen_area_ratio</th>\n",
       "    </tr>\n",
       "  </thead>\n",
       "  <tbody>\n",
       "    <tr>\n",
       "      <td>8793</td>\n",
       "      <td>7</td>\n",
       "      <td>12190.0</td>\n",
       "      <td>109.0</td>\n",
       "      <td>2019-03-20</td>\n",
       "      <td>2</td>\n",
       "      <td>2.750000</td>\n",
       "      <td>25.0</td>\n",
       "      <td>32.0</td>\n",
       "      <td>25</td>\n",
       "      <td>False</td>\n",
       "      <td>...</td>\n",
       "      <td>36.0</td>\n",
       "      <td>NaN</td>\n",
       "      <td>1.0</td>\n",
       "      <td>111.835</td>\n",
       "      <td>2</td>\n",
       "      <td>3</td>\n",
       "      <td>2019</td>\n",
       "      <td>последний</td>\n",
       "      <td>0.294</td>\n",
       "      <td>0.372</td>\n",
       "    </tr>\n",
       "    <tr>\n",
       "      <td>14911</td>\n",
       "      <td>5</td>\n",
       "      <td>430000.0</td>\n",
       "      <td>54.0</td>\n",
       "      <td>2018-06-26</td>\n",
       "      <td>2</td>\n",
       "      <td>NaN</td>\n",
       "      <td>3.0</td>\n",
       "      <td>NaN</td>\n",
       "      <td>3</td>\n",
       "      <td>False</td>\n",
       "      <td>...</td>\n",
       "      <td>NaN</td>\n",
       "      <td>NaN</td>\n",
       "      <td>NaN</td>\n",
       "      <td>7962.963</td>\n",
       "      <td>1</td>\n",
       "      <td>6</td>\n",
       "      <td>2018</td>\n",
       "      <td>последний</td>\n",
       "      <td>NaN</td>\n",
       "      <td>NaN</td>\n",
       "    </tr>\n",
       "    <tr>\n",
       "      <td>17456</td>\n",
       "      <td>7</td>\n",
       "      <td>430000.0</td>\n",
       "      <td>30.4</td>\n",
       "      <td>2019-04-22</td>\n",
       "      <td>1</td>\n",
       "      <td>NaN</td>\n",
       "      <td>2.0</td>\n",
       "      <td>16.0</td>\n",
       "      <td>1</td>\n",
       "      <td>False</td>\n",
       "      <td>...</td>\n",
       "      <td>NaN</td>\n",
       "      <td>NaN</td>\n",
       "      <td>NaN</td>\n",
       "      <td>14144.737</td>\n",
       "      <td>0</td>\n",
       "      <td>4</td>\n",
       "      <td>2019</td>\n",
       "      <td>первый</td>\n",
       "      <td>0.526</td>\n",
       "      <td>0.197</td>\n",
       "    </tr>\n",
       "    <tr>\n",
       "      <td>16274</td>\n",
       "      <td>18</td>\n",
       "      <td>440000.0</td>\n",
       "      <td>40.0</td>\n",
       "      <td>2018-07-10</td>\n",
       "      <td>1</td>\n",
       "      <td>NaN</td>\n",
       "      <td>5.0</td>\n",
       "      <td>NaN</td>\n",
       "      <td>1</td>\n",
       "      <td>False</td>\n",
       "      <td>...</td>\n",
       "      <td>NaN</td>\n",
       "      <td>NaN</td>\n",
       "      <td>NaN</td>\n",
       "      <td>11000.000</td>\n",
       "      <td>1</td>\n",
       "      <td>7</td>\n",
       "      <td>2018</td>\n",
       "      <td>первый</td>\n",
       "      <td>NaN</td>\n",
       "      <td>NaN</td>\n",
       "    </tr>\n",
       "    <tr>\n",
       "      <td>5698</td>\n",
       "      <td>7</td>\n",
       "      <td>450000.0</td>\n",
       "      <td>42.0</td>\n",
       "      <td>2017-07-31</td>\n",
       "      <td>2</td>\n",
       "      <td>NaN</td>\n",
       "      <td>1.0</td>\n",
       "      <td>23.0</td>\n",
       "      <td>1</td>\n",
       "      <td>False</td>\n",
       "      <td>...</td>\n",
       "      <td>NaN</td>\n",
       "      <td>NaN</td>\n",
       "      <td>NaN</td>\n",
       "      <td>10714.286</td>\n",
       "      <td>0</td>\n",
       "      <td>7</td>\n",
       "      <td>2017</td>\n",
       "      <td>первый</td>\n",
       "      <td>0.548</td>\n",
       "      <td>0.138</td>\n",
       "    </tr>\n",
       "    <tr>\n",
       "      <td>9581</td>\n",
       "      <td>7</td>\n",
       "      <td>450000.0</td>\n",
       "      <td>43.4</td>\n",
       "      <td>2018-08-31</td>\n",
       "      <td>2</td>\n",
       "      <td>NaN</td>\n",
       "      <td>5.0</td>\n",
       "      <td>30.3</td>\n",
       "      <td>3</td>\n",
       "      <td>False</td>\n",
       "      <td>...</td>\n",
       "      <td>NaN</td>\n",
       "      <td>NaN</td>\n",
       "      <td>NaN</td>\n",
       "      <td>10368.664</td>\n",
       "      <td>4</td>\n",
       "      <td>8</td>\n",
       "      <td>2018</td>\n",
       "      <td>другой</td>\n",
       "      <td>0.698</td>\n",
       "      <td>0.127</td>\n",
       "    </tr>\n",
       "    <tr>\n",
       "      <td>16219</td>\n",
       "      <td>14</td>\n",
       "      <td>450000.0</td>\n",
       "      <td>38.5</td>\n",
       "      <td>2018-07-11</td>\n",
       "      <td>2</td>\n",
       "      <td>2.650391</td>\n",
       "      <td>2.0</td>\n",
       "      <td>NaN</td>\n",
       "      <td>1</td>\n",
       "      <td>False</td>\n",
       "      <td>...</td>\n",
       "      <td>NaN</td>\n",
       "      <td>NaN</td>\n",
       "      <td>NaN</td>\n",
       "      <td>11688.312</td>\n",
       "      <td>2</td>\n",
       "      <td>7</td>\n",
       "      <td>2018</td>\n",
       "      <td>первый</td>\n",
       "      <td>NaN</td>\n",
       "      <td>NaN</td>\n",
       "    </tr>\n",
       "    <tr>\n",
       "      <td>17676</td>\n",
       "      <td>0</td>\n",
       "      <td>450000.0</td>\n",
       "      <td>36.5</td>\n",
       "      <td>2018-02-01</td>\n",
       "      <td>1</td>\n",
       "      <td>NaN</td>\n",
       "      <td>5.0</td>\n",
       "      <td>17.3</td>\n",
       "      <td>4</td>\n",
       "      <td>False</td>\n",
       "      <td>...</td>\n",
       "      <td>NaN</td>\n",
       "      <td>NaN</td>\n",
       "      <td>NaN</td>\n",
       "      <td>12328.767</td>\n",
       "      <td>3</td>\n",
       "      <td>2</td>\n",
       "      <td>2018</td>\n",
       "      <td>другой</td>\n",
       "      <td>0.474</td>\n",
       "      <td>0.233</td>\n",
       "    </tr>\n",
       "    <tr>\n",
       "      <td>21912</td>\n",
       "      <td>0</td>\n",
       "      <td>470000.0</td>\n",
       "      <td>37.0</td>\n",
       "      <td>2018-02-18</td>\n",
       "      <td>1</td>\n",
       "      <td>NaN</td>\n",
       "      <td>3.0</td>\n",
       "      <td>NaN</td>\n",
       "      <td>3</td>\n",
       "      <td>False</td>\n",
       "      <td>...</td>\n",
       "      <td>NaN</td>\n",
       "      <td>NaN</td>\n",
       "      <td>NaN</td>\n",
       "      <td>12702.703</td>\n",
       "      <td>6</td>\n",
       "      <td>2</td>\n",
       "      <td>2018</td>\n",
       "      <td>последний</td>\n",
       "      <td>NaN</td>\n",
       "      <td>NaN</td>\n",
       "    </tr>\n",
       "    <tr>\n",
       "      <td>18867</td>\n",
       "      <td>1</td>\n",
       "      <td>470000.0</td>\n",
       "      <td>41.0</td>\n",
       "      <td>2018-02-11</td>\n",
       "      <td>1</td>\n",
       "      <td>NaN</td>\n",
       "      <td>5.0</td>\n",
       "      <td>32.0</td>\n",
       "      <td>3</td>\n",
       "      <td>False</td>\n",
       "      <td>...</td>\n",
       "      <td>NaN</td>\n",
       "      <td>NaN</td>\n",
       "      <td>NaN</td>\n",
       "      <td>11463.415</td>\n",
       "      <td>6</td>\n",
       "      <td>2</td>\n",
       "      <td>2018</td>\n",
       "      <td>другой</td>\n",
       "      <td>0.780</td>\n",
       "      <td>0.220</td>\n",
       "    </tr>\n",
       "  </tbody>\n",
       "</table>\n",
       "<p>10 rows × 33 columns</p>\n",
       "</div>"
      ],
      "text/plain": [
       "       total_images  last_price  total_area first_day_exposition  rooms  \\\n",
       "8793              7     12190.0       109.0           2019-03-20      2   \n",
       "14911             5    430000.0        54.0           2018-06-26      2   \n",
       "17456             7    430000.0        30.4           2019-04-22      1   \n",
       "16274            18    440000.0        40.0           2018-07-10      1   \n",
       "5698              7    450000.0        42.0           2017-07-31      2   \n",
       "9581              7    450000.0        43.4           2018-08-31      2   \n",
       "16219            14    450000.0        38.5           2018-07-11      2   \n",
       "17676             0    450000.0        36.5           2018-02-01      1   \n",
       "21912             0    470000.0        37.0           2018-02-18      1   \n",
       "18867             1    470000.0        41.0           2018-02-11      1   \n",
       "\n",
       "       ceiling_height  floors_total  living_area  floor  is_apartment  ...  \\\n",
       "8793         2.750000          25.0         32.0     25         False  ...   \n",
       "14911             NaN           3.0          NaN      3         False  ...   \n",
       "17456             NaN           2.0         16.0      1         False  ...   \n",
       "16274             NaN           5.0          NaN      1         False  ...   \n",
       "5698              NaN           1.0         23.0      1         False  ...   \n",
       "9581              NaN           5.0         30.3      3         False  ...   \n",
       "16219        2.650391           2.0          NaN      1         False  ...   \n",
       "17676             NaN           5.0         17.3      4         False  ...   \n",
       "21912             NaN           3.0          NaN      3         False  ...   \n",
       "18867             NaN           5.0         32.0      3         False  ...   \n",
       "\n",
       "       airports_nearest_km  ponds_nearest_km  parks_nearest_km  \\\n",
       "8793                  36.0               NaN               1.0   \n",
       "14911                  NaN               NaN               NaN   \n",
       "17456                  NaN               NaN               NaN   \n",
       "16274                  NaN               NaN               NaN   \n",
       "5698                   NaN               NaN               NaN   \n",
       "9581                   NaN               NaN               NaN   \n",
       "16219                  NaN               NaN               NaN   \n",
       "17676                  NaN               NaN               NaN   \n",
       "21912                  NaN               NaN               NaN   \n",
       "18867                  NaN               NaN               NaN   \n",
       "\n",
       "       sq_metres_price type_day_exposition  type_month_exposition  \\\n",
       "8793           111.835                   2                      3   \n",
       "14911         7962.963                   1                      6   \n",
       "17456        14144.737                   0                      4   \n",
       "16274        11000.000                   1                      7   \n",
       "5698         10714.286                   0                      7   \n",
       "9581         10368.664                   4                      8   \n",
       "16219        11688.312                   2                      7   \n",
       "17676        12328.767                   3                      2   \n",
       "21912        12702.703                   6                      2   \n",
       "18867        11463.415                   6                      2   \n",
       "\n",
       "       type_year_exposition  floor_group  living_area_ratio  \\\n",
       "8793                   2019    последний              0.294   \n",
       "14911                  2018    последний                NaN   \n",
       "17456                  2019       первый              0.526   \n",
       "16274                  2018       первый                NaN   \n",
       "5698                   2017       первый              0.548   \n",
       "9581                   2018       другой              0.698   \n",
       "16219                  2018       первый                NaN   \n",
       "17676                  2018       другой              0.474   \n",
       "21912                  2018    последний                NaN   \n",
       "18867                  2018       другой              0.780   \n",
       "\n",
       "       kitchen_area_ratio  \n",
       "8793                0.372  \n",
       "14911                 NaN  \n",
       "17456               0.197  \n",
       "16274                 NaN  \n",
       "5698                0.138  \n",
       "9581                0.127  \n",
       "16219                 NaN  \n",
       "17676               0.233  \n",
       "21912                 NaN  \n",
       "18867               0.220  \n",
       "\n",
       "[10 rows x 33 columns]"
      ]
     },
     "execution_count": 867,
     "metadata": {},
     "output_type": "execute_result"
    }
   ],
   "source": [
    "good_days_exposition_data.sort_values(by='last_price', ascending=True).head(10)\n",
    "#рассмотрим варианты с минимальными ценами"
   ]
  },
  {
   "cell_type": "markdown",
   "metadata": {},
   "source": [
    "Исключим из данных те, в которых значение по цене выше 11.5 млн. руб. а также меньше 500 тыс. руб, т.к мы рассматриваем не только Санкт-Петербург но и соседние поселки, в них возможны квартиры с такой стоимостью.\n"
   ]
  },
  {
   "cell_type": "code",
   "execution_count": 868,
   "metadata": {},
   "outputs": [],
   "source": [
    "good_days_exposition_and_price_data = good_days_exposition_data.query('5*10**5<last_price<11.5*10**6')"
   ]
  },
  {
   "cell_type": "markdown",
   "metadata": {},
   "source": [
    "Проанализируем, зависит ли цена от квадратного метра, числа комнат, этажа (первого или последнего)."
   ]
  },
  {
   "cell_type": "markdown",
   "metadata": {},
   "source": [
    "- зависимость цены от квадратного метра (построим график зависимости цены в зависимости от площади квартиры, рассчитаем коэффициент Пирсона):"
   ]
  },
  {
   "cell_type": "code",
   "execution_count": 869,
   "metadata": {},
   "outputs": [
    {
     "data": {
      "text/plain": [
       "Text(0.5, 1.0, 'Dependence of the last price on the total area')"
      ]
     },
     "execution_count": 869,
     "metadata": {},
     "output_type": "execute_result"
    },
    {
     "data": {
      "image/png": "[encoded data removed]",
      "text/plain": [
       "<Figure size 2880x720 with 1 Axes>"
      ]
     },
     "metadata": {
      "needs_background": "light"
     },
     "output_type": "display_data"
    }
   ],
   "source": [
    "(good_days_exposition_and_price_data\n",
    "    .sort_values(by='last_price',ascending=True)\n",
    "    .plot(x='last_price',y='total_area',grid=True, style='o-',figsize=(40,10)))\n",
    "plt.xlabel('last_price, rubles')\n",
    "plt.ylabel('total_area, metres')\n",
    "plt.title(\"Dependence of the last price on the total area\", fontsize=10)"
   ]
  },
  {
   "cell_type": "markdown",
   "metadata": {},
   "source": [
    " Из графика видим положительную зависимость цены на квартиру от ее площади. Рассчитаем коэффициент Пирсона, чтобы убедиться в этом."
   ]
  },
  {
   "cell_type": "code",
   "execution_count": 870,
   "metadata": {},
   "outputs": [
    {
     "data": {
      "text/plain": [
       "0.6853915941729608"
      ]
     },
     "execution_count": 870,
     "metadata": {},
     "output_type": "execute_result"
    }
   ],
   "source": [
    "good_days_exposition_and_price_data['last_price'].corr(good_days_exposition_and_price_data['total_area'])"
   ]
  },
  {
   "cell_type": "markdown",
   "metadata": {},
   "source": [
    "Коэффициент равен 0.69, что говорит нам о достаточно сильной зависимости между данными величинами."
   ]
  },
  {
   "cell_type": "markdown",
   "metadata": {},
   "source": [
    "- зависимость цены от числа комнат (построим график зависимости средней цены в зависимости от количества комнат, рассчитаем коэффициент Пирсона):"
   ]
  },
  {
   "cell_type": "code",
   "execution_count": 871,
   "metadata": {},
   "outputs": [
    {
     "data": {
      "text/plain": [
       "Text(0.5, 1.0, 'Dependence of the last price on the number of rooms')"
      ]
     },
     "execution_count": 871,
     "metadata": {},
     "output_type": "execute_result"
    },
    {
     "data": {
      "image/png": "[encoded data removed]",
      "text/plain": [
       "<Figure size 432x288 with 1 Axes>"
      ]
     },
     "metadata": {
      "needs_background": "light"
     },
     "output_type": "display_data"
    }
   ],
   "source": [
    "good_days_exposition_and_price_data.groupby('rooms')['last_price'].median().plot(x='rooms',y='last_price',kind='bar')\n",
    "plt.xlabel('rooms, number')\n",
    "plt.ylabel('median_last_price, rubles')\n",
    "plt.title(\"Dependence of the last price on the number of rooms\", fontsize=10)"
   ]
  },
  {
   "cell_type": "markdown",
   "metadata": {},
   "source": [
    "Из графика видим, что чем больше комнат - тем дороже квартира. Спад цены наблюдается только при количестве комнат больше 6, но данная особенность может быть связана с недостатком данных."
   ]
  },
  {
   "cell_type": "code",
   "execution_count": 872,
   "metadata": {},
   "outputs": [
    {
     "data": {
      "text/plain": [
       "0.44397393897122045"
      ]
     },
     "execution_count": 872,
     "metadata": {},
     "output_type": "execute_result"
    }
   ],
   "source": [
    "good_days_exposition_and_price_data['last_price'].corr(good_days_exposition_and_price_data['rooms'])"
   ]
  },
  {
   "cell_type": "markdown",
   "metadata": {},
   "source": [
    "Коэффициент равен 0.44, наблюдается положительная зависимость. "
   ]
  },
  {
   "cell_type": "markdown",
   "metadata": {},
   "source": [
    "- зависимость цены от этажа (построим график зависимости средней цены в зависимости от этажа, рассчитаем коэффициент Пирсона):"
   ]
  },
  {
   "cell_type": "code",
   "execution_count": 873,
   "metadata": {},
   "outputs": [
    {
     "data": {
      "text/plain": [
       "Text(0.5, 1.0, 'Dependence of the last price on the floor group')"
      ]
     },
     "execution_count": 873,
     "metadata": {},
     "output_type": "execute_result"
    },
    {
     "data": {
      "image/png": "[encoded data removed]",
      "text/plain": [
       "<Figure size 432x288 with 1 Axes>"
      ]
     },
     "metadata": {
      "needs_background": "light"
     },
     "output_type": "display_data"
    }
   ],
   "source": [
    "good_days_exposition_and_price_data.groupby('floor_group')['last_price'].median().plot(x='floor_group',y='last_price',kind='bar')\n",
    "plt.xlabel('floor_group')\n",
    "plt.ylabel('median_last_price, rubles')\n",
    "plt.title(\"Dependence of the last price on the floor group\", fontsize=10)"
   ]
  },
  {
   "cell_type": "markdown",
   "metadata": {},
   "source": [
    "Из графика видим, что стоимость квартир не сильно зависит от этажа. Стоит только отметить, что цена за первый этаж ниже."
   ]
  },
  {
   "cell_type": "code",
   "execution_count": 874,
   "metadata": {},
   "outputs": [
    {
     "data": {
      "text/plain": [
       "0.14074649268901945"
      ]
     },
     "execution_count": 874,
     "metadata": {},
     "output_type": "execute_result"
    }
   ],
   "source": [
    "good_days_exposition_and_price_data['last_price'].corr(good_days_exposition_and_price_data['floor'])"
   ]
  },
  {
   "cell_type": "markdown",
   "metadata": {},
   "source": [
    "Коэффициент равен 0.14, зависимость есть, но небольшая. "
   ]
  },
  {
   "cell_type": "markdown",
   "metadata": {},
   "source": [
    "- зависимость от даты размещения: дня недели, месяца и года (построим график зависимости средней цены в зависимости от этажа, рассчитаем коэффициент Пирсона):"
   ]
  },
  {
   "cell_type": "code",
   "execution_count": 875,
   "metadata": {},
   "outputs": [
    {
     "data": {
      "text/plain": [
       "Text(0.5, 1.0, 'Dependence of the last price on the week day of exposition')"
      ]
     },
     "execution_count": 875,
     "metadata": {},
     "output_type": "execute_result"
    },
    {
     "data": {
      "image/png": "[encoded data removed]",
      "text/plain": [
       "<Figure size 432x288 with 1 Axes>"
      ]
     },
     "metadata": {
      "needs_background": "light"
     },
     "output_type": "display_data"
    }
   ],
   "source": [
    "good_days_exposition_and_price_data.pivot_table(index ='type_day_exposition', values='last_price', aggfunc='count').plot(kind='bar')\n",
    "plt.xlabel('week_day')\n",
    "plt.ylabel('median_last_price, rubles')\n",
    "plt.title(\"Dependence of the last price on the week day of exposition\", fontsize=10)"
   ]
  },
  {
   "cell_type": "markdown",
   "metadata": {},
   "source": [
    "Из графика видим, что наиболее \"популярными\" днями по закрытию объявлению являются: вторник, четверг и пятница."
   ]
  },
  {
   "cell_type": "markdown",
   "metadata": {},
   "source": [
    "- Выберем 10 населённых пунктов с наибольшим числом объявлений. Посчитаем среднюю цену квадратного метра в этих населённых пунктах."
   ]
  },
  {
   "cell_type": "code",
   "execution_count": 876,
   "metadata": {},
   "outputs": [
    {
     "data": {
      "text/html": [
       "<div>\n",
       "<style scoped>\n",
       "    .dataframe tbody tr th:only-of-type {\n",
       "        vertical-align: middle;\n",
       "    }\n",
       "\n",
       "    .dataframe tbody tr th {\n",
       "        vertical-align: top;\n",
       "    }\n",
       "\n",
       "    .dataframe thead th {\n",
       "        text-align: right;\n",
       "    }\n",
       "</style>\n",
       "<table border=\"1\" class=\"dataframe\">\n",
       "  <thead>\n",
       "    <tr style=\"text-align: right;\">\n",
       "      <th></th>\n",
       "      <th>count</th>\n",
       "      <th>median</th>\n",
       "    </tr>\n",
       "    <tr>\n",
       "      <th>locality_name</th>\n",
       "      <th></th>\n",
       "      <th></th>\n",
       "    </tr>\n",
       "  </thead>\n",
       "  <tbody>\n",
       "    <tr>\n",
       "      <td>Санкт-Петербург</td>\n",
       "      <td>12329</td>\n",
       "      <td>5100000.0</td>\n",
       "    </tr>\n",
       "    <tr>\n",
       "      <td>посёлок Мурино</td>\n",
       "      <td>480</td>\n",
       "      <td>3400000.0</td>\n",
       "    </tr>\n",
       "    <tr>\n",
       "      <td>посёлок Шушары</td>\n",
       "      <td>406</td>\n",
       "      <td>3990000.0</td>\n",
       "    </tr>\n",
       "    <tr>\n",
       "      <td>Всеволожск</td>\n",
       "      <td>355</td>\n",
       "      <td>3500000.0</td>\n",
       "    </tr>\n",
       "    <tr>\n",
       "      <td>Колпино</td>\n",
       "      <td>314</td>\n",
       "      <td>3600000.0</td>\n",
       "    </tr>\n",
       "    <tr>\n",
       "      <td>Пушкин</td>\n",
       "      <td>308</td>\n",
       "      <td>4950000.0</td>\n",
       "    </tr>\n",
       "    <tr>\n",
       "      <td>посёлок Парголово</td>\n",
       "      <td>301</td>\n",
       "      <td>4150000.0</td>\n",
       "    </tr>\n",
       "    <tr>\n",
       "      <td>Гатчина</td>\n",
       "      <td>272</td>\n",
       "      <td>3095000.0</td>\n",
       "    </tr>\n",
       "    <tr>\n",
       "      <td>деревня Кудрово</td>\n",
       "      <td>262</td>\n",
       "      <td>3800000.0</td>\n",
       "    </tr>\n",
       "    <tr>\n",
       "      <td>Выборг</td>\n",
       "      <td>213</td>\n",
       "      <td>2800000.0</td>\n",
       "    </tr>\n",
       "  </tbody>\n",
       "</table>\n",
       "</div>"
      ],
      "text/plain": [
       "                   count     median\n",
       "locality_name                      \n",
       "Санкт-Петербург    12329  5100000.0\n",
       "посёлок Мурино       480  3400000.0\n",
       "посёлок Шушары       406  3990000.0\n",
       "Всеволожск           355  3500000.0\n",
       "Колпино              314  3600000.0\n",
       "Пушкин               308  4950000.0\n",
       "посёлок Парголово    301  4150000.0\n",
       "Гатчина              272  3095000.0\n",
       "деревня Кудрово      262  3800000.0\n",
       "Выборг               213  2800000.0"
      ]
     },
     "metadata": {},
     "output_type": "display_data"
    }
   ],
   "source": [
    "locality_rating = good_days_exposition_and_price_data.pivot_table(index ='locality_name', \n",
    "                                                                  values='last_price', \n",
    "                                                                  aggfunc=['count', 'median'])\n",
    "locality_rating.columns=['count', 'median']\n",
    "display(locality_rating.sort_values(by='count',ascending=False).head(10))"
   ]
  },
  {
   "cell_type": "markdown",
   "metadata": {},
   "source": [
    "Видим, что в Санкт-Петербурге наибольшее число объявлений и наивысшая цена за квадратный метр.\n",
    "Последним в десятке по количеству объявлений а также по средней цене за квадратный метр оказался Выборг. "
   ]
  },
  {
   "cell_type": "markdown",
   "metadata": {},
   "source": [
    "4. Изучим предложения квартир в зависимости от расстояния до центра."
   ]
  },
  {
   "cell_type": "markdown",
   "metadata": {},
   "source": [
    "Выясним, какая область входит в центр. Столбец с расстоянием до центра в километрах был рассчитан ранее. Посчитаем среднюю цену для каждого километра.\n"
   ]
  },
  {
   "cell_type": "code",
   "execution_count": 877,
   "metadata": {},
   "outputs": [
    {
     "name": "stderr",
     "output_type": "stream",
     "text": [
      "/opt/conda/lib/python3.7/site-packages/ipykernel_launcher.py:1: SettingWithCopyWarning: \n",
      "A value is trying to be set on a copy of a slice from a DataFrame.\n",
      "Try using .loc[row_indexer,col_indexer] = value instead\n",
      "\n",
      "See the caveats in the documentation: http://pandas.pydata.org/pandas-docs/stable/user_guide/indexing.html#returning-a-view-versus-a-copy\n",
      "  \"\"\"Entry point for launching an IPython kernel.\n"
     ]
    }
   ],
   "source": [
    "good_days_exposition_and_price_data['km_price'] = good_days_exposition_and_price_data['last_price'] / good_days_exposition_and_price_data['city_centers_nearest_km']"
   ]
  },
  {
   "cell_type": "code",
   "execution_count": 878,
   "metadata": {},
   "outputs": [],
   "source": [
    "spb_region_flats=good_days_exposition_and_price_data.query('locality_name==\"Санкт-Петербург\"')"
   ]
  },
  {
   "cell_type": "code",
   "execution_count": 879,
   "metadata": {},
   "outputs": [
    {
     "data": {
      "text/plain": [
       "Text(0.5, 1.0, 'Dependence of the price per kilometres on the distance to the center')"
      ]
     },
     "execution_count": 879,
     "metadata": {},
     "output_type": "execute_result"
    },
    {
     "data": {
      "image/png": "[encoded data removed]",
      "text/plain": [
       "<Figure size 1080x360 with 1 Axes>"
      ]
     },
     "metadata": {
      "needs_background": "light"
     },
     "output_type": "display_data"
    }
   ],
   "source": [
    "(spb_region_flats\n",
    "     .sort_values(by='city_centers_nearest_km',ascending=True)\n",
    "     .plot(x='city_centers_nearest_km',y='km_price', style='.',figsize=(15,5))\n",
    ")\n",
    "plt.xlabel('city_centers_nearest_km')\n",
    "plt.ylabel('price per kilometer, rubles')\n",
    "plt.title(\"Dependence of the price per kilometres on the distance to the center\", fontsize=10)"
   ]
  },
  {
   "cell_type": "markdown",
   "metadata": {},
   "source": [
    "Видим, что после 4-5 километров цена практически не изменяется. Обозначим центральную зону в 5 километров."
   ]
  },
  {
   "cell_type": "markdown",
   "metadata": {},
   "source": [
    "5. Проанализируем сегмент квартир в центре города. Посмотрим какие факторы влияют на стоимость таких квартир."
   ]
  },
  {
   "cell_type": "code",
   "execution_count": 880,
   "metadata": {},
   "outputs": [],
   "source": [
    "spb_region_flats_center = spb_region_flats.query('city_centers_nearest_km < 5')"
   ]
  },
  {
   "cell_type": "markdown",
   "metadata": {},
   "source": [
    "- Рассмотрим площадь квартир в центре Санкт-Петербурга."
   ]
  },
  {
   "cell_type": "code",
   "execution_count": 881,
   "metadata": {},
   "outputs": [
    {
     "data": {
      "text/plain": [
       "Text(0.5, 1.0, 'Total area histogram of flats in Saint P. region')"
      ]
     },
     "execution_count": 881,
     "metadata": {},
     "output_type": "execute_result"
    },
    {
     "data": {
      "image/png": "[encoded data removed]",
      "text/plain": [
       "<Figure size 432x288 with 1 Axes>"
      ]
     },
     "metadata": {
      "needs_background": "light"
     },
     "output_type": "display_data"
    }
   ],
   "source": [
    "spb_region_flats_center['total_area'].hist(bins=30)\n",
    "plt.xlabel('total_area, sq metres')\n",
    "plt.ylabel('number_of_elements, units')\n",
    "plt.title(\"Total area histogram of flats in Saint P. region\", fontsize=10)\n"
   ]
  },
  {
   "cell_type": "markdown",
   "metadata": {},
   "source": [
    "Из графика видим, что большая часть квартир площадью около 65 кв. м."
   ]
  },
  {
   "cell_type": "markdown",
   "metadata": {},
   "source": [
    "- Рассмотрим стоимость квартир."
   ]
  },
  {
   "cell_type": "code",
   "execution_count": 882,
   "metadata": {},
   "outputs": [
    {
     "data": {
      "text/plain": [
       "Text(0.5, 1.0, 'Last price histogram of flats in Saint P. region')"
      ]
     },
     "execution_count": 882,
     "metadata": {},
     "output_type": "execute_result"
    },
    {
     "data": {
      "image/png": "[encoded data removed]",
      "text/plain": [
       "<Figure size 432x288 with 1 Axes>"
      ]
     },
     "metadata": {
      "needs_background": "light"
     },
     "output_type": "display_data"
    }
   ],
   "source": [
    "spb_region_flats_center['last_price'].hist(bins=30)\n",
    "plt.xlabel('last_price, rubles')\n",
    "plt.ylabel('number_of_elements, units')\n",
    "plt.title(\"Last price histogram of flats in Saint P. region\", fontsize=10)"
   ]
  },
  {
   "cell_type": "markdown",
   "metadata": {},
   "source": [
    "Больше всего квартир стоимостью от 7 до 8.5 млн. руб."
   ]
  },
  {
   "cell_type": "markdown",
   "metadata": {},
   "source": [
    "- Проанализируем квартиры в центре Санкт-Петербурга исходя из количества комнат."
   ]
  },
  {
   "cell_type": "code",
   "execution_count": 883,
   "metadata": {},
   "outputs": [
    {
     "data": {
      "text/plain": [
       "Text(0.5, 1.0, 'Number of rooms histogram of flats in Saint P. region')"
      ]
     },
     "execution_count": 883,
     "metadata": {},
     "output_type": "execute_result"
    },
    {
     "data": {
      "image/png": "[encoded data removed]",
      "text/plain": [
       "<Figure size 432x288 with 1 Axes>"
      ]
     },
     "metadata": {
      "needs_background": "light"
     },
     "output_type": "display_data"
    }
   ],
   "source": [
    "spb_region_flats_center['rooms'].hist(bins=30)\n",
    "plt.xlabel('rooms, number')\n",
    "plt.ylabel('number_of_elements, units')\n",
    "plt.title(\"Number of rooms histogram of flats in Saint P. region\", fontsize=10)"
   ]
  },
  {
   "cell_type": "markdown",
   "metadata": {},
   "source": [
    "Больше всего в центре Санкт-Петербурга продают 2-х комнатные квартиры. Чуть меньше 3-х комнатных."
   ]
  },
  {
   "cell_type": "markdown",
   "metadata": {},
   "source": [
    "- Проанализируем квартиры в центре Санкт-Петербурга исходя из высоты потолков."
   ]
  },
  {
   "cell_type": "code",
   "execution_count": 884,
   "metadata": {},
   "outputs": [
    {
     "data": {
      "text/plain": [
       "Text(0.5, 1.0, 'Ceiling height histogram of flats in Saint P. region')"
      ]
     },
     "execution_count": 884,
     "metadata": {},
     "output_type": "execute_result"
    },
    {
     "data": {
      "image/png": "[encoded data removed]",
      "text/plain": [
       "<Figure size 432x288 with 1 Axes>"
      ]
     },
     "metadata": {
      "needs_background": "light"
     },
     "output_type": "display_data"
    }
   ],
   "source": [
    "spb_region_flats_center['ceiling_height'].hist(bins=30, range=(2,6))\n",
    "plt.xlabel('ceiling_height, metres')\n",
    "plt.ylabel('number_of_elements, units')\n",
    "plt.title(\"Ceiling height histogram of flats in Saint P. region\", fontsize=10)"
   ]
  },
  {
   "cell_type": "markdown",
   "metadata": {},
   "source": [
    "Чаще встречающаяся высота потолков - 3 метра."
   ]
  },
  {
   "cell_type": "markdown",
   "metadata": {},
   "source": [
    "6. Рассчитаем корреляцию. Выделим факторы, которые влияют на стоимость квартиры в центре города а также в целом на стоимость квартир в Санкт-Петербурге. "
   ]
  },
  {
   "cell_type": "code",
   "execution_count": 885,
   "metadata": {
    "scrolled": false
   },
   "outputs": [
    {
     "data": {
      "text/html": [
       "<div>\n",
       "<style scoped>\n",
       "    .dataframe tbody tr th:only-of-type {\n",
       "        vertical-align: middle;\n",
       "    }\n",
       "\n",
       "    .dataframe tbody tr th {\n",
       "        vertical-align: top;\n",
       "    }\n",
       "\n",
       "    .dataframe thead th {\n",
       "        text-align: right;\n",
       "    }\n",
       "</style>\n",
       "<table border=\"1\" class=\"dataframe\">\n",
       "  <thead>\n",
       "    <tr style=\"text-align: right;\">\n",
       "      <th></th>\n",
       "      <th>index</th>\n",
       "      <th>last_price</th>\n",
       "    </tr>\n",
       "  </thead>\n",
       "  <tbody>\n",
       "    <tr>\n",
       "      <td>0</td>\n",
       "      <td>last_price</td>\n",
       "      <td>1.000000</td>\n",
       "    </tr>\n",
       "    <tr>\n",
       "      <td>1</td>\n",
       "      <td>total_area</td>\n",
       "      <td>0.664618</td>\n",
       "    </tr>\n",
       "    <tr>\n",
       "      <td>2</td>\n",
       "      <td>living_area</td>\n",
       "      <td>0.598873</td>\n",
       "    </tr>\n",
       "    <tr>\n",
       "      <td>3</td>\n",
       "      <td>rooms</td>\n",
       "      <td>0.536772</td>\n",
       "    </tr>\n",
       "    <tr>\n",
       "      <td>4</td>\n",
       "      <td>km_price</td>\n",
       "      <td>0.480850</td>\n",
       "    </tr>\n",
       "    <tr>\n",
       "      <td>5</td>\n",
       "      <td>kitchen_area</td>\n",
       "      <td>0.341261</td>\n",
       "    </tr>\n",
       "    <tr>\n",
       "      <td>6</td>\n",
       "      <td>total_images</td>\n",
       "      <td>0.130354</td>\n",
       "    </tr>\n",
       "    <tr>\n",
       "      <td>7</td>\n",
       "      <td>floor</td>\n",
       "      <td>0.106137</td>\n",
       "    </tr>\n",
       "    <tr>\n",
       "      <td>8</td>\n",
       "      <td>sq_metres_price</td>\n",
       "      <td>0.091565</td>\n",
       "    </tr>\n",
       "    <tr>\n",
       "      <td>9</td>\n",
       "      <td>type_year_exposition</td>\n",
       "      <td>0.087206</td>\n",
       "    </tr>\n",
       "    <tr>\n",
       "      <td>10</td>\n",
       "      <td>living_area_ratio</td>\n",
       "      <td>0.085405</td>\n",
       "    </tr>\n",
       "    <tr>\n",
       "      <td>11</td>\n",
       "      <td>ceiling_height</td>\n",
       "      <td>0.080489</td>\n",
       "    </tr>\n",
       "    <tr>\n",
       "      <td>12</td>\n",
       "      <td>airports_nearest_km</td>\n",
       "      <td>0.077572</td>\n",
       "    </tr>\n",
       "    <tr>\n",
       "      <td>13</td>\n",
       "      <td>airports_nearest</td>\n",
       "      <td>0.075881</td>\n",
       "    </tr>\n",
       "    <tr>\n",
       "      <td>14</td>\n",
       "      <td>ponds_nearest</td>\n",
       "      <td>0.068472</td>\n",
       "    </tr>\n",
       "    <tr>\n",
       "      <td>15</td>\n",
       "      <td>balcony</td>\n",
       "      <td>0.068342</td>\n",
       "    </tr>\n",
       "    <tr>\n",
       "      <td>16</td>\n",
       "      <td>days_exposition</td>\n",
       "      <td>0.067460</td>\n",
       "    </tr>\n",
       "    <tr>\n",
       "      <td>17</td>\n",
       "      <td>ponds_nearest_km</td>\n",
       "      <td>0.065178</td>\n",
       "    </tr>\n",
       "    <tr>\n",
       "      <td>18</td>\n",
       "      <td>parks_around_3000</td>\n",
       "      <td>0.060297</td>\n",
       "    </tr>\n",
       "    <tr>\n",
       "      <td>19</td>\n",
       "      <td>parks_nearest_km</td>\n",
       "      <td>0.033823</td>\n",
       "    </tr>\n",
       "    <tr>\n",
       "      <td>20</td>\n",
       "      <td>floors_total</td>\n",
       "      <td>0.015134</td>\n",
       "    </tr>\n",
       "    <tr>\n",
       "      <td>21</td>\n",
       "      <td>is_apartment</td>\n",
       "      <td>-0.001011</td>\n",
       "    </tr>\n",
       "    <tr>\n",
       "      <td>22</td>\n",
       "      <td>type_day_exposition</td>\n",
       "      <td>-0.007123</td>\n",
       "    </tr>\n",
       "    <tr>\n",
       "      <td>23</td>\n",
       "      <td>parks_nearest</td>\n",
       "      <td>-0.007996</td>\n",
       "    </tr>\n",
       "    <tr>\n",
       "      <td>24</td>\n",
       "      <td>ponds_around_3000</td>\n",
       "      <td>-0.017524</td>\n",
       "    </tr>\n",
       "    <tr>\n",
       "      <td>25</td>\n",
       "      <td>city_centers_nearest</td>\n",
       "      <td>-0.089049</td>\n",
       "    </tr>\n",
       "    <tr>\n",
       "      <td>26</td>\n",
       "      <td>open_plan</td>\n",
       "      <td>-0.089183</td>\n",
       "    </tr>\n",
       "    <tr>\n",
       "      <td>27</td>\n",
       "      <td>type_month_exposition</td>\n",
       "      <td>-0.089660</td>\n",
       "    </tr>\n",
       "    <tr>\n",
       "      <td>28</td>\n",
       "      <td>city_centers_nearest_km</td>\n",
       "      <td>-0.092901</td>\n",
       "    </tr>\n",
       "    <tr>\n",
       "      <td>29</td>\n",
       "      <td>studio</td>\n",
       "      <td>-0.113484</td>\n",
       "    </tr>\n",
       "    <tr>\n",
       "      <td>30</td>\n",
       "      <td>kitchen_area_ratio</td>\n",
       "      <td>-0.181164</td>\n",
       "    </tr>\n",
       "  </tbody>\n",
       "</table>\n",
       "</div>"
      ],
      "text/plain": [
       "                      index  last_price\n",
       "0                last_price    1.000000\n",
       "1                total_area    0.664618\n",
       "2               living_area    0.598873\n",
       "3                     rooms    0.536772\n",
       "4                  km_price    0.480850\n",
       "5              kitchen_area    0.341261\n",
       "6              total_images    0.130354\n",
       "7                     floor    0.106137\n",
       "8           sq_metres_price    0.091565\n",
       "9      type_year_exposition    0.087206\n",
       "10        living_area_ratio    0.085405\n",
       "11           ceiling_height    0.080489\n",
       "12      airports_nearest_km    0.077572\n",
       "13         airports_nearest    0.075881\n",
       "14            ponds_nearest    0.068472\n",
       "15                  balcony    0.068342\n",
       "16          days_exposition    0.067460\n",
       "17         ponds_nearest_km    0.065178\n",
       "18        parks_around_3000    0.060297\n",
       "19         parks_nearest_km    0.033823\n",
       "20             floors_total    0.015134\n",
       "21             is_apartment   -0.001011\n",
       "22      type_day_exposition   -0.007123\n",
       "23            parks_nearest   -0.007996\n",
       "24        ponds_around_3000   -0.017524\n",
       "25     city_centers_nearest   -0.089049\n",
       "26                open_plan   -0.089183\n",
       "27    type_month_exposition   -0.089660\n",
       "28  city_centers_nearest_km   -0.092901\n",
       "29                   studio   -0.113484\n",
       "30       kitchen_area_ratio   -0.181164"
      ]
     },
     "metadata": {},
     "output_type": "display_data"
    }
   ],
   "source": [
    "correlation_in_spb_center = (spb_region_flats_center\n",
    "                             .corr()\n",
    "                             .sort_values('last_price', ascending=False)['last_price']\n",
    "                             .reset_index()\n",
    "                            )\n",
    "display(correlation_in_spb_center)\n",
    "#рассчитаем корреляцию для центра города, отсортируем значения и выведим нужные, т.е по столбцу с ценой"
   ]
  },
  {
   "cell_type": "code",
   "execution_count": 886,
   "metadata": {},
   "outputs": [
    {
     "data": {
      "text/html": [
       "<div>\n",
       "<style scoped>\n",
       "    .dataframe tbody tr th:only-of-type {\n",
       "        vertical-align: middle;\n",
       "    }\n",
       "\n",
       "    .dataframe tbody tr th {\n",
       "        vertical-align: top;\n",
       "    }\n",
       "\n",
       "    .dataframe thead th {\n",
       "        text-align: right;\n",
       "    }\n",
       "</style>\n",
       "<table border=\"1\" class=\"dataframe\">\n",
       "  <thead>\n",
       "    <tr style=\"text-align: right;\">\n",
       "      <th></th>\n",
       "      <th>index</th>\n",
       "      <th>last_price</th>\n",
       "    </tr>\n",
       "  </thead>\n",
       "  <tbody>\n",
       "    <tr>\n",
       "      <td>0</td>\n",
       "      <td>last_price</td>\n",
       "      <td>1.000000</td>\n",
       "    </tr>\n",
       "    <tr>\n",
       "      <td>1</td>\n",
       "      <td>total_area</td>\n",
       "      <td>0.788426</td>\n",
       "    </tr>\n",
       "    <tr>\n",
       "      <td>2</td>\n",
       "      <td>living_area</td>\n",
       "      <td>0.653044</td>\n",
       "    </tr>\n",
       "    <tr>\n",
       "      <td>3</td>\n",
       "      <td>rooms</td>\n",
       "      <td>0.518820</td>\n",
       "    </tr>\n",
       "    <tr>\n",
       "      <td>4</td>\n",
       "      <td>kitchen_area</td>\n",
       "      <td>0.515326</td>\n",
       "    </tr>\n",
       "    <tr>\n",
       "      <td>5</td>\n",
       "      <td>km_price</td>\n",
       "      <td>0.511050</td>\n",
       "    </tr>\n",
       "    <tr>\n",
       "      <td>6</td>\n",
       "      <td>sq_metres_price</td>\n",
       "      <td>0.371404</td>\n",
       "    </tr>\n",
       "    <tr>\n",
       "      <td>7</td>\n",
       "      <td>ponds_around_3000</td>\n",
       "      <td>0.159572</td>\n",
       "    </tr>\n",
       "    <tr>\n",
       "      <td>8</td>\n",
       "      <td>total_images</td>\n",
       "      <td>0.152991</td>\n",
       "    </tr>\n",
       "    <tr>\n",
       "      <td>9</td>\n",
       "      <td>parks_around_3000</td>\n",
       "      <td>0.114913</td>\n",
       "    </tr>\n",
       "    <tr>\n",
       "      <td>10</td>\n",
       "      <td>ceiling_height</td>\n",
       "      <td>0.114834</td>\n",
       "    </tr>\n",
       "    <tr>\n",
       "      <td>11</td>\n",
       "      <td>floors_total</td>\n",
       "      <td>0.085124</td>\n",
       "    </tr>\n",
       "    <tr>\n",
       "      <td>12</td>\n",
       "      <td>days_exposition</td>\n",
       "      <td>0.076298</td>\n",
       "    </tr>\n",
       "    <tr>\n",
       "      <td>13</td>\n",
       "      <td>balcony</td>\n",
       "      <td>0.070813</td>\n",
       "    </tr>\n",
       "    <tr>\n",
       "      <td>14</td>\n",
       "      <td>floor</td>\n",
       "      <td>0.062868</td>\n",
       "    </tr>\n",
       "    <tr>\n",
       "      <td>15</td>\n",
       "      <td>type_year_exposition</td>\n",
       "      <td>0.060612</td>\n",
       "    </tr>\n",
       "    <tr>\n",
       "      <td>16</td>\n",
       "      <td>living_area_ratio</td>\n",
       "      <td>0.043214</td>\n",
       "    </tr>\n",
       "    <tr>\n",
       "      <td>17</td>\n",
       "      <td>parks_nearest</td>\n",
       "      <td>0.023166</td>\n",
       "    </tr>\n",
       "    <tr>\n",
       "      <td>18</td>\n",
       "      <td>is_apartment</td>\n",
       "      <td>0.006466</td>\n",
       "    </tr>\n",
       "    <tr>\n",
       "      <td>19</td>\n",
       "      <td>parks_nearest_km</td>\n",
       "      <td>-0.003275</td>\n",
       "    </tr>\n",
       "    <tr>\n",
       "      <td>20</td>\n",
       "      <td>type_day_exposition</td>\n",
       "      <td>-0.003597</td>\n",
       "    </tr>\n",
       "    <tr>\n",
       "      <td>21</td>\n",
       "      <td>airports_nearest</td>\n",
       "      <td>-0.004971</td>\n",
       "    </tr>\n",
       "    <tr>\n",
       "      <td>22</td>\n",
       "      <td>airports_nearest_km</td>\n",
       "      <td>-0.005080</td>\n",
       "    </tr>\n",
       "    <tr>\n",
       "      <td>23</td>\n",
       "      <td>type_month_exposition</td>\n",
       "      <td>-0.007839</td>\n",
       "    </tr>\n",
       "    <tr>\n",
       "      <td>24</td>\n",
       "      <td>ponds_nearest_km</td>\n",
       "      <td>-0.035396</td>\n",
       "    </tr>\n",
       "    <tr>\n",
       "      <td>25</td>\n",
       "      <td>open_plan</td>\n",
       "      <td>-0.053428</td>\n",
       "    </tr>\n",
       "    <tr>\n",
       "      <td>26</td>\n",
       "      <td>ponds_nearest</td>\n",
       "      <td>-0.055557</td>\n",
       "    </tr>\n",
       "    <tr>\n",
       "      <td>27</td>\n",
       "      <td>studio</td>\n",
       "      <td>-0.081966</td>\n",
       "    </tr>\n",
       "    <tr>\n",
       "      <td>28</td>\n",
       "      <td>kitchen_area_ratio</td>\n",
       "      <td>-0.171822</td>\n",
       "    </tr>\n",
       "    <tr>\n",
       "      <td>29</td>\n",
       "      <td>city_centers_nearest</td>\n",
       "      <td>-0.341893</td>\n",
       "    </tr>\n",
       "    <tr>\n",
       "      <td>30</td>\n",
       "      <td>city_centers_nearest_km</td>\n",
       "      <td>-0.342019</td>\n",
       "    </tr>\n",
       "  </tbody>\n",
       "</table>\n",
       "</div>"
      ],
      "text/plain": [
       "                      index  last_price\n",
       "0                last_price    1.000000\n",
       "1                total_area    0.788426\n",
       "2               living_area    0.653044\n",
       "3                     rooms    0.518820\n",
       "4              kitchen_area    0.515326\n",
       "5                  km_price    0.511050\n",
       "6           sq_metres_price    0.371404\n",
       "7         ponds_around_3000    0.159572\n",
       "8              total_images    0.152991\n",
       "9         parks_around_3000    0.114913\n",
       "10           ceiling_height    0.114834\n",
       "11             floors_total    0.085124\n",
       "12          days_exposition    0.076298\n",
       "13                  balcony    0.070813\n",
       "14                    floor    0.062868\n",
       "15     type_year_exposition    0.060612\n",
       "16        living_area_ratio    0.043214\n",
       "17            parks_nearest    0.023166\n",
       "18             is_apartment    0.006466\n",
       "19         parks_nearest_km   -0.003275\n",
       "20      type_day_exposition   -0.003597\n",
       "21         airports_nearest   -0.004971\n",
       "22      airports_nearest_km   -0.005080\n",
       "23    type_month_exposition   -0.007839\n",
       "24         ponds_nearest_km   -0.035396\n",
       "25                open_plan   -0.053428\n",
       "26            ponds_nearest   -0.055557\n",
       "27                   studio   -0.081966\n",
       "28       kitchen_area_ratio   -0.171822\n",
       "29     city_centers_nearest   -0.341893\n",
       "30  city_centers_nearest_km   -0.342019"
      ]
     },
     "metadata": {},
     "output_type": "display_data"
    }
   ],
   "source": [
    "correlation_in_spb = (spb_region_flats\n",
    "                      .corr()\n",
    "                      .sort_values('last_price', ascending=False)['last_price']\n",
    "                      .reset_index()\n",
    "                     )\n",
    "display(correlation_in_spb)\n",
    "#рассчитаем корреляцию для всего города, отсортируем значения и выведим нужные, т.е по столбцу с ценой"
   ]
  },
  {
   "cell_type": "code",
   "execution_count": 887,
   "metadata": {},
   "outputs": [
    {
     "data": {
      "text/html": [
       "<div>\n",
       "<style scoped>\n",
       "    .dataframe tbody tr th:only-of-type {\n",
       "        vertical-align: middle;\n",
       "    }\n",
       "\n",
       "    .dataframe tbody tr th {\n",
       "        vertical-align: top;\n",
       "    }\n",
       "\n",
       "    .dataframe thead th {\n",
       "        text-align: right;\n",
       "    }\n",
       "</style>\n",
       "<table border=\"1\" class=\"dataframe\">\n",
       "  <thead>\n",
       "    <tr style=\"text-align: right;\">\n",
       "      <th></th>\n",
       "      <th>last_price</th>\n",
       "      <th>spb_center_correlation</th>\n",
       "      <th>spb_correlation</th>\n",
       "    </tr>\n",
       "  </thead>\n",
       "  <tbody>\n",
       "    <tr>\n",
       "      <td>0</td>\n",
       "      <td>last_price</td>\n",
       "      <td>1.000000</td>\n",
       "      <td>1.000000</td>\n",
       "    </tr>\n",
       "    <tr>\n",
       "      <td>1</td>\n",
       "      <td>total_area</td>\n",
       "      <td>0.664618</td>\n",
       "      <td>0.788426</td>\n",
       "    </tr>\n",
       "    <tr>\n",
       "      <td>2</td>\n",
       "      <td>living_area</td>\n",
       "      <td>0.598873</td>\n",
       "      <td>0.653044</td>\n",
       "    </tr>\n",
       "    <tr>\n",
       "      <td>3</td>\n",
       "      <td>rooms</td>\n",
       "      <td>0.536772</td>\n",
       "      <td>0.518820</td>\n",
       "    </tr>\n",
       "    <tr>\n",
       "      <td>4</td>\n",
       "      <td>km_price</td>\n",
       "      <td>0.480850</td>\n",
       "      <td>0.511050</td>\n",
       "    </tr>\n",
       "    <tr>\n",
       "      <td>5</td>\n",
       "      <td>kitchen_area</td>\n",
       "      <td>0.341261</td>\n",
       "      <td>0.515326</td>\n",
       "    </tr>\n",
       "    <tr>\n",
       "      <td>6</td>\n",
       "      <td>total_images</td>\n",
       "      <td>0.130354</td>\n",
       "      <td>0.152991</td>\n",
       "    </tr>\n",
       "    <tr>\n",
       "      <td>7</td>\n",
       "      <td>floor</td>\n",
       "      <td>0.106137</td>\n",
       "      <td>0.062868</td>\n",
       "    </tr>\n",
       "    <tr>\n",
       "      <td>8</td>\n",
       "      <td>sq_metres_price</td>\n",
       "      <td>0.091565</td>\n",
       "      <td>0.371404</td>\n",
       "    </tr>\n",
       "    <tr>\n",
       "      <td>9</td>\n",
       "      <td>type_year_exposition</td>\n",
       "      <td>0.087206</td>\n",
       "      <td>0.060612</td>\n",
       "    </tr>\n",
       "    <tr>\n",
       "      <td>10</td>\n",
       "      <td>living_area_ratio</td>\n",
       "      <td>0.085405</td>\n",
       "      <td>0.043214</td>\n",
       "    </tr>\n",
       "    <tr>\n",
       "      <td>11</td>\n",
       "      <td>ceiling_height</td>\n",
       "      <td>0.080489</td>\n",
       "      <td>0.114834</td>\n",
       "    </tr>\n",
       "    <tr>\n",
       "      <td>12</td>\n",
       "      <td>airports_nearest_km</td>\n",
       "      <td>0.077572</td>\n",
       "      <td>-0.005080</td>\n",
       "    </tr>\n",
       "    <tr>\n",
       "      <td>13</td>\n",
       "      <td>airports_nearest</td>\n",
       "      <td>0.075881</td>\n",
       "      <td>-0.004971</td>\n",
       "    </tr>\n",
       "    <tr>\n",
       "      <td>14</td>\n",
       "      <td>ponds_nearest</td>\n",
       "      <td>0.068472</td>\n",
       "      <td>-0.055557</td>\n",
       "    </tr>\n",
       "    <tr>\n",
       "      <td>15</td>\n",
       "      <td>balcony</td>\n",
       "      <td>0.068342</td>\n",
       "      <td>0.070813</td>\n",
       "    </tr>\n",
       "    <tr>\n",
       "      <td>16</td>\n",
       "      <td>days_exposition</td>\n",
       "      <td>0.067460</td>\n",
       "      <td>0.076298</td>\n",
       "    </tr>\n",
       "    <tr>\n",
       "      <td>17</td>\n",
       "      <td>ponds_nearest_km</td>\n",
       "      <td>0.065178</td>\n",
       "      <td>-0.035396</td>\n",
       "    </tr>\n",
       "    <tr>\n",
       "      <td>18</td>\n",
       "      <td>parks_around_3000</td>\n",
       "      <td>0.060297</td>\n",
       "      <td>0.114913</td>\n",
       "    </tr>\n",
       "    <tr>\n",
       "      <td>19</td>\n",
       "      <td>parks_nearest_km</td>\n",
       "      <td>0.033823</td>\n",
       "      <td>-0.003275</td>\n",
       "    </tr>\n",
       "    <tr>\n",
       "      <td>20</td>\n",
       "      <td>floors_total</td>\n",
       "      <td>0.015134</td>\n",
       "      <td>0.085124</td>\n",
       "    </tr>\n",
       "    <tr>\n",
       "      <td>21</td>\n",
       "      <td>is_apartment</td>\n",
       "      <td>-0.001011</td>\n",
       "      <td>0.006466</td>\n",
       "    </tr>\n",
       "    <tr>\n",
       "      <td>22</td>\n",
       "      <td>type_day_exposition</td>\n",
       "      <td>-0.007123</td>\n",
       "      <td>-0.003597</td>\n",
       "    </tr>\n",
       "    <tr>\n",
       "      <td>23</td>\n",
       "      <td>parks_nearest</td>\n",
       "      <td>-0.007996</td>\n",
       "      <td>0.023166</td>\n",
       "    </tr>\n",
       "    <tr>\n",
       "      <td>24</td>\n",
       "      <td>ponds_around_3000</td>\n",
       "      <td>-0.017524</td>\n",
       "      <td>0.159572</td>\n",
       "    </tr>\n",
       "    <tr>\n",
       "      <td>25</td>\n",
       "      <td>city_centers_nearest</td>\n",
       "      <td>-0.089049</td>\n",
       "      <td>-0.341893</td>\n",
       "    </tr>\n",
       "    <tr>\n",
       "      <td>26</td>\n",
       "      <td>open_plan</td>\n",
       "      <td>-0.089183</td>\n",
       "      <td>-0.053428</td>\n",
       "    </tr>\n",
       "    <tr>\n",
       "      <td>27</td>\n",
       "      <td>type_month_exposition</td>\n",
       "      <td>-0.089660</td>\n",
       "      <td>-0.007839</td>\n",
       "    </tr>\n",
       "    <tr>\n",
       "      <td>28</td>\n",
       "      <td>city_centers_nearest_km</td>\n",
       "      <td>-0.092901</td>\n",
       "      <td>-0.342019</td>\n",
       "    </tr>\n",
       "    <tr>\n",
       "      <td>29</td>\n",
       "      <td>studio</td>\n",
       "      <td>-0.113484</td>\n",
       "      <td>-0.081966</td>\n",
       "    </tr>\n",
       "    <tr>\n",
       "      <td>30</td>\n",
       "      <td>kitchen_area_ratio</td>\n",
       "      <td>-0.181164</td>\n",
       "      <td>-0.171822</td>\n",
       "    </tr>\n",
       "  </tbody>\n",
       "</table>\n",
       "</div>"
      ],
      "text/plain": [
       "                 last_price  spb_center_correlation  spb_correlation\n",
       "0                last_price                1.000000         1.000000\n",
       "1                total_area                0.664618         0.788426\n",
       "2               living_area                0.598873         0.653044\n",
       "3                     rooms                0.536772         0.518820\n",
       "4                  km_price                0.480850         0.511050\n",
       "5              kitchen_area                0.341261         0.515326\n",
       "6              total_images                0.130354         0.152991\n",
       "7                     floor                0.106137         0.062868\n",
       "8           sq_metres_price                0.091565         0.371404\n",
       "9      type_year_exposition                0.087206         0.060612\n",
       "10        living_area_ratio                0.085405         0.043214\n",
       "11           ceiling_height                0.080489         0.114834\n",
       "12      airports_nearest_km                0.077572        -0.005080\n",
       "13         airports_nearest                0.075881        -0.004971\n",
       "14            ponds_nearest                0.068472        -0.055557\n",
       "15                  balcony                0.068342         0.070813\n",
       "16          days_exposition                0.067460         0.076298\n",
       "17         ponds_nearest_km                0.065178        -0.035396\n",
       "18        parks_around_3000                0.060297         0.114913\n",
       "19         parks_nearest_km                0.033823        -0.003275\n",
       "20             floors_total                0.015134         0.085124\n",
       "21             is_apartment               -0.001011         0.006466\n",
       "22      type_day_exposition               -0.007123        -0.003597\n",
       "23            parks_nearest               -0.007996         0.023166\n",
       "24        ponds_around_3000               -0.017524         0.159572\n",
       "25     city_centers_nearest               -0.089049        -0.341893\n",
       "26                open_plan               -0.089183        -0.053428\n",
       "27    type_month_exposition               -0.089660        -0.007839\n",
       "28  city_centers_nearest_km               -0.092901        -0.342019\n",
       "29                   studio               -0.113484        -0.081966\n",
       "30       kitchen_area_ratio               -0.181164        -0.171822"
      ]
     },
     "metadata": {},
     "output_type": "display_data"
    }
   ],
   "source": [
    "total_correlation = correlation_in_spb_center.merge(correlation_in_spb, on='index', suffixes=('_spb_center', '_spb'))\n",
    "total_correlation.columns = ['last_price', 'spb_center_correlation', 'spb_correlation']\n",
    "display(total_correlation)\n",
    "\n",
    "#объединим две таблицы, переименуем названия колонок"
   ]
  },
  {
   "cell_type": "markdown",
   "metadata": {},
   "source": [
    "У квартир как в центре так и в целом по всему Петербургу стоимость в большей степени зависит от площади квартиры, количества комнат и удаленности от центра. Чем дальше квартира тем ниже цена. В центре чуть большее значение придают наличию рядом парков и водоемов. "
   ]
  },
  {
   "cell_type": "markdown",
   "metadata": {},
   "source": [
    "Проанализируем динамику появления объявлений по годам."
   ]
  },
  {
   "cell_type": "code",
   "execution_count": 888,
   "metadata": {},
   "outputs": [
    {
     "data": {
      "text/plain": [
       "Text(0.5, 1.0, 'Last price depending on the year exposition of flats in Saint P. center')"
      ]
     },
     "execution_count": 888,
     "metadata": {},
     "output_type": "execute_result"
    },
    {
     "data": {
      "image/png": "[encoded data removed]",
      "text/plain": [
       "<Figure size 432x288 with 1 Axes>"
      ]
     },
     "metadata": {
      "needs_background": "light"
     },
     "output_type": "display_data"
    }
   ],
   "source": [
    "spb_region_flats_center.pivot_table(index ='type_year_exposition', values='last_price', aggfunc='count').plot(style='-',legend=True, color='red')\n",
    "plt.xlabel('last_price, roubles')\n",
    "plt.ylabel('year exposition')\n",
    "plt.title(\"Last price depending on the year exposition of flats in Saint P. center\", fontsize=10)"
   ]
  },
  {
   "cell_type": "code",
   "execution_count": 889,
   "metadata": {},
   "outputs": [
    {
     "data": {
      "text/plain": [
       "Text(0.5, 1.0, 'Last price depending on the year exposition of flats in Saint P. region')"
      ]
     },
     "execution_count": 889,
     "metadata": {},
     "output_type": "execute_result"
    },
    {
     "data": {
      "image/png": "[encoded data removed]",
      "text/plain": [
       "<Figure size 432x288 with 1 Axes>"
      ]
     },
     "metadata": {
      "needs_background": "light"
     },
     "output_type": "display_data"
    }
   ],
   "source": [
    "spb_region_flats.pivot_table(index ='type_year_exposition', values='last_price', aggfunc='count').plot(style='-',legend=True)\n",
    "plt.xlabel('last_price, roubles')\n",
    "plt.ylabel('year exposition')\n",
    "plt.title(\"Last price depending on the year exposition of flats in Saint P. region\", fontsize=10)"
   ]
  },
  {
   "cell_type": "markdown",
   "metadata": {},
   "source": [
    "Из графиков выше видим, что всплеск продаж пришелся на 2017-2018 года. Причем для квартир в центре сразу после 2017 года начался спад. А для Санкт-Петербурга в целом количество объявлений продолжило расти до 2018 года."
   ]
  },
  {
   "cell_type": "markdown",
   "metadata": {},
   "source": [
    "## Общий вывод"
   ]
  },
  {
   "cell_type": "markdown",
   "metadata": {},
   "source": [
    "Резюме:\n",
    "\n",
    "В целом:\n",
    "- Преобладают квартиры стоимостью от 3 до 4.5 млн. руб. Чаще всего продаются квартиры с площадью от 40 до 45 кв.м. Больше всего в объявлениях представлены однокомнатные и двухкомнатные квартиры. Наиболее популярны и скорее всего стандартны квартиры с высотой потолка в 2.5 метра. Чаще квартиры продаются на 3й-4й месяц после отображения объявлений.\n",
    "\n",
    "- Чем больше площадь квартиры и количество комнат - тем она дороже. Стоимость квартир не сильно зависит от этажа. Стоит только отметить, что цена за первый этаж ниже. Наиболее \"популярными\" днями по закрытию объявлению являются: вторник, четверг и пятница.\n",
    "\n",
    "- В Санкт-Петербурге наибольшее число объявлений и наивысшая цена за квадратный метр. Последним в десятке по количеству объявлений а также по средней цене за квадратный метр оказался Выборг.\n",
    "\n",
    "По центральному району Санкт Петербурга:\n",
    "- большая часть квартир площадью около 65 кв. м., стоимостью от 7 до 8.5 млн. руб., двухкомнатные, с высотой потолка около 3х метров.\n",
    "\n",
    "У квартир как в центре так и в целом по всему Петербургу стоимость в большей степени зависит от площади квартиры, количества комнат и удаленности от центра. Чем дальше квартира тем ниже цена. В центре чуть большее значение придают наличию рядом парков и водоемов.\n",
    "\n",
    "Всплеск продаж пришелся на 2017-2018 года. Причем для квартир в центре сразу после 2017 года начался спад. А для Санкт-Петербурга в целом количество объявлений продолжило расти до 2018 года.\n",
    "\n",
    "\n"
   ]
  }
 ],
 "metadata": {
  "ExecuteTimeLog": [
   {
    "duration": 1235,
    "start_time": "2021-09-28T14:44:57.501Z"
   },
   {
    "duration": 100,
    "start_time": "2021-09-28T14:45:19.717Z"
   },
   {
    "duration": 180,
    "start_time": "2021-09-28T14:45:30.818Z"
   },
   {
    "duration": 105,
    "start_time": "2021-09-28T14:46:33.146Z"
   },
   {
    "duration": 76,
    "start_time": "2021-09-28T14:46:54.767Z"
   },
   {
    "duration": 78,
    "start_time": "2021-09-28T14:47:14.440Z"
   },
   {
    "duration": 76,
    "start_time": "2021-09-28T14:47:17.472Z"
   },
   {
    "duration": 78,
    "start_time": "2021-09-28T14:47:32.584Z"
   },
   {
    "duration": 78,
    "start_time": "2021-09-28T14:49:24.949Z"
   },
   {
    "duration": 78,
    "start_time": "2021-09-28T15:12:55.875Z"
   },
   {
    "duration": 130,
    "start_time": "2021-09-28T15:13:49.666Z"
   },
   {
    "duration": 98,
    "start_time": "2021-09-28T15:14:22.727Z"
   },
   {
    "duration": 89,
    "start_time": "2021-09-28T15:14:27.497Z"
   },
   {
    "duration": 82,
    "start_time": "2021-09-28T15:14:34.559Z"
   },
   {
    "duration": 119,
    "start_time": "2021-09-28T15:14:55.638Z"
   },
   {
    "duration": 20,
    "start_time": "2021-09-28T15:23:02.067Z"
   },
   {
    "duration": 14,
    "start_time": "2021-09-28T15:50:00.248Z"
   },
   {
    "duration": 115,
    "start_time": "2021-09-28T15:50:35.417Z"
   },
   {
    "duration": 19,
    "start_time": "2021-09-28T15:50:37.445Z"
   },
   {
    "duration": 14,
    "start_time": "2021-09-28T15:50:48.448Z"
   },
   {
    "duration": 14,
    "start_time": "2021-09-28T15:51:00.605Z"
   },
   {
    "duration": 331,
    "start_time": "2021-09-29T14:32:32.587Z"
   },
   {
    "duration": 899,
    "start_time": "2021-09-29T14:32:38.538Z"
   },
   {
    "duration": 23,
    "start_time": "2021-09-29T14:32:39.440Z"
   },
   {
    "duration": 36,
    "start_time": "2021-09-29T14:32:39.465Z"
   },
   {
    "duration": 36,
    "start_time": "2021-09-29T14:33:22.517Z"
   },
   {
    "duration": 38,
    "start_time": "2021-09-29T14:33:59.641Z"
   },
   {
    "duration": 42,
    "start_time": "2021-09-29T14:34:41.754Z"
   },
   {
    "duration": 119,
    "start_time": "2021-09-29T14:34:58.592Z"
   },
   {
    "duration": 10,
    "start_time": "2021-09-29T14:35:59.151Z"
   },
   {
    "duration": 36,
    "start_time": "2021-09-29T15:30:08.410Z"
   },
   {
    "duration": 9,
    "start_time": "2021-09-29T15:30:21.727Z"
   },
   {
    "duration": 8,
    "start_time": "2021-09-29T15:30:53.615Z"
   },
   {
    "duration": 36,
    "start_time": "2021-09-29T15:31:03.682Z"
   },
   {
    "duration": 38,
    "start_time": "2021-09-29T15:31:33.264Z"
   },
   {
    "duration": 11,
    "start_time": "2021-09-29T15:31:39.945Z"
   },
   {
    "duration": 10,
    "start_time": "2021-09-29T15:44:54.225Z"
   },
   {
    "duration": 52,
    "start_time": "2021-09-29T15:44:57.597Z"
   },
   {
    "duration": 9,
    "start_time": "2021-09-29T15:51:24.724Z"
   },
   {
    "duration": 36,
    "start_time": "2021-09-29T15:51:30.882Z"
   },
   {
    "duration": 36,
    "start_time": "2021-09-29T16:30:13.593Z"
   },
   {
    "duration": 364,
    "start_time": "2021-09-29T16:32:12.955Z"
   },
   {
    "duration": 33,
    "start_time": "2021-09-29T16:32:52.482Z"
   },
   {
    "duration": 5,
    "start_time": "2021-09-29T16:41:36.941Z"
   },
   {
    "duration": 9,
    "start_time": "2021-09-29T16:42:17.085Z"
   },
   {
    "duration": 5,
    "start_time": "2021-09-29T16:42:34.151Z"
   },
   {
    "duration": 392,
    "start_time": "2021-09-30T14:27:28.300Z"
   },
   {
    "duration": 948,
    "start_time": "2021-09-30T14:27:34.272Z"
   },
   {
    "duration": 17,
    "start_time": "2021-09-30T14:27:35.222Z"
   },
   {
    "duration": 439,
    "start_time": "2021-09-30T14:27:35.241Z"
   },
   {
    "duration": -11,
    "start_time": "2021-09-30T14:27:35.693Z"
   },
   {
    "duration": 3117,
    "start_time": "2021-09-30T14:28:15.528Z"
   },
   {
    "duration": 141,
    "start_time": "2021-09-30T14:28:29.820Z"
   },
   {
    "duration": 15,
    "start_time": "2021-09-30T14:28:29.968Z"
   },
   {
    "duration": 2857,
    "start_time": "2021-09-30T14:28:29.986Z"
   },
   {
    "duration": 42,
    "start_time": "2021-09-30T14:28:32.845Z"
   },
   {
    "duration": 121,
    "start_time": "2021-09-30T14:39:12.055Z"
   },
   {
    "duration": 464,
    "start_time": "2021-09-30T14:39:33.102Z"
   },
   {
    "duration": 3188,
    "start_time": "2021-09-30T14:43:00.627Z"
   },
   {
    "duration": 41,
    "start_time": "2021-09-30T14:49:57.328Z"
   },
   {
    "duration": 2867,
    "start_time": "2021-09-30T15:39:08.543Z"
   },
   {
    "duration": -40,
    "start_time": "2021-09-30T15:40:17.732Z"
   },
   {
    "duration": -42,
    "start_time": "2021-09-30T15:40:17.736Z"
   },
   {
    "duration": -43,
    "start_time": "2021-09-30T15:40:17.739Z"
   },
   {
    "duration": -42,
    "start_time": "2021-09-30T15:40:17.740Z"
   },
   {
    "duration": -93,
    "start_time": "2021-09-30T15:40:17.792Z"
   },
   {
    "duration": 11757,
    "start_time": "2021-09-30T16:09:43.902Z"
   },
   {
    "duration": 46,
    "start_time": "2021-09-30T16:09:55.662Z"
   },
   {
    "duration": 24515,
    "start_time": "2021-09-30T16:18:35.405Z"
   },
   {
    "duration": 40,
    "start_time": "2021-09-30T16:19:04.180Z"
   },
   {
    "duration": 34,
    "start_time": "2021-09-30T16:19:29.386Z"
   },
   {
    "duration": 1113,
    "start_time": "2021-09-30T16:43:50.049Z"
   },
   {
    "duration": 6,
    "start_time": "2021-09-30T16:44:35.105Z"
   },
   {
    "duration": 8,
    "start_time": "2021-09-30T16:50:58.802Z"
   },
   {
    "duration": 134,
    "start_time": "2021-09-30T16:51:27.235Z"
   },
   {
    "duration": 18,
    "start_time": "2021-09-30T16:51:27.372Z"
   },
   {
    "duration": 24544,
    "start_time": "2021-09-30T16:51:27.394Z"
   },
   {
    "duration": 8,
    "start_time": "2021-09-30T16:51:51.941Z"
   },
   {
    "duration": 47,
    "start_time": "2021-09-30T16:51:51.952Z"
   },
   {
    "duration": 19,
    "start_time": "2021-09-30T16:52:19.746Z"
   },
   {
    "duration": 36,
    "start_time": "2021-09-30T17:00:45.521Z"
   },
   {
    "duration": 363,
    "start_time": "2021-10-01T05:22:18.991Z"
   },
   {
    "duration": 908,
    "start_time": "2021-10-01T05:22:22.331Z"
   },
   {
    "duration": 29,
    "start_time": "2021-10-01T05:22:23.243Z"
   },
   {
    "duration": 2860,
    "start_time": "2021-10-01T05:22:23.275Z"
   },
   {
    "duration": 46,
    "start_time": "2021-10-01T05:22:26.138Z"
   },
   {
    "duration": 20895,
    "start_time": "2021-10-01T05:22:26.186Z"
   },
   {
    "duration": 8,
    "start_time": "2021-10-01T05:22:47.083Z"
   },
   {
    "duration": 34,
    "start_time": "2021-10-01T05:22:47.093Z"
   },
   {
    "duration": 47,
    "start_time": "2021-10-01T05:22:47.129Z"
   },
   {
    "duration": 3159,
    "start_time": "2021-10-01T05:23:43.705Z"
   },
   {
    "duration": 35,
    "start_time": "2021-10-01T05:23:48.451Z"
   },
   {
    "duration": 370,
    "start_time": "2021-10-01T05:28:48.927Z"
   },
   {
    "duration": 112,
    "start_time": "2021-10-01T05:28:53.714Z"
   },
   {
    "duration": 46,
    "start_time": "2021-10-01T05:53:00.032Z"
   },
   {
    "duration": 312,
    "start_time": "2021-10-01T09:16:04.570Z"
   },
   {
    "duration": 5,
    "start_time": "2021-10-01T09:16:11.205Z"
   },
   {
    "duration": 17,
    "start_time": "2021-10-01T09:22:25.166Z"
   },
   {
    "duration": 19,
    "start_time": "2021-10-01T09:23:05.360Z"
   },
   {
    "duration": 14,
    "start_time": "2021-10-01T11:18:46.942Z"
   },
   {
    "duration": 17,
    "start_time": "2021-10-01T11:19:08.602Z"
   },
   {
    "duration": 121,
    "start_time": "2021-10-01T11:23:22.288Z"
   },
   {
    "duration": 14,
    "start_time": "2021-10-01T11:23:22.412Z"
   },
   {
    "duration": 122,
    "start_time": "2021-10-01T11:23:22.429Z"
   },
   {
    "duration": 38,
    "start_time": "2021-10-01T11:23:22.562Z"
   },
   {
    "duration": 11,
    "start_time": "2021-10-01T11:23:22.602Z"
   },
   {
    "duration": 16,
    "start_time": "2021-10-01T11:23:22.616Z"
   },
   {
    "duration": 2582,
    "start_time": "2021-10-01T11:23:22.663Z"
   },
   {
    "duration": 45,
    "start_time": "2021-10-01T11:23:25.248Z"
   },
   {
    "duration": 9,
    "start_time": "2021-10-01T11:23:25.296Z"
   },
   {
    "duration": 61,
    "start_time": "2021-10-01T11:23:25.307Z"
   },
   {
    "duration": 19,
    "start_time": "2021-10-01T11:23:25.371Z"
   },
   {
    "duration": 428,
    "start_time": "2021-10-01T11:32:29.431Z"
   },
   {
    "duration": 20,
    "start_time": "2021-10-01T11:32:39.446Z"
   },
   {
    "duration": 20,
    "start_time": "2021-10-01T11:32:48.392Z"
   },
   {
    "duration": 127,
    "start_time": "2021-10-01T11:33:00.636Z"
   },
   {
    "duration": 23,
    "start_time": "2021-10-01T11:33:15.737Z"
   },
   {
    "duration": 30,
    "start_time": "2021-10-01T11:33:35.854Z"
   },
   {
    "duration": 13,
    "start_time": "2021-10-01T11:33:46.636Z"
   },
   {
    "duration": 14,
    "start_time": "2021-10-01T11:33:55.377Z"
   },
   {
    "duration": 123,
    "start_time": "2021-10-01T11:44:21.538Z"
   },
   {
    "duration": 17,
    "start_time": "2021-10-01T11:44:21.664Z"
   },
   {
    "duration": 147,
    "start_time": "2021-10-01T11:44:21.684Z"
   },
   {
    "duration": 56,
    "start_time": "2021-10-01T11:44:21.833Z"
   },
   {
    "duration": 11,
    "start_time": "2021-10-01T11:44:21.891Z"
   },
   {
    "duration": 16,
    "start_time": "2021-10-01T11:44:21.904Z"
   },
   {
    "duration": 72,
    "start_time": "2021-10-01T11:44:21.923Z"
   },
   {
    "duration": 23,
    "start_time": "2021-10-01T11:44:21.999Z"
   },
   {
    "duration": 24,
    "start_time": "2021-10-01T12:17:45.845Z"
   },
   {
    "duration": 8,
    "start_time": "2021-10-01T14:24:21.133Z"
   },
   {
    "duration": 41,
    "start_time": "2021-10-01T14:25:00.735Z"
   },
   {
    "duration": 23,
    "start_time": "2021-10-01T14:25:12.154Z"
   },
   {
    "duration": 5,
    "start_time": "2021-10-01T14:26:09.950Z"
   },
   {
    "duration": 3,
    "start_time": "2021-10-01T14:43:33.551Z"
   },
   {
    "duration": 361,
    "start_time": "2021-10-01T15:40:49.046Z"
   },
   {
    "duration": 13,
    "start_time": "2021-10-01T15:40:53.698Z"
   },
   {
    "duration": 400,
    "start_time": "2021-10-01T15:41:17.807Z"
   },
   {
    "duration": 9,
    "start_time": "2021-10-01T15:41:28.383Z"
   },
   {
    "duration": 42,
    "start_time": "2021-10-01T15:42:15.732Z"
   },
   {
    "duration": 5,
    "start_time": "2021-10-01T15:58:17.138Z"
   },
   {
    "duration": 6,
    "start_time": "2021-10-01T15:58:27.037Z"
   },
   {
    "duration": 20,
    "start_time": "2021-10-01T15:59:01.056Z"
   },
   {
    "duration": 16,
    "start_time": "2021-10-01T15:59:10.599Z"
   },
   {
    "duration": 132,
    "start_time": "2021-10-01T16:10:43.007Z"
   },
   {
    "duration": 23,
    "start_time": "2021-10-01T16:10:43.142Z"
   },
   {
    "duration": 118,
    "start_time": "2021-10-01T16:10:43.167Z"
   },
   {
    "duration": 38,
    "start_time": "2021-10-01T16:10:43.288Z"
   },
   {
    "duration": 38,
    "start_time": "2021-10-01T16:10:43.329Z"
   },
   {
    "duration": 21,
    "start_time": "2021-10-01T16:10:43.369Z"
   },
   {
    "duration": 32,
    "start_time": "2021-10-01T16:10:43.392Z"
   },
   {
    "duration": 50,
    "start_time": "2021-10-01T16:10:43.428Z"
   },
   {
    "duration": 25,
    "start_time": "2021-10-01T16:10:43.480Z"
   },
   {
    "duration": 15,
    "start_time": "2021-10-01T16:10:43.508Z"
   },
   {
    "duration": 581,
    "start_time": "2021-10-01T16:23:26.412Z"
   },
   {
    "duration": 12,
    "start_time": "2021-10-01T16:24:35.080Z"
   },
   {
    "duration": 165,
    "start_time": "2021-10-01T16:27:31.824Z"
   },
   {
    "duration": 7994,
    "start_time": "2021-10-01T16:33:43.952Z"
   },
   {
    "duration": 12,
    "start_time": "2021-10-01T16:33:53.544Z"
   },
   {
    "duration": 39,
    "start_time": "2021-10-01T16:34:14.874Z"
   },
   {
    "duration": 15,
    "start_time": "2021-10-01T16:34:28.382Z"
   },
   {
    "duration": 129,
    "start_time": "2021-10-01T16:35:15.190Z"
   },
   {
    "duration": 18,
    "start_time": "2021-10-01T16:35:15.322Z"
   },
   {
    "duration": 166,
    "start_time": "2021-10-01T16:35:15.343Z"
   },
   {
    "duration": 53,
    "start_time": "2021-10-01T16:35:15.512Z"
   },
   {
    "duration": 12,
    "start_time": "2021-10-01T16:35:15.568Z"
   },
   {
    "duration": 14,
    "start_time": "2021-10-01T16:35:15.582Z"
   },
   {
    "duration": 33,
    "start_time": "2021-10-01T16:35:15.599Z"
   },
   {
    "duration": 25,
    "start_time": "2021-10-01T16:35:15.664Z"
   },
   {
    "duration": 29,
    "start_time": "2021-10-01T16:35:15.692Z"
   },
   {
    "duration": 47,
    "start_time": "2021-10-01T16:35:15.724Z"
   },
   {
    "duration": 11,
    "start_time": "2021-10-01T16:35:15.774Z"
   },
   {
    "duration": 15,
    "start_time": "2021-10-01T16:35:15.787Z"
   },
   {
    "duration": 61,
    "start_time": "2021-10-01T16:35:15.805Z"
   },
   {
    "duration": 17,
    "start_time": "2021-10-01T16:35:15.869Z"
   },
   {
    "duration": 110,
    "start_time": "2021-10-01T17:01:17.392Z"
   },
   {
    "duration": 279,
    "start_time": "2021-10-02T07:35:43.412Z"
   },
   {
    "duration": 633,
    "start_time": "2021-10-02T07:35:47.971Z"
   },
   {
    "duration": 10,
    "start_time": "2021-10-02T07:35:48.606Z"
   },
   {
    "duration": 68,
    "start_time": "2021-10-02T07:35:48.618Z"
   },
   {
    "duration": 23,
    "start_time": "2021-10-02T07:35:48.688Z"
   },
   {
    "duration": 7,
    "start_time": "2021-10-02T07:35:48.713Z"
   },
   {
    "duration": 23,
    "start_time": "2021-10-02T07:35:48.721Z"
   },
   {
    "duration": 21,
    "start_time": "2021-10-02T07:35:48.746Z"
   },
   {
    "duration": 13,
    "start_time": "2021-10-02T07:35:48.770Z"
   },
   {
    "duration": 21,
    "start_time": "2021-10-02T07:35:48.785Z"
   },
   {
    "duration": 9,
    "start_time": "2021-10-02T07:35:48.808Z"
   },
   {
    "duration": 29,
    "start_time": "2021-10-02T07:35:48.818Z"
   },
   {
    "duration": 8,
    "start_time": "2021-10-02T07:35:48.848Z"
   },
   {
    "duration": 23,
    "start_time": "2021-10-02T07:35:48.857Z"
   },
   {
    "duration": 10,
    "start_time": "2021-10-02T07:35:48.882Z"
   },
   {
    "duration": 4,
    "start_time": "2021-10-02T07:35:48.893Z"
   },
   {
    "duration": 21,
    "start_time": "2021-10-02T07:39:27.936Z"
   },
   {
    "duration": 6,
    "start_time": "2021-10-02T07:54:54.736Z"
   },
   {
    "duration": 27,
    "start_time": "2021-10-02T07:54:57.935Z"
   },
   {
    "duration": 6,
    "start_time": "2021-10-02T07:57:48.626Z"
   },
   {
    "duration": 20,
    "start_time": "2021-10-02T07:57:49.545Z"
   },
   {
    "duration": 11,
    "start_time": "2021-10-02T07:58:59.386Z"
   },
   {
    "duration": 21,
    "start_time": "2021-10-02T07:59:00.192Z"
   },
   {
    "duration": 264,
    "start_time": "2021-10-02T08:28:21.647Z"
   },
   {
    "duration": 4,
    "start_time": "2021-10-02T08:28:30.159Z"
   },
   {
    "duration": 95,
    "start_time": "2021-10-02T09:04:00.831Z"
   },
   {
    "duration": 90,
    "start_time": "2021-10-02T09:04:06.416Z"
   },
   {
    "duration": 323,
    "start_time": "2021-10-02T09:04:17.845Z"
   },
   {
    "duration": 1005,
    "start_time": "2021-10-02T09:06:16.516Z"
   },
   {
    "duration": 1167,
    "start_time": "2021-10-02T09:08:56.211Z"
   },
   {
    "duration": 1187,
    "start_time": "2021-10-02T09:10:02.274Z"
   },
   {
    "duration": 4691,
    "start_time": "2021-10-02T09:10:57.130Z"
   },
   {
    "duration": 491,
    "start_time": "2021-10-02T09:12:52.022Z"
   },
   {
    "duration": 20,
    "start_time": "2021-10-02T09:12:54.904Z"
   },
   {
    "duration": 431,
    "start_time": "2021-10-02T09:16:02.622Z"
   },
   {
    "duration": 20,
    "start_time": "2021-10-02T09:16:03.348Z"
   },
   {
    "duration": 980,
    "start_time": "2021-10-02T18:04:04.394Z"
   },
   {
    "duration": 15,
    "start_time": "2021-10-02T18:04:05.377Z"
   },
   {
    "duration": 122,
    "start_time": "2021-10-02T18:04:05.395Z"
   },
   {
    "duration": 38,
    "start_time": "2021-10-02T18:04:05.520Z"
   },
   {
    "duration": 13,
    "start_time": "2021-10-02T18:04:05.560Z"
   },
   {
    "duration": 41,
    "start_time": "2021-10-02T18:04:05.575Z"
   },
   {
    "duration": 31,
    "start_time": "2021-10-02T18:04:05.619Z"
   },
   {
    "duration": 23,
    "start_time": "2021-10-02T18:04:05.652Z"
   },
   {
    "duration": 59,
    "start_time": "2021-10-02T18:04:05.679Z"
   },
   {
    "duration": 15,
    "start_time": "2021-10-02T18:04:05.740Z"
   },
   {
    "duration": 13,
    "start_time": "2021-10-02T18:04:05.758Z"
   },
   {
    "duration": 42,
    "start_time": "2021-10-02T18:04:05.774Z"
   },
   {
    "duration": 35,
    "start_time": "2021-10-02T18:04:05.819Z"
   },
   {
    "duration": 21,
    "start_time": "2021-10-02T18:04:05.856Z"
   },
   {
    "duration": 6,
    "start_time": "2021-10-02T18:04:05.879Z"
   },
   {
    "duration": 44,
    "start_time": "2021-10-02T18:04:05.887Z"
   },
   {
    "duration": 800,
    "start_time": "2021-10-02T18:04:05.934Z"
   },
   {
    "duration": 7,
    "start_time": "2021-10-02T18:04:06.737Z"
   },
   {
    "duration": 41,
    "start_time": "2021-10-02T18:04:06.746Z"
   },
   {
    "duration": 6,
    "start_time": "2021-10-02T18:08:47.864Z"
   },
   {
    "duration": 16,
    "start_time": "2021-10-02T18:08:49.735Z"
   },
   {
    "duration": 921,
    "start_time": "2021-10-02T18:08:53.069Z"
   },
   {
    "duration": 7,
    "start_time": "2021-10-02T18:08:55.189Z"
   },
   {
    "duration": 8,
    "start_time": "2021-10-02T18:09:34.952Z"
   },
   {
    "duration": 39,
    "start_time": "2021-10-02T18:09:35.835Z"
   },
   {
    "duration": 7,
    "start_time": "2021-10-02T18:11:15.833Z"
   },
   {
    "duration": 8,
    "start_time": "2021-10-02T18:12:42.864Z"
   },
   {
    "duration": 7,
    "start_time": "2021-10-02T18:12:56.213Z"
   },
   {
    "duration": 6,
    "start_time": "2021-10-02T18:13:34.678Z"
   },
   {
    "duration": 125,
    "start_time": "2021-10-02T18:14:23.025Z"
   },
   {
    "duration": 107,
    "start_time": "2021-10-02T18:14:31.351Z"
   },
   {
    "duration": 197,
    "start_time": "2021-10-02T18:14:34.706Z"
   },
   {
    "duration": 414,
    "start_time": "2021-10-02T18:14:45.978Z"
   },
   {
    "duration": 24,
    "start_time": "2021-10-02T18:14:59.467Z"
   },
   {
    "duration": 40,
    "start_time": "2021-10-02T18:15:08.206Z"
   },
   {
    "duration": 69,
    "start_time": "2021-10-02T18:16:01.321Z"
   },
   {
    "duration": 100,
    "start_time": "2021-10-02T18:17:10.348Z"
   },
   {
    "duration": 5,
    "start_time": "2021-10-02T18:17:42.057Z"
   },
   {
    "duration": 119,
    "start_time": "2021-10-02T18:18:19.539Z"
   },
   {
    "duration": 131,
    "start_time": "2021-10-02T18:19:40.612Z"
   },
   {
    "duration": 159,
    "start_time": "2021-10-02T18:44:09.681Z"
   },
   {
    "duration": 748,
    "start_time": "2021-10-03T07:31:35.947Z"
   },
   {
    "duration": 11,
    "start_time": "2021-10-03T07:31:36.698Z"
   },
   {
    "duration": 89,
    "start_time": "2021-10-03T07:31:36.711Z"
   },
   {
    "duration": 25,
    "start_time": "2021-10-03T07:31:36.802Z"
   },
   {
    "duration": 26,
    "start_time": "2021-10-03T07:31:36.829Z"
   },
   {
    "duration": 11,
    "start_time": "2021-10-03T07:31:36.861Z"
   },
   {
    "duration": 19,
    "start_time": "2021-10-03T07:31:36.874Z"
   },
   {
    "duration": 13,
    "start_time": "2021-10-03T07:31:36.895Z"
   },
   {
    "duration": 58,
    "start_time": "2021-10-03T07:31:36.909Z"
   },
   {
    "duration": 10,
    "start_time": "2021-10-03T07:31:36.968Z"
   },
   {
    "duration": 17,
    "start_time": "2021-10-03T07:31:36.979Z"
   },
   {
    "duration": 8,
    "start_time": "2021-10-03T07:31:36.998Z"
   },
   {
    "duration": 27,
    "start_time": "2021-10-03T07:31:37.007Z"
   },
   {
    "duration": 30,
    "start_time": "2021-10-03T07:31:37.035Z"
   },
   {
    "duration": 4,
    "start_time": "2021-10-03T07:31:37.067Z"
   },
   {
    "duration": 22,
    "start_time": "2021-10-03T07:31:37.072Z"
   },
   {
    "duration": 533,
    "start_time": "2021-10-03T07:31:37.095Z"
   },
   {
    "duration": 5,
    "start_time": "2021-10-03T07:31:37.630Z"
   },
   {
    "duration": 36,
    "start_time": "2021-10-03T07:31:37.637Z"
   },
   {
    "duration": 98,
    "start_time": "2021-10-03T07:31:37.675Z"
   },
   {
    "duration": 82,
    "start_time": "2021-10-03T07:31:37.774Z"
   },
   {
    "duration": 94,
    "start_time": "2021-10-03T07:33:05.516Z"
   },
   {
    "duration": 13,
    "start_time": "2021-10-03T07:33:05.612Z"
   },
   {
    "duration": 142,
    "start_time": "2021-10-03T07:33:05.628Z"
   },
   {
    "duration": 26,
    "start_time": "2021-10-03T07:33:05.773Z"
   },
   {
    "duration": 10,
    "start_time": "2021-10-03T07:33:05.801Z"
   },
   {
    "duration": 36,
    "start_time": "2021-10-03T07:33:05.813Z"
   },
   {
    "duration": 23,
    "start_time": "2021-10-03T07:33:05.852Z"
   },
   {
    "duration": 15,
    "start_time": "2021-10-03T07:33:05.877Z"
   },
   {
    "duration": 23,
    "start_time": "2021-10-03T07:33:05.895Z"
   },
   {
    "duration": 37,
    "start_time": "2021-10-03T07:33:05.920Z"
   },
   {
    "duration": 11,
    "start_time": "2021-10-03T07:33:05.959Z"
   },
   {
    "duration": 9,
    "start_time": "2021-10-03T07:33:05.972Z"
   },
   {
    "duration": 39,
    "start_time": "2021-10-03T07:33:05.982Z"
   },
   {
    "duration": 26,
    "start_time": "2021-10-03T07:33:06.023Z"
   },
   {
    "duration": 5,
    "start_time": "2021-10-03T07:33:06.051Z"
   },
   {
    "duration": 21,
    "start_time": "2021-10-03T07:33:06.057Z"
   },
   {
    "duration": 479,
    "start_time": "2021-10-03T07:33:06.080Z"
   },
   {
    "duration": 6,
    "start_time": "2021-10-03T07:33:06.561Z"
   },
   {
    "duration": 31,
    "start_time": "2021-10-03T07:33:06.569Z"
   },
   {
    "duration": 100,
    "start_time": "2021-10-03T07:33:06.602Z"
   },
   {
    "duration": 2,
    "start_time": "2021-10-03T07:33:06.704Z"
   },
   {
    "duration": 9,
    "start_time": "2021-10-03T07:33:06.708Z"
   },
   {
    "duration": 342,
    "start_time": "2021-10-03T07:34:03.848Z"
   },
   {
    "duration": 372,
    "start_time": "2021-10-03T07:34:10.536Z"
   },
   {
    "duration": 334,
    "start_time": "2021-10-03T07:34:28.585Z"
   },
   {
    "duration": 313,
    "start_time": "2021-10-03T07:36:06.346Z"
   },
   {
    "duration": 405,
    "start_time": "2021-10-03T07:36:14.379Z"
   },
   {
    "duration": 333,
    "start_time": "2021-10-03T07:36:55.006Z"
   },
   {
    "duration": 327,
    "start_time": "2021-10-03T07:37:33.536Z"
   },
   {
    "duration": 340,
    "start_time": "2021-10-03T07:40:07.692Z"
   },
   {
    "duration": 313,
    "start_time": "2021-10-03T07:40:19.446Z"
   },
   {
    "duration": 9,
    "start_time": "2021-10-03T07:44:16.843Z"
   },
   {
    "duration": 426,
    "start_time": "2021-10-03T07:45:08.400Z"
   },
   {
    "duration": 346,
    "start_time": "2021-10-03T07:45:20.195Z"
   },
   {
    "duration": 349,
    "start_time": "2021-10-03T07:45:28.910Z"
   },
   {
    "duration": 315,
    "start_time": "2021-10-03T08:00:53.809Z"
   },
   {
    "duration": 315,
    "start_time": "2021-10-03T08:01:00.514Z"
   },
   {
    "duration": 7,
    "start_time": "2021-10-03T08:01:59.121Z"
   },
   {
    "duration": 305,
    "start_time": "2021-10-03T08:03:25.648Z"
   },
   {
    "duration": 434,
    "start_time": "2021-10-03T08:03:37.307Z"
   },
   {
    "duration": 311,
    "start_time": "2021-10-03T08:03:58.791Z"
   },
   {
    "duration": 318,
    "start_time": "2021-10-03T08:04:50.975Z"
   },
   {
    "duration": 241,
    "start_time": "2021-10-03T08:06:49.162Z"
   },
   {
    "duration": 223,
    "start_time": "2021-10-03T08:06:56.503Z"
   },
   {
    "duration": 171,
    "start_time": "2021-10-03T08:07:16.912Z"
   },
   {
    "duration": 196,
    "start_time": "2021-10-03T08:07:24.146Z"
   },
   {
    "duration": 203,
    "start_time": "2021-10-03T08:07:31.658Z"
   },
   {
    "duration": 74,
    "start_time": "2021-10-03T08:08:07.504Z"
   },
   {
    "duration": 472,
    "start_time": "2021-10-03T08:19:39.287Z"
   },
   {
    "duration": 322,
    "start_time": "2021-10-03T08:19:53.412Z"
   },
   {
    "duration": 329,
    "start_time": "2021-10-03T08:20:00.179Z"
   },
   {
    "duration": 203,
    "start_time": "2021-10-03T08:27:43.653Z"
   },
   {
    "duration": 226,
    "start_time": "2021-10-03T08:27:52.439Z"
   },
   {
    "duration": 202,
    "start_time": "2021-10-03T08:28:56.630Z"
   },
   {
    "duration": 219,
    "start_time": "2021-10-03T08:30:32.639Z"
   },
   {
    "duration": 10,
    "start_time": "2021-10-03T08:30:53.137Z"
   },
   {
    "duration": 122,
    "start_time": "2021-10-03T08:33:57.474Z"
   },
   {
    "duration": 315,
    "start_time": "2021-10-03T08:34:38.246Z"
   },
   {
    "duration": 6,
    "start_time": "2021-10-03T08:37:04.641Z"
   },
   {
    "duration": 6,
    "start_time": "2021-10-03T08:37:16.108Z"
   },
   {
    "duration": 25,
    "start_time": "2021-10-03T08:37:55.014Z"
   },
   {
    "duration": 5,
    "start_time": "2021-10-03T08:40:21.087Z"
   },
   {
    "duration": 17,
    "start_time": "2021-10-03T08:40:50.674Z"
   },
   {
    "duration": 89,
    "start_time": "2021-10-03T08:40:57.532Z"
   },
   {
    "duration": 32,
    "start_time": "2021-10-03T08:40:57.623Z"
   },
   {
    "duration": 67,
    "start_time": "2021-10-03T08:40:57.657Z"
   },
   {
    "duration": 37,
    "start_time": "2021-10-03T08:40:57.725Z"
   },
   {
    "duration": 8,
    "start_time": "2021-10-03T08:40:57.764Z"
   },
   {
    "duration": 10,
    "start_time": "2021-10-03T08:40:57.774Z"
   },
   {
    "duration": 20,
    "start_time": "2021-10-03T08:40:57.786Z"
   },
   {
    "duration": 42,
    "start_time": "2021-10-03T08:40:57.808Z"
   },
   {
    "duration": 18,
    "start_time": "2021-10-03T08:40:57.852Z"
   },
   {
    "duration": 10,
    "start_time": "2021-10-03T08:40:57.872Z"
   },
   {
    "duration": 9,
    "start_time": "2021-10-03T08:40:57.883Z"
   },
   {
    "duration": 8,
    "start_time": "2021-10-03T08:40:57.894Z"
   },
   {
    "duration": 49,
    "start_time": "2021-10-03T08:40:57.904Z"
   },
   {
    "duration": 9,
    "start_time": "2021-10-03T08:40:57.955Z"
   },
   {
    "duration": 10,
    "start_time": "2021-10-03T08:40:57.965Z"
   },
   {
    "duration": 4,
    "start_time": "2021-10-03T08:40:57.977Z"
   },
   {
    "duration": 15,
    "start_time": "2021-10-03T08:40:57.982Z"
   },
   {
    "duration": 663,
    "start_time": "2021-10-03T08:40:57.999Z"
   },
   {
    "duration": 6,
    "start_time": "2021-10-03T08:40:58.664Z"
   },
   {
    "duration": 24,
    "start_time": "2021-10-03T08:40:58.672Z"
   },
   {
    "duration": 101,
    "start_time": "2021-10-03T08:40:58.697Z"
   },
   {
    "duration": 2,
    "start_time": "2021-10-03T08:40:58.799Z"
   },
   {
    "duration": 332,
    "start_time": "2021-10-03T08:40:58.804Z"
   },
   {
    "duration": 414,
    "start_time": "2021-10-03T08:40:59.138Z"
   },
   {
    "duration": 200,
    "start_time": "2021-10-03T08:40:59.554Z"
   },
   {
    "duration": 320,
    "start_time": "2021-10-03T08:40:59.756Z"
   },
   {
    "duration": 331,
    "start_time": "2021-10-03T08:41:00.078Z"
   },
   {
    "duration": 10,
    "start_time": "2021-10-03T08:41:00.411Z"
   },
   {
    "duration": 149,
    "start_time": "2021-10-03T08:41:00.423Z"
   },
   {
    "duration": 12,
    "start_time": "2021-10-03T08:43:54.144Z"
   },
   {
    "duration": 96,
    "start_time": "2021-10-03T08:44:10.907Z"
   },
   {
    "duration": 12,
    "start_time": "2021-10-03T08:44:11.005Z"
   },
   {
    "duration": 98,
    "start_time": "2021-10-03T08:44:11.019Z"
   },
   {
    "duration": 40,
    "start_time": "2021-10-03T08:44:11.120Z"
   },
   {
    "duration": 8,
    "start_time": "2021-10-03T08:44:11.163Z"
   },
   {
    "duration": 12,
    "start_time": "2021-10-03T08:44:11.173Z"
   },
   {
    "duration": 21,
    "start_time": "2021-10-03T08:44:11.187Z"
   },
   {
    "duration": 49,
    "start_time": "2021-10-03T08:44:11.210Z"
   },
   {
    "duration": 29,
    "start_time": "2021-10-03T08:44:11.263Z"
   },
   {
    "duration": 14,
    "start_time": "2021-10-03T08:44:11.295Z"
   },
   {
    "duration": 66,
    "start_time": "2021-10-03T08:44:11.312Z"
   },
   {
    "duration": 6,
    "start_time": "2021-10-03T08:44:11.380Z"
   },
   {
    "duration": 14,
    "start_time": "2021-10-03T08:44:11.389Z"
   },
   {
    "duration": 13,
    "start_time": "2021-10-03T08:44:11.406Z"
   },
   {
    "duration": 28,
    "start_time": "2021-10-03T08:44:11.421Z"
   },
   {
    "duration": 16,
    "start_time": "2021-10-03T08:44:11.452Z"
   },
   {
    "duration": 815,
    "start_time": "2021-10-03T08:44:11.470Z"
   },
   {
    "duration": 10,
    "start_time": "2021-10-03T08:44:12.287Z"
   },
   {
    "duration": 53,
    "start_time": "2021-10-03T08:44:12.299Z"
   },
   {
    "duration": 139,
    "start_time": "2021-10-03T08:44:12.354Z"
   },
   {
    "duration": 3,
    "start_time": "2021-10-03T08:44:12.496Z"
   },
   {
    "duration": 727,
    "start_time": "2021-10-03T08:44:12.501Z"
   },
   {
    "duration": 335,
    "start_time": "2021-10-03T08:44:13.230Z"
   },
   {
    "duration": 212,
    "start_time": "2021-10-03T08:44:13.567Z"
   },
   {
    "duration": 336,
    "start_time": "2021-10-03T08:44:13.782Z"
   },
   {
    "duration": 338,
    "start_time": "2021-10-03T08:44:14.120Z"
   },
   {
    "duration": 8,
    "start_time": "2021-10-03T08:44:14.462Z"
   },
   {
    "duration": 135,
    "start_time": "2021-10-03T08:44:14.472Z"
   },
   {
    "duration": 131,
    "start_time": "2021-10-03T08:59:15.162Z"
   },
   {
    "duration": 116,
    "start_time": "2021-10-03T09:02:45.878Z"
   },
   {
    "duration": 128,
    "start_time": "2021-10-03T09:03:15.839Z"
   },
   {
    "duration": 116,
    "start_time": "2021-10-03T09:05:35.746Z"
   },
   {
    "duration": 37,
    "start_time": "2021-10-03T11:38:23.873Z"
   },
   {
    "duration": 333,
    "start_time": "2021-10-03T11:38:48.702Z"
   },
   {
    "duration": 36,
    "start_time": "2021-10-03T11:39:05.675Z"
   },
   {
    "duration": 251,
    "start_time": "2021-10-03T11:39:36.514Z"
   },
   {
    "duration": 127,
    "start_time": "2021-10-03T11:40:06.703Z"
   },
   {
    "duration": 121,
    "start_time": "2021-10-03T11:40:18.373Z"
   },
   {
    "duration": 124,
    "start_time": "2021-10-03T11:40:40.301Z"
   },
   {
    "duration": 120,
    "start_time": "2021-10-03T11:40:58.360Z"
   },
   {
    "duration": 122,
    "start_time": "2021-10-03T11:41:32.246Z"
   },
   {
    "duration": 31,
    "start_time": "2021-10-03T11:43:18.890Z"
   },
   {
    "duration": 10,
    "start_time": "2021-10-03T12:41:57.387Z"
   },
   {
    "duration": 332,
    "start_time": "2021-10-03T12:43:03.209Z"
   },
   {
    "duration": 340,
    "start_time": "2021-10-03T12:43:49.996Z"
   },
   {
    "duration": 539,
    "start_time": "2021-10-03T12:59:55.113Z"
   },
   {
    "duration": 305,
    "start_time": "2021-10-03T13:00:17.253Z"
   },
   {
    "duration": 310,
    "start_time": "2021-10-03T13:01:13.801Z"
   },
   {
    "duration": 9,
    "start_time": "2021-10-03T13:09:47.433Z"
   },
   {
    "duration": 80,
    "start_time": "2021-10-03T13:10:58.028Z"
   },
   {
    "duration": 324,
    "start_time": "2021-10-03T13:11:09.126Z"
   },
   {
    "duration": 463,
    "start_time": "2021-10-03T13:11:17.852Z"
   },
   {
    "duration": 252,
    "start_time": "2021-10-03T13:11:26.014Z"
   },
   {
    "duration": 221,
    "start_time": "2021-10-03T13:11:41.989Z"
   },
   {
    "duration": 241,
    "start_time": "2021-10-03T13:11:56.897Z"
   },
   {
    "duration": 133,
    "start_time": "2021-10-03T13:13:29.479Z"
   },
   {
    "duration": 134,
    "start_time": "2021-10-03T13:13:45.636Z"
   },
   {
    "duration": 130,
    "start_time": "2021-10-03T13:13:52.330Z"
   },
   {
    "duration": 131,
    "start_time": "2021-10-03T13:14:02.883Z"
   },
   {
    "duration": 120,
    "start_time": "2021-10-03T13:16:16.854Z"
   },
   {
    "duration": 132,
    "start_time": "2021-10-03T13:17:59.525Z"
   },
   {
    "duration": 122,
    "start_time": "2021-10-03T13:18:14.402Z"
   },
   {
    "duration": 121,
    "start_time": "2021-10-03T13:19:07.743Z"
   },
   {
    "duration": 133,
    "start_time": "2021-10-03T13:19:14.046Z"
   },
   {
    "duration": 29,
    "start_time": "2021-10-03T13:22:04.357Z"
   },
   {
    "duration": 41,
    "start_time": "2021-10-03T13:22:47.527Z"
   },
   {
    "duration": 123,
    "start_time": "2021-10-03T13:31:56.026Z"
   },
   {
    "duration": 113,
    "start_time": "2021-10-03T14:26:14.503Z"
   },
   {
    "duration": 242,
    "start_time": "2021-10-03T14:26:37.026Z"
   },
   {
    "duration": 13,
    "start_time": "2021-10-03T14:26:53.154Z"
   },
   {
    "duration": 135,
    "start_time": "2021-10-03T14:32:02.328Z"
   },
   {
    "duration": 124,
    "start_time": "2021-10-03T14:32:11.690Z"
   },
   {
    "duration": 138,
    "start_time": "2021-10-03T14:32:21.341Z"
   },
   {
    "duration": 487,
    "start_time": "2021-10-03T14:35:07.968Z"
   },
   {
    "duration": 10,
    "start_time": "2021-10-03T14:37:36.568Z"
   },
   {
    "duration": 127,
    "start_time": "2021-10-03T14:37:37.227Z"
   },
   {
    "duration": 9,
    "start_time": "2021-10-03T14:37:48.033Z"
   },
   {
    "duration": 42,
    "start_time": "2021-10-03T14:41:24.837Z"
   },
   {
    "duration": 427,
    "start_time": "2021-10-03T14:46:03.258Z"
   },
   {
    "duration": 670,
    "start_time": "2021-10-03T14:46:44.620Z"
   },
   {
    "duration": 744,
    "start_time": "2021-10-03T14:56:28.173Z"
   },
   {
    "duration": 11,
    "start_time": "2021-10-03T14:57:15.962Z"
   },
   {
    "duration": 97,
    "start_time": "2021-10-03T14:57:36.941Z"
   },
   {
    "duration": 23,
    "start_time": "2021-10-03T14:57:37.040Z"
   },
   {
    "duration": 115,
    "start_time": "2021-10-03T14:57:37.066Z"
   },
   {
    "duration": 33,
    "start_time": "2021-10-03T14:57:37.184Z"
   },
   {
    "duration": 9,
    "start_time": "2021-10-03T14:57:37.219Z"
   },
   {
    "duration": 30,
    "start_time": "2021-10-03T14:57:37.229Z"
   },
   {
    "duration": 22,
    "start_time": "2021-10-03T14:57:37.261Z"
   },
   {
    "duration": 15,
    "start_time": "2021-10-03T14:57:37.285Z"
   },
   {
    "duration": 60,
    "start_time": "2021-10-03T14:57:37.302Z"
   },
   {
    "duration": 13,
    "start_time": "2021-10-03T14:57:37.365Z"
   },
   {
    "duration": 25,
    "start_time": "2021-10-03T14:57:37.380Z"
   },
   {
    "duration": 8,
    "start_time": "2021-10-03T14:57:37.406Z"
   },
   {
    "duration": 11,
    "start_time": "2021-10-03T14:57:37.416Z"
   },
   {
    "duration": 27,
    "start_time": "2021-10-03T14:57:37.429Z"
   },
   {
    "duration": 8,
    "start_time": "2021-10-03T14:57:37.458Z"
   },
   {
    "duration": 14,
    "start_time": "2021-10-03T14:57:37.468Z"
   },
   {
    "duration": 527,
    "start_time": "2021-10-03T14:57:37.484Z"
   },
   {
    "duration": 8,
    "start_time": "2021-10-03T14:57:38.013Z"
   },
   {
    "duration": 33,
    "start_time": "2021-10-03T14:57:38.022Z"
   },
   {
    "duration": 108,
    "start_time": "2021-10-03T14:57:38.057Z"
   },
   {
    "duration": 3,
    "start_time": "2021-10-03T14:57:38.167Z"
   },
   {
    "duration": 346,
    "start_time": "2021-10-03T14:57:38.171Z"
   },
   {
    "duration": 338,
    "start_time": "2021-10-03T14:57:38.521Z"
   },
   {
    "duration": 217,
    "start_time": "2021-10-03T14:57:38.862Z"
   },
   {
    "duration": 351,
    "start_time": "2021-10-03T14:57:39.081Z"
   },
   {
    "duration": 348,
    "start_time": "2021-10-03T14:57:39.433Z"
   },
   {
    "duration": 11,
    "start_time": "2021-10-03T14:57:39.783Z"
   },
   {
    "duration": 153,
    "start_time": "2021-10-03T14:57:39.796Z"
   },
   {
    "duration": 136,
    "start_time": "2021-10-03T14:57:39.951Z"
   },
   {
    "duration": 141,
    "start_time": "2021-10-03T14:57:40.089Z"
   },
   {
    "duration": 335,
    "start_time": "2021-10-03T14:57:40.232Z"
   },
   {
    "duration": 10,
    "start_time": "2021-10-03T14:57:40.570Z"
   },
   {
    "duration": 249,
    "start_time": "2021-10-03T14:57:40.582Z"
   },
   {
    "duration": 141,
    "start_time": "2021-10-03T14:57:40.833Z"
   },
   {
    "duration": 29,
    "start_time": "2021-10-03T14:57:40.975Z"
   },
   {
    "duration": 9,
    "start_time": "2021-10-03T14:57:41.006Z"
   },
   {
    "duration": 9,
    "start_time": "2021-10-03T14:57:41.016Z"
   },
   {
    "duration": 970,
    "start_time": "2021-10-03T14:57:41.027Z"
   },
   {
    "duration": 10,
    "start_time": "2021-10-03T14:58:52.968Z"
   },
   {
    "duration": 9,
    "start_time": "2021-10-03T14:58:55.204Z"
   },
   {
    "duration": 10,
    "start_time": "2021-10-03T14:59:51.727Z"
   },
   {
    "duration": 5,
    "start_time": "2021-10-03T15:12:50.095Z"
   },
   {
    "duration": 152,
    "start_time": "2021-10-03T15:19:42.671Z"
   },
   {
    "duration": 6,
    "start_time": "2021-10-03T15:20:52.669Z"
   },
   {
    "duration": 129,
    "start_time": "2021-10-03T15:45:06.265Z"
   },
   {
    "duration": 237,
    "start_time": "2021-10-03T15:46:49.864Z"
   },
   {
    "duration": 77,
    "start_time": "2021-10-03T15:46:58.575Z"
   },
   {
    "duration": 819,
    "start_time": "2021-10-03T15:47:10.009Z"
   },
   {
    "duration": 5,
    "start_time": "2021-10-03T15:47:55.166Z"
   },
   {
    "duration": 128,
    "start_time": "2021-10-03T15:49:49.760Z"
   },
   {
    "duration": 12,
    "start_time": "2021-10-03T15:54:00.897Z"
   },
   {
    "duration": 193,
    "start_time": "2021-10-03T15:54:12.929Z"
   },
   {
    "duration": 477,
    "start_time": "2021-10-03T15:54:40.190Z"
   },
   {
    "duration": 163,
    "start_time": "2021-10-03T15:55:04.532Z"
   },
   {
    "duration": 24,
    "start_time": "2021-10-03T16:24:24.202Z"
   },
   {
    "duration": 257,
    "start_time": "2021-10-03T16:25:27.124Z"
   },
   {
    "duration": 23,
    "start_time": "2021-10-03T16:25:41.751Z"
   },
   {
    "duration": 19,
    "start_time": "2021-10-03T16:26:00.339Z"
   },
   {
    "duration": 255,
    "start_time": "2021-10-03T16:27:26.144Z"
   },
   {
    "duration": 26,
    "start_time": "2021-10-03T16:27:36.128Z"
   },
   {
    "duration": 23,
    "start_time": "2021-10-03T16:28:17.605Z"
   },
   {
    "duration": 22,
    "start_time": "2021-10-03T16:28:37.259Z"
   },
   {
    "duration": 90,
    "start_time": "2021-10-03T16:35:17.313Z"
   },
   {
    "duration": 80,
    "start_time": "2021-10-03T17:55:43.033Z"
   },
   {
    "duration": 6,
    "start_time": "2021-10-03T18:08:34.695Z"
   },
   {
    "duration": 4,
    "start_time": "2021-10-03T18:09:14.725Z"
   },
   {
    "duration": 83,
    "start_time": "2021-10-03T18:09:43.538Z"
   },
   {
    "duration": 10,
    "start_time": "2021-10-03T18:09:43.623Z"
   },
   {
    "duration": 80,
    "start_time": "2021-10-03T18:09:43.634Z"
   },
   {
    "duration": 44,
    "start_time": "2021-10-03T18:09:43.716Z"
   },
   {
    "duration": 7,
    "start_time": "2021-10-03T18:09:43.762Z"
   },
   {
    "duration": 15,
    "start_time": "2021-10-03T18:09:43.771Z"
   },
   {
    "duration": 19,
    "start_time": "2021-10-03T18:09:43.787Z"
   },
   {
    "duration": 14,
    "start_time": "2021-10-03T18:09:43.808Z"
   },
   {
    "duration": 16,
    "start_time": "2021-10-03T18:09:43.850Z"
   },
   {
    "duration": 7,
    "start_time": "2021-10-03T18:09:43.869Z"
   },
   {
    "duration": 24,
    "start_time": "2021-10-03T18:09:43.878Z"
   },
   {
    "duration": 4,
    "start_time": "2021-10-03T18:09:43.904Z"
   },
   {
    "duration": 13,
    "start_time": "2021-10-03T18:09:43.910Z"
   },
   {
    "duration": 10,
    "start_time": "2021-10-03T18:09:43.949Z"
   },
   {
    "duration": 4,
    "start_time": "2021-10-03T18:09:43.961Z"
   },
   {
    "duration": 14,
    "start_time": "2021-10-03T18:09:43.967Z"
   },
   {
    "duration": 476,
    "start_time": "2021-10-03T18:09:43.982Z"
   },
   {
    "duration": 7,
    "start_time": "2021-10-03T18:09:44.460Z"
   },
   {
    "duration": 21,
    "start_time": "2021-10-03T18:09:44.469Z"
   },
   {
    "duration": 99,
    "start_time": "2021-10-03T18:09:44.492Z"
   },
   {
    "duration": 2,
    "start_time": "2021-10-03T18:09:44.593Z"
   },
   {
    "duration": 323,
    "start_time": "2021-10-03T18:09:44.596Z"
   },
   {
    "duration": 321,
    "start_time": "2021-10-03T18:09:44.921Z"
   },
   {
    "duration": 258,
    "start_time": "2021-10-03T18:09:45.250Z"
   },
   {
    "duration": 357,
    "start_time": "2021-10-03T18:09:45.510Z"
   },
   {
    "duration": 322,
    "start_time": "2021-10-03T18:09:45.869Z"
   },
   {
    "duration": 8,
    "start_time": "2021-10-03T18:09:46.195Z"
   },
   {
    "duration": 151,
    "start_time": "2021-10-03T18:09:46.205Z"
   },
   {
    "duration": 132,
    "start_time": "2021-10-03T18:09:46.357Z"
   },
   {
    "duration": 143,
    "start_time": "2021-10-03T18:09:46.491Z"
   },
   {
    "duration": 316,
    "start_time": "2021-10-03T18:09:46.637Z"
   },
   {
    "duration": 10,
    "start_time": "2021-10-03T18:09:46.955Z"
   },
   {
    "duration": 153,
    "start_time": "2021-10-03T18:09:46.967Z"
   },
   {
    "duration": 130,
    "start_time": "2021-10-03T18:09:47.122Z"
   },
   {
    "duration": 28,
    "start_time": "2021-10-03T18:09:47.254Z"
   },
   {
    "duration": 9,
    "start_time": "2021-10-03T18:09:47.284Z"
   },
   {
    "duration": 721,
    "start_time": "2021-10-03T18:09:47.295Z"
   },
   {
    "duration": 7,
    "start_time": "2021-10-03T18:09:48.018Z"
   },
   {
    "duration": 168,
    "start_time": "2021-10-03T18:09:48.027Z"
   },
   {
    "duration": 5,
    "start_time": "2021-10-03T18:09:48.197Z"
   },
   {
    "duration": 146,
    "start_time": "2021-10-03T18:09:48.204Z"
   },
   {
    "duration": 5,
    "start_time": "2021-10-03T18:09:48.352Z"
   },
   {
    "duration": 176,
    "start_time": "2021-10-03T18:09:48.359Z"
   },
   {
    "duration": 27,
    "start_time": "2021-10-03T18:09:48.537Z"
   },
   {
    "duration": 5,
    "start_time": "2021-10-03T18:09:48.565Z"
   },
   {
    "duration": 4,
    "start_time": "2021-10-03T18:10:18.651Z"
   },
   {
    "duration": 36,
    "start_time": "2021-10-03T18:11:08.099Z"
   },
   {
    "duration": 4,
    "start_time": "2021-10-03T18:12:51.552Z"
   },
   {
    "duration": 77,
    "start_time": "2021-10-03T18:14:20.126Z"
   },
   {
    "duration": 5,
    "start_time": "2021-10-03T18:14:34.329Z"
   },
   {
    "duration": 86,
    "start_time": "2021-10-03T18:14:44.928Z"
   },
   {
    "duration": 12,
    "start_time": "2021-10-03T18:14:45.016Z"
   },
   {
    "duration": 81,
    "start_time": "2021-10-03T18:14:45.031Z"
   },
   {
    "duration": 35,
    "start_time": "2021-10-03T18:14:45.115Z"
   },
   {
    "duration": 10,
    "start_time": "2021-10-03T18:14:45.152Z"
   },
   {
    "duration": 24,
    "start_time": "2021-10-03T18:14:45.163Z"
   },
   {
    "duration": 23,
    "start_time": "2021-10-03T18:14:45.189Z"
   },
   {
    "duration": 16,
    "start_time": "2021-10-03T18:14:45.214Z"
   },
   {
    "duration": 32,
    "start_time": "2021-10-03T18:14:45.232Z"
   },
   {
    "duration": 8,
    "start_time": "2021-10-03T18:14:45.266Z"
   },
   {
    "duration": 41,
    "start_time": "2021-10-03T18:14:45.275Z"
   },
   {
    "duration": 18,
    "start_time": "2021-10-03T18:14:45.317Z"
   },
   {
    "duration": 28,
    "start_time": "2021-10-03T18:14:45.336Z"
   },
   {
    "duration": 23,
    "start_time": "2021-10-03T18:14:45.366Z"
   },
   {
    "duration": 17,
    "start_time": "2021-10-03T18:14:45.391Z"
   },
   {
    "duration": 21,
    "start_time": "2021-10-03T18:14:45.410Z"
   },
   {
    "duration": 471,
    "start_time": "2021-10-03T18:14:45.433Z"
   },
   {
    "duration": 8,
    "start_time": "2021-10-03T18:14:45.906Z"
   },
   {
    "duration": 42,
    "start_time": "2021-10-03T18:14:45.915Z"
   },
   {
    "duration": 84,
    "start_time": "2021-10-03T18:14:45.959Z"
   },
   {
    "duration": 3,
    "start_time": "2021-10-03T18:14:46.050Z"
   },
   {
    "duration": 748,
    "start_time": "2021-10-03T18:14:46.055Z"
   },
   {
    "duration": 322,
    "start_time": "2021-10-03T18:14:46.806Z"
   },
   {
    "duration": 223,
    "start_time": "2021-10-03T18:14:47.130Z"
   },
   {
    "duration": 336,
    "start_time": "2021-10-03T18:14:47.355Z"
   },
   {
    "duration": 326,
    "start_time": "2021-10-03T18:14:47.693Z"
   },
   {
    "duration": 8,
    "start_time": "2021-10-03T18:14:48.023Z"
   },
   {
    "duration": 152,
    "start_time": "2021-10-03T18:14:48.033Z"
   },
   {
    "duration": 128,
    "start_time": "2021-10-03T18:14:48.186Z"
   },
   {
    "duration": 132,
    "start_time": "2021-10-03T18:14:48.315Z"
   },
   {
    "duration": 322,
    "start_time": "2021-10-03T18:14:48.448Z"
   },
   {
    "duration": 9,
    "start_time": "2021-10-03T18:14:48.771Z"
   },
   {
    "duration": 145,
    "start_time": "2021-10-03T18:14:48.781Z"
   },
   {
    "duration": 131,
    "start_time": "2021-10-03T18:14:48.927Z"
   },
   {
    "duration": 28,
    "start_time": "2021-10-03T18:14:49.059Z"
   },
   {
    "duration": 8,
    "start_time": "2021-10-03T18:14:49.089Z"
   },
   {
    "duration": 704,
    "start_time": "2021-10-03T18:14:49.098Z"
   },
   {
    "duration": 5,
    "start_time": "2021-10-03T18:14:49.803Z"
   },
   {
    "duration": 162,
    "start_time": "2021-10-03T18:14:49.809Z"
   },
   {
    "duration": 4,
    "start_time": "2021-10-03T18:14:49.973Z"
   },
   {
    "duration": 138,
    "start_time": "2021-10-03T18:14:49.979Z"
   },
   {
    "duration": 5,
    "start_time": "2021-10-03T18:14:50.118Z"
   },
   {
    "duration": 175,
    "start_time": "2021-10-03T18:14:50.124Z"
   },
   {
    "duration": 24,
    "start_time": "2021-10-03T18:14:50.300Z"
   },
   {
    "duration": 305,
    "start_time": "2021-10-04T11:30:28.858Z"
   },
   {
    "duration": 744,
    "start_time": "2021-10-04T11:30:33.811Z"
   },
   {
    "duration": 11,
    "start_time": "2021-10-04T11:30:34.557Z"
   },
   {
    "duration": 82,
    "start_time": "2021-10-04T11:30:34.581Z"
   },
   {
    "duration": 50,
    "start_time": "2021-10-04T11:30:34.665Z"
   },
   {
    "duration": 10,
    "start_time": "2021-10-04T11:30:34.717Z"
   },
   {
    "duration": 10,
    "start_time": "2021-10-04T11:30:34.729Z"
   },
   {
    "duration": 45,
    "start_time": "2021-10-04T11:30:34.740Z"
   },
   {
    "duration": 17,
    "start_time": "2021-10-04T11:30:34.789Z"
   },
   {
    "duration": 21,
    "start_time": "2021-10-04T11:30:34.808Z"
   },
   {
    "duration": 9,
    "start_time": "2021-10-04T11:30:34.831Z"
   },
   {
    "duration": 66,
    "start_time": "2021-10-04T11:30:34.842Z"
   },
   {
    "duration": 5,
    "start_time": "2021-10-04T11:30:34.910Z"
   },
   {
    "duration": 13,
    "start_time": "2021-10-04T11:30:34.916Z"
   },
   {
    "duration": 10,
    "start_time": "2021-10-04T11:30:34.931Z"
   },
   {
    "duration": 5,
    "start_time": "2021-10-04T11:30:34.943Z"
   },
   {
    "duration": 40,
    "start_time": "2021-10-04T11:30:34.949Z"
   },
   {
    "duration": 559,
    "start_time": "2021-10-04T11:30:34.991Z"
   },
   {
    "duration": 6,
    "start_time": "2021-10-04T11:30:35.552Z"
   },
   {
    "duration": 39,
    "start_time": "2021-10-04T11:30:35.560Z"
   },
   {
    "duration": 111,
    "start_time": "2021-10-04T11:30:35.602Z"
   },
   {
    "duration": 97,
    "start_time": "2021-10-04T11:30:35.714Z"
   },
   {
    "duration": 461,
    "start_time": "2021-10-04T11:30:35.813Z"
   },
   {
    "duration": 426,
    "start_time": "2021-10-04T11:30:36.279Z"
   },
   {
    "duration": 260,
    "start_time": "2021-10-04T11:30:36.708Z"
   },
   {
    "duration": 438,
    "start_time": "2021-10-04T11:30:36.970Z"
   },
   {
    "duration": 400,
    "start_time": "2021-10-04T11:30:37.410Z"
   },
   {
    "duration": 9,
    "start_time": "2021-10-04T11:30:37.812Z"
   },
   {
    "duration": 174,
    "start_time": "2021-10-04T11:30:37.823Z"
   },
   {
    "duration": 154,
    "start_time": "2021-10-04T11:30:37.999Z"
   },
   {
    "duration": 229,
    "start_time": "2021-10-04T11:30:38.155Z"
   },
   {
    "duration": 387,
    "start_time": "2021-10-04T11:30:38.387Z"
   },
   {
    "duration": 12,
    "start_time": "2021-10-04T11:30:38.777Z"
   },
   {
    "duration": 179,
    "start_time": "2021-10-04T11:30:38.791Z"
   },
   {
    "duration": 163,
    "start_time": "2021-10-04T11:30:38.971Z"
   },
   {
    "duration": 41,
    "start_time": "2021-10-04T11:30:39.136Z"
   },
   {
    "duration": 17,
    "start_time": "2021-10-04T11:30:39.180Z"
   },
   {
    "duration": 859,
    "start_time": "2021-10-04T11:30:39.200Z"
   },
   {
    "duration": 15,
    "start_time": "2021-10-04T11:30:40.061Z"
   },
   {
    "duration": 197,
    "start_time": "2021-10-04T11:30:40.081Z"
   },
   {
    "duration": 7,
    "start_time": "2021-10-04T11:30:40.281Z"
   },
   {
    "duration": 177,
    "start_time": "2021-10-04T11:30:40.290Z"
   },
   {
    "duration": 15,
    "start_time": "2021-10-04T11:30:40.469Z"
   },
   {
    "duration": 228,
    "start_time": "2021-10-04T11:30:40.487Z"
   },
   {
    "duration": 24,
    "start_time": "2021-10-04T11:30:40.717Z"
   },
   {
    "duration": 43,
    "start_time": "2021-10-04T11:30:40.743Z"
   },
   {
    "duration": 300,
    "start_time": "2021-10-04T11:32:16.929Z"
   },
   {
    "duration": 264,
    "start_time": "2021-10-04T11:32:28.262Z"
   },
   {
    "duration": 19,
    "start_time": "2021-10-04T11:33:03.578Z"
   },
   {
    "duration": 5,
    "start_time": "2021-10-04T11:33:29.739Z"
   },
   {
    "duration": 16,
    "start_time": "2021-10-04T11:33:32.434Z"
   },
   {
    "duration": 24,
    "start_time": "2021-10-04T11:34:09.127Z"
   },
   {
    "duration": 9,
    "start_time": "2021-10-04T11:34:31.801Z"
   },
   {
    "duration": 88,
    "start_time": "2021-10-04T11:34:50.807Z"
   },
   {
    "duration": 7,
    "start_time": "2021-10-04T11:35:00.291Z"
   },
   {
    "duration": 25,
    "start_time": "2021-10-04T11:35:11.722Z"
   },
   {
    "duration": 273,
    "start_time": "2021-10-04T13:13:09.300Z"
   },
   {
    "duration": 90,
    "start_time": "2021-10-04T13:13:19.322Z"
   },
   {
    "duration": 11,
    "start_time": "2021-10-04T13:13:19.414Z"
   },
   {
    "duration": 78,
    "start_time": "2021-10-04T13:13:19.427Z"
   },
   {
    "duration": 24,
    "start_time": "2021-10-04T13:13:19.507Z"
   },
   {
    "duration": 7,
    "start_time": "2021-10-04T13:13:19.533Z"
   },
   {
    "duration": 39,
    "start_time": "2021-10-04T13:13:19.542Z"
   },
   {
    "duration": 32,
    "start_time": "2021-10-04T13:13:19.583Z"
   },
   {
    "duration": 15,
    "start_time": "2021-10-04T13:13:19.617Z"
   },
   {
    "duration": 21,
    "start_time": "2021-10-04T13:13:19.634Z"
   },
   {
    "duration": 25,
    "start_time": "2021-10-04T13:13:19.656Z"
   },
   {
    "duration": 42,
    "start_time": "2021-10-04T13:13:19.683Z"
   },
   {
    "duration": 14,
    "start_time": "2021-10-04T13:13:19.727Z"
   },
   {
    "duration": 278,
    "start_time": "2021-10-04T13:13:19.742Z"
   },
   {
    "duration": -5,
    "start_time": "2021-10-04T13:13:20.028Z"
   },
   {
    "duration": -6,
    "start_time": "2021-10-04T13:13:20.030Z"
   },
   {
    "duration": -8,
    "start_time": "2021-10-04T13:13:20.033Z"
   },
   {
    "duration": -35,
    "start_time": "2021-10-04T13:13:20.061Z"
   },
   {
    "duration": -41,
    "start_time": "2021-10-04T13:13:20.068Z"
   },
   {
    "duration": -43,
    "start_time": "2021-10-04T13:13:20.071Z"
   },
   {
    "duration": -45,
    "start_time": "2021-10-04T13:13:20.074Z"
   },
   {
    "duration": -46,
    "start_time": "2021-10-04T13:13:20.076Z"
   },
   {
    "duration": -47,
    "start_time": "2021-10-04T13:13:20.078Z"
   },
   {
    "duration": -48,
    "start_time": "2021-10-04T13:13:20.081Z"
   },
   {
    "duration": -49,
    "start_time": "2021-10-04T13:13:20.083Z"
   },
   {
    "duration": -50,
    "start_time": "2021-10-04T13:13:20.085Z"
   },
   {
    "duration": -52,
    "start_time": "2021-10-04T13:13:20.088Z"
   },
   {
    "duration": -53,
    "start_time": "2021-10-04T13:13:20.090Z"
   },
   {
    "duration": -55,
    "start_time": "2021-10-04T13:13:20.093Z"
   },
   {
    "duration": -56,
    "start_time": "2021-10-04T13:13:20.095Z"
   },
   {
    "duration": -57,
    "start_time": "2021-10-04T13:13:20.097Z"
   },
   {
    "duration": -59,
    "start_time": "2021-10-04T13:13:20.100Z"
   },
   {
    "duration": -60,
    "start_time": "2021-10-04T13:13:20.102Z"
   },
   {
    "duration": -62,
    "start_time": "2021-10-04T13:13:20.105Z"
   },
   {
    "duration": -63,
    "start_time": "2021-10-04T13:13:20.107Z"
   },
   {
    "duration": -70,
    "start_time": "2021-10-04T13:13:20.115Z"
   },
   {
    "duration": -72,
    "start_time": "2021-10-04T13:13:20.118Z"
   },
   {
    "duration": -74,
    "start_time": "2021-10-04T13:13:20.121Z"
   },
   {
    "duration": -84,
    "start_time": "2021-10-04T13:13:20.132Z"
   },
   {
    "duration": -86,
    "start_time": "2021-10-04T13:13:20.135Z"
   },
   {
    "duration": -93,
    "start_time": "2021-10-04T13:13:20.143Z"
   },
   {
    "duration": -94,
    "start_time": "2021-10-04T13:13:20.145Z"
   },
   {
    "duration": -95,
    "start_time": "2021-10-04T13:13:20.147Z"
   },
   {
    "duration": -97,
    "start_time": "2021-10-04T13:13:20.150Z"
   },
   {
    "duration": -99,
    "start_time": "2021-10-04T13:13:20.153Z"
   },
   {
    "duration": -102,
    "start_time": "2021-10-04T13:13:20.156Z"
   },
   {
    "duration": -103,
    "start_time": "2021-10-04T13:13:20.158Z"
   },
   {
    "duration": -104,
    "start_time": "2021-10-04T13:13:20.160Z"
   },
   {
    "duration": 4,
    "start_time": "2021-10-04T13:13:51.206Z"
   },
   {
    "duration": 4,
    "start_time": "2021-10-04T13:13:58.991Z"
   },
   {
    "duration": 5,
    "start_time": "2021-10-04T13:17:28.224Z"
   },
   {
    "duration": 260,
    "start_time": "2021-10-04T13:17:45.796Z"
   },
   {
    "duration": 23,
    "start_time": "2021-10-04T13:17:49.940Z"
   },
   {
    "duration": 4,
    "start_time": "2021-10-04T13:18:11.923Z"
   },
   {
    "duration": 4,
    "start_time": "2021-10-04T13:18:25.498Z"
   },
   {
    "duration": 8,
    "start_time": "2021-10-04T13:20:48.238Z"
   },
   {
    "duration": 22,
    "start_time": "2021-10-04T13:20:51.613Z"
   },
   {
    "duration": 87,
    "start_time": "2021-10-04T13:21:02.497Z"
   },
   {
    "duration": 11,
    "start_time": "2021-10-04T13:21:02.586Z"
   },
   {
    "duration": 88,
    "start_time": "2021-10-04T13:21:02.599Z"
   },
   {
    "duration": 24,
    "start_time": "2021-10-04T13:21:02.689Z"
   },
   {
    "duration": 8,
    "start_time": "2021-10-04T13:21:02.715Z"
   },
   {
    "duration": 13,
    "start_time": "2021-10-04T13:21:02.724Z"
   },
   {
    "duration": 49,
    "start_time": "2021-10-04T13:21:02.738Z"
   },
   {
    "duration": 15,
    "start_time": "2021-10-04T13:21:02.790Z"
   },
   {
    "duration": 18,
    "start_time": "2021-10-04T13:21:02.807Z"
   },
   {
    "duration": 10,
    "start_time": "2021-10-04T13:21:02.826Z"
   },
   {
    "duration": 53,
    "start_time": "2021-10-04T13:21:02.838Z"
   },
   {
    "duration": 5,
    "start_time": "2021-10-04T13:21:02.893Z"
   },
   {
    "duration": 18,
    "start_time": "2021-10-04T13:21:02.899Z"
   },
   {
    "duration": 23,
    "start_time": "2021-10-04T13:21:02.919Z"
   },
   {
    "duration": 33,
    "start_time": "2021-10-04T13:21:02.944Z"
   },
   {
    "duration": 10,
    "start_time": "2021-10-04T13:21:02.979Z"
   },
   {
    "duration": 5,
    "start_time": "2021-10-04T13:21:02.991Z"
   },
   {
    "duration": 15,
    "start_time": "2021-10-04T13:21:02.998Z"
   },
   {
    "duration": 575,
    "start_time": "2021-10-04T13:21:03.014Z"
   },
   {
    "duration": 6,
    "start_time": "2021-10-04T13:21:03.591Z"
   },
   {
    "duration": 24,
    "start_time": "2021-10-04T13:21:03.598Z"
   },
   {
    "duration": 118,
    "start_time": "2021-10-04T13:21:03.623Z"
   },
   {
    "duration": 2,
    "start_time": "2021-10-04T13:21:03.744Z"
   },
   {
    "duration": 347,
    "start_time": "2021-10-04T13:21:03.749Z"
   },
   {
    "duration": 341,
    "start_time": "2021-10-04T13:21:04.098Z"
   },
   {
    "duration": 228,
    "start_time": "2021-10-04T13:21:04.441Z"
   },
   {
    "duration": 346,
    "start_time": "2021-10-04T13:21:04.671Z"
   },
   {
    "duration": 338,
    "start_time": "2021-10-04T13:21:05.019Z"
   },
   {
    "duration": 8,
    "start_time": "2021-10-04T13:21:05.359Z"
   },
   {
    "duration": 143,
    "start_time": "2021-10-04T13:21:05.377Z"
   },
   {
    "duration": 228,
    "start_time": "2021-10-04T13:21:05.522Z"
   },
   {
    "duration": 135,
    "start_time": "2021-10-04T13:21:05.752Z"
   },
   {
    "duration": 327,
    "start_time": "2021-10-04T13:21:05.889Z"
   },
   {
    "duration": 9,
    "start_time": "2021-10-04T13:21:06.218Z"
   },
   {
    "duration": 155,
    "start_time": "2021-10-04T13:21:06.229Z"
   },
   {
    "duration": 138,
    "start_time": "2021-10-04T13:21:06.386Z"
   },
   {
    "duration": 28,
    "start_time": "2021-10-04T13:21:06.526Z"
   },
   {
    "duration": 25,
    "start_time": "2021-10-04T13:21:06.555Z"
   },
   {
    "duration": 736,
    "start_time": "2021-10-04T13:21:06.582Z"
   },
   {
    "duration": 6,
    "start_time": "2021-10-04T13:21:07.320Z"
   },
   {
    "duration": 179,
    "start_time": "2021-10-04T13:21:07.327Z"
   },
   {
    "duration": 5,
    "start_time": "2021-10-04T13:21:07.507Z"
   },
   {
    "duration": 143,
    "start_time": "2021-10-04T13:21:07.514Z"
   },
   {
    "duration": 5,
    "start_time": "2021-10-04T13:21:07.659Z"
   },
   {
    "duration": 172,
    "start_time": "2021-10-04T13:21:07.677Z"
   },
   {
    "duration": 32,
    "start_time": "2021-10-04T13:21:07.851Z"
   },
   {
    "duration": 5,
    "start_time": "2021-10-04T13:21:07.885Z"
   },
   {
    "duration": 23,
    "start_time": "2021-10-04T13:21:07.892Z"
   },
   {
    "duration": 23,
    "start_time": "2021-10-04T13:23:16.290Z"
   },
   {
    "duration": 144,
    "start_time": "2021-10-04T13:23:42.337Z"
   },
   {
    "duration": 14,
    "start_time": "2021-10-04T13:23:42.483Z"
   },
   {
    "duration": 103,
    "start_time": "2021-10-04T13:23:42.500Z"
   },
   {
    "duration": 25,
    "start_time": "2021-10-04T13:23:42.605Z"
   },
   {
    "duration": 9,
    "start_time": "2021-10-04T13:23:42.631Z"
   },
   {
    "duration": 36,
    "start_time": "2021-10-04T13:23:42.641Z"
   },
   {
    "duration": 40,
    "start_time": "2021-10-04T13:23:42.679Z"
   },
   {
    "duration": 15,
    "start_time": "2021-10-04T13:23:42.722Z"
   },
   {
    "duration": 31,
    "start_time": "2021-10-04T13:23:42.739Z"
   },
   {
    "duration": 31,
    "start_time": "2021-10-04T13:23:42.772Z"
   },
   {
    "duration": 39,
    "start_time": "2021-10-04T13:23:42.805Z"
   },
   {
    "duration": 27,
    "start_time": "2021-10-04T13:23:42.846Z"
   },
   {
    "duration": 35,
    "start_time": "2021-10-04T13:23:42.875Z"
   },
   {
    "duration": 30,
    "start_time": "2021-10-04T13:23:42.912Z"
   },
   {
    "duration": 35,
    "start_time": "2021-10-04T13:23:42.944Z"
   },
   {
    "duration": 23,
    "start_time": "2021-10-04T13:23:42.981Z"
   },
   {
    "duration": 8,
    "start_time": "2021-10-04T13:23:43.006Z"
   },
   {
    "duration": 40,
    "start_time": "2021-10-04T13:23:43.016Z"
   },
   {
    "duration": 534,
    "start_time": "2021-10-04T13:23:43.058Z"
   },
   {
    "duration": 8,
    "start_time": "2021-10-04T13:23:43.595Z"
   },
   {
    "duration": 45,
    "start_time": "2021-10-04T13:23:43.605Z"
   },
   {
    "duration": 220,
    "start_time": "2021-10-04T13:23:43.652Z"
   },
   {
    "duration": 3,
    "start_time": "2021-10-04T13:23:43.876Z"
   },
   {
    "duration": 375,
    "start_time": "2021-10-04T13:23:43.881Z"
   },
   {
    "duration": 344,
    "start_time": "2021-10-04T13:23:44.258Z"
   },
   {
    "duration": 245,
    "start_time": "2021-10-04T13:23:44.604Z"
   },
   {
    "duration": 384,
    "start_time": "2021-10-04T13:23:44.851Z"
   },
   {
    "duration": 339,
    "start_time": "2021-10-04T13:23:45.237Z"
   },
   {
    "duration": 8,
    "start_time": "2021-10-04T13:23:45.578Z"
   },
   {
    "duration": 153,
    "start_time": "2021-10-04T13:23:45.588Z"
   },
   {
    "duration": 140,
    "start_time": "2021-10-04T13:23:45.743Z"
   },
   {
    "duration": 269,
    "start_time": "2021-10-04T13:23:45.884Z"
   },
   {
    "duration": 347,
    "start_time": "2021-10-04T13:23:46.155Z"
   },
   {
    "duration": 10,
    "start_time": "2021-10-04T13:23:46.504Z"
   },
   {
    "duration": 175,
    "start_time": "2021-10-04T13:23:46.516Z"
   },
   {
    "duration": 140,
    "start_time": "2021-10-04T13:23:46.693Z"
   },
   {
    "duration": 30,
    "start_time": "2021-10-04T13:23:46.835Z"
   },
   {
    "duration": 18,
    "start_time": "2021-10-04T13:23:46.866Z"
   },
   {
    "duration": 856,
    "start_time": "2021-10-04T13:23:46.886Z"
   },
   {
    "duration": 7,
    "start_time": "2021-10-04T13:23:47.743Z"
   },
   {
    "duration": 173,
    "start_time": "2021-10-04T13:23:47.752Z"
   },
   {
    "duration": 6,
    "start_time": "2021-10-04T13:23:47.927Z"
   },
   {
    "duration": 149,
    "start_time": "2021-10-04T13:23:47.934Z"
   },
   {
    "duration": 6,
    "start_time": "2021-10-04T13:23:48.085Z"
   },
   {
    "duration": 195,
    "start_time": "2021-10-04T13:23:48.093Z"
   },
   {
    "duration": 25,
    "start_time": "2021-10-04T13:23:48.291Z"
   },
   {
    "duration": 24,
    "start_time": "2021-10-04T13:23:48.318Z"
   },
   {
    "duration": 11,
    "start_time": "2021-10-04T13:27:07.482Z"
   },
   {
    "duration": 11,
    "start_time": "2021-10-04T14:06:50.142Z"
   },
   {
    "duration": 7,
    "start_time": "2021-10-04T14:30:46.075Z"
   },
   {
    "duration": 19,
    "start_time": "2021-10-04T14:34:42.793Z"
   },
   {
    "duration": 9,
    "start_time": "2021-10-04T14:36:11.849Z"
   },
   {
    "duration": 5,
    "start_time": "2021-10-04T14:36:27.100Z"
   },
   {
    "duration": 5,
    "start_time": "2021-10-04T14:36:46.958Z"
   },
   {
    "duration": 263,
    "start_time": "2021-10-04T14:39:43.093Z"
   },
   {
    "duration": 8,
    "start_time": "2021-10-04T14:40:55.624Z"
   },
   {
    "duration": 253,
    "start_time": "2021-10-04T14:41:04.407Z"
   },
   {
    "duration": 311,
    "start_time": "2021-10-04T14:41:22.773Z"
   },
   {
    "duration": 284,
    "start_time": "2021-10-04T14:41:43.660Z"
   },
   {
    "duration": 262,
    "start_time": "2021-10-04T14:41:50.488Z"
   },
   {
    "duration": 327,
    "start_time": "2021-10-04T14:42:10.801Z"
   },
   {
    "duration": 262,
    "start_time": "2021-10-04T14:42:16.796Z"
   },
   {
    "duration": 257,
    "start_time": "2021-10-04T17:09:07.747Z"
   },
   {
    "duration": 7,
    "start_time": "2021-10-04T17:09:14.333Z"
   },
   {
    "duration": 7,
    "start_time": "2021-10-04T17:09:22.610Z"
   },
   {
    "duration": 5,
    "start_time": "2021-10-04T17:13:55.880Z"
   },
   {
    "duration": 266,
    "start_time": "2021-10-04T17:14:37.625Z"
   },
   {
    "duration": 192,
    "start_time": "2021-10-04T17:14:47.617Z"
   },
   {
    "duration": 93,
    "start_time": "2021-10-04T17:18:24.670Z"
   },
   {
    "duration": 205,
    "start_time": "2021-10-04T17:19:04.481Z"
   },
   {
    "duration": 63,
    "start_time": "2021-10-05T03:38:17.518Z"
   },
   {
    "duration": 242,
    "start_time": "2021-10-05T06:05:10.739Z"
   },
   {
    "duration": 678,
    "start_time": "2021-10-05T06:05:15.836Z"
   },
   {
    "duration": 12,
    "start_time": "2021-10-05T06:05:16.516Z"
   },
   {
    "duration": 77,
    "start_time": "2021-10-05T06:05:16.530Z"
   },
   {
    "duration": 27,
    "start_time": "2021-10-05T06:05:16.609Z"
   },
   {
    "duration": 11,
    "start_time": "2021-10-05T06:05:16.650Z"
   },
   {
    "duration": 11,
    "start_time": "2021-10-05T06:05:16.663Z"
   },
   {
    "duration": 20,
    "start_time": "2021-10-05T06:05:16.676Z"
   },
   {
    "duration": 14,
    "start_time": "2021-10-05T06:05:16.699Z"
   },
   {
    "duration": 17,
    "start_time": "2021-10-05T06:05:16.749Z"
   },
   {
    "duration": 9,
    "start_time": "2021-10-05T06:05:16.767Z"
   },
   {
    "duration": 23,
    "start_time": "2021-10-05T06:05:16.777Z"
   },
   {
    "duration": 5,
    "start_time": "2021-10-05T06:05:16.802Z"
   },
   {
    "duration": 11,
    "start_time": "2021-10-05T06:05:16.809Z"
   },
   {
    "duration": 45,
    "start_time": "2021-10-05T06:05:16.821Z"
   },
   {
    "duration": 13,
    "start_time": "2021-10-05T06:05:16.868Z"
   },
   {
    "duration": 9,
    "start_time": "2021-10-05T06:05:16.882Z"
   },
   {
    "duration": 4,
    "start_time": "2021-10-05T06:05:16.892Z"
   },
   {
    "duration": 14,
    "start_time": "2021-10-05T06:05:16.898Z"
   },
   {
    "duration": 469,
    "start_time": "2021-10-05T06:05:16.913Z"
   },
   {
    "duration": 6,
    "start_time": "2021-10-05T06:05:17.384Z"
   },
   {
    "duration": 27,
    "start_time": "2021-10-05T06:05:17.391Z"
   },
   {
    "duration": 99,
    "start_time": "2021-10-05T06:05:17.420Z"
   },
   {
    "duration": 74,
    "start_time": "2021-10-05T06:05:17.523Z"
   },
   {
    "duration": 350,
    "start_time": "2021-10-05T06:05:17.599Z"
   },
   {
    "duration": 293,
    "start_time": "2021-10-05T06:05:17.951Z"
   },
   {
    "duration": 200,
    "start_time": "2021-10-05T06:05:18.249Z"
   },
   {
    "duration": 303,
    "start_time": "2021-10-05T06:05:18.450Z"
   },
   {
    "duration": 306,
    "start_time": "2021-10-05T06:05:18.755Z"
   },
   {
    "duration": 8,
    "start_time": "2021-10-05T06:05:19.062Z"
   },
   {
    "duration": 136,
    "start_time": "2021-10-05T06:05:19.072Z"
   },
   {
    "duration": 119,
    "start_time": "2021-10-05T06:05:19.210Z"
   },
   {
    "duration": 192,
    "start_time": "2021-10-05T06:05:19.331Z"
   },
   {
    "duration": 306,
    "start_time": "2021-10-05T06:05:19.524Z"
   },
   {
    "duration": 17,
    "start_time": "2021-10-05T06:05:19.832Z"
   },
   {
    "duration": 128,
    "start_time": "2021-10-05T06:05:19.850Z"
   },
   {
    "duration": 131,
    "start_time": "2021-10-05T06:05:19.980Z"
   },
   {
    "duration": 39,
    "start_time": "2021-10-05T06:05:20.113Z"
   },
   {
    "duration": 12,
    "start_time": "2021-10-05T06:05:20.154Z"
   },
   {
    "duration": 688,
    "start_time": "2021-10-05T06:05:20.168Z"
   },
   {
    "duration": 5,
    "start_time": "2021-10-05T06:05:20.858Z"
   },
   {
    "duration": 150,
    "start_time": "2021-10-05T06:05:20.864Z"
   },
   {
    "duration": 4,
    "start_time": "2021-10-05T06:05:21.015Z"
   },
   {
    "duration": 134,
    "start_time": "2021-10-05T06:05:21.021Z"
   },
   {
    "duration": 4,
    "start_time": "2021-10-05T06:05:21.157Z"
   },
   {
    "duration": 166,
    "start_time": "2021-10-05T06:05:21.163Z"
   },
   {
    "duration": 25,
    "start_time": "2021-10-05T06:05:21.331Z"
   },
   {
    "duration": 5,
    "start_time": "2021-10-05T06:05:21.357Z"
   },
   {
    "duration": 28,
    "start_time": "2021-10-05T06:05:21.363Z"
   },
   {
    "duration": 254,
    "start_time": "2021-10-05T06:05:21.392Z"
   },
   {
    "duration": 7,
    "start_time": "2021-10-05T06:05:21.647Z"
   },
   {
    "duration": 196,
    "start_time": "2021-10-05T06:05:21.655Z"
   },
   {
    "duration": 277,
    "start_time": "2021-10-05T06:05:21.852Z"
   },
   {
    "duration": 208,
    "start_time": "2021-10-05T06:05:22.130Z"
   },
   {
    "duration": 3,
    "start_time": "2021-10-05T06:05:22.336Z"
   },
   {
    "duration": 194,
    "start_time": "2021-10-05T06:05:42.943Z"
   },
   {
    "duration": 144,
    "start_time": "2021-10-05T06:06:14.866Z"
   },
   {
    "duration": 199,
    "start_time": "2021-10-05T06:06:44.245Z"
   },
   {
    "duration": 1552,
    "start_time": "2021-10-05T06:06:54.321Z"
   },
   {
    "duration": 202,
    "start_time": "2021-10-05T06:09:12.549Z"
   },
   {
    "duration": 151,
    "start_time": "2021-10-05T06:09:20.377Z"
   },
   {
    "duration": 184,
    "start_time": "2021-10-05T06:09:48.132Z"
   },
   {
    "duration": 197,
    "start_time": "2021-10-05T06:09:52.941Z"
   },
   {
    "duration": 189,
    "start_time": "2021-10-05T06:09:57.308Z"
   },
   {
    "duration": 59,
    "start_time": "2021-10-05T06:11:29.165Z"
   },
   {
    "duration": 312,
    "start_time": "2021-10-05T12:57:31.336Z"
   },
   {
    "duration": 1283,
    "start_time": "2021-10-05T12:57:37.104Z"
   },
   {
    "duration": 24,
    "start_time": "2021-10-05T12:57:38.390Z"
   },
   {
    "duration": 116,
    "start_time": "2021-10-05T12:57:38.417Z"
   },
   {
    "duration": 37,
    "start_time": "2021-10-05T12:57:38.536Z"
   },
   {
    "duration": 33,
    "start_time": "2021-10-05T12:57:38.575Z"
   },
   {
    "duration": 14,
    "start_time": "2021-10-05T12:57:38.610Z"
   },
   {
    "duration": 30,
    "start_time": "2021-10-05T12:57:38.626Z"
   },
   {
    "duration": 57,
    "start_time": "2021-10-05T12:57:38.659Z"
   },
   {
    "duration": 25,
    "start_time": "2021-10-05T12:57:38.720Z"
   },
   {
    "duration": 11,
    "start_time": "2021-10-05T12:57:38.748Z"
   },
   {
    "duration": 68,
    "start_time": "2021-10-05T12:57:38.761Z"
   },
   {
    "duration": 7,
    "start_time": "2021-10-05T12:57:38.831Z"
   },
   {
    "duration": 11,
    "start_time": "2021-10-05T12:57:38.840Z"
   },
   {
    "duration": 59,
    "start_time": "2021-10-05T12:57:38.854Z"
   },
   {
    "duration": 17,
    "start_time": "2021-10-05T12:57:38.915Z"
   },
   {
    "duration": 13,
    "start_time": "2021-10-05T12:57:38.935Z"
   },
   {
    "duration": 5,
    "start_time": "2021-10-05T12:57:38.950Z"
   },
   {
    "duration": 52,
    "start_time": "2021-10-05T12:57:38.957Z"
   },
   {
    "duration": 788,
    "start_time": "2021-10-05T12:57:39.012Z"
   },
   {
    "duration": 8,
    "start_time": "2021-10-05T12:57:39.802Z"
   },
   {
    "duration": 37,
    "start_time": "2021-10-05T12:57:39.813Z"
   },
   {
    "duration": 174,
    "start_time": "2021-10-05T12:57:39.853Z"
   },
   {
    "duration": 121,
    "start_time": "2021-10-05T12:57:40.033Z"
   },
   {
    "duration": 625,
    "start_time": "2021-10-05T12:57:40.157Z"
   },
   {
    "duration": 561,
    "start_time": "2021-10-05T12:57:40.784Z"
   },
   {
    "duration": 363,
    "start_time": "2021-10-05T12:57:41.347Z"
   },
   {
    "duration": 667,
    "start_time": "2021-10-05T12:57:41.713Z"
   },
   {
    "duration": 560,
    "start_time": "2021-10-05T12:57:42.382Z"
   },
   {
    "duration": 10,
    "start_time": "2021-10-05T12:57:42.944Z"
   },
   {
    "duration": 247,
    "start_time": "2021-10-05T12:57:42.956Z"
   },
   {
    "duration": 214,
    "start_time": "2021-10-05T12:57:43.205Z"
   },
   {
    "duration": 268,
    "start_time": "2021-10-05T12:57:43.421Z"
   },
   {
    "duration": 558,
    "start_time": "2021-10-05T12:57:43.691Z"
   },
   {
    "duration": 11,
    "start_time": "2021-10-05T12:57:44.251Z"
   },
   {
    "duration": 248,
    "start_time": "2021-10-05T12:57:44.265Z"
   },
   {
    "duration": 214,
    "start_time": "2021-10-05T12:57:44.515Z"
   },
   {
    "duration": 46,
    "start_time": "2021-10-05T12:57:44.731Z"
   },
   {
    "duration": 31,
    "start_time": "2021-10-05T12:57:44.779Z"
   },
   {
    "duration": 1168,
    "start_time": "2021-10-05T12:57:44.813Z"
   },
   {
    "duration": 19,
    "start_time": "2021-10-05T12:57:45.983Z"
   },
   {
    "duration": 261,
    "start_time": "2021-10-05T12:57:46.004Z"
   },
   {
    "duration": 6,
    "start_time": "2021-10-05T12:57:46.267Z"
   },
   {
    "duration": 248,
    "start_time": "2021-10-05T12:57:46.276Z"
   },
   {
    "duration": 7,
    "start_time": "2021-10-05T12:57:46.526Z"
   },
   {
    "duration": 311,
    "start_time": "2021-10-05T12:57:46.536Z"
   },
   {
    "duration": 51,
    "start_time": "2021-10-05T12:57:46.849Z"
   },
   {
    "duration": 6,
    "start_time": "2021-10-05T12:57:46.902Z"
   },
   {
    "duration": 16,
    "start_time": "2021-10-05T12:57:46.911Z"
   },
   {
    "duration": 421,
    "start_time": "2021-10-05T12:57:46.929Z"
   },
   {
    "duration": 9,
    "start_time": "2021-10-05T12:57:47.352Z"
   },
   {
    "duration": 356,
    "start_time": "2021-10-05T12:57:47.363Z"
   },
   {
    "duration": 444,
    "start_time": "2021-10-05T12:57:47.721Z"
   },
   {
    "duration": 361,
    "start_time": "2021-10-05T12:57:48.168Z"
   },
   {
    "duration": 382,
    "start_time": "2021-10-05T12:57:48.532Z"
   },
   {
    "duration": 5465,
    "start_time": "2021-10-05T12:57:48.916Z"
   },
   {
    "duration": 7,
    "start_time": "2021-10-05T13:00:52.124Z"
   },
   {
    "duration": 217,
    "start_time": "2021-10-05T13:01:56.428Z"
   },
   {
    "duration": 224,
    "start_time": "2021-10-05T13:03:18.017Z"
   },
   {
    "duration": 224,
    "start_time": "2021-10-05T13:04:34.748Z"
   },
   {
    "duration": 19,
    "start_time": "2021-10-05T13:04:52.982Z"
   },
   {
    "duration": 53,
    "start_time": "2021-10-05T13:05:27.701Z"
   },
   {
    "duration": 13,
    "start_time": "2021-10-05T13:05:44.167Z"
   },
   {
    "duration": 13,
    "start_time": "2021-10-05T13:06:02.234Z"
   },
   {
    "duration": 80,
    "start_time": "2021-10-05T13:45:25.300Z"
   },
   {
    "duration": 13,
    "start_time": "2021-10-05T13:49:34.465Z"
   },
   {
    "duration": 10,
    "start_time": "2021-10-05T13:50:48.462Z"
   },
   {
    "duration": 80,
    "start_time": "2021-10-05T13:51:01.962Z"
   },
   {
    "duration": 246,
    "start_time": "2021-10-05T13:51:25.518Z"
   },
   {
    "duration": 237,
    "start_time": "2021-10-05T13:52:17.162Z"
   },
   {
    "duration": 14,
    "start_time": "2021-10-05T13:53:15.683Z"
   },
   {
    "duration": 79,
    "start_time": "2021-10-05T13:53:28.237Z"
   },
   {
    "duration": 19,
    "start_time": "2021-10-05T13:53:31.275Z"
   },
   {
    "duration": 19,
    "start_time": "2021-10-05T13:55:29.059Z"
   },
   {
    "duration": 85,
    "start_time": "2021-10-05T13:55:43.773Z"
   },
   {
    "duration": 18,
    "start_time": "2021-10-05T13:56:57.835Z"
   },
   {
    "duration": 8,
    "start_time": "2021-10-05T13:57:24.068Z"
   },
   {
    "duration": 9,
    "start_time": "2021-10-05T13:58:57.149Z"
   },
   {
    "duration": 18,
    "start_time": "2021-10-05T13:59:13.656Z"
   },
   {
    "duration": 19,
    "start_time": "2021-10-05T14:00:18.951Z"
   },
   {
    "duration": 18,
    "start_time": "2021-10-05T14:01:26.303Z"
   },
   {
    "duration": 18,
    "start_time": "2021-10-05T14:48:20.040Z"
   },
   {
    "duration": 280,
    "start_time": "2021-10-05T14:51:06.322Z"
   },
   {
    "duration": 415,
    "start_time": "2021-10-05T14:51:50.854Z"
   },
   {
    "duration": 6328,
    "start_time": "2021-10-05T14:52:29.978Z"
   },
   {
    "duration": 6963,
    "start_time": "2021-10-05T14:52:59.720Z"
   },
   {
    "duration": 287,
    "start_time": "2021-10-05T14:53:26.624Z"
   },
   {
    "duration": 571,
    "start_time": "2021-10-05T14:54:04.361Z"
   },
   {
    "duration": 186,
    "start_time": "2021-10-05T14:54:20.004Z"
   },
   {
    "duration": 402,
    "start_time": "2021-10-05T14:54:43.783Z"
   },
   {
    "duration": 295,
    "start_time": "2021-10-05T14:55:04.659Z"
   },
   {
    "duration": 571,
    "start_time": "2021-10-05T14:56:15.794Z"
   },
   {
    "duration": 797,
    "start_time": "2021-10-05T14:57:02.288Z"
   },
   {
    "duration": 690,
    "start_time": "2021-10-05T14:57:09.559Z"
   },
   {
    "duration": 289,
    "start_time": "2021-10-05T15:00:08.856Z"
   },
   {
    "duration": 440,
    "start_time": "2021-10-05T15:01:34.851Z"
   },
   {
    "duration": 578,
    "start_time": "2021-10-05T15:02:23.490Z"
   },
   {
    "duration": 598,
    "start_time": "2021-10-05T15:02:55.866Z"
   },
   {
    "duration": 125,
    "start_time": "2021-10-05T15:04:13.039Z"
   },
   {
    "duration": 42,
    "start_time": "2021-10-05T15:04:13.167Z"
   },
   {
    "duration": 128,
    "start_time": "2021-10-05T15:04:13.212Z"
   },
   {
    "duration": 35,
    "start_time": "2021-10-05T15:04:13.343Z"
   },
   {
    "duration": 28,
    "start_time": "2021-10-05T15:04:13.380Z"
   },
   {
    "duration": 37,
    "start_time": "2021-10-05T15:04:13.410Z"
   },
   {
    "duration": 34,
    "start_time": "2021-10-05T15:04:13.450Z"
   },
   {
    "duration": 31,
    "start_time": "2021-10-05T15:04:13.490Z"
   },
   {
    "duration": 26,
    "start_time": "2021-10-05T15:04:13.525Z"
   },
   {
    "duration": 12,
    "start_time": "2021-10-05T15:04:13.554Z"
   },
   {
    "duration": 60,
    "start_time": "2021-10-05T15:04:13.568Z"
   },
   {
    "duration": 6,
    "start_time": "2021-10-05T15:04:13.630Z"
   },
   {
    "duration": 15,
    "start_time": "2021-10-05T15:04:13.638Z"
   },
   {
    "duration": 69,
    "start_time": "2021-10-05T15:04:13.656Z"
   },
   {
    "duration": 19,
    "start_time": "2021-10-05T15:04:13.729Z"
   },
   {
    "duration": 16,
    "start_time": "2021-10-05T15:04:13.750Z"
   },
   {
    "duration": 35,
    "start_time": "2021-10-05T15:04:13.768Z"
   },
   {
    "duration": 17,
    "start_time": "2021-10-05T15:04:13.806Z"
   },
   {
    "duration": 17,
    "start_time": "2021-10-05T15:04:13.825Z"
   },
   {
    "duration": 828,
    "start_time": "2021-10-05T15:04:13.844Z"
   },
   {
    "duration": 9,
    "start_time": "2021-10-05T15:04:14.674Z"
   },
   {
    "duration": 52,
    "start_time": "2021-10-05T15:04:14.685Z"
   },
   {
    "duration": 165,
    "start_time": "2021-10-05T15:04:14.742Z"
   },
   {
    "duration": 3,
    "start_time": "2021-10-05T15:04:14.910Z"
   },
   {
    "duration": 731,
    "start_time": "2021-10-05T15:04:14.915Z"
   },
   {
    "duration": 580,
    "start_time": "2021-10-05T15:04:15.649Z"
   },
   {
    "duration": 371,
    "start_time": "2021-10-05T15:04:16.231Z"
   },
   {
    "duration": 578,
    "start_time": "2021-10-05T15:04:16.604Z"
   },
   {
    "duration": 587,
    "start_time": "2021-10-05T15:04:17.184Z"
   },
   {
    "duration": 29,
    "start_time": "2021-10-05T15:04:17.773Z"
   },
   {
    "duration": 243,
    "start_time": "2021-10-05T15:04:17.805Z"
   },
   {
    "duration": 217,
    "start_time": "2021-10-05T15:04:18.050Z"
   },
   {
    "duration": 220,
    "start_time": "2021-10-05T15:04:18.269Z"
   },
   {
    "duration": 682,
    "start_time": "2021-10-05T15:04:18.491Z"
   },
   {
    "duration": 25,
    "start_time": "2021-10-05T15:04:19.176Z"
   },
   {
    "duration": 249,
    "start_time": "2021-10-05T15:04:19.203Z"
   },
   {
    "duration": 227,
    "start_time": "2021-10-05T15:04:19.454Z"
   },
   {
    "duration": 54,
    "start_time": "2021-10-05T15:04:19.684Z"
   },
   {
    "duration": 13,
    "start_time": "2021-10-05T15:04:19.740Z"
   },
   {
    "duration": 1176,
    "start_time": "2021-10-05T15:04:19.755Z"
   },
   {
    "duration": 6,
    "start_time": "2021-10-05T15:04:20.934Z"
   },
   {
    "duration": 276,
    "start_time": "2021-10-05T15:04:20.942Z"
   },
   {
    "duration": 6,
    "start_time": "2021-10-05T15:04:21.220Z"
   },
   {
    "duration": 339,
    "start_time": "2021-10-05T15:04:21.228Z"
   },
   {
    "duration": 7,
    "start_time": "2021-10-05T15:04:21.569Z"
   },
   {
    "duration": 305,
    "start_time": "2021-10-05T15:04:21.578Z"
   },
   {
    "duration": 42,
    "start_time": "2021-10-05T15:04:21.886Z"
   },
   {
    "duration": 7,
    "start_time": "2021-10-05T15:04:21.931Z"
   },
   {
    "duration": 16,
    "start_time": "2021-10-05T15:04:21.941Z"
   },
   {
    "duration": 449,
    "start_time": "2021-10-05T15:04:21.959Z"
   },
   {
    "duration": 9,
    "start_time": "2021-10-05T15:04:22.411Z"
   },
   {
    "duration": 366,
    "start_time": "2021-10-05T15:04:22.422Z"
   },
   {
    "duration": 363,
    "start_time": "2021-10-05T15:04:22.791Z"
   },
   {
    "duration": 364,
    "start_time": "2021-10-05T15:04:23.156Z"
   },
   {
    "duration": 382,
    "start_time": "2021-10-05T15:04:23.523Z"
   },
   {
    "duration": 19,
    "start_time": "2021-10-05T15:04:23.907Z"
   },
   {
    "duration": 111,
    "start_time": "2021-10-05T15:04:23.928Z"
   },
   {
    "duration": 19,
    "start_time": "2021-10-05T15:04:24.041Z"
   },
   {
    "duration": 613,
    "start_time": "2021-10-05T15:04:24.062Z"
   },
   {
    "duration": 7,
    "start_time": "2021-10-05T15:28:27.945Z"
   },
   {
    "duration": 130,
    "start_time": "2021-10-05T15:33:29.897Z"
   },
   {
    "duration": 15,
    "start_time": "2021-10-05T15:33:30.029Z"
   },
   {
    "duration": 145,
    "start_time": "2021-10-05T15:33:30.047Z"
   },
   {
    "duration": 38,
    "start_time": "2021-10-05T15:33:30.200Z"
   },
   {
    "duration": 11,
    "start_time": "2021-10-05T15:33:30.241Z"
   },
   {
    "duration": 20,
    "start_time": "2021-10-05T15:33:30.254Z"
   },
   {
    "duration": 55,
    "start_time": "2021-10-05T15:33:30.277Z"
   },
   {
    "duration": 24,
    "start_time": "2021-10-05T15:33:30.334Z"
   },
   {
    "duration": 83,
    "start_time": "2021-10-05T15:33:30.362Z"
   },
   {
    "duration": 13,
    "start_time": "2021-10-05T15:33:30.449Z"
   },
   {
    "duration": 50,
    "start_time": "2021-10-05T15:33:30.464Z"
   },
   {
    "duration": 19,
    "start_time": "2021-10-05T15:33:30.516Z"
   },
   {
    "duration": 31,
    "start_time": "2021-10-05T15:33:30.538Z"
   },
   {
    "duration": 43,
    "start_time": "2021-10-05T15:33:30.572Z"
   },
   {
    "duration": 14,
    "start_time": "2021-10-05T15:33:30.618Z"
   },
   {
    "duration": 15,
    "start_time": "2021-10-05T15:33:30.634Z"
   },
   {
    "duration": 12,
    "start_time": "2021-10-05T15:33:30.651Z"
   },
   {
    "duration": 38,
    "start_time": "2021-10-05T15:33:30.666Z"
   },
   {
    "duration": 21,
    "start_time": "2021-10-05T15:33:30.706Z"
   },
   {
    "duration": 958,
    "start_time": "2021-10-05T15:33:30.729Z"
   },
   {
    "duration": 17,
    "start_time": "2021-10-05T15:33:31.689Z"
   },
   {
    "duration": 54,
    "start_time": "2021-10-05T15:33:31.708Z"
   },
   {
    "duration": 156,
    "start_time": "2021-10-05T15:33:31.764Z"
   },
   {
    "duration": 3,
    "start_time": "2021-10-05T15:33:31.922Z"
   },
   {
    "duration": 591,
    "start_time": "2021-10-05T15:33:31.928Z"
   },
   {
    "duration": 589,
    "start_time": "2021-10-05T15:33:32.521Z"
   },
   {
    "duration": 371,
    "start_time": "2021-10-05T15:33:33.115Z"
   },
   {
    "duration": 585,
    "start_time": "2021-10-05T15:33:33.489Z"
   },
   {
    "duration": 576,
    "start_time": "2021-10-05T15:33:34.077Z"
   },
   {
    "duration": 10,
    "start_time": "2021-10-05T15:33:34.655Z"
   },
   {
    "duration": 246,
    "start_time": "2021-10-05T15:33:34.667Z"
   },
   {
    "duration": 221,
    "start_time": "2021-10-05T15:33:34.915Z"
   },
   {
    "duration": 216,
    "start_time": "2021-10-05T15:33:35.138Z"
   },
   {
    "duration": 712,
    "start_time": "2021-10-05T15:33:35.356Z"
   },
   {
    "duration": 10,
    "start_time": "2021-10-05T15:33:36.070Z"
   },
   {
    "duration": 246,
    "start_time": "2021-10-05T15:33:36.083Z"
   },
   {
    "duration": 219,
    "start_time": "2021-10-05T15:33:36.331Z"
   },
   {
    "duration": 55,
    "start_time": "2021-10-05T15:33:36.552Z"
   },
   {
    "duration": 13,
    "start_time": "2021-10-05T15:33:36.610Z"
   },
   {
    "duration": 1159,
    "start_time": "2021-10-05T15:33:36.625Z"
   },
   {
    "duration": 16,
    "start_time": "2021-10-05T15:33:37.786Z"
   },
   {
    "duration": 269,
    "start_time": "2021-10-05T15:33:37.804Z"
   },
   {
    "duration": 7,
    "start_time": "2021-10-05T15:33:38.075Z"
   },
   {
    "duration": 240,
    "start_time": "2021-10-05T15:33:38.084Z"
   },
   {
    "duration": 6,
    "start_time": "2021-10-05T15:33:38.327Z"
   },
   {
    "duration": 296,
    "start_time": "2021-10-05T15:33:38.335Z"
   },
   {
    "duration": 35,
    "start_time": "2021-10-05T15:33:38.633Z"
   },
   {
    "duration": 5,
    "start_time": "2021-10-05T15:33:38.670Z"
   },
   {
    "duration": 12,
    "start_time": "2021-10-05T15:33:38.701Z"
   },
   {
    "duration": 419,
    "start_time": "2021-10-05T15:33:38.715Z"
   },
   {
    "duration": 10,
    "start_time": "2021-10-05T15:33:39.136Z"
   },
   {
    "duration": 368,
    "start_time": "2021-10-05T15:33:39.148Z"
   },
   {
    "duration": 369,
    "start_time": "2021-10-05T15:33:39.519Z"
   },
   {
    "duration": 363,
    "start_time": "2021-10-05T15:33:39.891Z"
   },
   {
    "duration": 385,
    "start_time": "2021-10-05T15:33:40.256Z"
   },
   {
    "duration": 19,
    "start_time": "2021-10-05T15:33:40.644Z"
   },
   {
    "duration": 107,
    "start_time": "2021-10-05T15:33:40.665Z"
   },
   {
    "duration": 29,
    "start_time": "2021-10-05T15:33:40.774Z"
   },
   {
    "duration": 261,
    "start_time": "2021-10-05T15:33:40.805Z"
   },
   {
    "duration": 595,
    "start_time": "2021-10-05T15:36:36.345Z"
   },
   {
    "duration": 252,
    "start_time": "2021-10-05T15:49:39.497Z"
   },
   {
    "duration": 302,
    "start_time": "2021-10-05T15:49:49.108Z"
   },
   {
    "duration": 307,
    "start_time": "2021-10-05T15:49:57.182Z"
   },
   {
    "duration": 582,
    "start_time": "2021-10-05T15:50:23.567Z"
   },
   {
    "duration": 606,
    "start_time": "2021-10-05T15:50:42.581Z"
   },
   {
    "duration": 6278,
    "start_time": "2021-10-05T15:51:29.059Z"
   },
   {
    "duration": 584,
    "start_time": "2021-10-05T15:51:43.323Z"
   },
   {
    "duration": 596,
    "start_time": "2021-10-05T15:52:22.982Z"
   },
   {
    "duration": 244,
    "start_time": "2021-10-05T15:52:33.788Z"
   },
   {
    "duration": 257,
    "start_time": "2021-10-05T15:52:53.590Z"
   },
   {
    "duration": 248,
    "start_time": "2021-10-05T15:53:12.522Z"
   },
   {
    "duration": 311,
    "start_time": "2021-10-05T15:53:39.099Z"
   },
   {
    "duration": 258,
    "start_time": "2021-10-05T15:53:55.270Z"
   },
   {
    "duration": 186,
    "start_time": "2021-10-05T15:54:13.314Z"
   },
   {
    "duration": 18,
    "start_time": "2021-10-05T15:54:13.503Z"
   },
   {
    "duration": 127,
    "start_time": "2021-10-05T15:54:13.525Z"
   },
   {
    "duration": 53,
    "start_time": "2021-10-05T15:54:13.655Z"
   },
   {
    "duration": 12,
    "start_time": "2021-10-05T15:54:13.711Z"
   },
   {
    "duration": 14,
    "start_time": "2021-10-05T15:54:13.725Z"
   },
   {
    "duration": 58,
    "start_time": "2021-10-05T15:54:13.742Z"
   },
   {
    "duration": 23,
    "start_time": "2021-10-05T15:54:13.804Z"
   },
   {
    "duration": 26,
    "start_time": "2021-10-05T15:54:13.830Z"
   },
   {
    "duration": 12,
    "start_time": "2021-10-05T15:54:13.859Z"
   },
   {
    "duration": 35,
    "start_time": "2021-10-05T15:54:13.902Z"
   },
   {
    "duration": 6,
    "start_time": "2021-10-05T15:54:13.939Z"
   },
   {
    "duration": 11,
    "start_time": "2021-10-05T15:54:13.947Z"
   },
   {
    "duration": 66,
    "start_time": "2021-10-05T15:54:13.961Z"
   },
   {
    "duration": 13,
    "start_time": "2021-10-05T15:54:14.029Z"
   },
   {
    "duration": 13,
    "start_time": "2021-10-05T15:54:14.044Z"
   },
   {
    "duration": 6,
    "start_time": "2021-10-05T15:54:14.060Z"
   },
   {
    "duration": 16,
    "start_time": "2021-10-05T15:54:14.101Z"
   },
   {
    "duration": 16,
    "start_time": "2021-10-05T15:54:14.120Z"
   },
   {
    "duration": 1001,
    "start_time": "2021-10-05T15:54:14.138Z"
   },
   {
    "duration": 9,
    "start_time": "2021-10-05T15:54:15.141Z"
   },
   {
    "duration": 54,
    "start_time": "2021-10-05T15:54:15.157Z"
   },
   {
    "duration": 165,
    "start_time": "2021-10-05T15:54:15.218Z"
   },
   {
    "duration": 3,
    "start_time": "2021-10-05T15:54:15.386Z"
   },
   {
    "duration": 602,
    "start_time": "2021-10-05T15:54:15.391Z"
   },
   {
    "duration": 607,
    "start_time": "2021-10-05T15:54:15.996Z"
   },
   {
    "duration": 368,
    "start_time": "2021-10-05T15:54:16.606Z"
   },
   {
    "duration": 574,
    "start_time": "2021-10-05T15:54:16.977Z"
   },
   {
    "duration": 592,
    "start_time": "2021-10-05T15:54:17.554Z"
   },
   {
    "duration": 10,
    "start_time": "2021-10-05T15:54:18.148Z"
   },
   {
    "duration": 241,
    "start_time": "2021-10-05T15:54:18.161Z"
   },
   {
    "duration": 238,
    "start_time": "2021-10-05T15:54:18.405Z"
   },
   {
    "duration": 221,
    "start_time": "2021-10-05T15:54:18.646Z"
   },
   {
    "duration": 563,
    "start_time": "2021-10-05T15:54:18.870Z"
   },
   {
    "duration": 11,
    "start_time": "2021-10-05T15:54:19.435Z"
   },
   {
    "duration": 254,
    "start_time": "2021-10-05T15:54:19.449Z"
   },
   {
    "duration": 225,
    "start_time": "2021-10-05T15:54:19.705Z"
   },
   {
    "duration": 45,
    "start_time": "2021-10-05T15:54:19.932Z"
   },
   {
    "duration": 31,
    "start_time": "2021-10-05T15:54:19.980Z"
   },
   {
    "duration": 1206,
    "start_time": "2021-10-05T15:54:20.014Z"
   },
   {
    "duration": 6,
    "start_time": "2021-10-05T15:54:21.223Z"
   },
   {
    "duration": 587,
    "start_time": "2021-10-05T15:54:21.231Z"
   },
   {
    "duration": 7,
    "start_time": "2021-10-05T15:54:21.820Z"
   },
   {
    "duration": 261,
    "start_time": "2021-10-05T15:54:21.830Z"
   },
   {
    "duration": 8,
    "start_time": "2021-10-05T15:54:22.101Z"
   },
   {
    "duration": 375,
    "start_time": "2021-10-05T15:54:22.111Z"
   },
   {
    "duration": 60,
    "start_time": "2021-10-05T15:54:22.489Z"
   },
   {
    "duration": 6,
    "start_time": "2021-10-05T15:54:22.552Z"
   },
   {
    "duration": 41,
    "start_time": "2021-10-05T15:54:22.561Z"
   },
   {
    "duration": 630,
    "start_time": "2021-10-05T15:54:22.604Z"
   },
   {
    "duration": 9,
    "start_time": "2021-10-05T15:54:23.237Z"
   },
   {
    "duration": 362,
    "start_time": "2021-10-05T15:54:23.248Z"
   },
   {
    "duration": 360,
    "start_time": "2021-10-05T15:54:23.612Z"
   },
   {
    "duration": 368,
    "start_time": "2021-10-05T15:54:23.975Z"
   },
   {
    "duration": 377,
    "start_time": "2021-10-05T15:54:24.345Z"
   },
   {
    "duration": 20,
    "start_time": "2021-10-05T15:54:24.725Z"
   },
   {
    "duration": 106,
    "start_time": "2021-10-05T15:54:24.747Z"
   },
   {
    "duration": 20,
    "start_time": "2021-10-05T15:54:24.856Z"
   },
   {
    "duration": 623,
    "start_time": "2021-10-05T15:54:24.878Z"
   },
   {
    "duration": 5,
    "start_time": "2021-10-05T15:55:37.349Z"
   },
   {
    "duration": 308,
    "start_time": "2021-10-05T15:55:52.641Z"
   },
   {
    "duration": 289,
    "start_time": "2021-10-05T15:55:55.901Z"
   },
   {
    "duration": 3,
    "start_time": "2021-10-05T16:02:08.286Z"
   },
   {
    "duration": 1170,
    "start_time": "2021-10-05T16:32:59.730Z"
   },
   {
    "duration": 1166,
    "start_time": "2021-10-05T16:33:16.424Z"
   },
   {
    "duration": 108,
    "start_time": "2021-10-05T16:34:46.273Z"
   },
   {
    "duration": 282,
    "start_time": "2021-10-05T16:34:52.370Z"
   },
   {
    "duration": 20,
    "start_time": "2021-10-05T16:35:37.412Z"
   },
   {
    "duration": 280,
    "start_time": "2021-10-05T16:36:18.223Z"
   },
   {
    "duration": 139,
    "start_time": "2021-10-05T16:37:07.476Z"
   },
   {
    "duration": 16,
    "start_time": "2021-10-05T16:37:07.618Z"
   },
   {
    "duration": 139,
    "start_time": "2021-10-05T16:37:07.637Z"
   },
   {
    "duration": 51,
    "start_time": "2021-10-05T16:37:07.779Z"
   },
   {
    "duration": 9,
    "start_time": "2021-10-05T16:37:07.833Z"
   },
   {
    "duration": 13,
    "start_time": "2021-10-05T16:37:07.844Z"
   },
   {
    "duration": 54,
    "start_time": "2021-10-05T16:37:07.859Z"
   },
   {
    "duration": 21,
    "start_time": "2021-10-05T16:37:07.917Z"
   },
   {
    "duration": 25,
    "start_time": "2021-10-05T16:37:07.941Z"
   },
   {
    "duration": 40,
    "start_time": "2021-10-05T16:37:07.968Z"
   },
   {
    "duration": 36,
    "start_time": "2021-10-05T16:37:08.010Z"
   },
   {
    "duration": 12,
    "start_time": "2021-10-05T16:37:08.048Z"
   },
   {
    "duration": 10,
    "start_time": "2021-10-05T16:37:08.062Z"
   },
   {
    "duration": 58,
    "start_time": "2021-10-05T16:37:08.075Z"
   },
   {
    "duration": 13,
    "start_time": "2021-10-05T16:37:08.136Z"
   },
   {
    "duration": 14,
    "start_time": "2021-10-05T16:37:08.151Z"
   },
   {
    "duration": 36,
    "start_time": "2021-10-05T16:37:08.168Z"
   },
   {
    "duration": 18,
    "start_time": "2021-10-05T16:37:08.206Z"
   },
   {
    "duration": 18,
    "start_time": "2021-10-05T16:37:08.226Z"
   },
   {
    "duration": 820,
    "start_time": "2021-10-05T16:37:08.246Z"
   },
   {
    "duration": 8,
    "start_time": "2021-10-05T16:37:09.068Z"
   },
   {
    "duration": 52,
    "start_time": "2021-10-05T16:37:09.079Z"
   },
   {
    "duration": 164,
    "start_time": "2021-10-05T16:37:09.137Z"
   },
   {
    "duration": 3,
    "start_time": "2021-10-05T16:37:09.305Z"
   },
   {
    "duration": 590,
    "start_time": "2021-10-05T16:37:09.310Z"
   },
   {
    "duration": 576,
    "start_time": "2021-10-05T16:37:09.902Z"
   },
   {
    "duration": 368,
    "start_time": "2021-10-05T16:37:10.480Z"
   },
   {
    "duration": 598,
    "start_time": "2021-10-05T16:37:10.850Z"
   },
   {
    "duration": 924,
    "start_time": "2021-10-05T16:37:11.450Z"
   },
   {
    "duration": 25,
    "start_time": "2021-10-05T16:37:12.376Z"
   },
   {
    "duration": 239,
    "start_time": "2021-10-05T16:37:12.404Z"
   },
   {
    "duration": 220,
    "start_time": "2021-10-05T16:37:12.645Z"
   },
   {
    "duration": 216,
    "start_time": "2021-10-05T16:37:12.867Z"
   },
   {
    "duration": 563,
    "start_time": "2021-10-05T16:37:13.085Z"
   },
   {
    "duration": 11,
    "start_time": "2021-10-05T16:37:13.650Z"
   },
   {
    "duration": 242,
    "start_time": "2021-10-05T16:37:13.663Z"
   },
   {
    "duration": 223,
    "start_time": "2021-10-05T16:37:13.907Z"
   },
   {
    "duration": 45,
    "start_time": "2021-10-05T16:37:14.132Z"
   },
   {
    "duration": 29,
    "start_time": "2021-10-05T16:37:14.179Z"
   },
   {
    "duration": 1171,
    "start_time": "2021-10-05T16:37:14.211Z"
   },
   {
    "duration": 17,
    "start_time": "2021-10-05T16:37:15.384Z"
   },
   {
    "duration": 263,
    "start_time": "2021-10-05T16:37:15.404Z"
   },
   {
    "duration": 6,
    "start_time": "2021-10-05T16:37:15.669Z"
   },
   {
    "duration": 234,
    "start_time": "2021-10-05T16:37:15.677Z"
   },
   {
    "duration": 7,
    "start_time": "2021-10-05T16:37:15.914Z"
   },
   {
    "duration": 311,
    "start_time": "2021-10-05T16:37:15.923Z"
   },
   {
    "duration": 33,
    "start_time": "2021-10-05T16:37:16.237Z"
   },
   {
    "duration": 6,
    "start_time": "2021-10-05T16:37:16.273Z"
   },
   {
    "duration": 14,
    "start_time": "2021-10-05T16:37:16.301Z"
   },
   {
    "duration": 436,
    "start_time": "2021-10-05T16:37:16.317Z"
   },
   {
    "duration": 9,
    "start_time": "2021-10-05T16:37:16.755Z"
   },
   {
    "duration": 369,
    "start_time": "2021-10-05T16:37:16.767Z"
   },
   {
    "duration": 367,
    "start_time": "2021-10-05T16:37:17.138Z"
   },
   {
    "duration": 368,
    "start_time": "2021-10-05T16:37:17.508Z"
   },
   {
    "duration": 358,
    "start_time": "2021-10-05T16:37:17.879Z"
   },
   {
    "duration": 19,
    "start_time": "2021-10-05T16:37:18.239Z"
   },
   {
    "duration": 105,
    "start_time": "2021-10-05T16:37:18.260Z"
   },
   {
    "duration": 19,
    "start_time": "2021-10-05T16:37:18.367Z"
   },
   {
    "duration": 333,
    "start_time": "2021-10-05T16:37:18.400Z"
   },
   {
    "duration": 308,
    "start_time": "2021-10-05T16:37:18.735Z"
   },
   {
    "duration": 964,
    "start_time": "2021-10-06T14:10:04.528Z"
   },
   {
    "duration": 18,
    "start_time": "2021-10-06T14:10:05.495Z"
   },
   {
    "duration": 137,
    "start_time": "2021-10-06T14:10:05.517Z"
   },
   {
    "duration": 41,
    "start_time": "2021-10-06T14:10:05.661Z"
   },
   {
    "duration": 13,
    "start_time": "2021-10-06T14:10:05.705Z"
   },
   {
    "duration": 43,
    "start_time": "2021-10-06T14:10:05.720Z"
   },
   {
    "duration": 30,
    "start_time": "2021-10-06T14:10:05.766Z"
   },
   {
    "duration": 22,
    "start_time": "2021-10-06T14:10:05.800Z"
   },
   {
    "duration": 56,
    "start_time": "2021-10-06T14:10:05.825Z"
   },
   {
    "duration": 15,
    "start_time": "2021-10-06T14:10:05.883Z"
   },
   {
    "duration": 35,
    "start_time": "2021-10-06T14:10:05.900Z"
   },
   {
    "duration": 5,
    "start_time": "2021-10-06T14:10:05.962Z"
   },
   {
    "duration": 10,
    "start_time": "2021-10-06T14:10:05.970Z"
   },
   {
    "duration": 40,
    "start_time": "2021-10-06T14:10:05.982Z"
   },
   {
    "duration": 42,
    "start_time": "2021-10-06T14:10:06.024Z"
   },
   {
    "duration": 13,
    "start_time": "2021-10-06T14:10:06.069Z"
   },
   {
    "duration": 6,
    "start_time": "2021-10-06T14:10:06.084Z"
   },
   {
    "duration": 19,
    "start_time": "2021-10-06T14:10:06.092Z"
   },
   {
    "duration": 50,
    "start_time": "2021-10-06T14:10:06.113Z"
   },
   {
    "duration": 804,
    "start_time": "2021-10-06T14:10:06.166Z"
   },
   {
    "duration": 9,
    "start_time": "2021-10-06T14:10:06.972Z"
   },
   {
    "duration": 35,
    "start_time": "2021-10-06T14:10:06.983Z"
   },
   {
    "duration": 185,
    "start_time": "2021-10-06T14:10:07.024Z"
   },
   {
    "duration": 131,
    "start_time": "2021-10-06T14:10:07.212Z"
   },
   {
    "duration": 651,
    "start_time": "2021-10-06T14:10:07.346Z"
   },
   {
    "duration": 574,
    "start_time": "2021-10-06T14:10:07.999Z"
   },
   {
    "duration": 362,
    "start_time": "2021-10-06T14:10:08.576Z"
   },
   {
    "duration": 588,
    "start_time": "2021-10-06T14:10:08.940Z"
   },
   {
    "duration": 599,
    "start_time": "2021-10-06T14:10:09.530Z"
   },
   {
    "duration": 11,
    "start_time": "2021-10-06T14:10:10.131Z"
   },
   {
    "duration": 257,
    "start_time": "2021-10-06T14:10:10.145Z"
   },
   {
    "duration": 239,
    "start_time": "2021-10-06T14:10:10.405Z"
   },
   {
    "duration": 306,
    "start_time": "2021-10-06T14:10:10.647Z"
   },
   {
    "duration": 570,
    "start_time": "2021-10-06T14:10:10.955Z"
   },
   {
    "duration": 12,
    "start_time": "2021-10-06T14:10:11.527Z"
   },
   {
    "duration": 254,
    "start_time": "2021-10-06T14:10:11.542Z"
   },
   {
    "duration": 225,
    "start_time": "2021-10-06T14:10:11.798Z"
   },
   {
    "duration": 61,
    "start_time": "2021-10-06T14:10:12.025Z"
   },
   {
    "duration": 15,
    "start_time": "2021-10-06T14:10:12.089Z"
   },
   {
    "duration": 1195,
    "start_time": "2021-10-06T14:10:12.106Z"
   },
   {
    "duration": 7,
    "start_time": "2021-10-06T14:10:13.303Z"
   },
   {
    "duration": 269,
    "start_time": "2021-10-06T14:10:13.312Z"
   },
   {
    "duration": 7,
    "start_time": "2021-10-06T14:10:13.583Z"
   },
   {
    "duration": 254,
    "start_time": "2021-10-06T14:10:13.593Z"
   },
   {
    "duration": 14,
    "start_time": "2021-10-06T14:10:13.849Z"
   },
   {
    "duration": 301,
    "start_time": "2021-10-06T14:10:13.865Z"
   },
   {
    "duration": 34,
    "start_time": "2021-10-06T14:10:14.168Z"
   },
   {
    "duration": 8,
    "start_time": "2021-10-06T14:10:14.204Z"
   },
   {
    "duration": 47,
    "start_time": "2021-10-06T14:10:14.215Z"
   },
   {
    "duration": 496,
    "start_time": "2021-10-06T14:10:14.265Z"
   },
   {
    "duration": 10,
    "start_time": "2021-10-06T14:10:14.764Z"
   },
   {
    "duration": 361,
    "start_time": "2021-10-06T14:10:14.776Z"
   },
   {
    "duration": 459,
    "start_time": "2021-10-06T14:10:15.140Z"
   },
   {
    "duration": 369,
    "start_time": "2021-10-06T14:10:15.602Z"
   },
   {
    "duration": 393,
    "start_time": "2021-10-06T14:10:15.974Z"
   },
   {
    "duration": 21,
    "start_time": "2021-10-06T14:10:16.369Z"
   },
   {
    "duration": 114,
    "start_time": "2021-10-06T14:10:16.392Z"
   },
   {
    "duration": 19,
    "start_time": "2021-10-06T14:10:16.508Z"
   },
   {
    "duration": 333,
    "start_time": "2021-10-06T14:10:16.529Z"
   },
   {
    "duration": 306,
    "start_time": "2021-10-06T14:10:16.864Z"
   },
   {
    "duration": 333,
    "start_time": "2021-10-06T14:56:27.238Z"
   },
   {
    "duration": 902,
    "start_time": "2021-10-06T14:56:33.436Z"
   },
   {
    "duration": 26,
    "start_time": "2021-10-06T14:56:34.341Z"
   },
   {
    "duration": 112,
    "start_time": "2021-10-06T14:56:34.370Z"
   },
   {
    "duration": 39,
    "start_time": "2021-10-06T14:56:34.485Z"
   },
   {
    "duration": 11,
    "start_time": "2021-10-06T14:56:34.526Z"
   },
   {
    "duration": 42,
    "start_time": "2021-10-06T14:56:34.540Z"
   },
   {
    "duration": 33,
    "start_time": "2021-10-06T14:56:34.584Z"
   },
   {
    "duration": 50,
    "start_time": "2021-10-06T14:56:34.619Z"
   },
   {
    "duration": 29,
    "start_time": "2021-10-06T14:56:34.673Z"
   },
   {
    "duration": 11,
    "start_time": "2021-10-06T14:56:34.705Z"
   },
   {
    "duration": 67,
    "start_time": "2021-10-06T14:56:34.719Z"
   },
   {
    "duration": 6,
    "start_time": "2021-10-06T14:56:34.789Z"
   },
   {
    "duration": 13,
    "start_time": "2021-10-06T14:56:34.797Z"
   },
   {
    "duration": 61,
    "start_time": "2021-10-06T14:56:34.813Z"
   },
   {
    "duration": 20,
    "start_time": "2021-10-06T14:56:34.876Z"
   },
   {
    "duration": 14,
    "start_time": "2021-10-06T14:56:34.899Z"
   },
   {
    "duration": 7,
    "start_time": "2021-10-06T14:56:34.916Z"
   },
   {
    "duration": 51,
    "start_time": "2021-10-06T14:56:34.925Z"
   },
   {
    "duration": 19,
    "start_time": "2021-10-06T14:56:34.979Z"
   },
   {
    "duration": 849,
    "start_time": "2021-10-06T14:56:35.001Z"
   },
   {
    "duration": 14,
    "start_time": "2021-10-06T14:56:35.853Z"
   },
   {
    "duration": 38,
    "start_time": "2021-10-06T14:56:35.869Z"
   },
   {
    "duration": 174,
    "start_time": "2021-10-06T14:56:35.909Z"
   },
   {
    "duration": 118,
    "start_time": "2021-10-06T14:56:36.086Z"
   },
   {
    "duration": 756,
    "start_time": "2021-10-06T14:56:36.206Z"
   },
   {
    "duration": 608,
    "start_time": "2021-10-06T14:56:36.967Z"
   },
   {
    "duration": 375,
    "start_time": "2021-10-06T14:56:37.581Z"
   },
   {
    "duration": 722,
    "start_time": "2021-10-06T14:56:37.960Z"
   },
   {
    "duration": 636,
    "start_time": "2021-10-06T14:56:38.685Z"
   },
   {
    "duration": 11,
    "start_time": "2021-10-06T14:56:39.323Z"
   },
   {
    "duration": 272,
    "start_time": "2021-10-06T14:56:39.337Z"
   },
   {
    "duration": 233,
    "start_time": "2021-10-06T14:56:39.611Z"
   },
   {
    "duration": 305,
    "start_time": "2021-10-06T14:56:39.846Z"
   },
   {
    "duration": 600,
    "start_time": "2021-10-06T14:56:40.154Z"
   },
   {
    "duration": 19,
    "start_time": "2021-10-06T14:56:40.757Z"
   },
   {
    "duration": 257,
    "start_time": "2021-10-06T14:56:40.779Z"
   },
   {
    "duration": 231,
    "start_time": "2021-10-06T14:56:41.038Z"
   },
   {
    "duration": 48,
    "start_time": "2021-10-06T14:56:41.272Z"
   },
   {
    "duration": 16,
    "start_time": "2021-10-06T14:56:41.322Z"
   },
   {
    "duration": 1210,
    "start_time": "2021-10-06T14:56:41.341Z"
   },
   {
    "duration": 14,
    "start_time": "2021-10-06T14:56:42.553Z"
   },
   {
    "duration": 281,
    "start_time": "2021-10-06T14:56:42.570Z"
   },
   {
    "duration": 15,
    "start_time": "2021-10-06T14:56:42.854Z"
   },
   {
    "duration": 240,
    "start_time": "2021-10-06T14:56:42.871Z"
   },
   {
    "duration": 7,
    "start_time": "2021-10-06T14:56:43.114Z"
   },
   {
    "duration": 318,
    "start_time": "2021-10-06T14:56:43.124Z"
   },
   {
    "duration": 46,
    "start_time": "2021-10-06T14:56:43.445Z"
   },
   {
    "duration": 5,
    "start_time": "2021-10-06T14:56:43.494Z"
   },
   {
    "duration": 18,
    "start_time": "2021-10-06T14:56:43.502Z"
   },
   {
    "duration": 465,
    "start_time": "2021-10-06T14:56:43.522Z"
   },
   {
    "duration": 9,
    "start_time": "2021-10-06T14:56:43.989Z"
   },
   {
    "duration": 381,
    "start_time": "2021-10-06T14:56:44.001Z"
   },
   {
    "duration": 456,
    "start_time": "2021-10-06T14:56:44.385Z"
   },
   {
    "duration": 390,
    "start_time": "2021-10-06T14:56:44.843Z"
   },
   {
    "duration": 399,
    "start_time": "2021-10-06T14:56:45.236Z"
   },
   {
    "duration": 40,
    "start_time": "2021-10-06T14:56:45.638Z"
   },
   {
    "duration": 107,
    "start_time": "2021-10-06T14:56:45.681Z"
   },
   {
    "duration": 20,
    "start_time": "2021-10-06T14:56:45.791Z"
   },
   {
    "duration": 356,
    "start_time": "2021-10-06T14:56:45.814Z"
   },
   {
    "duration": 324,
    "start_time": "2021-10-06T14:56:46.173Z"
   },
   {
    "duration": 162,
    "start_time": "2021-10-06T16:24:45.498Z"
   },
   {
    "duration": 38,
    "start_time": "2021-10-06T16:52:40.250Z"
   },
   {
    "duration": 422,
    "start_time": "2021-10-07T07:48:41.610Z"
   },
   {
    "duration": 705,
    "start_time": "2021-10-07T07:48:50.071Z"
   },
   {
    "duration": 85,
    "start_time": "2021-10-07T07:48:50.778Z"
   },
   {
    "duration": 10,
    "start_time": "2021-10-07T07:48:50.866Z"
   },
   {
    "duration": 62,
    "start_time": "2021-10-07T07:48:50.884Z"
   },
   {
    "duration": 34,
    "start_time": "2021-10-07T07:48:50.947Z"
   },
   {
    "duration": 8,
    "start_time": "2021-10-07T07:48:50.983Z"
   },
   {
    "duration": 9,
    "start_time": "2021-10-07T07:48:50.993Z"
   },
   {
    "duration": 20,
    "start_time": "2021-10-07T07:48:51.005Z"
   },
   {
    "duration": 14,
    "start_time": "2021-10-07T07:48:51.027Z"
   },
   {
    "duration": 50,
    "start_time": "2021-10-07T07:48:51.042Z"
   },
   {
    "duration": 9,
    "start_time": "2021-10-07T07:48:51.094Z"
   },
   {
    "duration": 29,
    "start_time": "2021-10-07T07:48:51.104Z"
   },
   {
    "duration": 4,
    "start_time": "2021-10-07T07:48:51.135Z"
   },
   {
    "duration": 36,
    "start_time": "2021-10-07T07:48:51.141Z"
   },
   {
    "duration": 26,
    "start_time": "2021-10-07T07:48:51.179Z"
   },
   {
    "duration": 13,
    "start_time": "2021-10-07T07:48:51.207Z"
   },
   {
    "duration": 13,
    "start_time": "2021-10-07T07:48:51.222Z"
   },
   {
    "duration": 5,
    "start_time": "2021-10-07T07:48:51.238Z"
   },
   {
    "duration": 41,
    "start_time": "2021-10-07T07:48:51.245Z"
   },
   {
    "duration": 18,
    "start_time": "2021-10-07T07:48:51.289Z"
   },
   {
    "duration": 790,
    "start_time": "2021-10-07T07:48:51.310Z"
   },
   {
    "duration": 8,
    "start_time": "2021-10-07T07:48:52.102Z"
   },
   {
    "duration": 33,
    "start_time": "2021-10-07T07:48:52.115Z"
   },
   {
    "duration": 172,
    "start_time": "2021-10-07T07:48:52.151Z"
   },
   {
    "duration": 377,
    "start_time": "2021-10-07T07:48:52.326Z"
   },
   {
    "duration": 331,
    "start_time": "2021-10-07T07:48:52.705Z"
   },
   {
    "duration": 221,
    "start_time": "2021-10-07T07:48:53.038Z"
   },
   {
    "duration": 326,
    "start_time": "2021-10-07T07:48:53.261Z"
   },
   {
    "duration": 324,
    "start_time": "2021-10-07T07:48:53.589Z"
   },
   {
    "duration": 9,
    "start_time": "2021-10-07T07:48:53.915Z"
   },
   {
    "duration": 148,
    "start_time": "2021-10-07T07:48:53.925Z"
   },
   {
    "duration": 127,
    "start_time": "2021-10-07T07:48:54.074Z"
   },
   {
    "duration": 130,
    "start_time": "2021-10-07T07:48:54.202Z"
   },
   {
    "duration": 382,
    "start_time": "2021-10-07T07:48:54.333Z"
   },
   {
    "duration": 8,
    "start_time": "2021-10-07T07:48:54.717Z"
   },
   {
    "duration": 146,
    "start_time": "2021-10-07T07:48:54.727Z"
   },
   {
    "duration": 121,
    "start_time": "2021-10-07T07:48:54.876Z"
   },
   {
    "duration": 30,
    "start_time": "2021-10-07T07:48:54.999Z"
   },
   {
    "duration": 11,
    "start_time": "2021-10-07T07:48:55.031Z"
   },
   {
    "duration": 826,
    "start_time": "2021-10-07T07:48:55.044Z"
   },
   {
    "duration": 8,
    "start_time": "2021-10-07T07:48:55.872Z"
   },
   {
    "duration": 179,
    "start_time": "2021-10-07T07:48:55.881Z"
   },
   {
    "duration": 5,
    "start_time": "2021-10-07T07:48:56.062Z"
   },
   {
    "duration": 145,
    "start_time": "2021-10-07T07:48:56.069Z"
   },
   {
    "duration": 5,
    "start_time": "2021-10-07T07:48:56.215Z"
   },
   {
    "duration": 179,
    "start_time": "2021-10-07T07:48:56.222Z"
   },
   {
    "duration": 21,
    "start_time": "2021-10-07T07:48:56.403Z"
   },
   {
    "duration": 5,
    "start_time": "2021-10-07T07:48:56.426Z"
   },
   {
    "duration": 13,
    "start_time": "2021-10-07T07:48:56.433Z"
   },
   {
    "duration": 265,
    "start_time": "2021-10-07T07:48:56.448Z"
   },
   {
    "duration": 7,
    "start_time": "2021-10-07T07:48:56.715Z"
   },
   {
    "duration": 220,
    "start_time": "2021-10-07T07:48:56.723Z"
   },
   {
    "duration": 213,
    "start_time": "2021-10-07T07:48:56.945Z"
   },
   {
    "duration": 291,
    "start_time": "2021-10-07T07:48:57.160Z"
   },
   {
    "duration": 227,
    "start_time": "2021-10-07T07:48:57.453Z"
   },
   {
    "duration": 14,
    "start_time": "2021-10-07T07:48:57.682Z"
   },
   {
    "duration": 81,
    "start_time": "2021-10-07T07:48:57.698Z"
   },
   {
    "duration": 13,
    "start_time": "2021-10-07T07:48:57.780Z"
   },
   {
    "duration": 201,
    "start_time": "2021-10-07T07:48:57.794Z"
   },
   {
    "duration": 187,
    "start_time": "2021-10-07T07:48:57.997Z"
   },
   {
    "duration": 82,
    "start_time": "2021-10-07T07:49:26.845Z"
   },
   {
    "duration": 124,
    "start_time": "2021-10-07T07:53:17.303Z"
   },
   {
    "duration": 70,
    "start_time": "2021-10-07T07:54:10.976Z"
   },
   {
    "duration": 26,
    "start_time": "2021-10-07T07:54:23.680Z"
   },
   {
    "duration": 322,
    "start_time": "2021-10-07T07:54:34.482Z"
   },
   {
    "duration": 26,
    "start_time": "2021-10-07T07:54:45.020Z"
   },
   {
    "duration": 967,
    "start_time": "2021-10-07T07:55:17.505Z"
   },
   {
    "duration": 56,
    "start_time": "2021-10-07T07:56:55.193Z"
   },
   {
    "duration": 29,
    "start_time": "2021-10-07T08:15:01.414Z"
   },
   {
    "duration": 24,
    "start_time": "2021-10-07T08:15:07.561Z"
   },
   {
    "duration": 25,
    "start_time": "2021-10-07T08:15:17.227Z"
   },
   {
    "duration": 39,
    "start_time": "2021-10-07T08:15:25.020Z"
   },
   {
    "duration": 24,
    "start_time": "2021-10-07T08:15:30.639Z"
   },
   {
    "duration": 24,
    "start_time": "2021-10-07T08:15:43.386Z"
   },
   {
    "duration": 24,
    "start_time": "2021-10-07T08:15:53.490Z"
   },
   {
    "duration": 304,
    "start_time": "2021-10-07T08:17:26.942Z"
   },
   {
    "duration": 26,
    "start_time": "2021-10-07T08:17:33.762Z"
   },
   {
    "duration": 43,
    "start_time": "2021-10-07T08:33:30.872Z"
   },
   {
    "duration": 349,
    "start_time": "2021-10-07T13:58:57.719Z"
   },
   {
    "duration": 3,
    "start_time": "2021-10-07T13:59:09.954Z"
   },
   {
    "duration": 113,
    "start_time": "2021-10-07T13:59:09.960Z"
   },
   {
    "duration": 40,
    "start_time": "2021-10-07T13:59:10.076Z"
   },
   {
    "duration": 61,
    "start_time": "2021-10-07T13:59:10.118Z"
   },
   {
    "duration": 39,
    "start_time": "2021-10-07T13:59:10.181Z"
   },
   {
    "duration": 16,
    "start_time": "2021-10-07T13:59:10.222Z"
   },
   {
    "duration": 103,
    "start_time": "2021-10-07T13:59:10.242Z"
   },
   {
    "duration": 47,
    "start_time": "2021-10-07T13:59:10.347Z"
   },
   {
    "duration": 9,
    "start_time": "2021-10-07T13:59:10.396Z"
   },
   {
    "duration": 30,
    "start_time": "2021-10-07T13:59:10.407Z"
   },
   {
    "duration": 37,
    "start_time": "2021-10-07T13:59:10.439Z"
   },
   {
    "duration": 23,
    "start_time": "2021-10-07T13:59:10.480Z"
   },
   {
    "duration": 15,
    "start_time": "2021-10-07T13:59:10.504Z"
   },
   {
    "duration": 13,
    "start_time": "2021-10-07T13:59:10.520Z"
   },
   {
    "duration": 27,
    "start_time": "2021-10-07T13:59:10.534Z"
   },
   {
    "duration": 5,
    "start_time": "2021-10-07T13:59:10.578Z"
   },
   {
    "duration": 11,
    "start_time": "2021-10-07T13:59:10.585Z"
   },
   {
    "duration": 33,
    "start_time": "2021-10-07T13:59:10.598Z"
   },
   {
    "duration": 45,
    "start_time": "2021-10-07T13:59:10.636Z"
   },
   {
    "duration": 13,
    "start_time": "2021-10-07T13:59:10.685Z"
   },
   {
    "duration": 13,
    "start_time": "2021-10-07T13:59:10.700Z"
   },
   {
    "duration": 10,
    "start_time": "2021-10-07T13:59:10.715Z"
   },
   {
    "duration": 28,
    "start_time": "2021-10-07T13:59:10.727Z"
   },
   {
    "duration": 28,
    "start_time": "2021-10-07T13:59:10.757Z"
   },
   {
    "duration": 502,
    "start_time": "2021-10-07T13:59:10.787Z"
   },
   {
    "duration": 9,
    "start_time": "2021-10-07T13:59:11.291Z"
   },
   {
    "duration": 62,
    "start_time": "2021-10-07T13:59:11.302Z"
   },
   {
    "duration": 191,
    "start_time": "2021-10-07T13:59:11.366Z"
   },
   {
    "duration": 583,
    "start_time": "2021-10-07T13:59:11.559Z"
   },
   {
    "duration": 589,
    "start_time": "2021-10-07T13:59:12.145Z"
   },
   {
    "duration": 333,
    "start_time": "2021-10-07T13:59:12.736Z"
   },
   {
    "duration": 352,
    "start_time": "2021-10-07T13:59:13.071Z"
   },
   {
    "duration": 360,
    "start_time": "2021-10-07T13:59:13.425Z"
   },
   {
    "duration": 10,
    "start_time": "2021-10-07T13:59:13.788Z"
   },
   {
    "duration": 163,
    "start_time": "2021-10-07T13:59:13.800Z"
   },
   {
    "duration": 172,
    "start_time": "2021-10-07T13:59:13.965Z"
   },
   {
    "duration": 144,
    "start_time": "2021-10-07T13:59:14.139Z"
   },
   {
    "duration": 334,
    "start_time": "2021-10-07T13:59:14.286Z"
   },
   {
    "duration": 8,
    "start_time": "2021-10-07T13:59:14.622Z"
   },
   {
    "duration": 168,
    "start_time": "2021-10-07T13:59:14.632Z"
   },
   {
    "duration": 138,
    "start_time": "2021-10-07T13:59:14.802Z"
   },
   {
    "duration": 37,
    "start_time": "2021-10-07T13:59:14.942Z"
   },
   {
    "duration": 13,
    "start_time": "2021-10-07T13:59:14.982Z"
   },
   {
    "duration": 891,
    "start_time": "2021-10-07T13:59:14.997Z"
   },
   {
    "duration": 6,
    "start_time": "2021-10-07T13:59:15.891Z"
   },
   {
    "duration": 187,
    "start_time": "2021-10-07T13:59:15.899Z"
   },
   {
    "duration": 6,
    "start_time": "2021-10-07T13:59:16.089Z"
   },
   {
    "duration": 153,
    "start_time": "2021-10-07T13:59:16.097Z"
   },
   {
    "duration": 5,
    "start_time": "2021-10-07T13:59:16.253Z"
   },
   {
    "duration": 193,
    "start_time": "2021-10-07T13:59:16.259Z"
   },
   {
    "duration": 36,
    "start_time": "2021-10-07T13:59:16.454Z"
   },
   {
    "duration": 5,
    "start_time": "2021-10-07T13:59:16.491Z"
   },
   {
    "duration": 13,
    "start_time": "2021-10-07T13:59:16.498Z"
   },
   {
    "duration": 275,
    "start_time": "2021-10-07T13:59:16.512Z"
   },
   {
    "duration": 10,
    "start_time": "2021-10-07T13:59:16.793Z"
   },
   {
    "duration": 224,
    "start_time": "2021-10-07T13:59:16.805Z"
   },
   {
    "duration": 330,
    "start_time": "2021-10-07T13:59:17.030Z"
   },
   {
    "duration": 264,
    "start_time": "2021-10-07T13:59:17.363Z"
   },
   {
    "duration": 238,
    "start_time": "2021-10-07T13:59:17.629Z"
   },
   {
    "duration": 22,
    "start_time": "2021-10-07T13:59:17.868Z"
   },
   {
    "duration": 67,
    "start_time": "2021-10-07T13:59:17.892Z"
   },
   {
    "duration": 30,
    "start_time": "2021-10-07T13:59:17.961Z"
   },
   {
    "duration": 230,
    "start_time": "2021-10-07T13:59:17.994Z"
   },
   {
    "duration": 207,
    "start_time": "2021-10-07T13:59:18.226Z"
   },
   {
    "duration": 35,
    "start_time": "2021-10-07T14:17:30.455Z"
   },
   {
    "duration": 13,
    "start_time": "2021-10-07T14:18:56.488Z"
   },
   {
    "duration": 37,
    "start_time": "2021-10-07T14:19:00.175Z"
   },
   {
    "duration": 13,
    "start_time": "2021-10-07T14:19:07.256Z"
   },
   {
    "duration": 5,
    "start_time": "2021-10-07T14:26:32.201Z"
   },
   {
    "duration": 5,
    "start_time": "2021-10-07T14:26:40.635Z"
   },
   {
    "duration": 14,
    "start_time": "2021-10-07T15:03:20.809Z"
   },
   {
    "duration": 34,
    "start_time": "2021-10-07T15:03:28.326Z"
   },
   {
    "duration": 11,
    "start_time": "2021-10-07T15:04:12.344Z"
   },
   {
    "duration": 33,
    "start_time": "2021-10-07T15:04:14.140Z"
   },
   {
    "duration": 5,
    "start_time": "2021-10-07T15:09:29.293Z"
   },
   {
    "duration": 12,
    "start_time": "2021-10-07T15:10:56.544Z"
   },
   {
    "duration": 41,
    "start_time": "2021-10-07T15:10:57.379Z"
   },
   {
    "duration": 17,
    "start_time": "2021-10-07T15:12:42.285Z"
   },
   {
    "duration": 35,
    "start_time": "2021-10-07T15:12:42.999Z"
   },
   {
    "duration": 12,
    "start_time": "2021-10-07T15:12:48.936Z"
   },
   {
    "duration": 34,
    "start_time": "2021-10-07T15:12:50.097Z"
   },
   {
    "duration": 38,
    "start_time": "2021-10-07T15:12:56.372Z"
   },
   {
    "duration": 11,
    "start_time": "2021-10-07T15:13:46.225Z"
   },
   {
    "duration": 12,
    "start_time": "2021-10-07T15:13:46.801Z"
   },
   {
    "duration": 12,
    "start_time": "2021-10-07T15:14:32.117Z"
   },
   {
    "duration": 12,
    "start_time": "2021-10-07T15:14:33.639Z"
   },
   {
    "duration": 606,
    "start_time": "2021-10-07T15:36:59.744Z"
   },
   {
    "duration": 478,
    "start_time": "2021-10-07T15:59:52.730Z"
   },
   {
    "duration": 2482,
    "start_time": "2021-10-07T16:00:05.210Z"
   },
   {
    "duration": 324,
    "start_time": "2021-10-07T16:00:26.861Z"
   },
   {
    "duration": 852,
    "start_time": "2021-10-07T16:02:13.344Z"
   },
   {
    "duration": 319,
    "start_time": "2021-10-07T16:07:56.448Z"
   },
   {
    "duration": 3,
    "start_time": "2021-10-07T16:08:09.767Z"
   },
   {
    "duration": 290,
    "start_time": "2021-10-07T16:10:22.569Z"
   },
   {
    "duration": 3,
    "start_time": "2021-10-07T16:10:34.759Z"
   },
   {
    "duration": 301,
    "start_time": "2021-10-07T16:10:46.282Z"
   },
   {
    "duration": 235,
    "start_time": "2021-10-07T16:10:51.687Z"
   },
   {
    "duration": 628,
    "start_time": "2021-10-07T16:11:18.597Z"
   },
   {
    "duration": 254,
    "start_time": "2021-10-07T16:11:27.092Z"
   },
   {
    "duration": 419,
    "start_time": "2021-10-07T16:16:41.823Z"
   },
   {
    "duration": 347,
    "start_time": "2021-10-07T16:22:12.028Z"
   },
   {
    "duration": 428,
    "start_time": "2021-10-07T16:22:21.176Z"
   },
   {
    "duration": 1221,
    "start_time": "2021-10-07T16:38:49.270Z"
   },
   {
    "duration": 69,
    "start_time": "2021-10-07T16:38:50.493Z"
   },
   {
    "duration": 28,
    "start_time": "2021-10-07T16:38:50.564Z"
   },
   {
    "duration": 33,
    "start_time": "2021-10-07T16:38:50.594Z"
   },
   {
    "duration": 46,
    "start_time": "2021-10-07T16:38:50.628Z"
   },
   {
    "duration": 13,
    "start_time": "2021-10-07T16:38:50.675Z"
   },
   {
    "duration": 76,
    "start_time": "2021-10-07T16:38:50.689Z"
   },
   {
    "duration": 30,
    "start_time": "2021-10-07T16:38:50.767Z"
   },
   {
    "duration": 9,
    "start_time": "2021-10-07T16:38:50.800Z"
   },
   {
    "duration": 23,
    "start_time": "2021-10-07T16:38:50.812Z"
   },
   {
    "duration": 28,
    "start_time": "2021-10-07T16:38:50.837Z"
   },
   {
    "duration": 21,
    "start_time": "2021-10-07T16:38:50.867Z"
   },
   {
    "duration": 16,
    "start_time": "2021-10-07T16:38:50.889Z"
   },
   {
    "duration": 8,
    "start_time": "2021-10-07T16:38:50.906Z"
   },
   {
    "duration": 25,
    "start_time": "2021-10-07T16:38:50.916Z"
   },
   {
    "duration": 7,
    "start_time": "2021-10-07T16:38:50.943Z"
   },
   {
    "duration": 9,
    "start_time": "2021-10-07T16:38:50.977Z"
   },
   {
    "duration": 27,
    "start_time": "2021-10-07T16:38:50.988Z"
   },
   {
    "duration": 27,
    "start_time": "2021-10-07T16:38:51.017Z"
   },
   {
    "duration": 35,
    "start_time": "2021-10-07T16:38:51.046Z"
   },
   {
    "duration": 12,
    "start_time": "2021-10-07T16:38:51.083Z"
   },
   {
    "duration": 5,
    "start_time": "2021-10-07T16:38:51.097Z"
   },
   {
    "duration": 14,
    "start_time": "2021-10-07T16:38:51.104Z"
   },
   {
    "duration": 17,
    "start_time": "2021-10-07T16:38:51.120Z"
   },
   {
    "duration": 507,
    "start_time": "2021-10-07T16:38:51.139Z"
   },
   {
    "duration": 7,
    "start_time": "2021-10-07T16:38:51.648Z"
   },
   {
    "duration": 34,
    "start_time": "2021-10-07T16:38:51.660Z"
   },
   {
    "duration": 110,
    "start_time": "2021-10-07T16:38:51.697Z"
   },
   {
    "duration": 344,
    "start_time": "2021-10-07T16:42:17.619Z"
   },
   {
    "duration": 1386,
    "start_time": "2021-10-07T16:42:22.254Z"
   },
   {
    "duration": 71,
    "start_time": "2021-10-07T16:42:23.642Z"
   },
   {
    "duration": 29,
    "start_time": "2021-10-07T16:42:23.715Z"
   },
   {
    "duration": 36,
    "start_time": "2021-10-07T16:42:23.746Z"
   },
   {
    "duration": 30,
    "start_time": "2021-10-07T16:42:23.783Z"
   },
   {
    "duration": 11,
    "start_time": "2021-10-07T16:42:23.814Z"
   },
   {
    "duration": 86,
    "start_time": "2021-10-07T16:42:23.827Z"
   },
   {
    "duration": 26,
    "start_time": "2021-10-07T16:42:23.916Z"
   },
   {
    "duration": 7,
    "start_time": "2021-10-07T16:42:23.944Z"
   },
   {
    "duration": 29,
    "start_time": "2021-10-07T16:42:23.953Z"
   },
   {
    "duration": 21,
    "start_time": "2021-10-07T16:42:23.983Z"
   },
   {
    "duration": 14,
    "start_time": "2021-10-07T16:42:24.006Z"
   },
   {
    "duration": 17,
    "start_time": "2021-10-07T16:42:24.022Z"
   },
   {
    "duration": 37,
    "start_time": "2021-10-07T16:42:24.041Z"
   },
   {
    "duration": 27,
    "start_time": "2021-10-07T16:42:24.080Z"
   },
   {
    "duration": 6,
    "start_time": "2021-10-07T16:42:24.109Z"
   },
   {
    "duration": 11,
    "start_time": "2021-10-07T16:42:24.116Z"
   },
   {
    "duration": 23,
    "start_time": "2021-10-07T16:42:24.128Z"
   },
   {
    "duration": 43,
    "start_time": "2021-10-07T16:42:24.153Z"
   },
   {
    "duration": 11,
    "start_time": "2021-10-07T16:42:24.198Z"
   },
   {
    "duration": 10,
    "start_time": "2021-10-07T16:42:24.210Z"
   },
   {
    "duration": 4,
    "start_time": "2021-10-07T16:42:24.222Z"
   },
   {
    "duration": 47,
    "start_time": "2021-10-07T16:42:24.230Z"
   },
   {
    "duration": 16,
    "start_time": "2021-10-07T16:42:24.280Z"
   },
   {
    "duration": 590,
    "start_time": "2021-10-07T16:42:24.297Z"
   },
   {
    "duration": 6,
    "start_time": "2021-10-07T16:42:24.889Z"
   },
   {
    "duration": 22,
    "start_time": "2021-10-07T16:42:24.896Z"
   },
   {
    "duration": 120,
    "start_time": "2021-10-07T16:42:24.920Z"
   },
   {
    "duration": 341,
    "start_time": "2021-10-07T16:42:25.042Z"
   },
   {
    "duration": 322,
    "start_time": "2021-10-07T16:42:25.385Z"
   },
   {
    "duration": 280,
    "start_time": "2021-10-07T16:42:25.709Z"
   },
   {
    "duration": 347,
    "start_time": "2021-10-07T16:42:25.991Z"
   },
   {
    "duration": 339,
    "start_time": "2021-10-07T16:42:26.339Z"
   },
   {
    "duration": 9,
    "start_time": "2021-10-07T16:42:26.680Z"
   },
   {
    "duration": 149,
    "start_time": "2021-10-07T16:42:26.691Z"
   },
   {
    "duration": 139,
    "start_time": "2021-10-07T16:42:26.842Z"
   },
   {
    "duration": 137,
    "start_time": "2021-10-07T16:42:26.983Z"
   },
   {
    "duration": 326,
    "start_time": "2021-10-07T16:42:27.122Z"
   },
   {
    "duration": 10,
    "start_time": "2021-10-07T16:42:27.450Z"
   },
   {
    "duration": 151,
    "start_time": "2021-10-07T16:42:27.475Z"
   },
   {
    "duration": 219,
    "start_time": "2021-10-07T16:42:27.627Z"
   },
   {
    "duration": 40,
    "start_time": "2021-10-07T16:42:27.848Z"
   },
   {
    "duration": 12,
    "start_time": "2021-10-07T16:42:27.889Z"
   },
   {
    "duration": 744,
    "start_time": "2021-10-07T16:42:27.903Z"
   },
   {
    "duration": 5,
    "start_time": "2021-10-07T16:42:28.649Z"
   },
   {
    "duration": 181,
    "start_time": "2021-10-07T16:42:28.656Z"
   },
   {
    "duration": 5,
    "start_time": "2021-10-07T16:42:28.839Z"
   },
   {
    "duration": 203,
    "start_time": "2021-10-07T16:42:28.846Z"
   },
   {
    "duration": 5,
    "start_time": "2021-10-07T16:42:29.051Z"
   },
   {
    "duration": 186,
    "start_time": "2021-10-07T16:42:29.058Z"
   },
   {
    "duration": 33,
    "start_time": "2021-10-07T16:42:29.245Z"
   },
   {
    "duration": 5,
    "start_time": "2021-10-07T16:42:29.280Z"
   },
   {
    "duration": 21,
    "start_time": "2021-10-07T16:42:29.287Z"
   },
   {
    "duration": 271,
    "start_time": "2021-10-07T16:42:29.309Z"
   },
   {
    "duration": 9,
    "start_time": "2021-10-07T16:42:29.582Z"
   },
   {
    "duration": 218,
    "start_time": "2021-10-07T16:42:29.593Z"
   },
   {
    "duration": 218,
    "start_time": "2021-10-07T16:42:29.812Z"
   },
   {
    "duration": 222,
    "start_time": "2021-10-07T16:42:30.032Z"
   },
   {
    "duration": 232,
    "start_time": "2021-10-07T16:42:30.256Z"
   },
   {
    "duration": 15,
    "start_time": "2021-10-07T16:42:30.491Z"
   },
   {
    "duration": 79,
    "start_time": "2021-10-07T16:42:30.508Z"
   },
   {
    "duration": 13,
    "start_time": "2021-10-07T16:42:30.589Z"
   },
   {
    "duration": 205,
    "start_time": "2021-10-07T16:42:30.604Z"
   },
   {
    "duration": 191,
    "start_time": "2021-10-07T16:42:30.810Z"
   },
   {
    "duration": 425,
    "start_time": "2021-10-07T16:44:54.122Z"
   },
   {
    "duration": 309,
    "start_time": "2021-10-07T16:45:12.099Z"
   },
   {
    "duration": 251,
    "start_time": "2021-10-07T16:45:53.827Z"
   },
   {
    "duration": 345,
    "start_time": "2021-10-07T16:47:26.072Z"
   },
   {
    "duration": 256,
    "start_time": "2021-10-07T16:47:41.671Z"
   },
   {
    "duration": 229,
    "start_time": "2021-10-07T16:47:57.193Z"
   },
   {
    "duration": 312,
    "start_time": "2021-10-07T16:51:24.787Z"
   },
   {
    "duration": 344,
    "start_time": "2021-10-07T16:55:22.171Z"
   },
   {
    "duration": 468,
    "start_time": "2021-10-07T16:55:29.645Z"
   },
   {
    "duration": 325,
    "start_time": "2021-10-07T16:58:55.680Z"
   },
   {
    "duration": 719,
    "start_time": "2021-10-07T16:59:06.557Z"
   },
   {
    "duration": 597,
    "start_time": "2021-10-07T16:59:15.283Z"
   },
   {
    "duration": 346,
    "start_time": "2021-10-07T17:03:12.444Z"
   },
   {
    "duration": 329,
    "start_time": "2021-10-07T17:04:29.062Z"
   },
   {
    "duration": 211,
    "start_time": "2021-10-07T17:05:26.897Z"
   },
   {
    "duration": 342,
    "start_time": "2021-10-07T17:12:21.811Z"
   },
   {
    "duration": 670,
    "start_time": "2021-10-07T17:21:59.441Z"
   },
   {
    "duration": 364,
    "start_time": "2021-10-07T17:22:31.949Z"
   },
   {
    "duration": 799,
    "start_time": "2021-10-07T17:25:12.945Z"
   },
   {
    "duration": 828,
    "start_time": "2021-10-07T17:26:40.090Z"
   },
   {
    "duration": 779,
    "start_time": "2021-10-07T17:26:47.587Z"
   },
   {
    "duration": 162,
    "start_time": "2021-10-07T17:29:17.035Z"
   },
   {
    "duration": 499,
    "start_time": "2021-10-07T17:31:33.142Z"
   },
   {
    "duration": 170,
    "start_time": "2021-10-07T17:31:41.490Z"
   },
   {
    "duration": 264,
    "start_time": "2021-10-07T17:32:49.257Z"
   },
   {
    "duration": 280,
    "start_time": "2021-10-07T17:36:10.570Z"
   },
   {
    "duration": 236,
    "start_time": "2021-10-07T17:37:27.161Z"
   },
   {
    "duration": 234,
    "start_time": "2021-10-07T17:38:02.372Z"
   },
   {
    "duration": 241,
    "start_time": "2021-10-07T17:44:40.628Z"
   },
   {
    "duration": 213,
    "start_time": "2021-10-07T17:46:07.615Z"
   },
   {
    "duration": 228,
    "start_time": "2021-10-07T17:46:51.331Z"
   },
   {
    "duration": 241,
    "start_time": "2021-10-07T17:47:33.677Z"
   },
   {
    "duration": 221,
    "start_time": "2021-10-07T17:51:52.234Z"
   },
   {
    "duration": 199,
    "start_time": "2021-10-07T17:52:16.905Z"
   },
   {
    "duration": 227,
    "start_time": "2021-10-07T17:53:41.858Z"
   },
   {
    "duration": 196,
    "start_time": "2021-10-07T17:53:48.816Z"
   },
   {
    "duration": 192,
    "start_time": "2021-10-07T17:53:53.316Z"
   },
   {
    "duration": 2,
    "start_time": "2021-10-07T17:57:42.358Z"
   },
   {
    "duration": 96,
    "start_time": "2021-10-07T17:57:42.364Z"
   },
   {
    "duration": 38,
    "start_time": "2021-10-07T17:57:42.462Z"
   },
   {
    "duration": 24,
    "start_time": "2021-10-07T17:57:42.502Z"
   },
   {
    "duration": 22,
    "start_time": "2021-10-07T17:57:42.528Z"
   },
   {
    "duration": 39,
    "start_time": "2021-10-07T17:57:42.551Z"
   },
   {
    "duration": 106,
    "start_time": "2021-10-07T17:57:42.593Z"
   },
   {
    "duration": 41,
    "start_time": "2021-10-07T17:57:42.701Z"
   },
   {
    "duration": 6,
    "start_time": "2021-10-07T17:57:42.745Z"
   },
   {
    "duration": 27,
    "start_time": "2021-10-07T17:57:42.754Z"
   },
   {
    "duration": 23,
    "start_time": "2021-10-07T17:57:42.783Z"
   },
   {
    "duration": 13,
    "start_time": "2021-10-07T17:57:42.808Z"
   },
   {
    "duration": 16,
    "start_time": "2021-10-07T17:57:42.822Z"
   },
   {
    "duration": 40,
    "start_time": "2021-10-07T17:57:42.840Z"
   },
   {
    "duration": 24,
    "start_time": "2021-10-07T17:57:42.882Z"
   },
   {
    "duration": 4,
    "start_time": "2021-10-07T17:57:42.908Z"
   },
   {
    "duration": 10,
    "start_time": "2021-10-07T17:57:42.913Z"
   },
   {
    "duration": 21,
    "start_time": "2021-10-07T17:57:42.924Z"
   },
   {
    "duration": 54,
    "start_time": "2021-10-07T17:57:42.947Z"
   },
   {
    "duration": 10,
    "start_time": "2021-10-07T17:57:43.003Z"
   },
   {
    "duration": 10,
    "start_time": "2021-10-07T17:57:43.015Z"
   },
   {
    "duration": 5,
    "start_time": "2021-10-07T17:57:43.027Z"
   },
   {
    "duration": 13,
    "start_time": "2021-10-07T17:57:43.033Z"
   },
   {
    "duration": 18,
    "start_time": "2021-10-07T17:57:43.080Z"
   },
   {
    "duration": 688,
    "start_time": "2021-10-07T17:57:43.100Z"
   },
   {
    "duration": 8,
    "start_time": "2021-10-07T17:57:43.790Z"
   },
   {
    "duration": 22,
    "start_time": "2021-10-07T17:57:43.799Z"
   },
   {
    "duration": 125,
    "start_time": "2021-10-07T17:57:43.823Z"
   },
   {
    "duration": 391,
    "start_time": "2021-10-07T17:57:43.950Z"
   },
   {
    "duration": 352,
    "start_time": "2021-10-07T17:57:44.343Z"
   },
   {
    "duration": 244,
    "start_time": "2021-10-07T17:57:44.697Z"
   },
   {
    "duration": 365,
    "start_time": "2021-10-07T17:57:44.942Z"
   },
   {
    "duration": 351,
    "start_time": "2021-10-07T17:57:45.309Z"
   },
   {
    "duration": 17,
    "start_time": "2021-10-07T17:57:45.661Z"
   },
   {
    "duration": 150,
    "start_time": "2021-10-07T17:57:45.680Z"
   },
   {
    "duration": 136,
    "start_time": "2021-10-07T17:57:45.832Z"
   },
   {
    "duration": 138,
    "start_time": "2021-10-07T17:57:45.970Z"
   },
   {
    "duration": 355,
    "start_time": "2021-10-07T17:57:46.110Z"
   },
   {
    "duration": 16,
    "start_time": "2021-10-07T17:57:46.468Z"
   },
   {
    "duration": 150,
    "start_time": "2021-10-07T17:57:46.486Z"
   },
   {
    "duration": 138,
    "start_time": "2021-10-07T17:57:46.638Z"
   },
   {
    "duration": 32,
    "start_time": "2021-10-07T17:57:46.779Z"
   },
   {
    "duration": 9,
    "start_time": "2021-10-07T17:57:46.812Z"
   },
   {
    "duration": 816,
    "start_time": "2021-10-07T17:57:46.823Z"
   },
   {
    "duration": 6,
    "start_time": "2021-10-07T17:57:47.642Z"
   },
   {
    "duration": 189,
    "start_time": "2021-10-07T17:57:47.650Z"
   },
   {
    "duration": 5,
    "start_time": "2021-10-07T17:57:47.841Z"
   },
   {
    "duration": 390,
    "start_time": "2021-10-07T17:57:47.847Z"
   },
   {
    "duration": 6,
    "start_time": "2021-10-07T17:57:48.238Z"
   },
   {
    "duration": 207,
    "start_time": "2021-10-07T17:57:48.245Z"
   },
   {
    "duration": 33,
    "start_time": "2021-10-07T17:57:48.453Z"
   },
   {
    "duration": 8,
    "start_time": "2021-10-07T17:57:48.487Z"
   },
   {
    "duration": 28,
    "start_time": "2021-10-07T17:57:48.497Z"
   },
   {
    "duration": 298,
    "start_time": "2021-10-07T17:57:48.526Z"
   },
   {
    "duration": 7,
    "start_time": "2021-10-07T17:57:48.825Z"
   },
   {
    "duration": 243,
    "start_time": "2021-10-07T17:57:48.833Z"
   },
   {
    "duration": 243,
    "start_time": "2021-10-07T17:57:49.078Z"
   },
   {
    "duration": 244,
    "start_time": "2021-10-07T17:57:49.322Z"
   },
   {
    "duration": 251,
    "start_time": "2021-10-07T17:57:49.568Z"
   },
   {
    "duration": 13,
    "start_time": "2021-10-07T17:57:49.821Z"
   },
   {
    "duration": 82,
    "start_time": "2021-10-07T17:57:49.836Z"
   },
   {
    "duration": 13,
    "start_time": "2021-10-07T17:57:49.920Z"
   },
   {
    "duration": 229,
    "start_time": "2021-10-07T17:57:49.934Z"
   },
   {
    "duration": 196,
    "start_time": "2021-10-07T17:57:50.165Z"
   },
   {
    "duration": 342,
    "start_time": "2021-10-07T18:16:52.816Z"
   },
   {
    "duration": 3,
    "start_time": "2021-10-07T18:16:59.823Z"
   },
   {
    "duration": 69,
    "start_time": "2021-10-07T18:16:59.833Z"
   },
   {
    "duration": 23,
    "start_time": "2021-10-07T18:16:59.904Z"
   },
   {
    "duration": 24,
    "start_time": "2021-10-07T18:16:59.929Z"
   },
   {
    "duration": 48,
    "start_time": "2021-10-07T18:16:59.955Z"
   },
   {
    "duration": 13,
    "start_time": "2021-10-07T18:17:00.005Z"
   },
   {
    "duration": 98,
    "start_time": "2021-10-07T18:17:00.019Z"
   },
   {
    "duration": 24,
    "start_time": "2021-10-07T18:17:00.118Z"
   },
   {
    "duration": 7,
    "start_time": "2021-10-07T18:17:00.145Z"
   },
   {
    "duration": 33,
    "start_time": "2021-10-07T18:17:00.154Z"
   },
   {
    "duration": 23,
    "start_time": "2021-10-07T18:17:00.189Z"
   },
   {
    "duration": 15,
    "start_time": "2021-10-07T18:17:00.214Z"
   },
   {
    "duration": 18,
    "start_time": "2021-10-07T18:17:00.231Z"
   },
   {
    "duration": 14,
    "start_time": "2021-10-07T18:17:00.278Z"
   },
   {
    "duration": 26,
    "start_time": "2021-10-07T18:17:00.294Z"
   },
   {
    "duration": 365,
    "start_time": "2021-10-07T18:17:00.321Z"
   },
   {
    "duration": 6,
    "start_time": "2021-10-07T18:17:00.688Z"
   },
   {
    "duration": 38,
    "start_time": "2021-10-07T18:17:00.695Z"
   },
   {
    "duration": 31,
    "start_time": "2021-10-07T18:17:00.734Z"
   },
   {
    "duration": 29,
    "start_time": "2021-10-07T18:17:00.766Z"
   },
   {
    "duration": 9,
    "start_time": "2021-10-07T18:17:00.797Z"
   },
   {
    "duration": 9,
    "start_time": "2021-10-07T18:17:00.809Z"
   },
   {
    "duration": 12,
    "start_time": "2021-10-07T18:17:00.820Z"
   },
   {
    "duration": 30,
    "start_time": "2021-10-07T18:17:00.834Z"
   },
   {
    "duration": 15,
    "start_time": "2021-10-07T18:17:00.866Z"
   },
   {
    "duration": 518,
    "start_time": "2021-10-07T18:17:00.884Z"
   },
   {
    "duration": 9,
    "start_time": "2021-10-07T18:17:01.404Z"
   },
   {
    "duration": 44,
    "start_time": "2021-10-07T18:17:01.414Z"
   },
   {
    "duration": 111,
    "start_time": "2021-10-07T18:17:01.460Z"
   },
   {
    "duration": 390,
    "start_time": "2021-10-07T18:17:01.577Z"
   },
   {
    "duration": 355,
    "start_time": "2021-10-07T18:17:01.976Z"
   },
   {
    "duration": 299,
    "start_time": "2021-10-07T18:17:02.335Z"
   },
   {
    "duration": 358,
    "start_time": "2021-10-07T18:17:02.636Z"
   },
   {
    "duration": 626,
    "start_time": "2021-10-07T18:17:02.996Z"
   },
   {
    "duration": 10,
    "start_time": "2021-10-07T18:17:03.624Z"
   },
   {
    "duration": 164,
    "start_time": "2021-10-07T18:17:03.636Z"
   },
   {
    "duration": 140,
    "start_time": "2021-10-07T18:17:03.802Z"
   },
   {
    "duration": 135,
    "start_time": "2021-10-07T18:17:03.944Z"
   },
   {
    "duration": 360,
    "start_time": "2021-10-07T18:17:04.082Z"
   },
   {
    "duration": 8,
    "start_time": "2021-10-07T18:17:04.444Z"
   },
   {
    "duration": 159,
    "start_time": "2021-10-07T18:17:04.454Z"
   },
   {
    "duration": 139,
    "start_time": "2021-10-07T18:17:04.615Z"
   },
   {
    "duration": 39,
    "start_time": "2021-10-07T18:17:04.756Z"
   },
   {
    "duration": 10,
    "start_time": "2021-10-07T18:17:04.797Z"
   },
   {
    "duration": 784,
    "start_time": "2021-10-07T18:17:04.809Z"
   },
   {
    "duration": 5,
    "start_time": "2021-10-07T18:17:05.595Z"
   },
   {
    "duration": 187,
    "start_time": "2021-10-07T18:17:05.601Z"
   },
   {
    "duration": 5,
    "start_time": "2021-10-07T18:17:05.791Z"
   },
   {
    "duration": 163,
    "start_time": "2021-10-07T18:17:05.800Z"
   },
   {
    "duration": 14,
    "start_time": "2021-10-07T18:17:05.965Z"
   },
   {
    "duration": 219,
    "start_time": "2021-10-07T18:17:05.983Z"
   },
   {
    "duration": 24,
    "start_time": "2021-10-07T18:17:06.204Z"
   },
   {
    "duration": 5,
    "start_time": "2021-10-07T18:17:06.229Z"
   },
   {
    "duration": 12,
    "start_time": "2021-10-07T18:17:06.235Z"
   },
   {
    "duration": 301,
    "start_time": "2021-10-07T18:17:06.248Z"
   },
   {
    "duration": 7,
    "start_time": "2021-10-07T18:17:06.551Z"
   },
   {
    "duration": 262,
    "start_time": "2021-10-07T18:17:06.560Z"
   },
   {
    "duration": 230,
    "start_time": "2021-10-07T18:17:06.824Z"
   },
   {
    "duration": 249,
    "start_time": "2021-10-07T18:17:07.056Z"
   },
   {
    "duration": 245,
    "start_time": "2021-10-07T18:17:07.307Z"
   },
   {
    "duration": 30,
    "start_time": "2021-10-07T18:17:07.554Z"
   },
   {
    "duration": 64,
    "start_time": "2021-10-07T18:17:07.586Z"
   },
   {
    "duration": 27,
    "start_time": "2021-10-07T18:17:07.652Z"
   },
   {
    "duration": 219,
    "start_time": "2021-10-07T18:17:07.684Z"
   },
   {
    "duration": 197,
    "start_time": "2021-10-07T18:17:07.905Z"
   },
   {
    "duration": 355,
    "start_time": "2021-10-07T18:24:47.269Z"
   },
   {
    "duration": 140,
    "start_time": "2021-10-07T18:25:28.066Z"
   },
   {
    "duration": 3,
    "start_time": "2021-10-07T18:25:48.704Z"
   },
   {
    "duration": 74,
    "start_time": "2021-10-07T18:25:48.709Z"
   },
   {
    "duration": 27,
    "start_time": "2021-10-07T18:25:48.786Z"
   },
   {
    "duration": 24,
    "start_time": "2021-10-07T18:25:48.815Z"
   },
   {
    "duration": 46,
    "start_time": "2021-10-07T18:25:48.841Z"
   },
   {
    "duration": 13,
    "start_time": "2021-10-07T18:25:48.889Z"
   },
   {
    "duration": 82,
    "start_time": "2021-10-07T18:25:48.904Z"
   },
   {
    "duration": 25,
    "start_time": "2021-10-07T18:25:48.988Z"
   },
   {
    "duration": 7,
    "start_time": "2021-10-07T18:25:49.016Z"
   },
   {
    "duration": 10,
    "start_time": "2021-10-07T18:25:49.025Z"
   },
   {
    "duration": 47,
    "start_time": "2021-10-07T18:25:49.037Z"
   },
   {
    "duration": 19,
    "start_time": "2021-10-07T18:25:49.087Z"
   },
   {
    "duration": 16,
    "start_time": "2021-10-07T18:25:49.108Z"
   },
   {
    "duration": 8,
    "start_time": "2021-10-07T18:25:49.125Z"
   },
   {
    "duration": 54,
    "start_time": "2021-10-07T18:25:49.135Z"
   },
   {
    "duration": 6,
    "start_time": "2021-10-07T18:25:49.192Z"
   },
   {
    "duration": 8,
    "start_time": "2021-10-07T18:25:49.199Z"
   },
   {
    "duration": 26,
    "start_time": "2021-10-07T18:25:49.209Z"
   },
   {
    "duration": 44,
    "start_time": "2021-10-07T18:25:49.237Z"
   },
   {
    "duration": 13,
    "start_time": "2021-10-07T18:25:49.284Z"
   },
   {
    "duration": 10,
    "start_time": "2021-10-07T18:25:49.299Z"
   },
   {
    "duration": 4,
    "start_time": "2021-10-07T18:25:49.312Z"
   },
   {
    "duration": 15,
    "start_time": "2021-10-07T18:25:49.318Z"
   },
   {
    "duration": 42,
    "start_time": "2021-10-07T18:25:49.335Z"
   },
   {
    "duration": 491,
    "start_time": "2021-10-07T18:25:49.379Z"
   },
   {
    "duration": 9,
    "start_time": "2021-10-07T18:25:49.872Z"
   },
   {
    "duration": 23,
    "start_time": "2021-10-07T18:25:49.889Z"
   },
   {
    "duration": 126,
    "start_time": "2021-10-07T18:25:49.914Z"
   },
   {
    "duration": 366,
    "start_time": "2021-10-07T18:25:50.042Z"
   },
   {
    "duration": 643,
    "start_time": "2021-10-07T18:25:50.410Z"
   },
   {
    "duration": 241,
    "start_time": "2021-10-07T18:25:51.055Z"
   },
   {
    "duration": 369,
    "start_time": "2021-10-07T18:25:51.298Z"
   },
   {
    "duration": 363,
    "start_time": "2021-10-07T18:25:51.669Z"
   },
   {
    "duration": 355,
    "start_time": "2021-10-07T18:25:52.034Z"
   },
   {
    "duration": 163,
    "start_time": "2021-10-07T18:25:52.393Z"
   },
   {
    "duration": 7,
    "start_time": "2021-10-07T18:25:52.558Z"
   },
   {
    "duration": 154,
    "start_time": "2021-10-07T18:25:52.566Z"
   },
   {
    "duration": 143,
    "start_time": "2021-10-07T18:25:52.722Z"
   },
   {
    "duration": 138,
    "start_time": "2021-10-07T18:25:52.867Z"
   },
   {
    "duration": 347,
    "start_time": "2021-10-07T18:25:53.006Z"
   },
   {
    "duration": 9,
    "start_time": "2021-10-07T18:25:53.354Z"
   },
   {
    "duration": 152,
    "start_time": "2021-10-07T18:25:53.364Z"
   },
   {
    "duration": 141,
    "start_time": "2021-10-07T18:25:53.517Z"
   },
   {
    "duration": 43,
    "start_time": "2021-10-07T18:25:53.660Z"
   },
   {
    "duration": 9,
    "start_time": "2021-10-07T18:25:53.705Z"
   },
   {
    "duration": 764,
    "start_time": "2021-10-07T18:25:53.716Z"
   },
   {
    "duration": 6,
    "start_time": "2021-10-07T18:25:54.488Z"
   },
   {
    "duration": 174,
    "start_time": "2021-10-07T18:25:54.496Z"
   },
   {
    "duration": 6,
    "start_time": "2021-10-07T18:25:54.676Z"
   },
   {
    "duration": 167,
    "start_time": "2021-10-07T18:25:54.685Z"
   },
   {
    "duration": 5,
    "start_time": "2021-10-07T18:25:54.854Z"
   },
   {
    "duration": 209,
    "start_time": "2021-10-07T18:25:54.861Z"
   },
   {
    "duration": 29,
    "start_time": "2021-10-07T18:25:55.076Z"
   },
   {
    "duration": 5,
    "start_time": "2021-10-07T18:25:55.106Z"
   },
   {
    "duration": 13,
    "start_time": "2021-10-07T18:25:55.112Z"
   },
   {
    "duration": 293,
    "start_time": "2021-10-07T18:25:55.127Z"
   },
   {
    "duration": 7,
    "start_time": "2021-10-07T18:25:55.421Z"
   },
   {
    "duration": 250,
    "start_time": "2021-10-07T18:25:55.430Z"
   },
   {
    "duration": 251,
    "start_time": "2021-10-07T18:25:55.683Z"
   },
   {
    "duration": 242,
    "start_time": "2021-10-07T18:25:55.935Z"
   },
   {
    "duration": 245,
    "start_time": "2021-10-07T18:25:56.180Z"
   },
   {
    "duration": 14,
    "start_time": "2021-10-07T18:25:56.427Z"
   },
   {
    "duration": 84,
    "start_time": "2021-10-07T18:25:56.442Z"
   },
   {
    "duration": 12,
    "start_time": "2021-10-07T18:25:56.528Z"
   },
   {
    "duration": 221,
    "start_time": "2021-10-07T18:25:56.541Z"
   },
   {
    "duration": 204,
    "start_time": "2021-10-07T18:25:56.763Z"
   },
   {
    "duration": 14,
    "start_time": "2021-10-07T18:34:58.055Z"
   },
   {
    "duration": 12,
    "start_time": "2021-10-07T18:35:00.713Z"
   },
   {
    "duration": 13,
    "start_time": "2021-10-07T18:35:11.341Z"
   },
   {
    "duration": 13,
    "start_time": "2021-10-07T18:35:14.384Z"
   },
   {
    "duration": 2,
    "start_time": "2021-10-07T18:35:21.931Z"
   },
   {
    "duration": 77,
    "start_time": "2021-10-07T18:35:21.938Z"
   },
   {
    "duration": 24,
    "start_time": "2021-10-07T18:35:22.017Z"
   },
   {
    "duration": 39,
    "start_time": "2021-10-07T18:35:22.044Z"
   },
   {
    "duration": 35,
    "start_time": "2021-10-07T18:35:22.085Z"
   },
   {
    "duration": 10,
    "start_time": "2021-10-07T18:35:22.121Z"
   },
   {
    "duration": 82,
    "start_time": "2021-10-07T18:35:22.132Z"
   },
   {
    "duration": 23,
    "start_time": "2021-10-07T18:35:22.216Z"
   },
   {
    "duration": 7,
    "start_time": "2021-10-07T18:35:22.242Z"
   },
   {
    "duration": 33,
    "start_time": "2021-10-07T18:35:22.251Z"
   },
   {
    "duration": 28,
    "start_time": "2021-10-07T18:35:22.286Z"
   },
   {
    "duration": 15,
    "start_time": "2021-10-07T18:35:22.316Z"
   },
   {
    "duration": 17,
    "start_time": "2021-10-07T18:35:22.333Z"
   },
   {
    "duration": 30,
    "start_time": "2021-10-07T18:35:22.352Z"
   },
   {
    "duration": 32,
    "start_time": "2021-10-07T18:35:22.384Z"
   },
   {
    "duration": 13,
    "start_time": "2021-10-07T18:35:22.418Z"
   },
   {
    "duration": 14,
    "start_time": "2021-10-07T18:35:22.433Z"
   },
   {
    "duration": 36,
    "start_time": "2021-10-07T18:35:22.449Z"
   },
   {
    "duration": 22,
    "start_time": "2021-10-07T18:35:22.486Z"
   },
   {
    "duration": 9,
    "start_time": "2021-10-07T18:35:22.509Z"
   },
   {
    "duration": 10,
    "start_time": "2021-10-07T18:35:22.519Z"
   },
   {
    "duration": 7,
    "start_time": "2021-10-07T18:35:22.530Z"
   },
   {
    "duration": 41,
    "start_time": "2021-10-07T18:35:22.538Z"
   },
   {
    "duration": 13,
    "start_time": "2021-10-07T18:35:22.583Z"
   },
   {
    "duration": 470,
    "start_time": "2021-10-07T18:35:22.598Z"
   },
   {
    "duration": 11,
    "start_time": "2021-10-07T18:35:23.070Z"
   },
   {
    "duration": 24,
    "start_time": "2021-10-07T18:35:23.082Z"
   },
   {
    "duration": 123,
    "start_time": "2021-10-07T18:35:23.108Z"
   },
   {
    "duration": 344,
    "start_time": "2021-10-07T18:35:23.233Z"
   },
   {
    "duration": 680,
    "start_time": "2021-10-07T18:35:23.578Z"
   },
   {
    "duration": 225,
    "start_time": "2021-10-07T18:35:24.260Z"
   },
   {
    "duration": 352,
    "start_time": "2021-10-07T18:35:24.487Z"
   },
   {
    "duration": 348,
    "start_time": "2021-10-07T18:35:24.841Z"
   },
   {
    "duration": 336,
    "start_time": "2021-10-07T18:35:25.191Z"
   },
   {
    "duration": 134,
    "start_time": "2021-10-07T18:35:25.528Z"
   },
   {
    "duration": 14,
    "start_time": "2021-10-07T18:35:25.663Z"
   },
   {
    "duration": 139,
    "start_time": "2021-10-07T18:35:25.679Z"
   },
   {
    "duration": 125,
    "start_time": "2021-10-07T18:35:25.820Z"
   },
   {
    "duration": 132,
    "start_time": "2021-10-07T18:35:25.946Z"
   },
   {
    "duration": 333,
    "start_time": "2021-10-07T18:35:26.079Z"
   },
   {
    "duration": 8,
    "start_time": "2021-10-07T18:35:26.414Z"
   },
   {
    "duration": 146,
    "start_time": "2021-10-07T18:35:26.424Z"
   },
   {
    "duration": 132,
    "start_time": "2021-10-07T18:35:26.573Z"
   },
   {
    "duration": 27,
    "start_time": "2021-10-07T18:35:26.707Z"
   },
   {
    "duration": 9,
    "start_time": "2021-10-07T18:35:26.736Z"
   },
   {
    "duration": 733,
    "start_time": "2021-10-07T18:35:26.747Z"
   },
   {
    "duration": 5,
    "start_time": "2021-10-07T18:35:27.482Z"
   },
   {
    "duration": 177,
    "start_time": "2021-10-07T18:35:27.489Z"
   },
   {
    "duration": 9,
    "start_time": "2021-10-07T18:35:27.668Z"
   },
   {
    "duration": 149,
    "start_time": "2021-10-07T18:35:27.679Z"
   },
   {
    "duration": 4,
    "start_time": "2021-10-07T18:35:27.830Z"
   },
   {
    "duration": 184,
    "start_time": "2021-10-07T18:35:27.836Z"
   },
   {
    "duration": 23,
    "start_time": "2021-10-07T18:35:28.021Z"
   },
   {
    "duration": 4,
    "start_time": "2021-10-07T18:35:28.046Z"
   },
   {
    "duration": 32,
    "start_time": "2021-10-07T18:35:28.051Z"
   },
   {
    "duration": 261,
    "start_time": "2021-10-07T18:35:28.085Z"
   },
   {
    "duration": 7,
    "start_time": "2021-10-07T18:35:28.347Z"
   },
   {
    "duration": 211,
    "start_time": "2021-10-07T18:35:28.356Z"
   },
   {
    "duration": 222,
    "start_time": "2021-10-07T18:35:28.569Z"
   },
   {
    "duration": 240,
    "start_time": "2021-10-07T18:35:28.792Z"
   },
   {
    "duration": 230,
    "start_time": "2021-10-07T18:35:29.034Z"
   },
   {
    "duration": 20,
    "start_time": "2021-10-07T18:35:29.266Z"
   },
   {
    "duration": 63,
    "start_time": "2021-10-07T18:35:29.288Z"
   },
   {
    "duration": 25,
    "start_time": "2021-10-07T18:35:29.353Z"
   },
   {
    "duration": 201,
    "start_time": "2021-10-07T18:35:29.380Z"
   },
   {
    "duration": 197,
    "start_time": "2021-10-07T18:35:29.583Z"
   },
   {
    "duration": 3,
    "start_time": "2021-10-07T18:36:04.529Z"
   },
   {
    "duration": 314,
    "start_time": "2021-10-07T18:39:39.503Z"
   },
   {
    "duration": 19,
    "start_time": "2021-10-07T18:40:04.587Z"
   },
   {
    "duration": 12,
    "start_time": "2021-10-07T18:40:07.206Z"
   },
   {
    "duration": 32,
    "start_time": "2021-10-07T18:40:28.585Z"
   },
   {
    "duration": 41,
    "start_time": "2021-10-07T18:40:37.298Z"
   },
   {
    "duration": 11,
    "start_time": "2021-10-07T18:40:58.139Z"
   },
   {
    "duration": 33,
    "start_time": "2021-10-07T18:41:02.531Z"
   },
   {
    "duration": 3,
    "start_time": "2021-10-07T18:41:07.894Z"
   },
   {
    "duration": 70,
    "start_time": "2021-10-07T18:41:07.898Z"
   },
   {
    "duration": 30,
    "start_time": "2021-10-07T18:41:07.970Z"
   },
   {
    "duration": 24,
    "start_time": "2021-10-07T18:41:08.003Z"
   },
   {
    "duration": 55,
    "start_time": "2021-10-07T18:41:08.029Z"
   },
   {
    "duration": 16,
    "start_time": "2021-10-07T18:41:08.088Z"
   },
   {
    "duration": 105,
    "start_time": "2021-10-07T18:41:08.105Z"
   },
   {
    "duration": 23,
    "start_time": "2021-10-07T18:41:08.212Z"
   },
   {
    "duration": 6,
    "start_time": "2021-10-07T18:41:08.238Z"
   },
   {
    "duration": 37,
    "start_time": "2021-10-07T18:41:08.246Z"
   },
   {
    "duration": 24,
    "start_time": "2021-10-07T18:41:08.285Z"
   },
   {
    "duration": 14,
    "start_time": "2021-10-07T18:41:08.311Z"
   },
   {
    "duration": 16,
    "start_time": "2021-10-07T18:41:08.326Z"
   },
   {
    "duration": 39,
    "start_time": "2021-10-07T18:41:08.343Z"
   },
   {
    "duration": 26,
    "start_time": "2021-10-07T18:41:08.385Z"
   },
   {
    "duration": 4,
    "start_time": "2021-10-07T18:41:08.413Z"
   },
   {
    "duration": 8,
    "start_time": "2021-10-07T18:41:08.419Z"
   },
   {
    "duration": 49,
    "start_time": "2021-10-07T18:41:08.428Z"
   },
   {
    "duration": 16,
    "start_time": "2021-10-07T18:41:08.480Z"
   },
   {
    "duration": 9,
    "start_time": "2021-10-07T18:41:08.497Z"
   },
   {
    "duration": 21,
    "start_time": "2021-10-07T18:41:08.508Z"
   },
   {
    "duration": 5,
    "start_time": "2021-10-07T18:41:08.530Z"
   },
   {
    "duration": 49,
    "start_time": "2021-10-07T18:41:08.536Z"
   },
   {
    "duration": 27,
    "start_time": "2021-10-07T18:41:08.592Z"
   },
   {
    "duration": 493,
    "start_time": "2021-10-07T18:41:08.622Z"
   },
   {
    "duration": 7,
    "start_time": "2021-10-07T18:41:09.117Z"
   },
   {
    "duration": 22,
    "start_time": "2021-10-07T18:41:09.126Z"
   },
   {
    "duration": 131,
    "start_time": "2021-10-07T18:41:09.150Z"
   },
   {
    "duration": 360,
    "start_time": "2021-10-07T18:41:09.283Z"
   },
   {
    "duration": 352,
    "start_time": "2021-10-07T18:41:09.645Z"
   },
   {
    "duration": 240,
    "start_time": "2021-10-07T18:41:09.999Z"
   },
   {
    "duration": 466,
    "start_time": "2021-10-07T18:41:10.241Z"
   },
   {
    "duration": 784,
    "start_time": "2021-10-07T18:41:10.709Z"
   },
   {
    "duration": 351,
    "start_time": "2021-10-07T18:41:11.495Z"
   },
   {
    "duration": 136,
    "start_time": "2021-10-07T18:41:11.849Z"
   },
   {
    "duration": 10,
    "start_time": "2021-10-07T18:41:11.987Z"
   },
   {
    "duration": 152,
    "start_time": "2021-10-07T18:41:11.999Z"
   },
   {
    "duration": 142,
    "start_time": "2021-10-07T18:41:12.153Z"
   },
   {
    "duration": 142,
    "start_time": "2021-10-07T18:41:12.297Z"
   },
   {
    "duration": 471,
    "start_time": "2021-10-07T18:41:12.441Z"
   },
   {
    "duration": 8,
    "start_time": "2021-10-07T18:41:12.914Z"
   },
   {
    "duration": 163,
    "start_time": "2021-10-07T18:41:12.924Z"
   },
   {
    "duration": 140,
    "start_time": "2021-10-07T18:41:13.090Z"
   },
   {
    "duration": 28,
    "start_time": "2021-10-07T18:41:13.232Z"
   },
   {
    "duration": 24,
    "start_time": "2021-10-07T18:41:13.262Z"
   },
   {
    "duration": 841,
    "start_time": "2021-10-07T18:41:13.290Z"
   },
   {
    "duration": 5,
    "start_time": "2021-10-07T18:41:14.133Z"
   },
   {
    "duration": 196,
    "start_time": "2021-10-07T18:41:14.140Z"
   },
   {
    "duration": 5,
    "start_time": "2021-10-07T18:41:14.338Z"
   },
   {
    "duration": 174,
    "start_time": "2021-10-07T18:41:14.344Z"
   },
   {
    "duration": 6,
    "start_time": "2021-10-07T18:41:14.520Z"
   },
   {
    "duration": 213,
    "start_time": "2021-10-07T18:41:14.529Z"
   },
   {
    "duration": 39,
    "start_time": "2021-10-07T18:41:14.745Z"
   },
   {
    "duration": 6,
    "start_time": "2021-10-07T18:41:14.787Z"
   },
   {
    "duration": 26,
    "start_time": "2021-10-07T18:41:14.795Z"
   },
   {
    "duration": 289,
    "start_time": "2021-10-07T18:41:14.823Z"
   },
   {
    "duration": 7,
    "start_time": "2021-10-07T18:41:15.114Z"
   },
   {
    "duration": 240,
    "start_time": "2021-10-07T18:41:15.123Z"
   },
   {
    "duration": 245,
    "start_time": "2021-10-07T18:41:15.365Z"
   },
   {
    "duration": 246,
    "start_time": "2021-10-07T18:41:15.612Z"
   },
   {
    "duration": 260,
    "start_time": "2021-10-07T18:41:15.860Z"
   },
   {
    "duration": 14,
    "start_time": "2021-10-07T18:41:16.122Z"
   },
   {
    "duration": 84,
    "start_time": "2021-10-07T18:41:16.137Z"
   },
   {
    "duration": 12,
    "start_time": "2021-10-07T18:41:16.223Z"
   },
   {
    "duration": 225,
    "start_time": "2021-10-07T18:41:16.237Z"
   },
   {
    "duration": 215,
    "start_time": "2021-10-07T18:41:16.464Z"
   },
   {
    "duration": 12,
    "start_time": "2021-10-07T18:43:54.336Z"
   },
   {
    "duration": 37,
    "start_time": "2021-10-07T18:43:55.565Z"
   },
   {
    "duration": 14,
    "start_time": "2021-10-07T18:44:13.813Z"
   },
   {
    "duration": 31,
    "start_time": "2021-10-07T18:44:14.688Z"
   },
   {
    "duration": 11,
    "start_time": "2021-10-07T18:47:06.401Z"
   },
   {
    "duration": 36,
    "start_time": "2021-10-07T18:47:08.877Z"
   },
   {
    "duration": 12,
    "start_time": "2021-10-07T18:47:28.033Z"
   },
   {
    "duration": 29,
    "start_time": "2021-10-07T18:49:07.509Z"
   },
   {
    "duration": 38,
    "start_time": "2021-10-07T18:49:08.467Z"
   },
   {
    "duration": 13,
    "start_time": "2021-10-07T18:49:21.167Z"
   },
   {
    "duration": 12,
    "start_time": "2021-10-07T18:51:13.424Z"
   },
   {
    "duration": 11,
    "start_time": "2021-10-07T18:51:35.558Z"
   },
   {
    "duration": 11,
    "start_time": "2021-10-07T18:51:37.009Z"
   },
   {
    "duration": 12,
    "start_time": "2021-10-07T18:51:46.563Z"
   },
   {
    "duration": 12,
    "start_time": "2021-10-07T18:51:48.097Z"
   },
   {
    "duration": 3,
    "start_time": "2021-10-07T18:53:18.307Z"
   },
   {
    "duration": 77,
    "start_time": "2021-10-07T18:53:18.312Z"
   },
   {
    "duration": 25,
    "start_time": "2021-10-07T18:53:18.391Z"
   },
   {
    "duration": 25,
    "start_time": "2021-10-07T18:53:18.418Z"
   },
   {
    "duration": 52,
    "start_time": "2021-10-07T18:53:18.445Z"
   },
   {
    "duration": 11,
    "start_time": "2021-10-07T18:53:18.499Z"
   },
   {
    "duration": 88,
    "start_time": "2021-10-07T18:53:18.512Z"
   },
   {
    "duration": 23,
    "start_time": "2021-10-07T18:53:18.602Z"
   },
   {
    "duration": 6,
    "start_time": "2021-10-07T18:53:18.627Z"
   },
   {
    "duration": 10,
    "start_time": "2021-10-07T18:53:18.635Z"
   },
   {
    "duration": 41,
    "start_time": "2021-10-07T18:53:18.647Z"
   },
   {
    "duration": 14,
    "start_time": "2021-10-07T18:53:18.690Z"
   },
   {
    "duration": 16,
    "start_time": "2021-10-07T18:53:18.705Z"
   },
   {
    "duration": 7,
    "start_time": "2021-10-07T18:53:18.723Z"
   },
   {
    "duration": 46,
    "start_time": "2021-10-07T18:53:18.732Z"
   },
   {
    "duration": 4,
    "start_time": "2021-10-07T18:53:18.779Z"
   },
   {
    "duration": 11,
    "start_time": "2021-10-07T18:53:18.785Z"
   },
   {
    "duration": 29,
    "start_time": "2021-10-07T18:53:18.798Z"
   },
   {
    "duration": 11,
    "start_time": "2021-10-07T18:53:18.830Z"
   },
   {
    "duration": 8,
    "start_time": "2021-10-07T18:53:18.844Z"
   },
   {
    "duration": 12,
    "start_time": "2021-10-07T18:53:18.876Z"
   },
   {
    "duration": 5,
    "start_time": "2021-10-07T18:53:18.889Z"
   },
   {
    "duration": 16,
    "start_time": "2021-10-07T18:53:18.896Z"
   },
   {
    "duration": 16,
    "start_time": "2021-10-07T18:53:18.913Z"
   },
   {
    "duration": 481,
    "start_time": "2021-10-07T18:53:18.930Z"
   },
   {
    "duration": 6,
    "start_time": "2021-10-07T18:53:19.413Z"
   },
   {
    "duration": 21,
    "start_time": "2021-10-07T18:53:19.420Z"
   },
   {
    "duration": 168,
    "start_time": "2021-10-07T18:53:19.443Z"
   },
   {
    "duration": 449,
    "start_time": "2021-10-07T18:53:19.621Z"
   },
   {
    "duration": 334,
    "start_time": "2021-10-07T18:53:20.072Z"
   },
   {
    "duration": 221,
    "start_time": "2021-10-07T18:53:20.408Z"
   },
   {
    "duration": 357,
    "start_time": "2021-10-07T18:53:20.631Z"
   },
   {
    "duration": 340,
    "start_time": "2021-10-07T18:53:20.990Z"
   },
   {
    "duration": 324,
    "start_time": "2021-10-07T18:53:21.332Z"
   },
   {
    "duration": 125,
    "start_time": "2021-10-07T18:53:21.658Z"
   },
   {
    "duration": 8,
    "start_time": "2021-10-07T18:53:21.784Z"
   },
   {
    "duration": 141,
    "start_time": "2021-10-07T18:53:21.794Z"
   },
   {
    "duration": 125,
    "start_time": "2021-10-07T18:53:21.937Z"
   },
   {
    "duration": 132,
    "start_time": "2021-10-07T18:53:22.064Z"
   },
   {
    "duration": 415,
    "start_time": "2021-10-07T18:53:22.198Z"
   },
   {
    "duration": 9,
    "start_time": "2021-10-07T18:53:22.615Z"
   },
   {
    "duration": 154,
    "start_time": "2021-10-07T18:53:22.626Z"
   },
   {
    "duration": 133,
    "start_time": "2021-10-07T18:53:22.781Z"
   },
   {
    "duration": 26,
    "start_time": "2021-10-07T18:53:22.916Z"
   },
   {
    "duration": 9,
    "start_time": "2021-10-07T18:53:22.944Z"
   },
   {
    "duration": 745,
    "start_time": "2021-10-07T18:53:22.954Z"
   },
   {
    "duration": 7,
    "start_time": "2021-10-07T18:53:23.701Z"
   },
   {
    "duration": 183,
    "start_time": "2021-10-07T18:53:23.710Z"
   },
   {
    "duration": 5,
    "start_time": "2021-10-07T18:53:23.895Z"
   },
   {
    "duration": 153,
    "start_time": "2021-10-07T18:53:23.901Z"
   },
   {
    "duration": 5,
    "start_time": "2021-10-07T18:53:24.056Z"
   },
   {
    "duration": 662,
    "start_time": "2021-10-07T18:53:24.063Z"
   },
   {
    "duration": 22,
    "start_time": "2021-10-07T18:53:24.727Z"
   },
   {
    "duration": 13,
    "start_time": "2021-10-07T18:53:24.750Z"
   },
   {
    "duration": 23,
    "start_time": "2021-10-07T18:53:24.776Z"
   },
   {
    "duration": 266,
    "start_time": "2021-10-07T18:53:24.801Z"
   },
   {
    "duration": 7,
    "start_time": "2021-10-07T18:53:25.069Z"
   },
   {
    "duration": 216,
    "start_time": "2021-10-07T18:53:25.078Z"
   },
   {
    "duration": 235,
    "start_time": "2021-10-07T18:53:25.295Z"
   },
   {
    "duration": 218,
    "start_time": "2021-10-07T18:53:25.531Z"
   },
   {
    "duration": 249,
    "start_time": "2021-10-07T18:53:25.750Z"
   },
   {
    "duration": 13,
    "start_time": "2021-10-07T18:53:26.000Z"
   },
   {
    "duration": 77,
    "start_time": "2021-10-07T18:53:26.015Z"
   },
   {
    "duration": 12,
    "start_time": "2021-10-07T18:53:26.094Z"
   },
   {
    "duration": 216,
    "start_time": "2021-10-07T18:53:26.108Z"
   },
   {
    "duration": 194,
    "start_time": "2021-10-07T18:53:26.326Z"
   },
   {
    "duration": 2,
    "start_time": "2021-10-07T18:54:28.539Z"
   },
   {
    "duration": 73,
    "start_time": "2021-10-07T18:54:28.543Z"
   },
   {
    "duration": 25,
    "start_time": "2021-10-07T18:54:28.618Z"
   },
   {
    "duration": 51,
    "start_time": "2021-10-07T18:54:28.645Z"
   },
   {
    "duration": 26,
    "start_time": "2021-10-07T18:54:28.698Z"
   },
   {
    "duration": 10,
    "start_time": "2021-10-07T18:54:28.726Z"
   },
   {
    "duration": 94,
    "start_time": "2021-10-07T18:54:28.738Z"
   },
   {
    "duration": 22,
    "start_time": "2021-10-07T18:54:28.834Z"
   },
   {
    "duration": 23,
    "start_time": "2021-10-07T18:54:28.858Z"
   },
   {
    "duration": 11,
    "start_time": "2021-10-07T18:54:28.883Z"
   },
   {
    "duration": 19,
    "start_time": "2021-10-07T18:54:28.896Z"
   },
   {
    "duration": 14,
    "start_time": "2021-10-07T18:54:28.917Z"
   },
   {
    "duration": 49,
    "start_time": "2021-10-07T18:54:28.933Z"
   },
   {
    "duration": 11,
    "start_time": "2021-10-07T18:54:28.984Z"
   },
   {
    "duration": 32,
    "start_time": "2021-10-07T18:54:28.997Z"
   },
   {
    "duration": 9,
    "start_time": "2021-10-07T18:54:29.030Z"
   },
   {
    "duration": 8,
    "start_time": "2021-10-07T18:54:29.040Z"
   },
   {
    "duration": 36,
    "start_time": "2021-10-07T18:54:29.050Z"
   },
   {
    "duration": 14,
    "start_time": "2021-10-07T18:54:29.089Z"
   },
   {
    "duration": 9,
    "start_time": "2021-10-07T18:54:29.105Z"
   },
   {
    "duration": 11,
    "start_time": "2021-10-07T18:54:29.115Z"
   },
   {
    "duration": 4,
    "start_time": "2021-10-07T18:54:29.128Z"
   },
   {
    "duration": 45,
    "start_time": "2021-10-07T18:54:29.134Z"
   },
   {
    "duration": 14,
    "start_time": "2021-10-07T18:54:29.180Z"
   },
   {
    "duration": 483,
    "start_time": "2021-10-07T18:54:29.195Z"
   },
   {
    "duration": 6,
    "start_time": "2021-10-07T18:54:29.680Z"
   },
   {
    "duration": 22,
    "start_time": "2021-10-07T18:54:29.688Z"
   },
   {
    "duration": 118,
    "start_time": "2021-10-07T18:54:29.713Z"
   },
   {
    "duration": 333,
    "start_time": "2021-10-07T18:54:29.832Z"
   },
   {
    "duration": 342,
    "start_time": "2021-10-07T18:54:30.167Z"
   },
   {
    "duration": 239,
    "start_time": "2021-10-07T18:54:30.510Z"
   },
   {
    "duration": 350,
    "start_time": "2021-10-07T18:54:30.751Z"
   },
   {
    "duration": 340,
    "start_time": "2021-10-07T18:54:31.102Z"
   },
   {
    "duration": 330,
    "start_time": "2021-10-07T18:54:31.444Z"
   },
   {
    "duration": 121,
    "start_time": "2021-10-07T18:54:31.776Z"
   },
   {
    "duration": 9,
    "start_time": "2021-10-07T18:54:31.899Z"
   },
   {
    "duration": 145,
    "start_time": "2021-10-07T18:54:31.909Z"
   },
   {
    "duration": 127,
    "start_time": "2021-10-07T18:54:32.056Z"
   },
   {
    "duration": 122,
    "start_time": "2021-10-07T18:54:32.185Z"
   },
   {
    "duration": 339,
    "start_time": "2021-10-07T18:54:32.309Z"
   },
   {
    "duration": 8,
    "start_time": "2021-10-07T18:54:32.650Z"
   },
   {
    "duration": 150,
    "start_time": "2021-10-07T18:54:32.660Z"
   },
   {
    "duration": 138,
    "start_time": "2021-10-07T18:54:32.812Z"
   },
   {
    "duration": 36,
    "start_time": "2021-10-07T18:54:32.951Z"
   },
   {
    "duration": 9,
    "start_time": "2021-10-07T18:54:32.989Z"
   },
   {
    "duration": 725,
    "start_time": "2021-10-07T18:54:32.999Z"
   },
   {
    "duration": 5,
    "start_time": "2021-10-07T18:54:33.726Z"
   },
   {
    "duration": 175,
    "start_time": "2021-10-07T18:54:33.732Z"
   },
   {
    "duration": 5,
    "start_time": "2021-10-07T18:54:33.908Z"
   },
   {
    "duration": 151,
    "start_time": "2021-10-07T18:54:33.914Z"
   },
   {
    "duration": 4,
    "start_time": "2021-10-07T18:54:34.067Z"
   },
   {
    "duration": 194,
    "start_time": "2021-10-07T18:54:34.076Z"
   },
   {
    "duration": 26,
    "start_time": "2021-10-07T18:54:34.272Z"
   },
   {
    "duration": 5,
    "start_time": "2021-10-07T18:54:34.300Z"
   },
   {
    "duration": 11,
    "start_time": "2021-10-07T18:54:34.311Z"
   },
   {
    "duration": 292,
    "start_time": "2021-10-07T18:54:34.325Z"
   },
   {
    "duration": 9,
    "start_time": "2021-10-07T18:54:34.619Z"
   },
   {
    "duration": 228,
    "start_time": "2021-10-07T18:54:34.630Z"
   },
   {
    "duration": 219,
    "start_time": "2021-10-07T18:54:34.860Z"
   },
   {
    "duration": 221,
    "start_time": "2021-10-07T18:54:35.081Z"
   },
   {
    "duration": 238,
    "start_time": "2021-10-07T18:54:35.304Z"
   },
   {
    "duration": 13,
    "start_time": "2021-10-07T18:54:35.544Z"
   },
   {
    "duration": 71,
    "start_time": "2021-10-07T18:54:35.559Z"
   },
   {
    "duration": 11,
    "start_time": "2021-10-07T18:54:35.632Z"
   },
   {
    "duration": 213,
    "start_time": "2021-10-07T18:54:35.645Z"
   },
   {
    "duration": 204,
    "start_time": "2021-10-07T18:54:35.859Z"
   },
   {
    "duration": 3,
    "start_time": "2021-10-07T18:55:10.701Z"
   },
   {
    "duration": 88,
    "start_time": "2021-10-07T18:55:10.705Z"
   },
   {
    "duration": 23,
    "start_time": "2021-10-07T18:55:10.795Z"
   },
   {
    "duration": 29,
    "start_time": "2021-10-07T18:55:10.820Z"
   },
   {
    "duration": 46,
    "start_time": "2021-10-07T18:55:10.851Z"
   },
   {
    "duration": 9,
    "start_time": "2021-10-07T18:55:10.899Z"
   },
   {
    "duration": 96,
    "start_time": "2021-10-07T18:55:10.910Z"
   },
   {
    "duration": 25,
    "start_time": "2021-10-07T18:55:11.007Z"
   },
   {
    "duration": 7,
    "start_time": "2021-10-07T18:55:11.034Z"
   },
   {
    "duration": 25,
    "start_time": "2021-10-07T18:55:11.043Z"
   },
   {
    "duration": 34,
    "start_time": "2021-10-07T18:55:11.070Z"
   },
   {
    "duration": 17,
    "start_time": "2021-10-07T18:55:11.106Z"
   },
   {
    "duration": 17,
    "start_time": "2021-10-07T18:55:11.125Z"
   },
   {
    "duration": 34,
    "start_time": "2021-10-07T18:55:11.144Z"
   },
   {
    "duration": 50,
    "start_time": "2021-10-07T18:55:11.180Z"
   },
   {
    "duration": 10,
    "start_time": "2021-10-07T18:55:11.232Z"
   },
   {
    "duration": 24,
    "start_time": "2021-10-07T18:55:11.244Z"
   },
   {
    "duration": 26,
    "start_time": "2021-10-07T18:55:11.270Z"
   },
   {
    "duration": 12,
    "start_time": "2021-10-07T18:55:11.299Z"
   },
   {
    "duration": 19,
    "start_time": "2021-10-07T18:55:11.313Z"
   },
   {
    "duration": 10,
    "start_time": "2021-10-07T18:55:11.333Z"
   },
   {
    "duration": 4,
    "start_time": "2021-10-07T18:55:11.345Z"
   },
   {
    "duration": 27,
    "start_time": "2021-10-07T18:55:11.351Z"
   },
   {
    "duration": 12,
    "start_time": "2021-10-07T18:55:11.380Z"
   },
   {
    "duration": 460,
    "start_time": "2021-10-07T18:55:11.394Z"
   },
   {
    "duration": 6,
    "start_time": "2021-10-07T18:55:11.856Z"
   },
   {
    "duration": 39,
    "start_time": "2021-10-07T18:55:11.863Z"
   },
   {
    "duration": 102,
    "start_time": "2021-10-07T18:55:11.904Z"
   },
   {
    "duration": 334,
    "start_time": "2021-10-07T18:55:12.008Z"
   },
   {
    "duration": 340,
    "start_time": "2021-10-07T18:55:12.344Z"
   },
   {
    "duration": 221,
    "start_time": "2021-10-07T18:55:12.686Z"
   },
   {
    "duration": 900,
    "start_time": "2021-10-07T18:55:12.909Z"
   },
   {
    "duration": 367,
    "start_time": "2021-10-07T18:55:13.811Z"
   },
   {
    "duration": 328,
    "start_time": "2021-10-07T18:55:14.180Z"
   },
   {
    "duration": 130,
    "start_time": "2021-10-07T18:55:14.509Z"
   },
   {
    "duration": 7,
    "start_time": "2021-10-07T18:55:14.641Z"
   },
   {
    "duration": 153,
    "start_time": "2021-10-07T18:55:14.650Z"
   },
   {
    "duration": 131,
    "start_time": "2021-10-07T18:55:14.805Z"
   },
   {
    "duration": 131,
    "start_time": "2021-10-07T18:55:14.937Z"
   },
   {
    "duration": 331,
    "start_time": "2021-10-07T18:55:15.070Z"
   },
   {
    "duration": 8,
    "start_time": "2021-10-07T18:55:15.403Z"
   },
   {
    "duration": 143,
    "start_time": "2021-10-07T18:55:15.412Z"
   },
   {
    "duration": 131,
    "start_time": "2021-10-07T18:55:15.557Z"
   },
   {
    "duration": 27,
    "start_time": "2021-10-07T18:55:15.690Z"
   },
   {
    "duration": 9,
    "start_time": "2021-10-07T18:55:15.719Z"
   },
   {
    "duration": 838,
    "start_time": "2021-10-07T18:55:15.729Z"
   },
   {
    "duration": 5,
    "start_time": "2021-10-07T18:55:16.576Z"
   },
   {
    "duration": 168,
    "start_time": "2021-10-07T18:55:16.582Z"
   },
   {
    "duration": 5,
    "start_time": "2021-10-07T18:55:16.752Z"
   },
   {
    "duration": 163,
    "start_time": "2021-10-07T18:55:16.759Z"
   },
   {
    "duration": 5,
    "start_time": "2021-10-07T18:55:16.924Z"
   },
   {
    "duration": 186,
    "start_time": "2021-10-07T18:55:16.931Z"
   },
   {
    "duration": 23,
    "start_time": "2021-10-07T18:55:17.119Z"
   },
   {
    "duration": 20,
    "start_time": "2021-10-07T18:55:17.144Z"
   },
   {
    "duration": 32,
    "start_time": "2021-10-07T18:55:17.168Z"
   },
   {
    "duration": 278,
    "start_time": "2021-10-07T18:55:17.202Z"
   },
   {
    "duration": 7,
    "start_time": "2021-10-07T18:55:17.482Z"
   },
   {
    "duration": 320,
    "start_time": "2021-10-07T18:55:17.491Z"
   },
   {
    "duration": 232,
    "start_time": "2021-10-07T18:55:17.812Z"
   },
   {
    "duration": 233,
    "start_time": "2021-10-07T18:55:18.045Z"
   },
   {
    "duration": 240,
    "start_time": "2021-10-07T18:55:18.280Z"
   },
   {
    "duration": 13,
    "start_time": "2021-10-07T18:55:18.522Z"
   },
   {
    "duration": 75,
    "start_time": "2021-10-07T18:55:18.537Z"
   },
   {
    "duration": 12,
    "start_time": "2021-10-07T18:55:18.614Z"
   },
   {
    "duration": 220,
    "start_time": "2021-10-07T18:55:18.627Z"
   },
   {
    "duration": 191,
    "start_time": "2021-10-07T18:55:18.849Z"
   },
   {
    "duration": 5,
    "start_time": "2021-10-07T18:57:42.583Z"
   },
   {
    "duration": 2,
    "start_time": "2021-10-07T18:59:03.533Z"
   },
   {
    "duration": 80,
    "start_time": "2021-10-07T18:59:03.540Z"
   },
   {
    "duration": 24,
    "start_time": "2021-10-07T18:59:03.622Z"
   },
   {
    "duration": 25,
    "start_time": "2021-10-07T18:59:03.677Z"
   },
   {
    "duration": 25,
    "start_time": "2021-10-07T18:59:03.703Z"
   },
   {
    "duration": 11,
    "start_time": "2021-10-07T18:59:03.730Z"
   },
   {
    "duration": 68,
    "start_time": "2021-10-07T18:59:03.777Z"
   },
   {
    "duration": 41,
    "start_time": "2021-10-07T18:59:03.846Z"
   },
   {
    "duration": 8,
    "start_time": "2021-10-07T18:59:03.888Z"
   },
   {
    "duration": 9,
    "start_time": "2021-10-07T18:59:03.898Z"
   },
   {
    "duration": 22,
    "start_time": "2021-10-07T18:59:03.909Z"
   },
   {
    "duration": 15,
    "start_time": "2021-10-07T18:59:03.933Z"
   },
   {
    "duration": 42,
    "start_time": "2021-10-07T18:59:03.950Z"
   },
   {
    "duration": 10,
    "start_time": "2021-10-07T18:59:03.993Z"
   },
   {
    "duration": 26,
    "start_time": "2021-10-07T18:59:04.004Z"
   },
   {
    "duration": 4,
    "start_time": "2021-10-07T18:59:04.032Z"
   },
   {
    "duration": 7,
    "start_time": "2021-10-07T18:59:04.038Z"
   },
   {
    "duration": 24,
    "start_time": "2021-10-07T18:59:04.077Z"
   },
   {
    "duration": 12,
    "start_time": "2021-10-07T18:59:04.102Z"
   },
   {
    "duration": 12,
    "start_time": "2021-10-07T18:59:04.116Z"
   },
   {
    "duration": 10,
    "start_time": "2021-10-07T18:59:04.130Z"
   },
   {
    "duration": 38,
    "start_time": "2021-10-07T18:59:04.142Z"
   },
   {
    "duration": 15,
    "start_time": "2021-10-07T18:59:04.181Z"
   },
   {
    "duration": 13,
    "start_time": "2021-10-07T18:59:04.198Z"
   },
   {
    "duration": 494,
    "start_time": "2021-10-07T18:59:04.212Z"
   },
   {
    "duration": 7,
    "start_time": "2021-10-07T18:59:04.708Z"
   },
   {
    "duration": 36,
    "start_time": "2021-10-07T18:59:04.716Z"
   },
   {
    "duration": 212,
    "start_time": "2021-10-07T18:59:04.756Z"
   },
   {
    "duration": 354,
    "start_time": "2021-10-07T18:59:04.970Z"
   },
   {
    "duration": 336,
    "start_time": "2021-10-07T18:59:05.326Z"
   },
   {
    "duration": 225,
    "start_time": "2021-10-07T18:59:05.664Z"
   },
   {
    "duration": 344,
    "start_time": "2021-10-07T18:59:05.890Z"
   },
   {
    "duration": 340,
    "start_time": "2021-10-07T18:59:06.236Z"
   },
   {
    "duration": 324,
    "start_time": "2021-10-07T18:59:06.578Z"
   },
   {
    "duration": 130,
    "start_time": "2021-10-07T18:59:06.904Z"
   },
   {
    "duration": 8,
    "start_time": "2021-10-07T18:59:07.035Z"
   },
   {
    "duration": 153,
    "start_time": "2021-10-07T18:59:07.045Z"
   },
   {
    "duration": 128,
    "start_time": "2021-10-07T18:59:07.200Z"
   },
   {
    "duration": 129,
    "start_time": "2021-10-07T18:59:07.330Z"
   },
   {
    "duration": 328,
    "start_time": "2021-10-07T18:59:07.461Z"
   },
   {
    "duration": 9,
    "start_time": "2021-10-07T18:59:07.791Z"
   },
   {
    "duration": 149,
    "start_time": "2021-10-07T18:59:07.801Z"
   },
   {
    "duration": 126,
    "start_time": "2021-10-07T18:59:07.952Z"
   },
   {
    "duration": 29,
    "start_time": "2021-10-07T18:59:08.080Z"
   },
   {
    "duration": 9,
    "start_time": "2021-10-07T18:59:08.111Z"
   },
   {
    "duration": 737,
    "start_time": "2021-10-07T18:59:08.122Z"
   },
   {
    "duration": 17,
    "start_time": "2021-10-07T18:59:08.861Z"
   },
   {
    "duration": 177,
    "start_time": "2021-10-07T18:59:08.879Z"
   },
   {
    "duration": 4,
    "start_time": "2021-10-07T18:59:09.058Z"
   },
   {
    "duration": 152,
    "start_time": "2021-10-07T18:59:09.064Z"
   },
   {
    "duration": 4,
    "start_time": "2021-10-07T18:59:09.218Z"
   },
   {
    "duration": 189,
    "start_time": "2021-10-07T18:59:09.224Z"
   },
   {
    "duration": 26,
    "start_time": "2021-10-07T18:59:09.415Z"
   },
   {
    "duration": 5,
    "start_time": "2021-10-07T18:59:09.444Z"
   },
   {
    "duration": 32,
    "start_time": "2021-10-07T18:59:09.451Z"
   },
   {
    "duration": 262,
    "start_time": "2021-10-07T18:59:09.485Z"
   },
   {
    "duration": 7,
    "start_time": "2021-10-07T18:59:09.749Z"
   },
   {
    "duration": 233,
    "start_time": "2021-10-07T18:59:09.758Z"
   },
   {
    "duration": 231,
    "start_time": "2021-10-07T18:59:09.992Z"
   },
   {
    "duration": 232,
    "start_time": "2021-10-07T18:59:10.225Z"
   },
   {
    "duration": 236,
    "start_time": "2021-10-07T18:59:10.458Z"
   },
   {
    "duration": 15,
    "start_time": "2021-10-07T18:59:10.696Z"
   },
   {
    "duration": 76,
    "start_time": "2021-10-07T18:59:10.712Z"
   },
   {
    "duration": 12,
    "start_time": "2021-10-07T18:59:10.790Z"
   },
   {
    "duration": 218,
    "start_time": "2021-10-07T18:59:10.804Z"
   },
   {
    "duration": 207,
    "start_time": "2021-10-07T18:59:11.024Z"
   },
   {
    "duration": 5,
    "start_time": "2021-10-07T19:00:12.700Z"
   },
   {
    "duration": 5,
    "start_time": "2021-10-07T19:00:48.351Z"
   },
   {
    "duration": 7470,
    "start_time": "2021-10-07T19:01:43.062Z"
   },
   {
    "duration": 6,
    "start_time": "2021-10-07T19:01:52.895Z"
   },
   {
    "duration": 5,
    "start_time": "2021-10-07T19:02:38.789Z"
   },
   {
    "duration": 3,
    "start_time": "2021-10-07T19:03:15.282Z"
   },
   {
    "duration": 73,
    "start_time": "2021-10-07T19:03:15.287Z"
   },
   {
    "duration": 37,
    "start_time": "2021-10-07T19:03:15.363Z"
   },
   {
    "duration": 32,
    "start_time": "2021-10-07T19:03:15.403Z"
   },
   {
    "duration": 56,
    "start_time": "2021-10-07T19:03:15.437Z"
   },
   {
    "duration": 13,
    "start_time": "2021-10-07T19:03:15.496Z"
   },
   {
    "duration": 109,
    "start_time": "2021-10-07T19:03:15.511Z"
   },
   {
    "duration": 26,
    "start_time": "2021-10-07T19:03:15.622Z"
   },
   {
    "duration": 28,
    "start_time": "2021-10-07T19:03:15.650Z"
   },
   {
    "duration": 9,
    "start_time": "2021-10-07T19:03:15.680Z"
   },
   {
    "duration": 22,
    "start_time": "2021-10-07T19:03:15.691Z"
   },
   {
    "duration": 15,
    "start_time": "2021-10-07T19:03:15.714Z"
   },
   {
    "duration": 45,
    "start_time": "2021-10-07T19:03:15.731Z"
   },
   {
    "duration": 8,
    "start_time": "2021-10-07T19:03:15.779Z"
   },
   {
    "duration": 28,
    "start_time": "2021-10-07T19:03:15.789Z"
   },
   {
    "duration": 6,
    "start_time": "2021-10-07T19:03:15.819Z"
   },
   {
    "duration": 10,
    "start_time": "2021-10-07T19:03:15.827Z"
   },
   {
    "duration": 58,
    "start_time": "2021-10-07T19:03:15.839Z"
   },
   {
    "duration": 11,
    "start_time": "2021-10-07T19:03:15.901Z"
   },
   {
    "duration": 414,
    "start_time": "2021-10-07T19:03:15.915Z"
   },
   {
    "duration": -71,
    "start_time": "2021-10-07T19:03:16.403Z"
   },
   {
    "duration": -74,
    "start_time": "2021-10-07T19:03:16.406Z"
   },
   {
    "duration": -77,
    "start_time": "2021-10-07T19:03:16.410Z"
   },
   {
    "duration": -79,
    "start_time": "2021-10-07T19:03:16.413Z"
   },
   {
    "duration": -82,
    "start_time": "2021-10-07T19:03:16.417Z"
   },
   {
    "duration": -85,
    "start_time": "2021-10-07T19:03:16.421Z"
   },
   {
    "duration": -87,
    "start_time": "2021-10-07T19:03:16.424Z"
   },
   {
    "duration": -90,
    "start_time": "2021-10-07T19:03:16.428Z"
   },
   {
    "duration": -94,
    "start_time": "2021-10-07T19:03:16.432Z"
   },
   {
    "duration": -96,
    "start_time": "2021-10-07T19:03:16.435Z"
   },
   {
    "duration": -98,
    "start_time": "2021-10-07T19:03:16.438Z"
   },
   {
    "duration": -101,
    "start_time": "2021-10-07T19:03:16.442Z"
   },
   {
    "duration": -103,
    "start_time": "2021-10-07T19:03:16.445Z"
   },
   {
    "duration": -106,
    "start_time": "2021-10-07T19:03:16.449Z"
   },
   {
    "duration": -109,
    "start_time": "2021-10-07T19:03:16.452Z"
   },
   {
    "duration": -112,
    "start_time": "2021-10-07T19:03:16.456Z"
   },
   {
    "duration": -115,
    "start_time": "2021-10-07T19:03:16.460Z"
   },
   {
    "duration": -118,
    "start_time": "2021-10-07T19:03:16.464Z"
   },
   {
    "duration": -120,
    "start_time": "2021-10-07T19:03:16.467Z"
   },
   {
    "duration": -124,
    "start_time": "2021-10-07T19:03:16.471Z"
   },
   {
    "duration": -126,
    "start_time": "2021-10-07T19:03:16.474Z"
   },
   {
    "duration": -129,
    "start_time": "2021-10-07T19:03:16.478Z"
   },
   {
    "duration": -131,
    "start_time": "2021-10-07T19:03:16.481Z"
   },
   {
    "duration": -134,
    "start_time": "2021-10-07T19:03:16.485Z"
   },
   {
    "duration": -137,
    "start_time": "2021-10-07T19:03:16.488Z"
   },
   {
    "duration": -140,
    "start_time": "2021-10-07T19:03:16.492Z"
   },
   {
    "duration": -142,
    "start_time": "2021-10-07T19:03:16.495Z"
   },
   {
    "duration": -181,
    "start_time": "2021-10-07T19:03:16.535Z"
   },
   {
    "duration": -187,
    "start_time": "2021-10-07T19:03:16.542Z"
   },
   {
    "duration": -192,
    "start_time": "2021-10-07T19:03:16.547Z"
   },
   {
    "duration": -195,
    "start_time": "2021-10-07T19:03:16.551Z"
   },
   {
    "duration": -198,
    "start_time": "2021-10-07T19:03:16.555Z"
   },
   {
    "duration": -200,
    "start_time": "2021-10-07T19:03:16.558Z"
   },
   {
    "duration": -203,
    "start_time": "2021-10-07T19:03:16.562Z"
   },
   {
    "duration": -206,
    "start_time": "2021-10-07T19:03:16.566Z"
   },
   {
    "duration": -208,
    "start_time": "2021-10-07T19:03:16.569Z"
   },
   {
    "duration": -212,
    "start_time": "2021-10-07T19:03:16.573Z"
   },
   {
    "duration": -214,
    "start_time": "2021-10-07T19:03:16.576Z"
   },
   {
    "duration": -216,
    "start_time": "2021-10-07T19:03:16.579Z"
   },
   {
    "duration": -219,
    "start_time": "2021-10-07T19:03:16.583Z"
   },
   {
    "duration": -221,
    "start_time": "2021-10-07T19:03:16.586Z"
   },
   {
    "duration": -224,
    "start_time": "2021-10-07T19:03:16.590Z"
   },
   {
    "duration": -227,
    "start_time": "2021-10-07T19:03:16.593Z"
   },
   {
    "duration": -229,
    "start_time": "2021-10-07T19:03:16.596Z"
   },
   {
    "duration": -232,
    "start_time": "2021-10-07T19:03:16.600Z"
   },
   {
    "duration": -234,
    "start_time": "2021-10-07T19:03:16.603Z"
   },
   {
    "duration": 309,
    "start_time": "2021-10-07T19:05:13.485Z"
   },
   {
    "duration": 335,
    "start_time": "2021-10-07T19:05:22.370Z"
   },
   {
    "duration": 14,
    "start_time": "2021-10-07T19:05:29.184Z"
   },
   {
    "duration": 10,
    "start_time": "2021-10-07T19:05:32.933Z"
   },
   {
    "duration": 13,
    "start_time": "2021-10-07T19:06:27.989Z"
   },
   {
    "duration": 9,
    "start_time": "2021-10-07T19:06:30.755Z"
   },
   {
    "duration": 2,
    "start_time": "2021-10-07T19:07:53.433Z"
   },
   {
    "duration": 69,
    "start_time": "2021-10-07T19:07:53.437Z"
   },
   {
    "duration": 24,
    "start_time": "2021-10-07T19:07:53.508Z"
   },
   {
    "duration": 49,
    "start_time": "2021-10-07T19:07:53.534Z"
   },
   {
    "duration": 22,
    "start_time": "2021-10-07T19:07:53.585Z"
   },
   {
    "duration": 12,
    "start_time": "2021-10-07T19:07:53.609Z"
   },
   {
    "duration": 95,
    "start_time": "2021-10-07T19:07:53.623Z"
   },
   {
    "duration": 22,
    "start_time": "2021-10-07T19:07:53.720Z"
   },
   {
    "duration": 6,
    "start_time": "2021-10-07T19:07:53.745Z"
   },
   {
    "duration": 25,
    "start_time": "2021-10-07T19:07:53.753Z"
   },
   {
    "duration": 20,
    "start_time": "2021-10-07T19:07:53.780Z"
   },
   {
    "duration": 13,
    "start_time": "2021-10-07T19:07:53.802Z"
   },
   {
    "duration": 16,
    "start_time": "2021-10-07T19:07:53.817Z"
   },
   {
    "duration": 8,
    "start_time": "2021-10-07T19:07:53.834Z"
   },
   {
    "duration": 22,
    "start_time": "2021-10-07T19:07:53.877Z"
   },
   {
    "duration": 10,
    "start_time": "2021-10-07T19:07:53.901Z"
   },
   {
    "duration": 11,
    "start_time": "2021-10-07T19:07:53.913Z"
   },
   {
    "duration": 23,
    "start_time": "2021-10-07T19:07:53.926Z"
   },
   {
    "duration": 27,
    "start_time": "2021-10-07T19:07:53.951Z"
   },
   {
    "duration": 11,
    "start_time": "2021-10-07T19:07:53.980Z"
   },
   {
    "duration": 9,
    "start_time": "2021-10-07T19:07:53.993Z"
   },
   {
    "duration": 4,
    "start_time": "2021-10-07T19:07:54.004Z"
   },
   {
    "duration": 13,
    "start_time": "2021-10-07T19:07:54.010Z"
   },
   {
    "duration": 13,
    "start_time": "2021-10-07T19:07:54.024Z"
   },
   {
    "duration": 1106,
    "start_time": "2021-10-07T19:07:54.038Z"
   },
   {
    "duration": 6,
    "start_time": "2021-10-07T19:07:55.146Z"
   },
   {
    "duration": 37,
    "start_time": "2021-10-07T19:07:55.158Z"
   },
   {
    "duration": 117,
    "start_time": "2021-10-07T19:07:55.198Z"
   },
   {
    "duration": 350,
    "start_time": "2021-10-07T19:07:55.317Z"
   },
   {
    "duration": 338,
    "start_time": "2021-10-07T19:07:55.677Z"
   },
   {
    "duration": 231,
    "start_time": "2021-10-07T19:07:56.016Z"
   },
   {
    "duration": 342,
    "start_time": "2021-10-07T19:07:56.249Z"
   },
   {
    "duration": 332,
    "start_time": "2021-10-07T19:07:56.593Z"
   },
   {
    "duration": 322,
    "start_time": "2021-10-07T19:07:56.926Z"
   },
   {
    "duration": 162,
    "start_time": "2021-10-07T19:07:57.250Z"
   },
   {
    "duration": 9,
    "start_time": "2021-10-07T19:07:57.415Z"
   },
   {
    "duration": 175,
    "start_time": "2021-10-07T19:07:57.426Z"
   },
   {
    "duration": 128,
    "start_time": "2021-10-07T19:07:57.603Z"
   },
   {
    "duration": 124,
    "start_time": "2021-10-07T19:07:57.733Z"
   },
   {
    "duration": 329,
    "start_time": "2021-10-07T19:07:57.859Z"
   },
   {
    "duration": 8,
    "start_time": "2021-10-07T19:07:58.189Z"
   },
   {
    "duration": 147,
    "start_time": "2021-10-07T19:07:58.199Z"
   },
   {
    "duration": 133,
    "start_time": "2021-10-07T19:07:58.347Z"
   },
   {
    "duration": 27,
    "start_time": "2021-10-07T19:07:58.482Z"
   },
   {
    "duration": 9,
    "start_time": "2021-10-07T19:07:58.511Z"
   },
   {
    "duration": 730,
    "start_time": "2021-10-07T19:07:58.521Z"
   },
   {
    "duration": 4,
    "start_time": "2021-10-07T19:07:59.253Z"
   },
   {
    "duration": 171,
    "start_time": "2021-10-07T19:07:59.259Z"
   },
   {
    "duration": 4,
    "start_time": "2021-10-07T19:07:59.432Z"
   },
   {
    "duration": 163,
    "start_time": "2021-10-07T19:07:59.438Z"
   },
   {
    "duration": 6,
    "start_time": "2021-10-07T19:07:59.603Z"
   },
   {
    "duration": 186,
    "start_time": "2021-10-07T19:07:59.611Z"
   },
   {
    "duration": 22,
    "start_time": "2021-10-07T19:07:59.799Z"
   },
   {
    "duration": 4,
    "start_time": "2021-10-07T19:07:59.822Z"
   },
   {
    "duration": 29,
    "start_time": "2021-10-07T19:07:59.828Z"
   },
   {
    "duration": 287,
    "start_time": "2021-10-07T19:07:59.859Z"
   },
   {
    "duration": 7,
    "start_time": "2021-10-07T19:08:00.148Z"
   },
   {
    "duration": 232,
    "start_time": "2021-10-07T19:08:00.157Z"
   },
   {
    "duration": 222,
    "start_time": "2021-10-07T19:08:00.391Z"
   },
   {
    "duration": 221,
    "start_time": "2021-10-07T19:08:00.614Z"
   },
   {
    "duration": 236,
    "start_time": "2021-10-07T19:08:00.837Z"
   },
   {
    "duration": 14,
    "start_time": "2021-10-07T19:08:01.075Z"
   },
   {
    "duration": 79,
    "start_time": "2021-10-07T19:08:01.091Z"
   },
   {
    "duration": 16,
    "start_time": "2021-10-07T19:08:01.171Z"
   },
   {
    "duration": 220,
    "start_time": "2021-10-07T19:08:01.189Z"
   },
   {
    "duration": 187,
    "start_time": "2021-10-07T19:08:01.410Z"
   },
   {
    "duration": 25,
    "start_time": "2021-10-07T19:10:54.334Z"
   },
   {
    "duration": 22,
    "start_time": "2021-10-07T19:11:23.941Z"
   },
   {
    "duration": 3,
    "start_time": "2021-10-07T19:12:22.866Z"
   },
   {
    "duration": 83,
    "start_time": "2021-10-07T19:12:22.871Z"
   },
   {
    "duration": 36,
    "start_time": "2021-10-07T19:12:22.956Z"
   },
   {
    "duration": 38,
    "start_time": "2021-10-07T19:12:22.995Z"
   },
   {
    "duration": 50,
    "start_time": "2021-10-07T19:12:23.035Z"
   },
   {
    "duration": 12,
    "start_time": "2021-10-07T19:12:23.087Z"
   },
   {
    "duration": 84,
    "start_time": "2021-10-07T19:12:23.102Z"
   },
   {
    "duration": 25,
    "start_time": "2021-10-07T19:12:23.188Z"
   },
   {
    "duration": 8,
    "start_time": "2021-10-07T19:12:23.215Z"
   },
   {
    "duration": 16,
    "start_time": "2021-10-07T19:12:23.225Z"
   },
   {
    "duration": 42,
    "start_time": "2021-10-07T19:12:23.243Z"
   },
   {
    "duration": 13,
    "start_time": "2021-10-07T19:12:23.287Z"
   },
   {
    "duration": 20,
    "start_time": "2021-10-07T19:12:23.302Z"
   },
   {
    "duration": 19,
    "start_time": "2021-10-07T19:12:23.324Z"
   },
   {
    "duration": 33,
    "start_time": "2021-10-07T19:12:23.344Z"
   },
   {
    "duration": 5,
    "start_time": "2021-10-07T19:12:23.378Z"
   },
   {
    "duration": 31,
    "start_time": "2021-10-07T19:12:23.384Z"
   },
   {
    "duration": 27,
    "start_time": "2021-10-07T19:12:23.417Z"
   },
   {
    "duration": 24,
    "start_time": "2021-10-07T19:12:23.448Z"
   },
   {
    "duration": 15,
    "start_time": "2021-10-07T19:12:23.474Z"
   },
   {
    "duration": 25,
    "start_time": "2021-10-07T19:12:23.491Z"
   },
   {
    "duration": 14,
    "start_time": "2021-10-07T19:12:23.517Z"
   },
   {
    "duration": 22,
    "start_time": "2021-10-07T19:12:23.533Z"
   },
   {
    "duration": 19,
    "start_time": "2021-10-07T19:12:23.557Z"
   },
   {
    "duration": 457,
    "start_time": "2021-10-07T19:12:23.578Z"
   },
   {
    "duration": 6,
    "start_time": "2021-10-07T19:12:24.037Z"
   },
   {
    "duration": 37,
    "start_time": "2021-10-07T19:12:24.045Z"
   },
   {
    "duration": 105,
    "start_time": "2021-10-07T19:12:24.084Z"
   },
   {
    "duration": 327,
    "start_time": "2021-10-07T19:12:24.191Z"
   },
   {
    "duration": 326,
    "start_time": "2021-10-07T19:12:24.520Z"
   },
   {
    "duration": 230,
    "start_time": "2021-10-07T19:12:24.847Z"
   },
   {
    "duration": 341,
    "start_time": "2021-10-07T19:12:25.078Z"
   },
   {
    "duration": 323,
    "start_time": "2021-10-07T19:12:25.420Z"
   },
   {
    "duration": 324,
    "start_time": "2021-10-07T19:12:25.745Z"
   },
   {
    "duration": 125,
    "start_time": "2021-10-07T19:12:26.071Z"
   },
   {
    "duration": 8,
    "start_time": "2021-10-07T19:12:26.198Z"
   },
   {
    "duration": 152,
    "start_time": "2021-10-07T19:12:26.207Z"
   },
   {
    "duration": 130,
    "start_time": "2021-10-07T19:12:26.361Z"
   },
   {
    "duration": 130,
    "start_time": "2021-10-07T19:12:26.494Z"
   },
   {
    "duration": 330,
    "start_time": "2021-10-07T19:12:26.626Z"
   },
   {
    "duration": 18,
    "start_time": "2021-10-07T19:12:26.958Z"
   },
   {
    "duration": 139,
    "start_time": "2021-10-07T19:12:26.978Z"
   },
   {
    "duration": 132,
    "start_time": "2021-10-07T19:12:27.119Z"
   },
   {
    "duration": 36,
    "start_time": "2021-10-07T19:12:27.253Z"
   },
   {
    "duration": 9,
    "start_time": "2021-10-07T19:12:27.291Z"
   },
   {
    "duration": 730,
    "start_time": "2021-10-07T19:12:27.302Z"
   },
   {
    "duration": 6,
    "start_time": "2021-10-07T19:12:28.033Z"
   },
   {
    "duration": 186,
    "start_time": "2021-10-07T19:12:28.041Z"
   },
   {
    "duration": 5,
    "start_time": "2021-10-07T19:12:28.229Z"
   },
   {
    "duration": 157,
    "start_time": "2021-10-07T19:12:28.236Z"
   },
   {
    "duration": 5,
    "start_time": "2021-10-07T19:12:28.395Z"
   },
   {
    "duration": 199,
    "start_time": "2021-10-07T19:12:28.401Z"
   },
   {
    "duration": 22,
    "start_time": "2021-10-07T19:12:28.602Z"
   },
   {
    "duration": 5,
    "start_time": "2021-10-07T19:12:28.625Z"
   },
   {
    "duration": 13,
    "start_time": "2021-10-07T19:12:28.634Z"
   },
   {
    "duration": 281,
    "start_time": "2021-10-07T19:12:28.649Z"
   },
   {
    "duration": 7,
    "start_time": "2021-10-07T19:12:28.933Z"
   },
   {
    "duration": 238,
    "start_time": "2021-10-07T19:12:28.942Z"
   },
   {
    "duration": 227,
    "start_time": "2021-10-07T19:12:29.182Z"
   },
   {
    "duration": 223,
    "start_time": "2021-10-07T19:12:29.411Z"
   },
   {
    "duration": 243,
    "start_time": "2021-10-07T19:12:29.636Z"
   },
   {
    "duration": 15,
    "start_time": "2021-10-07T19:12:29.881Z"
   },
   {
    "duration": 81,
    "start_time": "2021-10-07T19:12:29.898Z"
   },
   {
    "duration": 13,
    "start_time": "2021-10-07T19:12:29.981Z"
   },
   {
    "duration": 218,
    "start_time": "2021-10-07T19:12:29.995Z"
   },
   {
    "duration": 191,
    "start_time": "2021-10-07T19:12:30.214Z"
   },
   {
    "duration": 111,
    "start_time": "2021-10-07T19:14:35.705Z"
   }
  ],
  "kernelspec": {
   "display_name": "Python 3 (ipykernel)",
   "language": "python",
   "name": "python3"
  },
  "language_info": {
   "codemirror_mode": {
    "name": "ipython",
    "version": 3
   },
   "file_extension": ".py",
   "mimetype": "text/x-python",
   "name": "python",
   "nbconvert_exporter": "python",
   "pygments_lexer": "ipython3",
   "version": "3.9.7"
  },
  "toc": {
   "base_numbering": 1,
   "nav_menu": {},
   "number_sections": true,
   "sideBar": true,
   "skip_h1_title": true,
   "title_cell": "Содержание",
   "title_sidebar": "Contents",
   "toc_cell": true,
   "toc_position": {
    "height": "calc(100% - 180px)",
    "left": "10px",
    "top": "150px",
    "width": "219.396px"
   },
   "toc_section_display": true,
   "toc_window_display": true
  }
 },
 "nbformat": 4,
 "nbformat_minor": 2
}
